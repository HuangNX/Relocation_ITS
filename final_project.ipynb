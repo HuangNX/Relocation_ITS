{
 "cells": [
  {
   "cell_type": "code",
   "execution_count": 1,
   "metadata": {
    "collapsed": true,
    "ExecuteTime": {
     "end_time": "2024-04-17T08:44:52.056104900Z",
     "start_time": "2024-04-17T08:44:50.447056300Z"
    }
   },
   "outputs": [],
   "source": [
    "import gc\n",
    "\n",
    "import numpy as np\n",
    "import pandas as pd\n",
    "import statsmodels.api as sm\n",
    "import statsmodels.formula.api as smf\n",
    "import matplotlib.pyplot as plt\n",
    "import seaborn as sns\n",
    "import scipy as sp\n",
    "from scipy import stats\n",
    "from datetime import  datetime, timedelta\n",
    "from sklearn.preprocessing import StandardScaler"
   ]
  },
  {
   "cell_type": "markdown",
   "source": [
    "# 数据准备"
   ],
   "metadata": {
    "collapsed": false
   }
  },
  {
   "cell_type": "code",
   "execution_count": 2,
   "outputs": [],
   "source": [
    "# 数据准备\n",
    "path1 = \"D:/317research/317研究组/4 居住自选择/data/final_data/all_data/filled_data.csv\"\n",
    "data = pd.read_csv(path1)\n",
    "data['who'] = data['who'].astype(int)\n",
    "\n",
    "# 导入建成环境变量\n",
    "path2 = \"D:/317research/317研究组/4 居住自选择/data/BE_varis.csv\"\n",
    "be_varie = pd.read_csv(path2)\n",
    "path3 = \"D:/317research/317研究组/4 居住自选择/data/final_data/all_data/resident_info.csv\"\n",
    "resi_info = pd.read_csv(path3)\n",
    "# 加入天气状况信息\n",
    "path4 = \"D:/317research/317研究组/4 居住自选择/data/weather_info.csv\"\n",
    "weather = pd.read_csv(path4)"
   ],
   "metadata": {
    "collapsed": false,
    "ExecuteTime": {
     "end_time": "2024-04-17T08:44:59.387636Z",
     "start_time": "2024-04-17T08:44:53.102586Z"
    }
   }
  },
  {
   "cell_type": "code",
   "execution_count": 3,
   "outputs": [
    {
     "data": {
      "text/plain": "       date   who  sum_dist  metro_dist  metro_dist_ratio  walk_dist  \\\n0  20190101  6717   21540.0         0.0               0.0        0.0   \n1  20190102  6717   32521.0         0.0               0.0        0.0   \n2  20190103  6717   48364.0         0.0               0.0        0.0   \n3  20190104  6717   20322.0         0.0               0.0     2263.0   \n4  20190105  6717   39216.0         0.0               0.0        0.0   \n\n   walk_dist_ratio  chain_complexity  gender  age  T  move_time  P  move  \\\n0         0.000000               2.0       0  8.0  1        151  0     0   \n1         0.000000               4.0       0  8.0  2        151  0     0   \n2         0.000000               6.0       0  8.0  3        151  0     0   \n3         0.111357               2.0       0  8.0  4        151  0     0   \n4         0.000000               2.0       0  8.0  5        151  0     0   \n\n   holiday  weekday  \n0        1        1  \n1        0        2  \n2        0        3  \n3        0        4  \n4        1        5  ",
      "text/html": "<div>\n<style scoped>\n    .dataframe tbody tr th:only-of-type {\n        vertical-align: middle;\n    }\n\n    .dataframe tbody tr th {\n        vertical-align: top;\n    }\n\n    .dataframe thead th {\n        text-align: right;\n    }\n</style>\n<table border=\"1\" class=\"dataframe\">\n  <thead>\n    <tr style=\"text-align: right;\">\n      <th></th>\n      <th>date</th>\n      <th>who</th>\n      <th>sum_dist</th>\n      <th>metro_dist</th>\n      <th>metro_dist_ratio</th>\n      <th>walk_dist</th>\n      <th>walk_dist_ratio</th>\n      <th>chain_complexity</th>\n      <th>gender</th>\n      <th>age</th>\n      <th>T</th>\n      <th>move_time</th>\n      <th>P</th>\n      <th>move</th>\n      <th>holiday</th>\n      <th>weekday</th>\n    </tr>\n  </thead>\n  <tbody>\n    <tr>\n      <th>0</th>\n      <td>20190101</td>\n      <td>6717</td>\n      <td>21540.0</td>\n      <td>0.0</td>\n      <td>0.0</td>\n      <td>0.0</td>\n      <td>0.000000</td>\n      <td>2.0</td>\n      <td>0</td>\n      <td>8.0</td>\n      <td>1</td>\n      <td>151</td>\n      <td>0</td>\n      <td>0</td>\n      <td>1</td>\n      <td>1</td>\n    </tr>\n    <tr>\n      <th>1</th>\n      <td>20190102</td>\n      <td>6717</td>\n      <td>32521.0</td>\n      <td>0.0</td>\n      <td>0.0</td>\n      <td>0.0</td>\n      <td>0.000000</td>\n      <td>4.0</td>\n      <td>0</td>\n      <td>8.0</td>\n      <td>2</td>\n      <td>151</td>\n      <td>0</td>\n      <td>0</td>\n      <td>0</td>\n      <td>2</td>\n    </tr>\n    <tr>\n      <th>2</th>\n      <td>20190103</td>\n      <td>6717</td>\n      <td>48364.0</td>\n      <td>0.0</td>\n      <td>0.0</td>\n      <td>0.0</td>\n      <td>0.000000</td>\n      <td>6.0</td>\n      <td>0</td>\n      <td>8.0</td>\n      <td>3</td>\n      <td>151</td>\n      <td>0</td>\n      <td>0</td>\n      <td>0</td>\n      <td>3</td>\n    </tr>\n    <tr>\n      <th>3</th>\n      <td>20190104</td>\n      <td>6717</td>\n      <td>20322.0</td>\n      <td>0.0</td>\n      <td>0.0</td>\n      <td>2263.0</td>\n      <td>0.111357</td>\n      <td>2.0</td>\n      <td>0</td>\n      <td>8.0</td>\n      <td>4</td>\n      <td>151</td>\n      <td>0</td>\n      <td>0</td>\n      <td>0</td>\n      <td>4</td>\n    </tr>\n    <tr>\n      <th>4</th>\n      <td>20190105</td>\n      <td>6717</td>\n      <td>39216.0</td>\n      <td>0.0</td>\n      <td>0.0</td>\n      <td>0.0</td>\n      <td>0.000000</td>\n      <td>2.0</td>\n      <td>0</td>\n      <td>8.0</td>\n      <td>5</td>\n      <td>151</td>\n      <td>0</td>\n      <td>0</td>\n      <td>1</td>\n      <td>5</td>\n    </tr>\n  </tbody>\n</table>\n</div>"
     },
     "execution_count": 3,
     "metadata": {},
     "output_type": "execute_result"
    }
   ],
   "source": [
    "data.head()"
   ],
   "metadata": {
    "collapsed": false,
    "ExecuteTime": {
     "end_time": "2024-04-12T07:05:20.703071100Z",
     "start_time": "2024-04-12T07:05:20.675753400Z"
    }
   }
  },
  {
   "cell_type": "code",
   "execution_count": 3,
   "outputs": [
    {
     "data": {
      "text/plain": "<Axes: xlabel='age', ylabel='Count'>"
     },
     "execution_count": 3,
     "metadata": {},
     "output_type": "execute_result"
    },
    {
     "data": {
      "text/plain": "<Figure size 640x480 with 1 Axes>",
      "image/png": "[encoded data removed]"
     },
     "metadata": {},
     "output_type": "display_data"
    }
   ],
   "source": [
    "# 先给age重新分组\n",
    "data['age'] = pd.cut(data['age'],bins=[0, 5, 7, 10, 14, float('inf')],labels=['Teenager', 'YoungAdult', 'Adult', 'MiddleElder', 'Elder'], right=False, ordered=False)\n",
    "# 定义类别到数值的映射\n",
    "age_mapping = {'Teenager': 1, 'YoungAdult': 2, 'Adult': 3, 'MiddleElder': 4, 'Elder': 5}\n",
    "# 将类别替换为对应的数值\n",
    "data['age'] = data['age'].map(age_mapping)\n",
    "data['age'] = data['age'].astype(int)\n",
    "\n",
    "sns.histplot(data[['who','age']].drop_duplicates()['age'])"
   ],
   "metadata": {
    "collapsed": false,
    "ExecuteTime": {
     "end_time": "2024-04-17T08:45:00.273941400Z",
     "start_time": "2024-04-17T08:44:59.389635600Z"
    }
   }
  },
  {
   "cell_type": "code",
   "execution_count": 4,
   "outputs": [
    {
     "data": {
      "text/plain": "        who  yearmonth   fnid  group_id  move_dist  work_dist    density  \\\n0  68388056   20190101  38219         1   0.000000   5.280573  22.899753   \n1  68229702   20191101  20076         2   8.657041  15.100863  30.440739   \n2  68176269   20190701  23959         2  10.720544  20.660520  52.334233   \n3  67686406   20190601  36512         2   7.318999   0.000000  49.070150   \n4  67656950   20190501  30376         1   0.000000   1.767251  17.133594   \n\n   landusemix  openratio_wide  intersections  ...       dock     coach  \\\n0    0.611653        0.004943      14.222222  ...  23.644266  0.040053   \n1    0.679730        0.090957      48.000000  ...  12.549445  2.726802   \n2    0.622178        0.296840      12.444444  ...  20.020197  0.604807   \n3    0.744327        0.068630      37.333333  ...  27.033821  2.312159   \n4    0.671043        0.049394      26.666667  ...  23.518726  0.085487   \n\n          eat         shop       hosp    subway        bus       edu  \\\n0  154.666667   279.111111  17.777778  0.000000   1.777778  0.059735   \n1  142.222222   369.777778  65.777778  1.777778  10.666667  0.329922   \n2  224.000000   368.000000  21.333333  0.000000   1.777778  0.026876   \n3  528.000000  1317.333333  88.888889  0.000000   8.888889  0.029885   \n4  254.222222   410.666667  35.555556  0.000000   7.111111  0.322048   \n\n    married      rent  \n0  0.420117  1.968875  \n1  0.516232  3.754838  \n2  0.380712  1.766597  \n3  0.404828  1.945102  \n4  0.311843  1.615556  \n\n[5 rows x 24 columns]",
      "text/html": "<div>\n<style scoped>\n    .dataframe tbody tr th:only-of-type {\n        vertical-align: middle;\n    }\n\n    .dataframe tbody tr th {\n        vertical-align: top;\n    }\n\n    .dataframe thead th {\n        text-align: right;\n    }\n</style>\n<table border=\"1\" class=\"dataframe\">\n  <thead>\n    <tr style=\"text-align: right;\">\n      <th></th>\n      <th>who</th>\n      <th>yearmonth</th>\n      <th>fnid</th>\n      <th>group_id</th>\n      <th>move_dist</th>\n      <th>work_dist</th>\n      <th>density</th>\n      <th>landusemix</th>\n      <th>openratio_wide</th>\n      <th>intersections</th>\n      <th>...</th>\n      <th>dock</th>\n      <th>coach</th>\n      <th>eat</th>\n      <th>shop</th>\n      <th>hosp</th>\n      <th>subway</th>\n      <th>bus</th>\n      <th>edu</th>\n      <th>married</th>\n      <th>rent</th>\n    </tr>\n  </thead>\n  <tbody>\n    <tr>\n      <th>0</th>\n      <td>68388056</td>\n      <td>20190101</td>\n      <td>38219</td>\n      <td>1</td>\n      <td>0.000000</td>\n      <td>5.280573</td>\n      <td>22.899753</td>\n      <td>0.611653</td>\n      <td>0.004943</td>\n      <td>14.222222</td>\n      <td>...</td>\n      <td>23.644266</td>\n      <td>0.040053</td>\n      <td>154.666667</td>\n      <td>279.111111</td>\n      <td>17.777778</td>\n      <td>0.000000</td>\n      <td>1.777778</td>\n      <td>0.059735</td>\n      <td>0.420117</td>\n      <td>1.968875</td>\n    </tr>\n    <tr>\n      <th>1</th>\n      <td>68229702</td>\n      <td>20191101</td>\n      <td>20076</td>\n      <td>2</td>\n      <td>8.657041</td>\n      <td>15.100863</td>\n      <td>30.440739</td>\n      <td>0.679730</td>\n      <td>0.090957</td>\n      <td>48.000000</td>\n      <td>...</td>\n      <td>12.549445</td>\n      <td>2.726802</td>\n      <td>142.222222</td>\n      <td>369.777778</td>\n      <td>65.777778</td>\n      <td>1.777778</td>\n      <td>10.666667</td>\n      <td>0.329922</td>\n      <td>0.516232</td>\n      <td>3.754838</td>\n    </tr>\n    <tr>\n      <th>2</th>\n      <td>68176269</td>\n      <td>20190701</td>\n      <td>23959</td>\n      <td>2</td>\n      <td>10.720544</td>\n      <td>20.660520</td>\n      <td>52.334233</td>\n      <td>0.622178</td>\n      <td>0.296840</td>\n      <td>12.444444</td>\n      <td>...</td>\n      <td>20.020197</td>\n      <td>0.604807</td>\n      <td>224.000000</td>\n      <td>368.000000</td>\n      <td>21.333333</td>\n      <td>0.000000</td>\n      <td>1.777778</td>\n      <td>0.026876</td>\n      <td>0.380712</td>\n      <td>1.766597</td>\n    </tr>\n    <tr>\n      <th>3</th>\n      <td>67686406</td>\n      <td>20190601</td>\n      <td>36512</td>\n      <td>2</td>\n      <td>7.318999</td>\n      <td>0.000000</td>\n      <td>49.070150</td>\n      <td>0.744327</td>\n      <td>0.068630</td>\n      <td>37.333333</td>\n      <td>...</td>\n      <td>27.033821</td>\n      <td>2.312159</td>\n      <td>528.000000</td>\n      <td>1317.333333</td>\n      <td>88.888889</td>\n      <td>0.000000</td>\n      <td>8.888889</td>\n      <td>0.029885</td>\n      <td>0.404828</td>\n      <td>1.945102</td>\n    </tr>\n    <tr>\n      <th>4</th>\n      <td>67656950</td>\n      <td>20190501</td>\n      <td>30376</td>\n      <td>1</td>\n      <td>0.000000</td>\n      <td>1.767251</td>\n      <td>17.133594</td>\n      <td>0.671043</td>\n      <td>0.049394</td>\n      <td>26.666667</td>\n      <td>...</td>\n      <td>23.518726</td>\n      <td>0.085487</td>\n      <td>254.222222</td>\n      <td>410.666667</td>\n      <td>35.555556</td>\n      <td>0.000000</td>\n      <td>7.111111</td>\n      <td>0.322048</td>\n      <td>0.311843</td>\n      <td>1.615556</td>\n    </tr>\n  </tbody>\n</table>\n<p>5 rows × 24 columns</p>\n</div>"
     },
     "execution_count": 4,
     "metadata": {},
     "output_type": "execute_result"
    }
   ],
   "source": [
    "# 特征数据\n",
    "features = pd.merge(resi_info,be_varie,on='fnid',how='left')\n",
    "features = features.drop(['row','column'],axis=1)\n",
    "features.rename(columns={'date':'yearmonth'},inplace=True)\n",
    "# 对work_dist一列的缺失值以0填充\n",
    "features['work_dist'] = features['work_dist'].fillna(0)\n",
    "features.head()"
   ],
   "metadata": {
    "collapsed": false,
    "ExecuteTime": {
     "end_time": "2024-04-17T08:45:00.382657200Z",
     "start_time": "2024-04-17T08:45:00.270939300Z"
    }
   }
  },
  {
   "cell_type": "markdown",
   "source": [
    "## 建成环境变化量计算"
   ],
   "metadata": {
    "collapsed": false
   }
  },
  {
   "cell_type": "code",
   "execution_count": 5,
   "outputs": [],
   "source": [
    "be_list = ['density', 'landusemix', 'openratio_wide', 'road_density', 'intersections', 'center', 'subway','bus']\n",
    "features = features[features['group_id']!=-1]\n",
    "features_group = features.groupby(['who','group_id'])[be_list].mean().reset_index()"
   ],
   "metadata": {
    "collapsed": false,
    "ExecuteTime": {
     "end_time": "2024-04-17T08:45:00.565980200Z",
     "start_time": "2024-04-17T08:45:00.373654300Z"
    }
   }
  },
  {
   "cell_type": "code",
   "execution_count": 6,
   "outputs": [],
   "source": [
    "# 计算每个who的两组建成环境的相对变化量\n",
    "relative_changes = []\n",
    "for who in features_group['who'].unique():\n",
    "    df_who = features_group[features_group['who'] == who]\n",
    "    group1 = df_who[df_who['group_id'] == 1]\n",
    "    group2 = df_who[df_who['group_id'] == 2]\n",
    "    \n",
    "    # Calculate relative change\n",
    "    # change = np.abs(group2[be_list].values - group1[be_list].values) / \\\n",
    "    #          ((group1[be_list].values + group2[be_list].values) / 2)\n",
    "    change = group2[be_list].values - group1[be_list].values\n",
    "    # 如果是‘subway’，那么直接计算绝对变化，否则计算相对变化\n",
    "    # change = np.zeros((1, len(be_list)))\n",
    "    # # Calculate changes for each feature\n",
    "    # for i, feature in enumerate(be_list):\n",
    "    #     if (feature != 'subway') or (feature != 'bus') :\n",
    "    #         # Calculate relative change\n",
    "    #         change[0, i] = (group2[feature].values - group1[feature].values) / group1[feature].values\n",
    "    #     else:\n",
    "    #         # Calculate absolute change for subway\n",
    "    #         change[0, i] = group2[feature].values - group1[feature].values\n",
    "    \n",
    "    change = change.flatten()\n",
    "    relative_changes.append(change)\n",
    "\n",
    "# Create a dataframe for relative changes\n",
    "relative_changes_df = pd.DataFrame(\n",
    "    relative_changes,\n",
    "    columns = [be + '_change' for be in be_list]\n",
    ")\n",
    "relative_changes_df['who'] = features_group['who'].unique()"
   ],
   "metadata": {
    "collapsed": false,
    "ExecuteTime": {
     "end_time": "2024-04-17T08:45:27.390076300Z",
     "start_time": "2024-04-17T08:45:00.476809600Z"
    }
   }
  },
  {
   "cell_type": "code",
   "execution_count": 17,
   "outputs": [
    {
     "data": {
      "text/plain": "   density_change  landusemix_change  road_density_change  \\\n0       -8.919340          -0.114394             0.625422   \n1      -75.853522           0.037434             3.305185   \n2        3.001594          -0.107603           -31.856000   \n3      -20.074909           0.041895            -2.522370   \n4      -37.268282          -0.011511            -2.986370   \n\n   intersections_change  center_change  subway_change  bus_change    who  \n0            -24.939683       2.283825      -0.355556   -4.673016   6717  \n1              4.148148      -0.703601       0.395062   -4.049383   9226  \n2            -27.555556      -4.972195       0.000000   -2.666667   9856  \n3             23.703704      -1.733366       1.777778   20.148148  10560  \n4            -13.925926       7.054802       0.000000    5.037037  11694  ",
      "text/html": "<div>\n<style scoped>\n    .dataframe tbody tr th:only-of-type {\n        vertical-align: middle;\n    }\n\n    .dataframe tbody tr th {\n        vertical-align: top;\n    }\n\n    .dataframe thead th {\n        text-align: right;\n    }\n</style>\n<table border=\"1\" class=\"dataframe\">\n  <thead>\n    <tr style=\"text-align: right;\">\n      <th></th>\n      <th>density_change</th>\n      <th>landusemix_change</th>\n      <th>road_density_change</th>\n      <th>intersections_change</th>\n      <th>center_change</th>\n      <th>subway_change</th>\n      <th>bus_change</th>\n      <th>who</th>\n    </tr>\n  </thead>\n  <tbody>\n    <tr>\n      <th>0</th>\n      <td>-8.919340</td>\n      <td>-0.114394</td>\n      <td>0.625422</td>\n      <td>-24.939683</td>\n      <td>2.283825</td>\n      <td>-0.355556</td>\n      <td>-4.673016</td>\n      <td>6717</td>\n    </tr>\n    <tr>\n      <th>1</th>\n      <td>-75.853522</td>\n      <td>0.037434</td>\n      <td>3.305185</td>\n      <td>4.148148</td>\n      <td>-0.703601</td>\n      <td>0.395062</td>\n      <td>-4.049383</td>\n      <td>9226</td>\n    </tr>\n    <tr>\n      <th>2</th>\n      <td>3.001594</td>\n      <td>-0.107603</td>\n      <td>-31.856000</td>\n      <td>-27.555556</td>\n      <td>-4.972195</td>\n      <td>0.000000</td>\n      <td>-2.666667</td>\n      <td>9856</td>\n    </tr>\n    <tr>\n      <th>3</th>\n      <td>-20.074909</td>\n      <td>0.041895</td>\n      <td>-2.522370</td>\n      <td>23.703704</td>\n      <td>-1.733366</td>\n      <td>1.777778</td>\n      <td>20.148148</td>\n      <td>10560</td>\n    </tr>\n    <tr>\n      <th>4</th>\n      <td>-37.268282</td>\n      <td>-0.011511</td>\n      <td>-2.986370</td>\n      <td>-13.925926</td>\n      <td>7.054802</td>\n      <td>0.000000</td>\n      <td>5.037037</td>\n      <td>11694</td>\n    </tr>\n  </tbody>\n</table>\n</div>"
     },
     "execution_count": 17,
     "metadata": {},
     "output_type": "execute_result"
    }
   ],
   "source": [
    "relative_changes_df.head()"
   ],
   "metadata": {
    "collapsed": false,
    "ExecuteTime": {
     "end_time": "2024-04-11T06:52:50.224324800Z",
     "start_time": "2024-04-11T06:52:50.217002700Z"
    }
   }
  },
  {
   "cell_type": "markdown",
   "source": [
    "## 建成环境特征合并"
   ],
   "metadata": {
    "collapsed": false
   }
  },
  {
   "cell_type": "code",
   "execution_count": 7,
   "outputs": [],
   "source": [
    "# 建成环境特征合并\n",
    "be_varies_name = be_varie.columns[3:].tolist()\n",
    "be_info = features[features['group_id']!=-1]\n",
    "be_info_group = be_info.groupby(['who','group_id']).mean().reset_index()\n",
    "be_info_group['move'] = be_info_group['group_id'] - 1  # 方便合并\n",
    "\n",
    "# 将be数据加入到filled_data中\n",
    "# data = pd.merge(data,be_info_group[['who','move']+be_varies_name],on=['who','move'],how='left')\n",
    "\n",
    "# 修改为只加入搬家前的建成环境变量作为基准（搬家前建成环境 + 变化量 = 搬家后建成环境）\n",
    "be_info_group = be_info_group[be_info_group['move']==0]\n",
    "data = pd.merge(data,be_info_group[['who']+be_varies_name],on=['who'],how='left')\n",
    "\n",
    "# 将move_dist和work_dist加入到data中\n",
    "data = pd.merge(data,be_info_group[['who','move','move_dist','work_dist']],on=['who','move'],how='left')"
   ],
   "metadata": {
    "collapsed": false,
    "ExecuteTime": {
     "end_time": "2024-04-17T08:45:29.881602600Z",
     "start_time": "2024-04-17T08:45:27.392068600Z"
    }
   }
  },
  {
   "cell_type": "code",
   "execution_count": 8,
   "outputs": [
    {
     "data": {
      "text/plain": "date                      0\nwho                       0\nsum_dist                  0\nmetro_dist          3496199\nmetro_dist_ratio          0\nwalk_dist                 0\nwalk_dist_ratio     3497799\nchain_complexity          0\ngender                    0\nage                       0\nT                         0\nmove_time                 0\nP                         0\nmove                      0\nholiday                   0\nweekday                   0\ndensity                   0\nlandusemix                0\nopenratio_wide            0\nintersections             0\nroad_density              0\ncenter                    0\nairport                   0\nrailway                   0\ndock                      0\ncoach                     0\neat                       0\nshop                      0\nhosp                      0\nsubway                    0\nbus                       0\nedu                       0\nmarried                   0\nrent                      0\nmove_dist                 0\nwork_dist                 0\ndtype: int64"
     },
     "execution_count": 8,
     "metadata": {},
     "output_type": "execute_result"
    }
   ],
   "source": [
    "# 缺失值用邻近数值填充\n",
    "data['move_dist'] = data['move_dist'].fillna(method='ffill')\n",
    "data['work_dist'] = data['work_dist'].fillna(method='ffill')\n",
    "data.isnull().sum()"
   ],
   "metadata": {
    "collapsed": false,
    "ExecuteTime": {
     "end_time": "2024-04-17T08:45:30.401771400Z",
     "start_time": "2024-04-17T08:45:29.882602500Z"
    }
   }
  },
  {
   "cell_type": "code",
   "execution_count": 9,
   "outputs": [
    {
     "data": {
      "text/plain": "date                           0\nwho                            0\nsum_dist                       0\nmetro_dist               3496199\nmetro_dist_ratio               0\nwalk_dist                      0\nwalk_dist_ratio          3497799\nchain_complexity               0\ngender                         0\nage                            0\nT                              0\nmove_time                      0\nP                              0\nmove                           0\nholiday                        0\nweekday                        0\ndensity                        0\nlandusemix                     0\nopenratio_wide                 0\nintersections                  0\nroad_density                   0\ncenter                         0\nairport                        0\nrailway                        0\ndock                           0\ncoach                          0\neat                            0\nshop                           0\nhosp                           0\nsubway                         0\nbus                            0\nedu                            0\nmarried                        0\nrent                           0\nmove_dist                      0\nwork_dist                      0\ndensity_change                 0\nlandusemix_change              0\nopenratio_wide_change          0\nroad_density_change            0\nintersections_change           0\ncenter_change                  0\nsubway_change                  0\nbus_change                     0\ndtype: int64"
     },
     "execution_count": 9,
     "metadata": {},
     "output_type": "execute_result"
    }
   ],
   "source": [
    "# 加入建成环境变化量数据\n",
    "data = pd.merge(data,relative_changes_df,on='who',how='left')\n",
    "data.isnull().sum()"
   ],
   "metadata": {
    "collapsed": false,
    "ExecuteTime": {
     "end_time": "2024-04-17T08:45:32.155928900Z",
     "start_time": "2024-04-17T08:45:30.399770600Z"
    }
   }
  },
  {
   "cell_type": "code",
   "execution_count": 10,
   "outputs": [],
   "source": [
    "# 加入天气状况信息\n",
    "data = pd.merge(data,weather,on='date',how='left')"
   ],
   "metadata": {
    "collapsed": false,
    "ExecuteTime": {
     "end_time": "2024-04-17T08:45:33.428554300Z",
     "start_time": "2024-04-17T08:45:32.153928100Z"
    }
   }
  },
  {
   "cell_type": "code",
   "execution_count": 12,
   "outputs": [
    {
     "data": {
      "text/plain": "date                           0\nwho                            0\nsum_dist                       0\nmetro_dist               3496199\nmetro_dist_ratio               0\nwalk_dist                      0\nwalk_dist_ratio          3497799\nchain_complexity               0\ngender                         0\nage                            0\nT                              0\nmove_time                      0\nP                              0\nmove                           0\nholiday                        0\nweekday                        0\ndensity                        0\nlandusemix                     0\nopenratio_wide                 0\nintersections                  0\nroad_density                   0\ncenter                         0\nairport                        0\nrailway                        0\ndock                           0\ncoach                          0\neat                            0\nshop                           0\nhosp                           0\nsubway                         0\nbus                            0\nedu                            0\nmarried                        0\nrent                           0\nmove_dist                      0\nwork_dist                      0\ndensity_change                 0\nlandusemix_change              0\nopenratio_wide_change          0\nroad_density_change            0\nintersections_change           0\ncenter_change                  0\nsubway_change                  0\nbus_change                     0\ntemperature                    0\npercipit                       0\ndtype: int64"
     },
     "execution_count": 12,
     "metadata": {},
     "output_type": "execute_result"
    }
   ],
   "source": [
    "data.isnull().sum()"
   ],
   "metadata": {
    "collapsed": false,
    "ExecuteTime": {
     "end_time": "2024-04-12T07:30:38.246277300Z",
     "start_time": "2024-04-12T07:30:37.719203200Z"
    }
   }
  },
  {
   "cell_type": "code",
   "execution_count": 11,
   "outputs": [
    {
     "data": {
      "text/plain": "365.0"
     },
     "execution_count": 11,
     "metadata": {},
     "output_type": "execute_result"
    }
   ],
   "source": [
    "len(data)/len(data['who'].unique())"
   ],
   "metadata": {
    "collapsed": false,
    "ExecuteTime": {
     "end_time": "2024-04-17T08:45:33.485741900Z",
     "start_time": "2024-04-17T08:45:33.430555600Z"
    }
   }
  },
  {
   "cell_type": "code",
   "execution_count": 8,
   "outputs": [],
   "source": [
    "data.to_csv(\"D:/317研究组/4 居住自选择/data/final_data/all_data/all_data.csv\",index=False)"
   ],
   "metadata": {
    "collapsed": false,
    "ExecuteTime": {
     "end_time": "2023-09-12T06:43:16.040015200Z",
     "start_time": "2023-09-12T06:40:14.327935600Z"
    }
   }
  },
  {
   "cell_type": "code",
   "execution_count": 21,
   "outputs": [
    {
     "data": {
      "text/plain": "                who     yearmonth           fnid       group_id  \\\ncount  2.506210e+05  2.506210e+05  250621.000000  250621.000000   \nmean   3.963587e+07  2.019065e+07   27930.035516       1.487936   \nstd    2.285707e+07  3.442076e+02   11913.336713       0.519006   \nmin    6.717000e+03  2.019010e+07    2913.000000      -1.000000   \n25%    2.003285e+07  2.019040e+07   18286.000000       1.000000   \n50%    3.953283e+07  2.019070e+07   26213.000000       1.000000   \n75%    5.955890e+07  2.019100e+07   36529.000000       2.000000   \nmax    7.896523e+07  2.019120e+07   62880.000000       2.000000   \n\n           move_dist      work_dist        density     landusemix  \\\ncount  250621.000000  250621.000000  250621.000000  250621.000000   \nmean        6.332544       4.973003      36.658191       0.668087   \nstd         9.168981       7.197790      26.232545       0.090936   \nmin         0.000000       0.000000       0.000000       0.000000   \n25%         0.000000       0.000000      15.314496       0.621022   \n50%         0.000000       1.735998      32.084713       0.679632   \n75%         9.946475       7.832541      54.022182       0.729671   \nmax        67.838613      68.489213     148.874853       0.936289   \n\n       openratio_wide  intersections  ...           dock          coach  \\\ncount   250621.000000  250621.000000  ...  250621.000000  250621.000000   \nmean         0.087719      32.040743  ...      23.229572       1.372447   \nstd          0.121536      25.321100  ...      12.278080       1.324988   \nmin          0.000000       0.000000  ...       0.000000       0.000000   \n25%          0.009437      14.222222  ...      12.661637       0.243891   \n50%          0.043109      26.666667  ...      23.135060       1.044332   \n75%          0.113256      42.666667  ...      29.763525       2.112411   \nmax          0.998199     192.000000  ...      81.009015      17.694606   \n\n                 eat           shop           hosp         subway  \\\ncount  250621.000000  250621.000000  250621.000000  250621.000000   \nmean      336.332945     570.956664      50.855011       0.480701   \nstd       272.273620     459.273834      39.776159       0.851572   \nmin         0.000000       0.000000       0.000000       0.000000   \n25%       120.888889     197.333333      17.777778       0.000000   \n50%       270.222222     460.444444      42.666667       0.000000   \n75%       503.111111     855.111111      76.444444       1.777778   \nmax      1964.444444    3297.777778     204.444444       5.333333   \n\n                 bus            edu        married           rent  \ncount  250621.000000  250621.000000  250621.000000  250621.000000  \nmean        7.798313       0.146986       0.435596       4.024912  \nstd         4.598966       0.117920       0.121525       3.309272  \nmin         0.000000       0.000000       0.000000       0.761134  \n25%         5.333333       0.044531       0.370855       2.104711  \n50%         7.111111       0.121284       0.454343       3.169537  \n75%        10.666667       0.227313       0.522072       4.776315  \nmax        42.666667       0.662490       0.781939      56.048926  \n\n[8 rows x 24 columns]",
      "text/html": "<div>\n<style scoped>\n    .dataframe tbody tr th:only-of-type {\n        vertical-align: middle;\n    }\n\n    .dataframe tbody tr th {\n        vertical-align: top;\n    }\n\n    .dataframe thead th {\n        text-align: right;\n    }\n</style>\n<table border=\"1\" class=\"dataframe\">\n  <thead>\n    <tr style=\"text-align: right;\">\n      <th></th>\n      <th>who</th>\n      <th>yearmonth</th>\n      <th>fnid</th>\n      <th>group_id</th>\n      <th>move_dist</th>\n      <th>work_dist</th>\n      <th>density</th>\n      <th>landusemix</th>\n      <th>openratio_wide</th>\n      <th>intersections</th>\n      <th>...</th>\n      <th>dock</th>\n      <th>coach</th>\n      <th>eat</th>\n      <th>shop</th>\n      <th>hosp</th>\n      <th>subway</th>\n      <th>bus</th>\n      <th>edu</th>\n      <th>married</th>\n      <th>rent</th>\n    </tr>\n  </thead>\n  <tbody>\n    <tr>\n      <th>count</th>\n      <td>2.506210e+05</td>\n      <td>2.506210e+05</td>\n      <td>250621.000000</td>\n      <td>250621.000000</td>\n      <td>250621.000000</td>\n      <td>250621.000000</td>\n      <td>250621.000000</td>\n      <td>250621.000000</td>\n      <td>250621.000000</td>\n      <td>250621.000000</td>\n      <td>...</td>\n      <td>250621.000000</td>\n      <td>250621.000000</td>\n      <td>250621.000000</td>\n      <td>250621.000000</td>\n      <td>250621.000000</td>\n      <td>250621.000000</td>\n      <td>250621.000000</td>\n      <td>250621.000000</td>\n      <td>250621.000000</td>\n      <td>250621.000000</td>\n    </tr>\n    <tr>\n      <th>mean</th>\n      <td>3.963587e+07</td>\n      <td>2.019065e+07</td>\n      <td>27930.035516</td>\n      <td>1.487936</td>\n      <td>6.332544</td>\n      <td>4.973003</td>\n      <td>36.658191</td>\n      <td>0.668087</td>\n      <td>0.087719</td>\n      <td>32.040743</td>\n      <td>...</td>\n      <td>23.229572</td>\n      <td>1.372447</td>\n      <td>336.332945</td>\n      <td>570.956664</td>\n      <td>50.855011</td>\n      <td>0.480701</td>\n      <td>7.798313</td>\n      <td>0.146986</td>\n      <td>0.435596</td>\n      <td>4.024912</td>\n    </tr>\n    <tr>\n      <th>std</th>\n      <td>2.285707e+07</td>\n      <td>3.442076e+02</td>\n      <td>11913.336713</td>\n      <td>0.519006</td>\n      <td>9.168981</td>\n      <td>7.197790</td>\n      <td>26.232545</td>\n      <td>0.090936</td>\n      <td>0.121536</td>\n      <td>25.321100</td>\n      <td>...</td>\n      <td>12.278080</td>\n      <td>1.324988</td>\n      <td>272.273620</td>\n      <td>459.273834</td>\n      <td>39.776159</td>\n      <td>0.851572</td>\n      <td>4.598966</td>\n      <td>0.117920</td>\n      <td>0.121525</td>\n      <td>3.309272</td>\n    </tr>\n    <tr>\n      <th>min</th>\n      <td>6.717000e+03</td>\n      <td>2.019010e+07</td>\n      <td>2913.000000</td>\n      <td>-1.000000</td>\n      <td>0.000000</td>\n      <td>0.000000</td>\n      <td>0.000000</td>\n      <td>0.000000</td>\n      <td>0.000000</td>\n      <td>0.000000</td>\n      <td>...</td>\n      <td>0.000000</td>\n      <td>0.000000</td>\n      <td>0.000000</td>\n      <td>0.000000</td>\n      <td>0.000000</td>\n      <td>0.000000</td>\n      <td>0.000000</td>\n      <td>0.000000</td>\n      <td>0.000000</td>\n      <td>0.761134</td>\n    </tr>\n    <tr>\n      <th>25%</th>\n      <td>2.003285e+07</td>\n      <td>2.019040e+07</td>\n      <td>18286.000000</td>\n      <td>1.000000</td>\n      <td>0.000000</td>\n      <td>0.000000</td>\n      <td>15.314496</td>\n      <td>0.621022</td>\n      <td>0.009437</td>\n      <td>14.222222</td>\n      <td>...</td>\n      <td>12.661637</td>\n      <td>0.243891</td>\n      <td>120.888889</td>\n      <td>197.333333</td>\n      <td>17.777778</td>\n      <td>0.000000</td>\n      <td>5.333333</td>\n      <td>0.044531</td>\n      <td>0.370855</td>\n      <td>2.104711</td>\n    </tr>\n    <tr>\n      <th>50%</th>\n      <td>3.953283e+07</td>\n      <td>2.019070e+07</td>\n      <td>26213.000000</td>\n      <td>1.000000</td>\n      <td>0.000000</td>\n      <td>1.735998</td>\n      <td>32.084713</td>\n      <td>0.679632</td>\n      <td>0.043109</td>\n      <td>26.666667</td>\n      <td>...</td>\n      <td>23.135060</td>\n      <td>1.044332</td>\n      <td>270.222222</td>\n      <td>460.444444</td>\n      <td>42.666667</td>\n      <td>0.000000</td>\n      <td>7.111111</td>\n      <td>0.121284</td>\n      <td>0.454343</td>\n      <td>3.169537</td>\n    </tr>\n    <tr>\n      <th>75%</th>\n      <td>5.955890e+07</td>\n      <td>2.019100e+07</td>\n      <td>36529.000000</td>\n      <td>2.000000</td>\n      <td>9.946475</td>\n      <td>7.832541</td>\n      <td>54.022182</td>\n      <td>0.729671</td>\n      <td>0.113256</td>\n      <td>42.666667</td>\n      <td>...</td>\n      <td>29.763525</td>\n      <td>2.112411</td>\n      <td>503.111111</td>\n      <td>855.111111</td>\n      <td>76.444444</td>\n      <td>1.777778</td>\n      <td>10.666667</td>\n      <td>0.227313</td>\n      <td>0.522072</td>\n      <td>4.776315</td>\n    </tr>\n    <tr>\n      <th>max</th>\n      <td>7.896523e+07</td>\n      <td>2.019120e+07</td>\n      <td>62880.000000</td>\n      <td>2.000000</td>\n      <td>67.838613</td>\n      <td>68.489213</td>\n      <td>148.874853</td>\n      <td>0.936289</td>\n      <td>0.998199</td>\n      <td>192.000000</td>\n      <td>...</td>\n      <td>81.009015</td>\n      <td>17.694606</td>\n      <td>1964.444444</td>\n      <td>3297.777778</td>\n      <td>204.444444</td>\n      <td>5.333333</td>\n      <td>42.666667</td>\n      <td>0.662490</td>\n      <td>0.781939</td>\n      <td>56.048926</td>\n    </tr>\n  </tbody>\n</table>\n<p>8 rows × 24 columns</p>\n</div>"
     },
     "execution_count": 21,
     "metadata": {},
     "output_type": "execute_result"
    }
   ],
   "source": [
    "# 查看features的平均值、标准差等情况\n",
    "features.describe()"
   ],
   "metadata": {
    "collapsed": false,
    "ExecuteTime": {
     "end_time": "2023-09-11T08:01:49.993354Z",
     "start_time": "2023-09-11T08:01:49.723863900Z"
    }
   }
  },
  {
   "cell_type": "markdown",
   "source": [
    "# 特征选取"
   ],
   "metadata": {
    "collapsed": false
   }
  },
  {
   "cell_type": "code",
   "execution_count": 7,
   "outputs": [],
   "source": [
    "from sklearn.model_selection import train_test_split\n",
    "from sklearn.feature_selection import SelectKBest, f_regression, mutual_info_regression"
   ],
   "metadata": {
    "collapsed": false,
    "ExecuteTime": {
     "end_time": "2023-09-11T04:13:41.035477100Z",
     "start_time": "2023-09-11T04:13:40.749016400Z"
    }
   }
  },
  {
   "cell_type": "code",
   "execution_count": 8,
   "outputs": [],
   "source": [
    "def select_features(X_train, y_train, X_test):\n",
    "    fs = SelectKBest(score_func=f_regression, k='all')\n",
    "    fs.fit(X_train, y_train)\n",
    "    X_train_fs = fs.transform(X_train)\n",
    "    X_test_fs = fs.transform(X_test)\n",
    "    return X_train_fs, X_test_fs, fs"
   ],
   "metadata": {
    "collapsed": false,
    "ExecuteTime": {
     "end_time": "2023-09-11T04:13:41.051103Z",
     "start_time": "2023-09-11T04:13:41.035477100Z"
    }
   }
  },
  {
   "cell_type": "code",
   "execution_count": 9,
   "outputs": [
    {
     "name": "stdout",
     "output_type": "stream",
     "text": [
      "Feature density: 272.931561\n",
      "Feature landusemix: 216.737765\n",
      "Feature openratio_wide: 7.569286\n",
      "Feature intersections: 476.283443\n",
      "Feature road_density: 500.194751\n",
      "Feature center: 782.706465\n",
      "Feature airport: 48.934640\n",
      "Feature railway: 13.876326\n",
      "Feature dock: 32.568368\n",
      "Feature coach: 190.644857\n",
      "Feature eat: 733.350776\n",
      "Feature shop: 225.123420\n",
      "Feature hosp: 74.075600\n",
      "Feature subway: 22.117132\n",
      "Feature bus: 5.305041\n",
      "Feature edu: 136.330595\n",
      "Feature married: 921.939104\n",
      "Feature rent: 484.116015\n",
      "Feature age: 2229.641452\n",
      "Feature gender: 2444.697956\n",
      "Feature move_dist: 53.943282\n",
      "Feature work_dist: 354.994629\n"
     ]
    },
    {
     "data": {
      "text/plain": "<Figure size 432x288 with 1 Axes>",
      "image/png": "[encoded data removed]"
     },
     "metadata": {
      "needs_background": "light"
     },
     "output_type": "display_data"
    }
   ],
   "source": [
    "# 划分数据集\n",
    "features_list = be_varies_name+['age','gender','move_dist','work_dist']\n",
    "X = data[features_list]\n",
    "y = data['walk_dist']\n",
    "X_train, X_test, y_train, y_test = train_test_split(X, y, test_size=0.33, random_state=1)\n",
    "\n",
    "# 特征选择\n",
    "X_train_fs, X_test_fs, fs = select_features(X_train, y_train, X_test)\n",
    "# 打印特征得分\n",
    "for i in range(len(fs.scores_)):\n",
    "    print('Feature %s: %f' % (features_list[i], fs.scores_[i]))\n",
    "\n",
    "plt.bar([i for i in range(len(fs.scores_))], fs.scores_)\n",
    "plt.xticks([i for i in range(len(fs.scores_))], features_list, rotation='vertical')\n",
    "plt.show()\n",
    "# 根据得分选择变量：density, landusemix, intersections, road_density, center, eat, shop, age, gender, married, rent, work_dist"
   ],
   "metadata": {
    "collapsed": false,
    "ExecuteTime": {
     "end_time": "2023-09-11T04:13:58.557602100Z",
     "start_time": "2023-09-11T04:13:53.706521500Z"
    }
   }
  },
  {
   "cell_type": "code",
   "execution_count": 17,
   "outputs": [
    {
     "name": "stdout",
     "output_type": "stream",
     "text": [
      "Feature density: 7911.434541\n",
      "Feature landusemix: 0.303407\n",
      "Feature openratio_wide: 398.493472\n",
      "Feature intersections: 3636.608604\n",
      "Feature road_density: 8547.389153\n",
      "Feature center: 6207.713138\n",
      "Feature airport: 3129.740442\n",
      "Feature railway: 10822.519406\n",
      "Feature dock: 19720.066756\n",
      "Feature coach: 789.286752\n",
      "Feature eat: 1965.353614\n",
      "Feature shop: 4009.124433\n",
      "Feature hosp: 10546.833642\n",
      "Feature subway: 3634.479247\n",
      "Feature bus: 1399.357651\n",
      "Feature edu: 19070.530991\n",
      "Feature married: 3069.012981\n",
      "Feature rent: 10642.605064\n",
      "Feature age: 3069.008250\n",
      "Feature gender: 2589.761886\n",
      "Feature move_dist: 12.520896\n",
      "Feature work_dist: 208879.074118\n"
     ]
    },
    {
     "data": {
      "text/plain": "<Figure size 432x288 with 1 Axes>",
      "image/png": "[encoded data removed]"
     },
     "metadata": {
      "needs_background": "light"
     },
     "output_type": "display_data"
    }
   ],
   "source": [
    "y = data['chain_complexity']\n",
    "X_train, X_test, y_train, y_test = train_test_split(X, y, test_size=0.33, random_state=1)\n",
    "\n",
    "# 特征选择\n",
    "X_train_fs, X_test_fs, fs = select_features(X_train, y_train, X_test)\n",
    "# 打印特征得分\n",
    "for i in range(len(fs.scores_)):\n",
    "    print('Feature %s: %f' % (features_list[i], fs.scores_[i]))\n",
    "\n",
    "plt.bar([i for i in range(len(fs.scores_)-1)], fs.scores_[0:-1])\n",
    "plt.xticks([i for i in range(len(fs.scores_)-1)], features_list[0:-1], rotation='vertical')\n",
    "plt.show()\n",
    "# 根据得分选择变量：density, intersections, road_density, center, subway, edu, rent, age, gender, work_dist"
   ],
   "metadata": {
    "collapsed": false,
    "ExecuteTime": {
     "end_time": "2023-09-11T07:23:47.145730300Z",
     "start_time": "2023-09-11T07:23:42.368990Z"
    }
   }
  },
  {
   "cell_type": "code",
   "execution_count": 13,
   "outputs": [
    {
     "name": "stdout",
     "output_type": "stream",
     "text": [
      "Feature density: 105551.452450\n",
      "Feature landusemix: 1664.345593\n",
      "Feature openratio_wide: 29339.974403\n",
      "Feature intersections: 27769.044661\n",
      "Feature road_density: 29589.281565\n",
      "Feature center: 8606.022435\n",
      "Feature airport: 24469.631631\n",
      "Feature railway: 16884.595157\n",
      "Feature dock: 60220.818248\n",
      "Feature coach: 8876.133518\n",
      "Feature eat: 119797.905384\n",
      "Feature shop: 93490.374967\n",
      "Feature hosp: 108755.047727\n",
      "Feature subway: 70159.507401\n",
      "Feature bus: 28409.654290\n",
      "Feature edu: 43335.828448\n",
      "Feature married: 28.121732\n",
      "Feature rent: 4780.404963\n",
      "Feature age: 34901.778027\n",
      "Feature gender: 7076.486931\n",
      "Feature move_dist: 10571.813206\n",
      "Feature work_dist: 212803.234752\n"
     ]
    },
    {
     "data": {
      "text/plain": "<Figure size 432x288 with 1 Axes>",
      "image/png": "[encoded data removed]"
     },
     "metadata": {
      "needs_background": "light"
     },
     "output_type": "display_data"
    }
   ],
   "source": [
    "y = data['metro_dist_ratio']\n",
    "X_train, X_test, y_train, y_test = train_test_split(X, y, test_size=0.33, random_state=1)\n",
    "\n",
    "# 特征选择\n",
    "X_train_fs, X_test_fs, fs = select_features(X_train, y_train, X_test)\n",
    "# 打印特征得分\n",
    "for i in range(len(fs.scores_)):\n",
    "    print('Feature %s: %f' % (features_list[i], fs.scores_[i]))\n",
    "\n",
    "plt.bar([i for i in range(len(fs.scores_))], fs.scores_)\n",
    "plt.xticks([i for i in range(len(fs.scores_))], features_list, rotation='vertical')\n",
    "plt.show()"
   ],
   "metadata": {
    "collapsed": false,
    "ExecuteTime": {
     "end_time": "2023-09-11T04:16:21.778693600Z",
     "start_time": "2023-09-11T04:16:16.398946500Z"
    }
   }
  },
  {
   "cell_type": "markdown",
   "source": [
    "# 水平值-水平值回归模型"
   ],
   "metadata": {
    "collapsed": false
   }
  },
  {
   "cell_type": "code",
   "execution_count": 2,
   "outputs": [],
   "source": [
    "regress_data = pd.read_csv(\"D:/317研究组/4 居住自选择/data/final_data/all_data/all_data.csv\")\n",
    "regress_data = regress_data[['who','T','move','P','holiday', 'storm', 'density', 'landusemix', 'road_density', 'intersections', 'center', 'work_dist', 'subway', 'bus', 'age', 'gender', 'walk_dist', 'chain_complexity', 'metro_dist_ratio']]"
   ],
   "metadata": {
    "collapsed": false,
    "ExecuteTime": {
     "end_time": "2023-09-12T07:04:42.866359700Z",
     "start_time": "2023-09-12T07:04:15.155587400Z"
    }
   }
  },
  {
   "cell_type": "code",
   "execution_count": 3,
   "outputs": [
    {
     "data": {
      "text/plain": "    who  T  move  P  holiday  storm    density  landusemix  road_density  \\\n0  6717  1     0  0        1      0  12.669152    0.038009      1.582952   \n1  6717  2     0  0        0      0  12.669152    0.038009      1.582952   \n2  6717  3     0  0        0      0  12.669152    0.038009      1.582952   \n3  6717  4     0  0        0      0  12.669152    0.038009      1.582952   \n4  6717  5     0  0        1      0  12.669152    0.038009      1.582952   \n\n   intersections    center  work_dist   subway       bus  age  gender  \\\n0      10.056654 -0.253236   0.957067 -0.12214 -0.314306  8.0     0.0   \n1      10.056654 -0.253236   0.957067 -0.12214 -0.314306  8.0     0.0   \n2      10.056654 -0.253236   0.957067 -0.12214 -0.314306  8.0     0.0   \n3      10.056654 -0.253236   0.957067 -0.12214 -0.314306  8.0     0.0   \n4      10.056654 -0.253236   0.957067 -0.12214 -0.314306  8.0     0.0   \n\n   walk_dist  chain_complexity  metro_dist_ratio  \n0        0.0               2.0               0.0  \n1        0.0               4.0               0.0  \n2        0.0               6.0               0.0  \n3     2263.0               2.0               0.0  \n4        0.0               2.0               0.0  ",
      "text/html": "<div>\n<style scoped>\n    .dataframe tbody tr th:only-of-type {\n        vertical-align: middle;\n    }\n\n    .dataframe tbody tr th {\n        vertical-align: top;\n    }\n\n    .dataframe thead th {\n        text-align: right;\n    }\n</style>\n<table border=\"1\" class=\"dataframe\">\n  <thead>\n    <tr style=\"text-align: right;\">\n      <th></th>\n      <th>who</th>\n      <th>T</th>\n      <th>move</th>\n      <th>P</th>\n      <th>holiday</th>\n      <th>storm</th>\n      <th>density</th>\n      <th>landusemix</th>\n      <th>road_density</th>\n      <th>intersections</th>\n      <th>center</th>\n      <th>work_dist</th>\n      <th>subway</th>\n      <th>bus</th>\n      <th>age</th>\n      <th>gender</th>\n      <th>walk_dist</th>\n      <th>chain_complexity</th>\n      <th>metro_dist_ratio</th>\n    </tr>\n  </thead>\n  <tbody>\n    <tr>\n      <th>0</th>\n      <td>6717</td>\n      <td>1</td>\n      <td>0</td>\n      <td>0</td>\n      <td>1</td>\n      <td>0</td>\n      <td>12.669152</td>\n      <td>0.038009</td>\n      <td>1.582952</td>\n      <td>10.056654</td>\n      <td>-0.253236</td>\n      <td>0.957067</td>\n      <td>-0.12214</td>\n      <td>-0.314306</td>\n      <td>8.0</td>\n      <td>0.0</td>\n      <td>0.0</td>\n      <td>2.0</td>\n      <td>0.0</td>\n    </tr>\n    <tr>\n      <th>1</th>\n      <td>6717</td>\n      <td>2</td>\n      <td>0</td>\n      <td>0</td>\n      <td>0</td>\n      <td>0</td>\n      <td>12.669152</td>\n      <td>0.038009</td>\n      <td>1.582952</td>\n      <td>10.056654</td>\n      <td>-0.253236</td>\n      <td>0.957067</td>\n      <td>-0.12214</td>\n      <td>-0.314306</td>\n      <td>8.0</td>\n      <td>0.0</td>\n      <td>0.0</td>\n      <td>4.0</td>\n      <td>0.0</td>\n    </tr>\n    <tr>\n      <th>2</th>\n      <td>6717</td>\n      <td>3</td>\n      <td>0</td>\n      <td>0</td>\n      <td>0</td>\n      <td>0</td>\n      <td>12.669152</td>\n      <td>0.038009</td>\n      <td>1.582952</td>\n      <td>10.056654</td>\n      <td>-0.253236</td>\n      <td>0.957067</td>\n      <td>-0.12214</td>\n      <td>-0.314306</td>\n      <td>8.0</td>\n      <td>0.0</td>\n      <td>0.0</td>\n      <td>6.0</td>\n      <td>0.0</td>\n    </tr>\n    <tr>\n      <th>3</th>\n      <td>6717</td>\n      <td>4</td>\n      <td>0</td>\n      <td>0</td>\n      <td>0</td>\n      <td>0</td>\n      <td>12.669152</td>\n      <td>0.038009</td>\n      <td>1.582952</td>\n      <td>10.056654</td>\n      <td>-0.253236</td>\n      <td>0.957067</td>\n      <td>-0.12214</td>\n      <td>-0.314306</td>\n      <td>8.0</td>\n      <td>0.0</td>\n      <td>2263.0</td>\n      <td>2.0</td>\n      <td>0.0</td>\n    </tr>\n    <tr>\n      <th>4</th>\n      <td>6717</td>\n      <td>5</td>\n      <td>0</td>\n      <td>0</td>\n      <td>1</td>\n      <td>0</td>\n      <td>12.669152</td>\n      <td>0.038009</td>\n      <td>1.582952</td>\n      <td>10.056654</td>\n      <td>-0.253236</td>\n      <td>0.957067</td>\n      <td>-0.12214</td>\n      <td>-0.314306</td>\n      <td>8.0</td>\n      <td>0.0</td>\n      <td>0.0</td>\n      <td>2.0</td>\n      <td>0.0</td>\n    </tr>\n  </tbody>\n</table>\n</div>"
     },
     "execution_count": 3,
     "metadata": {},
     "output_type": "execute_result"
    }
   ],
   "source": [
    "# 中心化\n",
    "features_list = ['density', 'landusemix', 'road_density', 'intersections', 'center', 'subway', 'bus', 'work_dist']\n",
    "for col in features_list:\n",
    "    regress_data[col] = regress_data[col] - regress_data[col].mean()\n",
    "regress_data.head()"
   ],
   "metadata": {
    "collapsed": false,
    "ExecuteTime": {
     "end_time": "2023-09-12T07:04:43.267183800Z",
     "start_time": "2023-09-12T07:04:42.866359700Z"
    }
   }
  },
  {
   "cell_type": "code",
   "execution_count": 4,
   "outputs": [
    {
     "name": "stdout",
     "output_type": "stream",
     "text": [
      "              Mixed Linear Model Regression Results\n",
      "==================================================================\n",
      "Model:              MixedLM   Dependent Variable:   walk_dist     \n",
      "No. Observations:   7780960   Method:               REML          \n",
      "No. Groups:         21289     Scale:                314494.2940   \n",
      "Min. group size:    365       Log-Likelihood:       -60322868.8822\n",
      "Max. group size:    605       Converged:            Yes           \n",
      "Mean group size:    365.5                                         \n",
      "------------------------------------------------------------------\n",
      "                    Coef.   Std.Err.    z    P>|z|  [0.025  0.975]\n",
      "------------------------------------------------------------------\n",
      "Intercept            72.129    4.080  17.679 0.000  64.132  80.125\n",
      "T                     0.054    0.005  10.101 0.000   0.044   0.064\n",
      "move                  9.703    2.591   3.746 0.000   4.626  14.780\n",
      "P                    -0.037    0.022  -1.707 0.088  -0.079   0.005\n",
      "holiday              -9.657    0.433 -22.284 0.000 -10.507  -8.808\n",
      "storm                -2.805    0.613  -4.576 0.000  -4.007  -1.604\n",
      "density               0.010    0.017   0.560 0.575  -0.024   0.043\n",
      "landusemix          -29.516    5.738  -5.144 0.000 -40.763 -18.269\n",
      "road_density          0.848    0.044  19.094 0.000   0.761   0.935\n",
      "center               -1.452    0.110 -13.182 0.000  -1.668  -1.236\n",
      "subway               -1.058    0.593  -1.784 0.074  -2.221   0.104\n",
      "bus                   0.595    0.114   5.203 0.000   0.371   0.819\n",
      "age                   6.747    0.584  11.561 0.000   5.603   7.891\n",
      "gender              -19.046    2.062  -9.235 0.000 -23.088 -15.004\n",
      "work_dist            -1.603    0.045 -35.496 0.000  -1.691  -1.514\n",
      "move:density         -0.044    0.031  -1.426 0.154  -0.106   0.017\n",
      "move:landusemix      81.853   10.522   7.779 0.000  61.230 102.475\n",
      "move:road_density    -1.045    0.078 -13.386 0.000  -1.197  -0.892\n",
      "move:center           0.307    0.194   1.585 0.113  -0.073   0.687\n",
      "move:work_dist        0.137    0.082   1.671 0.095  -0.024   0.299\n",
      "move:subway          -4.145    1.104  -3.754 0.000  -6.310  -1.981\n",
      "move:bus             -0.774    0.215  -3.599 0.000  -1.195  -0.352\n",
      "move:age             -1.139    0.369  -3.090 0.002  -1.862  -0.417\n",
      "move:gender          -9.633    1.290  -7.468 0.000 -12.161  -7.105\n",
      "P:density            -0.001    0.000  -4.736 0.000  -0.001  -0.001\n",
      "P:landusemix         -0.114    0.072  -1.575 0.115  -0.256   0.028\n",
      "P:road_density        0.004    0.001   8.004 0.000   0.003   0.005\n",
      "P:center              0.005    0.001   3.841 0.000   0.003   0.008\n",
      "P:work_dist          -0.006    0.001  -8.648 0.000  -0.007  -0.004\n",
      "P:subway              0.021    0.008   2.672 0.008   0.006   0.036\n",
      "P:bus                 0.000    0.001   0.168 0.867  -0.003   0.003\n",
      "P:age                 0.019    0.003   6.315 0.000   0.013   0.025\n",
      "P:gender             -0.049    0.011  -4.665 0.000  -0.070  -0.028\n",
      "Group Var         19379.856    0.350                              \n",
      "==================================================================\n"
     ]
    }
   ],
   "source": [
    "formulas_dist1 = 'walk_dist ~ T + move + P + holiday + storm + density + landusemix + road_density + center + subway + bus + age + gender + work_dist + move:density + move:landusemix + move:road_density + move:center + move:work_dist + move:subway + move:bus + move:age + move:gender + P:density + P:landusemix + P:road_density + P:center + P:work_dist + P:subway + P:bus + P:age + P:gender'\n",
    "model_dist1 = smf.mixedlm(formulas_dist1, regress_data, groups=regress_data['who'])\n",
    "model_dist1 = model_dist1.fit()\n",
    "print(model_dist1.summary())"
   ],
   "metadata": {
    "collapsed": false,
    "ExecuteTime": {
     "end_time": "2023-09-12T07:17:41.916226100Z",
     "start_time": "2023-09-12T07:04:43.267183800Z"
    }
   }
  },
  {
   "cell_type": "code",
   "execution_count": 5,
   "outputs": [
    {
     "data": {
      "text/plain": "1402"
     },
     "execution_count": 5,
     "metadata": {},
     "output_type": "execute_result"
    }
   ],
   "source": [
    "del model_dist1\n",
    "gc.collect()"
   ],
   "metadata": {
    "collapsed": false,
    "ExecuteTime": {
     "end_time": "2023-09-12T07:17:43.314997900Z",
     "start_time": "2023-09-12T07:17:41.916226100Z"
    }
   }
  },
  {
   "cell_type": "code",
   "execution_count": 7,
   "outputs": [
    {
     "name": "stdout",
     "output_type": "stream",
     "text": [
      "            Mixed Linear Model Regression Results\n",
      "==============================================================\n",
      "Model:            MixedLM Dependent Variable: chain_complexity\n",
      "No. Observations: 7780960 Method:             REML            \n",
      "No. Groups:       21289   Scale:              1.8778          \n",
      "Min. group size:  365     Log-Likelihood:     -13543568.9960  \n",
      "Max. group size:  605     Converged:          Yes             \n",
      "Mean group size:  365.5                                       \n",
      "--------------------------------------------------------------\n",
      "                  Coef.  Std.Err.    z     P>|z| [0.025 0.975]\n",
      "--------------------------------------------------------------\n",
      "Intercept          1.216    0.022   54.584 0.000  1.172  1.260\n",
      "T                  0.002    0.000  169.094 0.000  0.002  0.002\n",
      "move               0.013    0.006    2.082 0.037  0.001  0.026\n",
      "P                 -0.003    0.000  -52.543 0.000 -0.003 -0.003\n",
      "holiday           -0.332    0.001 -313.055 0.000 -0.334 -0.329\n",
      "storm             -0.008    0.001   -5.054 0.000 -0.011 -0.005\n",
      "density            0.001    0.000   24.644 0.000  0.001  0.001\n",
      "landusemix        -0.133    0.014   -9.299 0.000 -0.161 -0.105\n",
      "road_density      -0.003    0.000  -24.246 0.000 -0.003 -0.002\n",
      "center            -0.000    0.000   -1.401 0.161 -0.001  0.000\n",
      "subway            -0.034    0.001  -22.753 0.000 -0.036 -0.031\n",
      "bus               -0.000    0.000   -1.438 0.151 -0.001  0.000\n",
      "age                0.023    0.003    7.113 0.000  0.017  0.029\n",
      "gender            -0.053    0.011   -4.679 0.000 -0.075 -0.031\n",
      "work_dist          0.005    0.000   45.511 0.000  0.005  0.005\n",
      "move:density      -0.000    0.000   -0.261 0.794 -0.000  0.000\n",
      "move:landusemix    0.009    0.026    0.337 0.736 -0.042  0.060\n",
      "move:road_density -0.000    0.000   -0.588 0.557 -0.000  0.000\n",
      "move:center       -0.001    0.000   -2.072 0.038 -0.002 -0.000\n",
      "move:work_dist    -0.003    0.000  -12.780 0.000 -0.003 -0.002\n",
      "move:subway        0.019    0.003    6.928 0.000  0.014  0.024\n",
      "move:bus           0.001    0.001    1.583 0.113 -0.000  0.002\n",
      "move:age           0.002    0.001    1.666 0.096 -0.000  0.003\n",
      "move:gender       -0.042    0.003  -13.382 0.000 -0.048 -0.036\n",
      "P:density         -0.000    0.000   -1.817 0.069 -0.000  0.000\n",
      "P:landusemix      -0.001    0.000   -4.130 0.000 -0.001 -0.000\n",
      "P:road_density     0.000    0.000    7.909 0.000  0.000  0.000\n",
      "P:center           0.000    0.000    5.330 0.000  0.000  0.000\n",
      "P:work_dist       -0.000    0.000  -12.077 0.000 -0.000 -0.000\n",
      "P:subway          -0.000    0.000   -0.382 0.702 -0.000  0.000\n",
      "P:bus             -0.000    0.000   -6.160 0.000 -0.000 -0.000\n",
      "P:age             -0.000    0.000   -4.122 0.000 -0.000 -0.000\n",
      "P:gender           0.000    0.000    2.904 0.004  0.000  0.000\n",
      "Group Var          0.627    0.004                             \n",
      "==============================================================\n"
     ]
    }
   ],
   "source": [
    "formulas_chain1 = 'chain_complexity ~ T + move + P + holiday + storm + density + landusemix + road_density + center + subway + bus + age + gender + work_dist + move:density + move:landusemix + move:road_density + move:center + move:work_dist + move:subway + move:bus + move:age + move:gender + P:density + P:landusemix + P:road_density + P:center + P:work_dist + P:subway + P:bus + P:age + P:gender'\n",
    "model_chain1 = smf.mixedlm(formulas_chain1, regress_data, groups=regress_data['who'])\n",
    "model_chain1 = model_chain1.fit()\n",
    "print(model_chain1.summary())"
   ],
   "metadata": {
    "collapsed": false,
    "ExecuteTime": {
     "end_time": "2023-09-12T07:39:53.543623500Z",
     "start_time": "2023-09-12T07:29:20.241410400Z"
    }
   }
  },
  {
   "cell_type": "code",
   "execution_count": 8,
   "outputs": [
    {
     "data": {
      "text/plain": "24539"
     },
     "execution_count": 8,
     "metadata": {},
     "output_type": "execute_result"
    }
   ],
   "source": [
    "del model_chain1\n",
    "gc.collect()"
   ],
   "metadata": {
    "collapsed": false,
    "ExecuteTime": {
     "end_time": "2023-09-12T07:39:55.044354300Z",
     "start_time": "2023-09-12T07:39:53.543623500Z"
    }
   }
  },
  {
   "cell_type": "code",
   "execution_count": 9,
   "outputs": [
    {
     "name": "stdout",
     "output_type": "stream",
     "text": [
      "            Mixed Linear Model Regression Results\n",
      "==============================================================\n",
      "Model:            MixedLM Dependent Variable: metro_dist_ratio\n",
      "No. Observations: 7780960 Method:             REML            \n",
      "No. Groups:       21289   Scale:              0.0662          \n",
      "Min. group size:  365     Log-Likelihood:     -529170.8002    \n",
      "Max. group size:  605     Converged:          Yes             \n",
      "Mean group size:  365.5                                       \n",
      "--------------------------------------------------------------\n",
      "                  Coef.  Std.Err.    z     P>|z| [0.025 0.975]\n",
      "--------------------------------------------------------------\n",
      "Intercept          0.172    0.004   43.405 0.000  0.164  0.180\n",
      "T                  0.000    0.000   59.445 0.000  0.000  0.000\n",
      "move               0.041    0.001   34.210 0.000  0.038  0.043\n",
      "P                  0.000    0.000    9.551 0.000  0.000  0.000\n",
      "holiday           -0.055    0.000 -275.022 0.000 -0.055 -0.054\n",
      "storm             -0.001    0.000   -4.949 0.000 -0.002 -0.001\n",
      "density            0.000    0.000   20.792 0.000  0.000  0.000\n",
      "landusemix         0.046    0.003   17.035 0.000  0.040  0.051\n",
      "road_density      -0.001    0.000  -40.511 0.000 -0.001 -0.001\n",
      "center            -0.000    0.000   -5.901 0.000 -0.000 -0.000\n",
      "subway            -0.005    0.000  -19.737 0.000 -0.006 -0.005\n",
      "bus               -0.000    0.000   -2.005 0.045 -0.000 -0.000\n",
      "age               -0.011    0.001  -19.571 0.000 -0.012 -0.010\n",
      "gender             0.018    0.002    8.827 0.000  0.014  0.022\n",
      "work_dist          0.002    0.000  102.191 0.000  0.002  0.002\n",
      "move:density       0.001    0.000   50.296 0.000  0.001  0.001\n",
      "move:landusemix   -0.075    0.005  -15.336 0.000 -0.084 -0.065\n",
      "move:road_density  0.001    0.000   22.912 0.000  0.001  0.001\n",
      "move:center        0.001    0.000   14.453 0.000  0.001  0.001\n",
      "move:work_dist    -0.000    0.000   -9.360 0.000 -0.000 -0.000\n",
      "move:subway        0.033    0.001   65.017 0.000  0.032  0.034\n",
      "move:bus           0.001    0.000    7.989 0.000  0.001  0.001\n",
      "move:age          -0.003    0.000  -16.923 0.000 -0.003 -0.003\n",
      "move:gender        0.004    0.001    6.306 0.000  0.003  0.005\n",
      "P:density          0.000    0.000   26.384 0.000  0.000  0.000\n",
      "P:landusemix      -0.000    0.000   -9.846 0.000 -0.000 -0.000\n",
      "P:road_density     0.000    0.000    6.751 0.000  0.000  0.000\n",
      "P:center           0.000    0.000    6.082 0.000  0.000  0.000\n",
      "P:work_dist        0.000    0.000   30.932 0.000  0.000  0.000\n",
      "P:subway           0.000    0.000   21.518 0.000  0.000  0.000\n",
      "P:bus              0.000    0.000    4.619 0.000  0.000  0.000\n",
      "P:age             -0.000    0.000   -6.397 0.000 -0.000 -0.000\n",
      "P:gender           0.000    0.000    4.948 0.000  0.000  0.000\n",
      "Group Var          0.020    0.001                             \n",
      "==============================================================\n"
     ]
    }
   ],
   "source": [
    "formulas_ratio1 = 'metro_dist_ratio ~ T + move + P + holiday + storm + density + landusemix + road_density + center + subway + bus + age + gender + work_dist + move:density + move:landusemix + move:road_density + move:center + move:work_dist + move:subway + move:bus + move:age + move:gender + P:density + P:landusemix + P:road_density + P:center + P:work_dist + P:subway + P:bus + P:age + P:gender'\n",
    "model_ratio1 = smf.mixedlm(formulas_ratio1, regress_data, groups=regress_data['who'])\n",
    "model_ratio1 = model_ratio1.fit()\n",
    "print(model_ratio1.summary())"
   ],
   "metadata": {
    "collapsed": false,
    "ExecuteTime": {
     "end_time": "2023-09-12T07:50:28.239859700Z",
     "start_time": "2023-09-12T07:39:55.045377400Z"
    }
   }
  },
  {
   "cell_type": "markdown",
   "source": [
    "# 归一化回归模型"
   ],
   "metadata": {
    "collapsed": false
   }
  },
  {
   "cell_type": "code",
   "execution_count": 6,
   "outputs": [],
   "source": [
    "regress_data = pd.read_csv(\"D:/317研究组/4 居住自选择/data/final_data/all_data/all_data.csv\")\n",
    "regress_data = regress_data[['who','T','move','P','holiday', 'storm', 'density', 'landusemix', 'road_density', 'intersections', 'center', 'work_dist', 'subway', 'bus', 'age', 'gender', 'walk_dist', 'chain_complexity', 'metro_dist_ratio','move_time']]"
   ],
   "metadata": {
    "collapsed": false,
    "ExecuteTime": {
     "end_time": "2023-09-15T13:05:59.291824100Z",
     "start_time": "2023-09-15T13:05:22.280052700Z"
    }
   }
  },
  {
   "cell_type": "code",
   "execution_count": 7,
   "outputs": [],
   "source": [
    "from sklearn.preprocessing import MinMaxScaler\n",
    "scaler = MinMaxScaler()\n",
    "regress_data[['density', 'landusemix', 'road_density', 'intersections', 'center', 'subway', 'bus', 'work_dist']] = scaler.fit_transform(regress_data[['density', 'landusemix', 'road_density', 'intersections', 'center', 'subway', 'bus', 'work_dist']])"
   ],
   "metadata": {
    "collapsed": false,
    "ExecuteTime": {
     "end_time": "2023-09-15T13:06:03.262251500Z",
     "start_time": "2023-09-15T13:06:02.350508900Z"
    }
   }
  },
  {
   "cell_type": "code",
   "execution_count": 8,
   "outputs": [
    {
     "data": {
      "text/plain": "              who    T  move    P  holiday  storm   density  landusemix  \\\n0            6717    1     0    0        1      0  0.330448    0.768967   \n1            6717    2     0    0        0      0  0.330448    0.768967   \n2            6717    3     0    0        0      0  0.330448    0.768967   \n3            6717    4     0    0        0      0  0.330448    0.768967   \n4            6717    5     0    0        1      0  0.330448    0.768967   \n...           ...  ...   ...  ...      ...    ...       ...         ...   \n7780955  78965228  361     1  211        0      0  0.118624    0.673407   \n7780956  78965228  362     1  212        1      0  0.118624    0.673407   \n7780957  78965228  363     1  213        1      0  0.118624    0.673407   \n7780958  78965228  364     1  214        0      0  0.118624    0.673407   \n7780959  78965228  365     1  215        0      0  0.118624    0.673407   \n\n         road_density  intersections    center  work_dist    subway       bus  \\\n0            0.344449       0.221250  0.169338   0.135019  0.066667  0.198113   \n1            0.344449       0.221250  0.169338   0.135019  0.066667  0.198113   \n2            0.344449       0.221250  0.169338   0.135019  0.066667  0.198113   \n3            0.344449       0.221250  0.169338   0.135019  0.066667  0.198113   \n4            0.344449       0.221250  0.169338   0.135019  0.066667  0.198113   \n...               ...            ...       ...        ...       ...       ...   \n7780955      0.657389       0.395089  0.241859   0.000991  0.000000  0.215633   \n7780956      0.657389       0.395089  0.241859   0.000991  0.000000  0.215633   \n7780957      0.657389       0.395089  0.241859   0.000991  0.000000  0.215633   \n7780958      0.657389       0.395089  0.241859   0.000991  0.000000  0.215633   \n7780959      0.657389       0.395089  0.241859   0.000991  0.000000  0.215633   \n\n         age  gender  walk_dist  chain_complexity  metro_dist_ratio  move_time  \n0        8.0     0.0        0.0          2.000000          0.000000        151  \n1        8.0     0.0        0.0          4.000000          0.000000        151  \n2        8.0     0.0        0.0          6.000000          0.000000        151  \n3        8.0     0.0     2263.0          2.000000          0.000000        151  \n4        8.0     0.0        0.0          2.000000          0.000000        151  \n...      ...     ...        ...               ...               ...        ...  \n7780955  6.0     1.0        0.0          2.333333          0.000000        151  \n7780956  6.0     1.0     2915.0          3.000000          0.168721        151  \n7780957  6.0     1.0     2828.0          2.500000          0.180461        151  \n7780958  6.0     1.0      500.0          2.000000          0.000000        151  \n7780959  6.0     1.0        0.0          3.000000          0.000000        151  \n\n[7780960 rows x 20 columns]",
      "text/html": "<div>\n<style scoped>\n    .dataframe tbody tr th:only-of-type {\n        vertical-align: middle;\n    }\n\n    .dataframe tbody tr th {\n        vertical-align: top;\n    }\n\n    .dataframe thead th {\n        text-align: right;\n    }\n</style>\n<table border=\"1\" class=\"dataframe\">\n  <thead>\n    <tr style=\"text-align: right;\">\n      <th></th>\n      <th>who</th>\n      <th>T</th>\n      <th>move</th>\n      <th>P</th>\n      <th>holiday</th>\n      <th>storm</th>\n      <th>density</th>\n      <th>landusemix</th>\n      <th>road_density</th>\n      <th>intersections</th>\n      <th>center</th>\n      <th>work_dist</th>\n      <th>subway</th>\n      <th>bus</th>\n      <th>age</th>\n      <th>gender</th>\n      <th>walk_dist</th>\n      <th>chain_complexity</th>\n      <th>metro_dist_ratio</th>\n      <th>move_time</th>\n    </tr>\n  </thead>\n  <tbody>\n    <tr>\n      <th>0</th>\n      <td>6717</td>\n      <td>1</td>\n      <td>0</td>\n      <td>0</td>\n      <td>1</td>\n      <td>0</td>\n      <td>0.330448</td>\n      <td>0.768967</td>\n      <td>0.344449</td>\n      <td>0.221250</td>\n      <td>0.169338</td>\n      <td>0.135019</td>\n      <td>0.066667</td>\n      <td>0.198113</td>\n      <td>8.0</td>\n      <td>0.0</td>\n      <td>0.0</td>\n      <td>2.000000</td>\n      <td>0.000000</td>\n      <td>151</td>\n    </tr>\n    <tr>\n      <th>1</th>\n      <td>6717</td>\n      <td>2</td>\n      <td>0</td>\n      <td>0</td>\n      <td>0</td>\n      <td>0</td>\n      <td>0.330448</td>\n      <td>0.768967</td>\n      <td>0.344449</td>\n      <td>0.221250</td>\n      <td>0.169338</td>\n      <td>0.135019</td>\n      <td>0.066667</td>\n      <td>0.198113</td>\n      <td>8.0</td>\n      <td>0.0</td>\n      <td>0.0</td>\n      <td>4.000000</td>\n      <td>0.000000</td>\n      <td>151</td>\n    </tr>\n    <tr>\n      <th>2</th>\n      <td>6717</td>\n      <td>3</td>\n      <td>0</td>\n      <td>0</td>\n      <td>0</td>\n      <td>0</td>\n      <td>0.330448</td>\n      <td>0.768967</td>\n      <td>0.344449</td>\n      <td>0.221250</td>\n      <td>0.169338</td>\n      <td>0.135019</td>\n      <td>0.066667</td>\n      <td>0.198113</td>\n      <td>8.0</td>\n      <td>0.0</td>\n      <td>0.0</td>\n      <td>6.000000</td>\n      <td>0.000000</td>\n      <td>151</td>\n    </tr>\n    <tr>\n      <th>3</th>\n      <td>6717</td>\n      <td>4</td>\n      <td>0</td>\n      <td>0</td>\n      <td>0</td>\n      <td>0</td>\n      <td>0.330448</td>\n      <td>0.768967</td>\n      <td>0.344449</td>\n      <td>0.221250</td>\n      <td>0.169338</td>\n      <td>0.135019</td>\n      <td>0.066667</td>\n      <td>0.198113</td>\n      <td>8.0</td>\n      <td>0.0</td>\n      <td>2263.0</td>\n      <td>2.000000</td>\n      <td>0.000000</td>\n      <td>151</td>\n    </tr>\n    <tr>\n      <th>4</th>\n      <td>6717</td>\n      <td>5</td>\n      <td>0</td>\n      <td>0</td>\n      <td>1</td>\n      <td>0</td>\n      <td>0.330448</td>\n      <td>0.768967</td>\n      <td>0.344449</td>\n      <td>0.221250</td>\n      <td>0.169338</td>\n      <td>0.135019</td>\n      <td>0.066667</td>\n      <td>0.198113</td>\n      <td>8.0</td>\n      <td>0.0</td>\n      <td>0.0</td>\n      <td>2.000000</td>\n      <td>0.000000</td>\n      <td>151</td>\n    </tr>\n    <tr>\n      <th>...</th>\n      <td>...</td>\n      <td>...</td>\n      <td>...</td>\n      <td>...</td>\n      <td>...</td>\n      <td>...</td>\n      <td>...</td>\n      <td>...</td>\n      <td>...</td>\n      <td>...</td>\n      <td>...</td>\n      <td>...</td>\n      <td>...</td>\n      <td>...</td>\n      <td>...</td>\n      <td>...</td>\n      <td>...</td>\n      <td>...</td>\n      <td>...</td>\n      <td>...</td>\n    </tr>\n    <tr>\n      <th>7780955</th>\n      <td>78965228</td>\n      <td>361</td>\n      <td>1</td>\n      <td>211</td>\n      <td>0</td>\n      <td>0</td>\n      <td>0.118624</td>\n      <td>0.673407</td>\n      <td>0.657389</td>\n      <td>0.395089</td>\n      <td>0.241859</td>\n      <td>0.000991</td>\n      <td>0.000000</td>\n      <td>0.215633</td>\n      <td>6.0</td>\n      <td>1.0</td>\n      <td>0.0</td>\n      <td>2.333333</td>\n      <td>0.000000</td>\n      <td>151</td>\n    </tr>\n    <tr>\n      <th>7780956</th>\n      <td>78965228</td>\n      <td>362</td>\n      <td>1</td>\n      <td>212</td>\n      <td>1</td>\n      <td>0</td>\n      <td>0.118624</td>\n      <td>0.673407</td>\n      <td>0.657389</td>\n      <td>0.395089</td>\n      <td>0.241859</td>\n      <td>0.000991</td>\n      <td>0.000000</td>\n      <td>0.215633</td>\n      <td>6.0</td>\n      <td>1.0</td>\n      <td>2915.0</td>\n      <td>3.000000</td>\n      <td>0.168721</td>\n      <td>151</td>\n    </tr>\n    <tr>\n      <th>7780957</th>\n      <td>78965228</td>\n      <td>363</td>\n      <td>1</td>\n      <td>213</td>\n      <td>1</td>\n      <td>0</td>\n      <td>0.118624</td>\n      <td>0.673407</td>\n      <td>0.657389</td>\n      <td>0.395089</td>\n      <td>0.241859</td>\n      <td>0.000991</td>\n      <td>0.000000</td>\n      <td>0.215633</td>\n      <td>6.0</td>\n      <td>1.0</td>\n      <td>2828.0</td>\n      <td>2.500000</td>\n      <td>0.180461</td>\n      <td>151</td>\n    </tr>\n    <tr>\n      <th>7780958</th>\n      <td>78965228</td>\n      <td>364</td>\n      <td>1</td>\n      <td>214</td>\n      <td>0</td>\n      <td>0</td>\n      <td>0.118624</td>\n      <td>0.673407</td>\n      <td>0.657389</td>\n      <td>0.395089</td>\n      <td>0.241859</td>\n      <td>0.000991</td>\n      <td>0.000000</td>\n      <td>0.215633</td>\n      <td>6.0</td>\n      <td>1.0</td>\n      <td>500.0</td>\n      <td>2.000000</td>\n      <td>0.000000</td>\n      <td>151</td>\n    </tr>\n    <tr>\n      <th>7780959</th>\n      <td>78965228</td>\n      <td>365</td>\n      <td>1</td>\n      <td>215</td>\n      <td>0</td>\n      <td>0</td>\n      <td>0.118624</td>\n      <td>0.673407</td>\n      <td>0.657389</td>\n      <td>0.395089</td>\n      <td>0.241859</td>\n      <td>0.000991</td>\n      <td>0.000000</td>\n      <td>0.215633</td>\n      <td>6.0</td>\n      <td>1.0</td>\n      <td>0.0</td>\n      <td>3.000000</td>\n      <td>0.000000</td>\n      <td>151</td>\n    </tr>\n  </tbody>\n</table>\n<p>7780960 rows × 20 columns</p>\n</div>"
     },
     "execution_count": 8,
     "metadata": {},
     "output_type": "execute_result"
    }
   ],
   "source": [
    "regress_data"
   ],
   "metadata": {
    "collapsed": false,
    "ExecuteTime": {
     "end_time": "2023-09-15T13:06:04.733792500Z",
     "start_time": "2023-09-15T13:06:04.626792800Z"
    }
   }
  },
  {
   "cell_type": "code",
   "execution_count": 5,
   "outputs": [
    {
     "name": "stdout",
     "output_type": "stream",
     "text": [
      "               Mixed Linear Model Regression Results\n",
      "====================================================================\n",
      "Model:                MixedLM   Dependent Variable:   walk_dist     \n",
      "No. Observations:     7780960   Method:               REML          \n",
      "No. Groups:           21289     Scale:                314494.2940   \n",
      "Min. group size:      365       Log-Likelihood:       -60322801.7366\n",
      "Max. group size:      605       Converged:            Yes           \n",
      "Mean group size:      365.5                                         \n",
      "--------------------------------------------------------------------\n",
      "                    Coef.   Std.Err.    z    P>|z|  [0.025   0.975] \n",
      "--------------------------------------------------------------------\n",
      "Intercept            82.536    5.325  15.501 0.000   72.100   92.972\n",
      "T                     0.054    0.005  10.101 0.000    0.044    0.064\n",
      "move                 -0.191    6.635  -0.029 0.977  -13.196   12.814\n",
      "P                    -0.057    0.047  -1.219 0.223   -0.150    0.035\n",
      "holiday              -9.657    0.433 -22.284 0.000  -10.507   -8.808\n",
      "storm                -2.805    0.613  -4.576 0.000   -4.007   -1.604\n",
      "density               1.424    2.543   0.560 0.575   -3.560    6.408\n",
      "landusemix          -23.355    4.540  -5.144 0.000  -32.254  -14.456\n",
      "road_density         75.267    3.942  19.094 0.000   67.541   82.994\n",
      "center              -52.986    4.020 -13.182 0.000  -60.864  -45.108\n",
      "subway               -5.645    3.164  -1.784 0.074  -11.846    0.556\n",
      "bus                  22.428    4.311   5.203 0.000   13.979   30.877\n",
      "age                   6.747    0.584  11.561 0.000    5.603    7.891\n",
      "gender              -19.046    2.062  -9.235 0.000  -23.088  -15.004\n",
      "work_dist          -109.774    3.093 -35.496 0.000 -115.835 -103.713\n",
      "move:density         -6.624    4.644  -1.426 0.154  -15.725    2.477\n",
      "move:landusemix      64.768    8.326   7.779 0.000   48.450   81.085\n",
      "move:road_density   -92.729    6.927 -13.386 0.000 -106.306  -79.152\n",
      "move:center          11.198    7.066   1.585 0.113   -2.651   25.048\n",
      "move:work_dist        9.416    5.636   1.671 0.095   -1.629   20.462\n",
      "move:subway         -22.108    5.890  -3.754 0.000  -33.653  -10.564\n",
      "move:bus            -29.160    8.102  -3.599 0.000  -45.039  -13.280\n",
      "move:age             -1.139    0.369  -3.090 0.002   -1.862   -0.417\n",
      "move:gender          -9.633    1.290  -7.468 0.000  -12.161   -7.105\n",
      "P:density            -0.157    0.033  -4.736 0.000   -0.223   -0.092\n",
      "P:landusemix         -0.090    0.057  -1.575 0.115   -0.203    0.022\n",
      "P:road_density        0.386    0.048   8.004 0.000    0.292    0.481\n",
      "P:center              0.188    0.049   3.841 0.000    0.092    0.284\n",
      "P:work_dist          -0.388    0.045  -8.648 0.000   -0.476   -0.300\n",
      "P:subway              0.112    0.042   2.672 0.008    0.030    0.194\n",
      "P:bus                 0.009    0.056   0.168 0.867   -0.101    0.119\n",
      "P:age                 0.019    0.003   6.315 0.000    0.013    0.025\n",
      "P:gender             -0.049    0.011  -4.665 0.000   -0.070   -0.028\n",
      "Group Var         19379.856    0.350                                \n",
      "====================================================================\n"
     ]
    }
   ],
   "source": [
    "formulas_dist2 = 'walk_dist ~ T + move + P + holiday + storm + density + landusemix + road_density + center + subway + bus + age + gender + work_dist + move:density + move:landusemix + move:road_density + move:center + move:work_dist + move:subway + move:bus + move:age + move:gender + P:density + P:landusemix + P:road_density + P:center + P:work_dist + P:subway + P:bus + P:age + P:gender'\n",
    "model_dist2 = smf.mixedlm(formulas_dist2, regress_data, groups=regress_data['who'])\n",
    "model_dist2 = model_dist2.fit()\n",
    "print(model_dist2.summary())"
   ],
   "metadata": {
    "collapsed": false,
    "ExecuteTime": {
     "end_time": "2023-09-15T13:01:28.518099Z",
     "start_time": "2023-09-15T12:47:15.259163100Z"
    }
   }
  },
  {
   "cell_type": "code",
   "execution_count": 13,
   "outputs": [
    {
     "name": "stderr",
     "output_type": "stream",
     "text": [
      "C:\\Users\\huangnx\\AppData\\Local\\Temp\\ipykernel_76344\\3699891160.py:4: SettingWithCopyWarning: \n",
      "A value is trying to be set on a copy of a slice from a DataFrame.\n",
      "Try using .loc[row_indexer,col_indexer] = value instead\n",
      "\n",
      "See the caveats in the documentation: https://pandas.pydata.org/pandas-docs/stable/user_guide/indexing.html#returning-a-view-versus-a-copy\n",
      "  predict_data['holiday'] = 0\n",
      "C:\\Users\\huangnx\\AppData\\Local\\Temp\\ipykernel_76344\\3699891160.py:5: SettingWithCopyWarning: \n",
      "A value is trying to be set on a copy of a slice from a DataFrame.\n",
      "Try using .loc[row_indexer,col_indexer] = value instead\n",
      "\n",
      "See the caveats in the documentation: https://pandas.pydata.org/pandas-docs/stable/user_guide/indexing.html#returning-a-view-versus-a-copy\n",
      "  predict_data['storm'] = 0\n",
      "C:\\Users\\huangnx\\AppData\\Local\\Temp\\ipykernel_76344\\3699891160.py:6: SettingWithCopyWarning: \n",
      "A value is trying to be set on a copy of a slice from a DataFrame.\n",
      "Try using .loc[row_indexer,col_indexer] = value instead\n",
      "\n",
      "See the caveats in the documentation: https://pandas.pydata.org/pandas-docs/stable/user_guide/indexing.html#returning-a-view-versus-a-copy\n",
      "  predict_data['gender'] = 0\n",
      "C:\\Users\\huangnx\\AppData\\Local\\Temp\\ipykernel_76344\\3699891160.py:7: SettingWithCopyWarning: \n",
      "A value is trying to be set on a copy of a slice from a DataFrame.\n",
      "Try using .loc[row_indexer,col_indexer] = value instead\n",
      "\n",
      "See the caveats in the documentation: https://pandas.pydata.org/pandas-docs/stable/user_guide/indexing.html#returning-a-view-versus-a-copy\n",
      "  predict_data['age'] = predict_data['age'].mean()\n"
     ]
    }
   ],
   "source": [
    "# 预测\n",
    "predict_data = regress_data[(regress_data['T']==regress_data['move_time']-1) | (regress_data['T']==regress_data['move_time']) | (regress_data['T']==365)]\n",
    "# 控制变量取0值或平均值\n",
    "predict_data['holiday'] = 0\n",
    "predict_data['storm'] = 0\n",
    "predict_data['gender'] = 0\n",
    "predict_data['age'] = predict_data['age'].mean()"
   ],
   "metadata": {
    "collapsed": false,
    "ExecuteTime": {
     "end_time": "2023-09-15T13:11:38.754261Z",
     "start_time": "2023-09-15T13:11:38.647095800Z"
    }
   }
  },
  {
   "cell_type": "code",
   "execution_count": 14,
   "outputs": [
    {
     "name": "stderr",
     "output_type": "stream",
     "text": [
      "C:\\Users\\huangnx\\AppData\\Local\\Temp\\ipykernel_76344\\1245642215.py:2: SettingWithCopyWarning: \n",
      "A value is trying to be set on a copy of a slice from a DataFrame.\n",
      "Try using .loc[row_indexer,col_indexer] = value instead\n",
      "\n",
      "See the caveats in the documentation: https://pandas.pydata.org/pandas-docs/stable/user_guide/indexing.html#returning-a-view-versus-a-copy\n",
      "  predict_data['walk_dist_pred'] = predicted_y\n"
     ]
    }
   ],
   "source": [
    "predicted_y = model_dist2.predict(predict_data)\n",
    "predict_data['walk_dist_pred'] = predicted_y"
   ],
   "metadata": {
    "collapsed": false,
    "ExecuteTime": {
     "end_time": "2023-09-15T13:11:42.891289700Z",
     "start_time": "2023-09-15T13:11:42.828196200Z"
    }
   }
  },
  {
   "cell_type": "code",
   "execution_count": 15,
   "outputs": [
    {
     "data": {
      "text/plain": "              who    T  move    P  holiday  storm   density  landusemix  \\\n149          6717  150     0    0        0      0  0.330448    0.768967   \n150          6717  151     1    1        0      0  0.270537    0.624397   \n364          6717  365     1  215        0      0  0.270537    0.624397   \n557          9226  193     0    0        0      0  0.570216    0.731605   \n558          9226  194     1    1        0      0  0.060704    0.778914   \n...           ...  ...   ...  ...      ...    ...       ...         ...   \n7780593  78964879  365     1  209        0      0  0.052609    0.588584   \n7780594  78964879  365     1  209        0      0  0.052609    0.588584   \n7780744  78965228  150     0    0        0      0  0.480257    0.814087   \n7780745  78965228  151     1    1        0      0  0.118624    0.673407   \n7780959  78965228  365     1  215        0      0  0.118624    0.673407   \n\n         road_density  intersections  ...  work_dist    subway       bus  \\\n149          0.344449       0.221250  ...   0.449854  0.066667  0.198113   \n150          0.351494       0.089732  ...   0.449854  0.000000  0.074124   \n364          0.351494       0.089732  ...   0.162510  0.000000  0.074124   \n557          0.247463       0.175000  ...   0.289967  0.222222  0.243711   \n558          0.284694       0.196875  ...   0.289967  0.296296  0.136268   \n...               ...            ...  ...        ...       ...       ...   \n7780593      0.073952       0.000000  ...   0.082983  0.133333  0.028302   \n7780594      0.073952       0.000000  ...   0.082983  0.133333  0.028302   \n7780744      0.344137       0.191250  ...   0.094935  0.266667  0.433962   \n7780745      0.657389       0.395089  ...   0.094935  0.000000  0.215633   \n7780959      0.657389       0.395089  ...   0.000991  0.000000  0.215633   \n\n              age  gender  walk_dist  chain_complexity  metro_dist_ratio  \\\n149      6.607608       0        0.0               4.0          0.000000   \n150      6.607608       0        0.0               3.0          0.000000   \n364      6.607608       0        0.0               2.0          0.000000   \n557      6.607608       0        0.0               8.0          0.000000   \n558      6.607608       0      500.0               8.0          0.000000   \n...           ...     ...        ...               ...               ...   \n7780593  6.607608       0        0.0               0.0          0.000000   \n7780594  6.607608       0        0.0               0.0          0.000000   \n7780744  6.607608       0        0.0               3.0          0.817753   \n7780745  6.607608       0     1118.0               4.0          0.000000   \n7780959  6.607608       0        0.0               3.0          0.000000   \n\n         move_time  walk_dist_pred  \n149            151       89.367977  \n150            151       90.504897  \n364            151      149.668053  \n557            194      105.206622  \n558            194      113.880347  \n...            ...             ...  \n7780593        157      153.127753  \n7780594        157      153.127753  \n7780744        151      137.815384  \n7780745        151      122.513478  \n7780959        151      205.766467  \n\n[63950 rows x 21 columns]",
      "text/html": "<div>\n<style scoped>\n    .dataframe tbody tr th:only-of-type {\n        vertical-align: middle;\n    }\n\n    .dataframe tbody tr th {\n        vertical-align: top;\n    }\n\n    .dataframe thead th {\n        text-align: right;\n    }\n</style>\n<table border=\"1\" class=\"dataframe\">\n  <thead>\n    <tr style=\"text-align: right;\">\n      <th></th>\n      <th>who</th>\n      <th>T</th>\n      <th>move</th>\n      <th>P</th>\n      <th>holiday</th>\n      <th>storm</th>\n      <th>density</th>\n      <th>landusemix</th>\n      <th>road_density</th>\n      <th>intersections</th>\n      <th>...</th>\n      <th>work_dist</th>\n      <th>subway</th>\n      <th>bus</th>\n      <th>age</th>\n      <th>gender</th>\n      <th>walk_dist</th>\n      <th>chain_complexity</th>\n      <th>metro_dist_ratio</th>\n      <th>move_time</th>\n      <th>walk_dist_pred</th>\n    </tr>\n  </thead>\n  <tbody>\n    <tr>\n      <th>149</th>\n      <td>6717</td>\n      <td>150</td>\n      <td>0</td>\n      <td>0</td>\n      <td>0</td>\n      <td>0</td>\n      <td>0.330448</td>\n      <td>0.768967</td>\n      <td>0.344449</td>\n      <td>0.221250</td>\n      <td>...</td>\n      <td>0.449854</td>\n      <td>0.066667</td>\n      <td>0.198113</td>\n      <td>6.607608</td>\n      <td>0</td>\n      <td>0.0</td>\n      <td>4.0</td>\n      <td>0.000000</td>\n      <td>151</td>\n      <td>89.367977</td>\n    </tr>\n    <tr>\n      <th>150</th>\n      <td>6717</td>\n      <td>151</td>\n      <td>1</td>\n      <td>1</td>\n      <td>0</td>\n      <td>0</td>\n      <td>0.270537</td>\n      <td>0.624397</td>\n      <td>0.351494</td>\n      <td>0.089732</td>\n      <td>...</td>\n      <td>0.449854</td>\n      <td>0.000000</td>\n      <td>0.074124</td>\n      <td>6.607608</td>\n      <td>0</td>\n      <td>0.0</td>\n      <td>3.0</td>\n      <td>0.000000</td>\n      <td>151</td>\n      <td>90.504897</td>\n    </tr>\n    <tr>\n      <th>364</th>\n      <td>6717</td>\n      <td>365</td>\n      <td>1</td>\n      <td>215</td>\n      <td>0</td>\n      <td>0</td>\n      <td>0.270537</td>\n      <td>0.624397</td>\n      <td>0.351494</td>\n      <td>0.089732</td>\n      <td>...</td>\n      <td>0.162510</td>\n      <td>0.000000</td>\n      <td>0.074124</td>\n      <td>6.607608</td>\n      <td>0</td>\n      <td>0.0</td>\n      <td>2.0</td>\n      <td>0.000000</td>\n      <td>151</td>\n      <td>149.668053</td>\n    </tr>\n    <tr>\n      <th>557</th>\n      <td>9226</td>\n      <td>193</td>\n      <td>0</td>\n      <td>0</td>\n      <td>0</td>\n      <td>0</td>\n      <td>0.570216</td>\n      <td>0.731605</td>\n      <td>0.247463</td>\n      <td>0.175000</td>\n      <td>...</td>\n      <td>0.289967</td>\n      <td>0.222222</td>\n      <td>0.243711</td>\n      <td>6.607608</td>\n      <td>0</td>\n      <td>0.0</td>\n      <td>8.0</td>\n      <td>0.000000</td>\n      <td>194</td>\n      <td>105.206622</td>\n    </tr>\n    <tr>\n      <th>558</th>\n      <td>9226</td>\n      <td>194</td>\n      <td>1</td>\n      <td>1</td>\n      <td>0</td>\n      <td>0</td>\n      <td>0.060704</td>\n      <td>0.778914</td>\n      <td>0.284694</td>\n      <td>0.196875</td>\n      <td>...</td>\n      <td>0.289967</td>\n      <td>0.296296</td>\n      <td>0.136268</td>\n      <td>6.607608</td>\n      <td>0</td>\n      <td>500.0</td>\n      <td>8.0</td>\n      <td>0.000000</td>\n      <td>194</td>\n      <td>113.880347</td>\n    </tr>\n    <tr>\n      <th>...</th>\n      <td>...</td>\n      <td>...</td>\n      <td>...</td>\n      <td>...</td>\n      <td>...</td>\n      <td>...</td>\n      <td>...</td>\n      <td>...</td>\n      <td>...</td>\n      <td>...</td>\n      <td>...</td>\n      <td>...</td>\n      <td>...</td>\n      <td>...</td>\n      <td>...</td>\n      <td>...</td>\n      <td>...</td>\n      <td>...</td>\n      <td>...</td>\n      <td>...</td>\n      <td>...</td>\n    </tr>\n    <tr>\n      <th>7780593</th>\n      <td>78964879</td>\n      <td>365</td>\n      <td>1</td>\n      <td>209</td>\n      <td>0</td>\n      <td>0</td>\n      <td>0.052609</td>\n      <td>0.588584</td>\n      <td>0.073952</td>\n      <td>0.000000</td>\n      <td>...</td>\n      <td>0.082983</td>\n      <td>0.133333</td>\n      <td>0.028302</td>\n      <td>6.607608</td>\n      <td>0</td>\n      <td>0.0</td>\n      <td>0.0</td>\n      <td>0.000000</td>\n      <td>157</td>\n      <td>153.127753</td>\n    </tr>\n    <tr>\n      <th>7780594</th>\n      <td>78964879</td>\n      <td>365</td>\n      <td>1</td>\n      <td>209</td>\n      <td>0</td>\n      <td>0</td>\n      <td>0.052609</td>\n      <td>0.588584</td>\n      <td>0.073952</td>\n      <td>0.000000</td>\n      <td>...</td>\n      <td>0.082983</td>\n      <td>0.133333</td>\n      <td>0.028302</td>\n      <td>6.607608</td>\n      <td>0</td>\n      <td>0.0</td>\n      <td>0.0</td>\n      <td>0.000000</td>\n      <td>157</td>\n      <td>153.127753</td>\n    </tr>\n    <tr>\n      <th>7780744</th>\n      <td>78965228</td>\n      <td>150</td>\n      <td>0</td>\n      <td>0</td>\n      <td>0</td>\n      <td>0</td>\n      <td>0.480257</td>\n      <td>0.814087</td>\n      <td>0.344137</td>\n      <td>0.191250</td>\n      <td>...</td>\n      <td>0.094935</td>\n      <td>0.266667</td>\n      <td>0.433962</td>\n      <td>6.607608</td>\n      <td>0</td>\n      <td>0.0</td>\n      <td>3.0</td>\n      <td>0.817753</td>\n      <td>151</td>\n      <td>137.815384</td>\n    </tr>\n    <tr>\n      <th>7780745</th>\n      <td>78965228</td>\n      <td>151</td>\n      <td>1</td>\n      <td>1</td>\n      <td>0</td>\n      <td>0</td>\n      <td>0.118624</td>\n      <td>0.673407</td>\n      <td>0.657389</td>\n      <td>0.395089</td>\n      <td>...</td>\n      <td>0.094935</td>\n      <td>0.000000</td>\n      <td>0.215633</td>\n      <td>6.607608</td>\n      <td>0</td>\n      <td>1118.0</td>\n      <td>4.0</td>\n      <td>0.000000</td>\n      <td>151</td>\n      <td>122.513478</td>\n    </tr>\n    <tr>\n      <th>7780959</th>\n      <td>78965228</td>\n      <td>365</td>\n      <td>1</td>\n      <td>215</td>\n      <td>0</td>\n      <td>0</td>\n      <td>0.118624</td>\n      <td>0.673407</td>\n      <td>0.657389</td>\n      <td>0.395089</td>\n      <td>...</td>\n      <td>0.000991</td>\n      <td>0.000000</td>\n      <td>0.215633</td>\n      <td>6.607608</td>\n      <td>0</td>\n      <td>0.0</td>\n      <td>3.0</td>\n      <td>0.000000</td>\n      <td>151</td>\n      <td>205.766467</td>\n    </tr>\n  </tbody>\n</table>\n<p>63950 rows × 21 columns</p>\n</div>"
     },
     "execution_count": 15,
     "metadata": {},
     "output_type": "execute_result"
    }
   ],
   "source": [
    "predict_data"
   ],
   "metadata": {
    "collapsed": false,
    "ExecuteTime": {
     "end_time": "2023-09-15T13:11:46.219374500Z",
     "start_time": "2023-09-15T13:11:46.163349800Z"
    }
   }
  },
  {
   "cell_type": "code",
   "execution_count": 16,
   "outputs": [
    {
     "data": {
      "text/plain": "0"
     },
     "execution_count": 16,
     "metadata": {},
     "output_type": "execute_result"
    }
   ],
   "source": [
    "del model_dist2\n",
    "gc.collect()"
   ],
   "metadata": {
    "collapsed": false,
    "ExecuteTime": {
     "end_time": "2023-09-15T13:12:17.339027600Z",
     "start_time": "2023-09-15T13:12:13.287712900Z"
    }
   }
  },
  {
   "cell_type": "code",
   "execution_count": 17,
   "outputs": [
    {
     "name": "stdout",
     "output_type": "stream",
     "text": [
      "            Mixed Linear Model Regression Results\n",
      "==============================================================\n",
      "Model:            MixedLM Dependent Variable: chain_complexity\n",
      "No. Observations: 7780960 Method:             REML            \n",
      "No. Groups:       21289   Scale:              1.8778          \n",
      "Min. group size:  365     Log-Likelihood:     -13543501.8504  \n",
      "Max. group size:  605     Converged:          Yes             \n",
      "Mean group size:  365.5                                       \n",
      "--------------------------------------------------------------\n",
      "                  Coef.  Std.Err.    z     P>|z| [0.025 0.975]\n",
      "--------------------------------------------------------------\n",
      "Intercept          1.311    0.024   54.968 0.000  1.264  1.357\n",
      "T                  0.002    0.000  169.094 0.000  0.002  0.002\n",
      "move               0.024    0.016    1.491 0.136 -0.008  0.056\n",
      "P                 -0.002    0.000  -20.795 0.000 -0.003 -0.002\n",
      "holiday           -0.332    0.001 -313.055 0.000 -0.334 -0.329\n",
      "storm             -0.008    0.001   -5.054 0.000 -0.011 -0.005\n",
      "density            0.156    0.006   24.644 0.000  0.144  0.168\n",
      "landusemix        -0.105    0.011   -9.299 0.000 -0.127 -0.083\n",
      "road_density      -0.238    0.010  -24.246 0.000 -0.257 -0.218\n",
      "center            -0.014    0.010   -1.401 0.161 -0.034  0.006\n",
      "subway            -0.179    0.008  -22.753 0.000 -0.194 -0.164\n",
      "bus               -0.015    0.011   -1.438 0.151 -0.036  0.006\n",
      "age                0.023    0.003    7.113 0.000  0.017  0.029\n",
      "gender            -0.053    0.011   -4.679 0.000 -0.075 -0.031\n",
      "work_dist          0.347    0.008   45.511 0.000  0.332  0.362\n",
      "move:density      -0.003    0.011   -0.261 0.794 -0.025  0.019\n",
      "move:landusemix    0.007    0.021    0.337 0.736 -0.033  0.047\n",
      "move:road_density -0.010    0.017   -0.588 0.557 -0.043  0.023\n",
      "move:center       -0.036    0.017   -2.072 0.038 -0.070 -0.002\n",
      "move:work_dist    -0.176    0.014  -12.780 0.000 -0.203 -0.149\n",
      "move:subway        0.101    0.015    6.928 0.000  0.072  0.129\n",
      "move:bus           0.032    0.020    1.583 0.113 -0.008  0.071\n",
      "move:age           0.002    0.001    1.666 0.096 -0.000  0.003\n",
      "move:gender       -0.042    0.003  -13.382 0.000 -0.048 -0.036\n",
      "P:density         -0.000    0.000   -1.817 0.069 -0.000  0.000\n",
      "P:landusemix      -0.001    0.000   -4.130 0.000 -0.001 -0.000\n",
      "P:road_density     0.001    0.000    7.909 0.000  0.001  0.001\n",
      "P:center           0.001    0.000    5.330 0.000  0.000  0.001\n",
      "P:work_dist       -0.001    0.000  -12.077 0.000 -0.002 -0.001\n",
      "P:subway          -0.000    0.000   -0.382 0.702 -0.000  0.000\n",
      "P:bus             -0.001    0.000   -6.160 0.000 -0.001 -0.001\n",
      "P:age             -0.000    0.000   -4.122 0.000 -0.000 -0.000\n",
      "P:gender           0.000    0.000    2.904 0.004  0.000  0.000\n",
      "Group Var          0.627    0.004                             \n",
      "==============================================================\n"
     ]
    }
   ],
   "source": [
    "formulas_chain2 = 'chain_complexity ~ T + move + P + holiday + storm + density + landusemix + road_density + center + subway + bus + age + gender + work_dist + move:density + move:landusemix + move:road_density + move:center + move:work_dist + move:subway + move:bus + move:age + move:gender + P:density + P:landusemix + P:road_density + P:center + P:work_dist + P:subway + P:bus + P:age + P:gender'\n",
    "model_chain2 = smf.mixedlm(formulas_chain2, regress_data, groups=regress_data['who'])\n",
    "model_chain2 = model_chain2.fit()\n",
    "print(model_chain2.summary())"
   ],
   "metadata": {
    "collapsed": false,
    "ExecuteTime": {
     "end_time": "2023-09-15T13:25:39.011923600Z",
     "start_time": "2023-09-15T13:12:21.466313800Z"
    }
   }
  },
  {
   "cell_type": "code",
   "execution_count": 18,
   "outputs": [
    {
     "name": "stderr",
     "output_type": "stream",
     "text": [
      "C:\\Users\\huangnx\\AppData\\Local\\Temp\\ipykernel_76344\\1500896092.py:2: SettingWithCopyWarning: \n",
      "A value is trying to be set on a copy of a slice from a DataFrame.\n",
      "Try using .loc[row_indexer,col_indexer] = value instead\n",
      "\n",
      "See the caveats in the documentation: https://pandas.pydata.org/pandas-docs/stable/user_guide/indexing.html#returning-a-view-versus-a-copy\n",
      "  predict_data['chain_complexity_pred'] = predicted_y\n"
     ]
    }
   ],
   "source": [
    "predicted_y = model_chain2.predict(predict_data)\n",
    "predict_data['chain_complexity_pred'] = predicted_y"
   ],
   "metadata": {
    "collapsed": false,
    "ExecuteTime": {
     "end_time": "2023-09-15T13:30:43.329689800Z",
     "start_time": "2023-09-15T13:30:43.237024200Z"
    }
   }
  },
  {
   "cell_type": "code",
   "execution_count": 19,
   "outputs": [
    {
     "data": {
      "text/plain": "644"
     },
     "execution_count": 19,
     "metadata": {},
     "output_type": "execute_result"
    }
   ],
   "source": [
    "del model_chain2\n",
    "gc.collect()"
   ],
   "metadata": {
    "collapsed": false,
    "ExecuteTime": {
     "end_time": "2023-09-15T13:30:49.392336Z",
     "start_time": "2023-09-15T13:30:47.676441100Z"
    }
   }
  },
  {
   "cell_type": "code",
   "execution_count": 9,
   "outputs": [
    {
     "name": "stdout",
     "output_type": "stream",
     "text": [
      "            Mixed Linear Model Regression Results\n",
      "==============================================================\n",
      "Model:            MixedLM Dependent Variable: metro_dist_ratio\n",
      "No. Observations: 7780960 Method:             REML            \n",
      "No. Groups:       21289   Scale:              0.0662          \n",
      "Min. group size:  365     Log-Likelihood:     -529103.6546    \n",
      "Max. group size:  605     Converged:          Yes             \n",
      "Mean group size:  365.5                                       \n",
      "--------------------------------------------------------------\n",
      "                  Coef.  Std.Err.    z     P>|z| [0.025 0.975]\n",
      "--------------------------------------------------------------\n",
      "Intercept          0.152    0.004   35.576 0.000  0.144  0.160\n",
      "T                  0.000    0.000   59.445 0.000  0.000  0.000\n",
      "move               0.005    0.003    1.758 0.079 -0.001  0.011\n",
      "P                 -0.000    0.000   -1.362 0.173 -0.000  0.000\n",
      "holiday           -0.055    0.000 -275.022 0.000 -0.055 -0.054\n",
      "storm             -0.001    0.000   -4.949 0.000 -0.002 -0.001\n",
      "density            0.025    0.001   20.792 0.000  0.022  0.027\n",
      "landusemix         0.036    0.002   17.035 0.000  0.032  0.040\n",
      "road_density      -0.075    0.002  -40.511 0.000 -0.078 -0.071\n",
      "center            -0.011    0.002   -5.901 0.000 -0.015 -0.007\n",
      "subway            -0.029    0.001  -19.737 0.000 -0.032 -0.026\n",
      "bus               -0.004    0.002   -2.005 0.045 -0.008 -0.000\n",
      "age               -0.011    0.001  -19.571 0.000 -0.012 -0.010\n",
      "gender             0.018    0.002    8.827 0.000  0.014  0.022\n",
      "work_dist          0.146    0.001  102.191 0.000  0.143  0.149\n",
      "move:density       0.108    0.002   50.296 0.000  0.104  0.112\n",
      "move:landusemix   -0.059    0.004  -15.336 0.000 -0.067 -0.052\n",
      "move:road_density  0.073    0.003   22.912 0.000  0.067  0.080\n",
      "move:center        0.047    0.003   14.453 0.000  0.041  0.054\n",
      "move:work_dist    -0.024    0.003   -9.360 0.000 -0.029 -0.019\n",
      "move:subway        0.177    0.003   65.017 0.000  0.172  0.182\n",
      "move:bus           0.030    0.004    7.989 0.000  0.023  0.037\n",
      "move:age          -0.003    0.000  -16.923 0.000 -0.003 -0.003\n",
      "move:gender        0.004    0.001    6.306 0.000  0.003  0.005\n",
      "P:density          0.000    0.000   26.384 0.000  0.000  0.000\n",
      "P:landusemix      -0.000    0.000   -9.846 0.000 -0.000 -0.000\n",
      "P:road_density     0.000    0.000    6.751 0.000  0.000  0.000\n",
      "P:center           0.000    0.000    6.082 0.000  0.000  0.000\n",
      "P:work_dist        0.001    0.000   30.932 0.000  0.001  0.001\n",
      "P:subway           0.000    0.000   21.518 0.000  0.000  0.000\n",
      "P:bus              0.000    0.000    4.619 0.000  0.000  0.000\n",
      "P:age             -0.000    0.000   -6.397 0.000 -0.000 -0.000\n",
      "P:gender           0.000    0.000    4.948 0.000  0.000  0.000\n",
      "Group Var          0.020    0.001                             \n",
      "==============================================================\n"
     ]
    }
   ],
   "source": [
    "formulas_ratio2 = 'metro_dist_ratio ~ T + move + P + holiday + storm + density + landusemix + road_density + center + subway + bus + age + gender + work_dist + move:density + move:landusemix + move:road_density + move:center + move:work_dist + move:subway + move:bus + move:age + move:gender + P:density + P:landusemix + P:road_density + P:center + P:work_dist + P:subway + P:bus + P:age + P:gender'\n",
    "model_ratio2 = smf.mixedlm(formulas_ratio2, regress_data, groups=regress_data['who'])\n",
    "model_ratio2 = model_ratio2.fit()\n",
    "print(model_ratio2.summary())"
   ],
   "metadata": {
    "collapsed": false,
    "ExecuteTime": {
     "end_time": "2023-09-12T08:27:38.027701Z",
     "start_time": "2023-09-12T08:16:52.681221Z"
    }
   }
  },
  {
   "cell_type": "code",
   "execution_count": 20,
   "outputs": [],
   "source": [
    "# 地铁转为百分比再建模\n",
    "regress_data['subway100'] = regress_data['metro_dist_ratio'] * 100"
   ],
   "metadata": {
    "collapsed": false,
    "ExecuteTime": {
     "end_time": "2023-09-15T13:31:06.230823600Z",
     "start_time": "2023-09-15T13:31:06.147826100Z"
    }
   }
  },
  {
   "cell_type": "code",
   "execution_count": 21,
   "outputs": [
    {
     "name": "stdout",
     "output_type": "stream",
     "text": [
      "             Mixed Linear Model Regression Results\n",
      "===============================================================\n",
      "Model:             MixedLM  Dependent Variable:  subway100     \n",
      "No. Observations:  7780960  Method:              REML          \n",
      "No. Groups:        21289    Scale:               662.1773      \n",
      "Min. group size:   365      Log-Likelihood:      -36361596.6944\n",
      "Max. group size:   605      Converged:           Yes           \n",
      "Mean group size:   365.5                                       \n",
      "---------------------------------------------------------------\n",
      "                   Coef.  Std.Err.    z     P>|z| [0.025 0.975]\n",
      "---------------------------------------------------------------\n",
      "Intercept          15.203    0.427   35.576 0.000 14.365 16.041\n",
      "T                   0.015    0.000   59.445 0.000  0.014  0.015\n",
      "move                0.539    0.307    1.758 0.079 -0.062  1.141\n",
      "P                  -0.003    0.002   -1.362 0.173 -0.007  0.001\n",
      "holiday            -5.469    0.020 -275.022 0.000 -5.508 -5.430\n",
      "storm              -0.139    0.028   -4.949 0.000 -0.194 -0.084\n",
      "density             2.470    0.119   20.792 0.000  2.237  2.703\n",
      "landusemix          3.609    0.212   17.035 0.000  3.194  4.025\n",
      "road_density       -7.455    0.184  -40.511 0.000 -7.816 -7.094\n",
      "center             -1.107    0.188   -5.901 0.000 -1.475 -0.739\n",
      "subway             -2.914    0.148  -19.737 0.000 -3.204 -2.625\n",
      "bus                -0.403    0.201   -2.005 0.045 -0.798 -0.009\n",
      "age                -1.116    0.057  -19.571 0.000 -1.228 -1.004\n",
      "gender              1.778    0.201    8.827 0.000  1.384  2.173\n",
      "work_dist          14.617    0.143  102.191 0.000 14.337 14.898\n",
      "move:density       10.797    0.215   50.296 0.000 10.376 11.218\n",
      "move:landusemix    -5.915    0.386  -15.336 0.000 -6.671 -5.159\n",
      "move:road_density   7.343    0.320   22.912 0.000  6.715  7.971\n",
      "move:center         4.726    0.327   14.453 0.000  4.085  5.367\n",
      "move:work_dist     -2.426    0.259   -9.360 0.000 -2.935 -1.918\n",
      "move:subway        17.714    0.272   65.017 0.000 17.180 18.248\n",
      "move:bus            2.999    0.375    7.989 0.000  2.263  3.735\n",
      "move:age           -0.286    0.017  -16.923 0.000 -0.320 -0.253\n",
      "move:gender         0.373    0.059    6.306 0.000  0.257  0.489\n",
      "P:density           0.040    0.002   26.384 0.000  0.037  0.043\n",
      "P:landusemix       -0.026    0.003   -9.846 0.000 -0.031 -0.021\n",
      "P:road_density      0.015    0.002    6.751 0.000  0.011  0.019\n",
      "P:center            0.014    0.002    6.082 0.000  0.009  0.018\n",
      "P:work_dist         0.064    0.002   30.932 0.000  0.060  0.068\n",
      "P:subway            0.041    0.002   21.518 0.000  0.038  0.045\n",
      "P:bus               0.012    0.003    4.619 0.000  0.007  0.017\n",
      "P:age              -0.001    0.000   -6.397 0.000 -0.001 -0.001\n",
      "P:gender            0.002    0.000    4.948 0.000  0.001  0.003\n",
      "Group Var         198.146    0.076                             \n",
      "===============================================================\n"
     ]
    }
   ],
   "source": [
    "formulas_ratio3 = 'subway100 ~ T + move + P + holiday + storm + density + landusemix + road_density + center + subway + bus + age + gender + work_dist + move:density + move:landusemix + move:road_density + move:center + move:work_dist + move:subway + move:bus + move:age + move:gender + P:density + P:landusemix + P:road_density + P:center + P:work_dist + P:subway + P:bus + P:age + P:gender'\n",
    "model_ratio3 = smf.mixedlm(formulas_ratio3, regress_data, groups=regress_data['who'])\n",
    "model_ratio3 = model_ratio3.fit()\n",
    "print(model_ratio3.summary())"
   ],
   "metadata": {
    "collapsed": false,
    "ExecuteTime": {
     "end_time": "2023-09-15T13:43:30.014805800Z",
     "start_time": "2023-09-15T13:31:07.884301900Z"
    }
   }
  },
  {
   "cell_type": "code",
   "execution_count": 22,
   "outputs": [
    {
     "name": "stderr",
     "output_type": "stream",
     "text": [
      "C:\\Users\\huangnx\\AppData\\Local\\Temp\\ipykernel_76344\\421498576.py:2: SettingWithCopyWarning: \n",
      "A value is trying to be set on a copy of a slice from a DataFrame.\n",
      "Try using .loc[row_indexer,col_indexer] = value instead\n",
      "\n",
      "See the caveats in the documentation: https://pandas.pydata.org/pandas-docs/stable/user_guide/indexing.html#returning-a-view-versus-a-copy\n",
      "  predict_data['subway100_pred'] = predicted_y\n"
     ]
    }
   ],
   "source": [
    "predicted_y = model_ratio3.predict(predict_data)\n",
    "predict_data['subway100_pred'] = predicted_y"
   ],
   "metadata": {
    "collapsed": false,
    "ExecuteTime": {
     "end_time": "2023-09-15T13:45:50.468908200Z",
     "start_time": "2023-09-15T13:45:50.394264600Z"
    }
   }
  },
  {
   "cell_type": "code",
   "execution_count": 16,
   "outputs": [
    {
     "data": {
      "text/plain": "24264"
     },
     "execution_count": 16,
     "metadata": {},
     "output_type": "execute_result"
    }
   ],
   "source": [
    "del model_ratio3\n",
    "gc.collect()"
   ],
   "metadata": {
    "collapsed": false,
    "ExecuteTime": {
     "end_time": "2023-09-14T02:51:03.829782100Z",
     "start_time": "2023-09-14T02:50:54.619452500Z"
    }
   }
  },
  {
   "cell_type": "code",
   "execution_count": 23,
   "outputs": [],
   "source": [
    "predict_data.to_csv(\"D:/317研究组/4 居住自选择/data/final_data/all_data/predict_data.csv\",index=False)"
   ],
   "metadata": {
    "collapsed": false,
    "ExecuteTime": {
     "end_time": "2023-09-15T13:46:17.967292600Z",
     "start_time": "2023-09-15T13:46:16.664087500Z"
    }
   }
  },
  {
   "cell_type": "markdown",
   "source": [
    "# 变化量回归模型"
   ],
   "metadata": {
    "collapsed": false
   }
  },
  {
   "cell_type": "code",
   "execution_count": 12,
   "outputs": [
    {
     "name": "stderr",
     "output_type": "stream",
     "text": [
      "C:\\Users\\317gy\\AppData\\Local\\Temp\\ipykernel_48636\\4018160518.py:6: SettingWithCopyWarning: \n",
      "A value is trying to be set on a copy of a slice from a DataFrame.\n",
      "Try using .loc[row_indexer,col_indexer] = value instead\n",
      "\n",
      "See the caveats in the documentation: https://pandas.pydata.org/pandas-docs/stable/user_guide/indexing.html#returning-a-view-versus-a-copy\n",
      "  regress_data[col] = regress_data[col] - regress_data[col].mean()\n"
     ]
    },
    {
     "data": {
      "text/plain": "    who  T  move  P  move_time  holiday  temperature  percipit    density  \\\n0  6717  1     0  0        151        1         11.3       0.0  11.414675   \n1  6717  2     0  0        151        0         12.4       0.1  11.414675   \n2  6717  3     0  0        151        0         13.2       0.0  11.414675   \n3  6717  4     0  0        151        0         17.2       0.1  11.414675   \n4  6717  5     0  0        151        1         18.6       0.0  11.414675   \n\n   landusemix  ...  chain_complexity  metro_dist_ratio  density_change  \\\n0    0.038839  ...               2.0               0.0        -8.91934   \n1    0.038839  ...               4.0               0.0        -8.91934   \n2    0.038839  ...               6.0               0.0        -8.91934   \n3    0.038839  ...               2.0               0.0        -8.91934   \n4    0.038839  ...               2.0               0.0        -8.91934   \n\n   landusemix_change  openratio_wide_change  road_density_change  \\\n0          -0.114394               0.129132             0.625422   \n1          -0.114394               0.129132             0.625422   \n2          -0.114394               0.129132             0.625422   \n3          -0.114394               0.129132             0.625422   \n4          -0.114394               0.129132             0.625422   \n\n   intersections_change  center_change  subway_change  bus_change  \n0            -24.939683       2.283825      -0.355556   -4.673016  \n1            -24.939683       2.283825      -0.355556   -4.673016  \n2            -24.939683       2.283825      -0.355556   -4.673016  \n3            -24.939683       2.283825      -0.355556   -4.673016  \n4            -24.939683       2.283825      -0.355556   -4.673016  \n\n[5 rows x 30 columns]",
      "text/html": "<div>\n<style scoped>\n    .dataframe tbody tr th:only-of-type {\n        vertical-align: middle;\n    }\n\n    .dataframe tbody tr th {\n        vertical-align: top;\n    }\n\n    .dataframe thead th {\n        text-align: right;\n    }\n</style>\n<table border=\"1\" class=\"dataframe\">\n  <thead>\n    <tr style=\"text-align: right;\">\n      <th></th>\n      <th>who</th>\n      <th>T</th>\n      <th>move</th>\n      <th>P</th>\n      <th>move_time</th>\n      <th>holiday</th>\n      <th>temperature</th>\n      <th>percipit</th>\n      <th>density</th>\n      <th>landusemix</th>\n      <th>...</th>\n      <th>chain_complexity</th>\n      <th>metro_dist_ratio</th>\n      <th>density_change</th>\n      <th>landusemix_change</th>\n      <th>openratio_wide_change</th>\n      <th>road_density_change</th>\n      <th>intersections_change</th>\n      <th>center_change</th>\n      <th>subway_change</th>\n      <th>bus_change</th>\n    </tr>\n  </thead>\n  <tbody>\n    <tr>\n      <th>0</th>\n      <td>6717</td>\n      <td>1</td>\n      <td>0</td>\n      <td>0</td>\n      <td>151</td>\n      <td>1</td>\n      <td>11.3</td>\n      <td>0.0</td>\n      <td>11.414675</td>\n      <td>0.038839</td>\n      <td>...</td>\n      <td>2.0</td>\n      <td>0.0</td>\n      <td>-8.91934</td>\n      <td>-0.114394</td>\n      <td>0.129132</td>\n      <td>0.625422</td>\n      <td>-24.939683</td>\n      <td>2.283825</td>\n      <td>-0.355556</td>\n      <td>-4.673016</td>\n    </tr>\n    <tr>\n      <th>1</th>\n      <td>6717</td>\n      <td>2</td>\n      <td>0</td>\n      <td>0</td>\n      <td>151</td>\n      <td>0</td>\n      <td>12.4</td>\n      <td>0.1</td>\n      <td>11.414675</td>\n      <td>0.038839</td>\n      <td>...</td>\n      <td>4.0</td>\n      <td>0.0</td>\n      <td>-8.91934</td>\n      <td>-0.114394</td>\n      <td>0.129132</td>\n      <td>0.625422</td>\n      <td>-24.939683</td>\n      <td>2.283825</td>\n      <td>-0.355556</td>\n      <td>-4.673016</td>\n    </tr>\n    <tr>\n      <th>2</th>\n      <td>6717</td>\n      <td>3</td>\n      <td>0</td>\n      <td>0</td>\n      <td>151</td>\n      <td>0</td>\n      <td>13.2</td>\n      <td>0.0</td>\n      <td>11.414675</td>\n      <td>0.038839</td>\n      <td>...</td>\n      <td>6.0</td>\n      <td>0.0</td>\n      <td>-8.91934</td>\n      <td>-0.114394</td>\n      <td>0.129132</td>\n      <td>0.625422</td>\n      <td>-24.939683</td>\n      <td>2.283825</td>\n      <td>-0.355556</td>\n      <td>-4.673016</td>\n    </tr>\n    <tr>\n      <th>3</th>\n      <td>6717</td>\n      <td>4</td>\n      <td>0</td>\n      <td>0</td>\n      <td>151</td>\n      <td>0</td>\n      <td>17.2</td>\n      <td>0.1</td>\n      <td>11.414675</td>\n      <td>0.038839</td>\n      <td>...</td>\n      <td>2.0</td>\n      <td>0.0</td>\n      <td>-8.91934</td>\n      <td>-0.114394</td>\n      <td>0.129132</td>\n      <td>0.625422</td>\n      <td>-24.939683</td>\n      <td>2.283825</td>\n      <td>-0.355556</td>\n      <td>-4.673016</td>\n    </tr>\n    <tr>\n      <th>4</th>\n      <td>6717</td>\n      <td>5</td>\n      <td>0</td>\n      <td>0</td>\n      <td>151</td>\n      <td>1</td>\n      <td>18.6</td>\n      <td>0.0</td>\n      <td>11.414675</td>\n      <td>0.038839</td>\n      <td>...</td>\n      <td>2.0</td>\n      <td>0.0</td>\n      <td>-8.91934</td>\n      <td>-0.114394</td>\n      <td>0.129132</td>\n      <td>0.625422</td>\n      <td>-24.939683</td>\n      <td>2.283825</td>\n      <td>-0.355556</td>\n      <td>-4.673016</td>\n    </tr>\n  </tbody>\n</table>\n<p>5 rows × 30 columns</p>\n</div>"
     },
     "execution_count": 12,
     "metadata": {},
     "output_type": "execute_result"
    }
   ],
   "source": [
    "regress_data = data[['who','T','move','P','move_time','holiday','temperature', 'percipit', 'density', 'landusemix', 'openratio_wide', 'road_density', 'intersections', 'center', 'work_dist', 'subway', 'bus', 'age', 'gender', 'walk_dist', 'chain_complexity', 'metro_dist_ratio', 'density_change', 'landusemix_change', 'openratio_wide_change', 'road_density_change', 'intersections_change', 'center_change', 'subway_change', 'bus_change']]\n",
    "\n",
    "# 中心化\n",
    "features_list = ['walk_dist', 'density', 'landusemix', 'openratio_wide', 'road_density', 'intersections', 'center', 'subway', 'bus', 'work_dist']\n",
    "for col in features_list:\n",
    "    regress_data[col] = regress_data[col] - regress_data[col].mean()\n",
    "regress_data.head()"
   ],
   "metadata": {
    "collapsed": false,
    "ExecuteTime": {
     "end_time": "2024-04-17T08:45:49.658944600Z",
     "start_time": "2024-04-17T08:45:48.504930700Z"
    }
   }
  },
  {
   "cell_type": "code",
   "execution_count": 13,
   "outputs": [
    {
     "name": "stdout",
     "output_type": "stream",
     "text": [
      "                   Mixed Linear Model Regression Results\n",
      "===========================================================================\n",
      "Model:                 MixedLM      Dependent Variable:      walk_dist     \n",
      "No. Observations:      7770485      Method:                  REML          \n",
      "No. Groups:            21289        Scale:                   314507.1315   \n",
      "Min. group size:       365          Log-Likelihood:          -60241908.3188\n",
      "Max. group size:       365          Converged:               Yes           \n",
      "Mean group size:       365.0                                               \n",
      "---------------------------------------------------------------------------\n",
      "                             Coef.   Std.Err.    z    P>|z|  [0.025  0.975]\n",
      "---------------------------------------------------------------------------\n",
      "Intercept                     -5.439    4.085  -1.331 0.183 -13.445   2.568\n",
      "T                              0.204    0.007  29.038 0.000   0.190   0.218\n",
      "move                          13.160    2.453   5.364 0.000   8.352  17.969\n",
      "P                             -0.312    0.022 -14.142 0.000  -0.355  -0.269\n",
      "holiday                       -9.668    0.435 -22.247 0.000 -10.519  -8.816\n",
      "temperature                   -2.388    0.073 -32.540 0.000  -2.532  -2.244\n",
      "percipit                      -0.260    0.016 -16.498 0.000  -0.291  -0.229\n",
      "density                       -0.133    0.045  -2.983 0.003  -0.221  -0.046\n",
      "landusemix                    39.130   14.760   2.651 0.008  10.201  68.058\n",
      "openratio_wide                14.711   10.974   1.340 0.180  -6.799  36.220\n",
      "intersections                  0.246    0.062   4.000 0.000   0.126   0.367\n",
      "road_density                   0.333    0.135   2.471 0.013   0.069   0.597\n",
      "center                        -1.796    0.274  -6.568 0.000  -2.332  -1.260\n",
      "subway                        -3.651    1.548  -2.358 0.018  -6.685  -0.617\n",
      "bus                           -0.465    0.291  -1.600 0.109  -1.034   0.104\n",
      "age                           18.225    1.495  12.188 0.000  15.294  21.156\n",
      "gender                       -18.780    2.107  -8.915 0.000 -22.909 -14.651\n",
      "work_dist                     -0.304    0.201  -1.511 0.131  -0.698   0.090\n",
      "move:density_change            0.020    0.021   0.962 0.336  -0.021   0.062\n",
      "move:landusemix_change         4.083    6.530   0.625 0.532  -8.715  16.881\n",
      "move:openratio_wide_change    19.691    4.881   4.034 0.000  10.125  29.258\n",
      "move:intersections_change      0.210    0.028   7.438 0.000   0.154   0.265\n",
      "move:road_density_change       0.105    0.059   1.779 0.075  -0.011   0.222\n",
      "move:center_change            -1.272    0.122 -10.383 0.000  -1.512  -1.032\n",
      "move:subway_change            -2.175    0.713  -3.050 0.002  -3.573  -0.777\n",
      "move:bus_change               -0.051    0.130  -0.393 0.694  -0.307   0.204\n",
      "move:age                      -1.640    0.931  -1.760 0.078  -3.465   0.186\n",
      "move:gender                  -11.650    1.309  -8.898 0.000 -14.216  -9.084\n",
      "P:density_change              -0.001    0.000  -3.150 0.002  -0.001  -0.000\n",
      "P:landusemix_change           -0.064    0.053  -1.202 0.229  -0.169   0.040\n",
      "P:openratio_wide_change       -0.041    0.040  -1.034 0.301  -0.120   0.037\n",
      "P:intersections_change         0.000    0.000   0.235 0.814  -0.000   0.001\n",
      "P:road_density_change          0.002    0.000   4.548 0.000   0.001   0.003\n",
      "P:center_change                0.003    0.001   3.258 0.001   0.001   0.005\n",
      "P:subway_change               -0.006    0.006  -1.017 0.309  -0.017   0.005\n",
      "P:bus_change                   0.002    0.001   1.772 0.076  -0.000   0.004\n",
      "P:age                          0.046    0.008   6.047 0.000   0.031   0.061\n",
      "P:gender                      -0.047    0.011  -4.411 0.000  -0.068  -0.026\n",
      "Group Var                  19494.221    0.352                              \n",
      "===========================================================================\n"
     ]
    }
   ],
   "source": [
    "formulas = 'walk_dist ~ T + move + P + holiday + temperature + percipit + density + landusemix + openratio_wide + intersections + road_density + center + subway + bus + age + gender + work_dist + move:density_change + move:landusemix_change + move:openratio_wide_change + move:intersections_change + move:road_density_change + move:center_change + move:subway_change + move:bus_change + move:age + move:gender + P:density_change + P:landusemix_change + P:openratio_wide_change + P:intersections_change + P:road_density_change + P:center_change + P:subway_change + P:bus_change + P:age + P:gender'\n",
    "model = smf.mixedlm(formulas, regress_data, groups=regress_data['who'])\n",
    "model = model.fit()\n",
    "print(model.summary())"
   ],
   "metadata": {
    "collapsed": false,
    "ExecuteTime": {
     "end_time": "2024-04-17T08:50:19.353892100Z",
     "start_time": "2024-04-17T08:45:53.911431300Z"
    }
   }
  },
  {
   "cell_type": "markdown",
   "source": [
    "### 使用标准化变量查看标准变化"
   ],
   "metadata": {
    "collapsed": false
   }
  },
  {
   "cell_type": "code",
   "execution_count": 14,
   "outputs": [
    {
     "name": "stderr",
     "output_type": "stream",
     "text": [
      "C:\\Users\\317gy\\AppData\\Local\\Temp\\ipykernel_48636\\1978653536.py:9: SettingWithCopyWarning: \n",
      "A value is trying to be set on a copy of a slice from a DataFrame.\n",
      "Try using .loc[row_indexer,col_indexer] = value instead\n",
      "\n",
      "See the caveats in the documentation: https://pandas.pydata.org/pandas-docs/stable/user_guide/indexing.html#returning-a-view-versus-a-copy\n",
      "  regress_data[features_list] = std_regress_data\n"
     ]
    },
    {
     "data": {
      "text/plain": "    who  T  move  P  holiday  temperature  percipit   density  landusemix  \\\n0  6717  1     0  0        1    -2.820366 -0.385465  0.470986    0.495686   \n1  6717  2     0  0        0    -2.576687 -0.378001  0.470986    0.495686   \n2  6717  3     0  0        0    -2.399466 -0.385465  0.470986    0.495686   \n3  6717  4     0  0        0    -1.513360 -0.378001  0.470986    0.495686   \n4  6717  5     0  0        1    -1.203223 -0.385465  0.470986    0.495686   \n\n   openratio_wide  ...  chain_complexity  metro_dist_ratio  density_change  \\\n0       -0.816624  ...               2.0               0.0       -0.202362   \n1       -0.816624  ...               4.0               0.0       -0.202362   \n2       -0.816624  ...               6.0               0.0       -0.202362   \n3       -0.816624  ...               2.0               0.0       -0.202362   \n4       -0.816624  ...               2.0               0.0       -0.202362   \n\n   landusemix_change  openratio_wide_change  road_density_change  \\\n0          -1.079849                0.85783             0.101747   \n1          -1.079849                0.85783             0.101747   \n2          -1.079849                0.85783             0.101747   \n3          -1.079849                0.85783             0.101747   \n4          -1.079849                0.85783             0.101747   \n\n   intersections_change  center_change  subway_change  bus_change  \n0             -0.736847       0.446555      -0.307883   -0.809489  \n1             -0.736847       0.446555      -0.307883   -0.809489  \n2             -0.736847       0.446555      -0.307883   -0.809489  \n3             -0.736847       0.446555      -0.307883   -0.809489  \n4             -0.736847       0.446555      -0.307883   -0.809489  \n\n[5 rows x 29 columns]",
      "text/html": "<div>\n<style scoped>\n    .dataframe tbody tr th:only-of-type {\n        vertical-align: middle;\n    }\n\n    .dataframe tbody tr th {\n        vertical-align: top;\n    }\n\n    .dataframe thead th {\n        text-align: right;\n    }\n</style>\n<table border=\"1\" class=\"dataframe\">\n  <thead>\n    <tr style=\"text-align: right;\">\n      <th></th>\n      <th>who</th>\n      <th>T</th>\n      <th>move</th>\n      <th>P</th>\n      <th>holiday</th>\n      <th>temperature</th>\n      <th>percipit</th>\n      <th>density</th>\n      <th>landusemix</th>\n      <th>openratio_wide</th>\n      <th>...</th>\n      <th>chain_complexity</th>\n      <th>metro_dist_ratio</th>\n      <th>density_change</th>\n      <th>landusemix_change</th>\n      <th>openratio_wide_change</th>\n      <th>road_density_change</th>\n      <th>intersections_change</th>\n      <th>center_change</th>\n      <th>subway_change</th>\n      <th>bus_change</th>\n    </tr>\n  </thead>\n  <tbody>\n    <tr>\n      <th>0</th>\n      <td>6717</td>\n      <td>1</td>\n      <td>0</td>\n      <td>0</td>\n      <td>1</td>\n      <td>-2.820366</td>\n      <td>-0.385465</td>\n      <td>0.470986</td>\n      <td>0.495686</td>\n      <td>-0.816624</td>\n      <td>...</td>\n      <td>2.0</td>\n      <td>0.0</td>\n      <td>-0.202362</td>\n      <td>-1.079849</td>\n      <td>0.85783</td>\n      <td>0.101747</td>\n      <td>-0.736847</td>\n      <td>0.446555</td>\n      <td>-0.307883</td>\n      <td>-0.809489</td>\n    </tr>\n    <tr>\n      <th>1</th>\n      <td>6717</td>\n      <td>2</td>\n      <td>0</td>\n      <td>0</td>\n      <td>0</td>\n      <td>-2.576687</td>\n      <td>-0.378001</td>\n      <td>0.470986</td>\n      <td>0.495686</td>\n      <td>-0.816624</td>\n      <td>...</td>\n      <td>4.0</td>\n      <td>0.0</td>\n      <td>-0.202362</td>\n      <td>-1.079849</td>\n      <td>0.85783</td>\n      <td>0.101747</td>\n      <td>-0.736847</td>\n      <td>0.446555</td>\n      <td>-0.307883</td>\n      <td>-0.809489</td>\n    </tr>\n    <tr>\n      <th>2</th>\n      <td>6717</td>\n      <td>3</td>\n      <td>0</td>\n      <td>0</td>\n      <td>0</td>\n      <td>-2.399466</td>\n      <td>-0.385465</td>\n      <td>0.470986</td>\n      <td>0.495686</td>\n      <td>-0.816624</td>\n      <td>...</td>\n      <td>6.0</td>\n      <td>0.0</td>\n      <td>-0.202362</td>\n      <td>-1.079849</td>\n      <td>0.85783</td>\n      <td>0.101747</td>\n      <td>-0.736847</td>\n      <td>0.446555</td>\n      <td>-0.307883</td>\n      <td>-0.809489</td>\n    </tr>\n    <tr>\n      <th>3</th>\n      <td>6717</td>\n      <td>4</td>\n      <td>0</td>\n      <td>0</td>\n      <td>0</td>\n      <td>-1.513360</td>\n      <td>-0.378001</td>\n      <td>0.470986</td>\n      <td>0.495686</td>\n      <td>-0.816624</td>\n      <td>...</td>\n      <td>2.0</td>\n      <td>0.0</td>\n      <td>-0.202362</td>\n      <td>-1.079849</td>\n      <td>0.85783</td>\n      <td>0.101747</td>\n      <td>-0.736847</td>\n      <td>0.446555</td>\n      <td>-0.307883</td>\n      <td>-0.809489</td>\n    </tr>\n    <tr>\n      <th>4</th>\n      <td>6717</td>\n      <td>5</td>\n      <td>0</td>\n      <td>0</td>\n      <td>1</td>\n      <td>-1.203223</td>\n      <td>-0.385465</td>\n      <td>0.470986</td>\n      <td>0.495686</td>\n      <td>-0.816624</td>\n      <td>...</td>\n      <td>2.0</td>\n      <td>0.0</td>\n      <td>-0.202362</td>\n      <td>-1.079849</td>\n      <td>0.85783</td>\n      <td>0.101747</td>\n      <td>-0.736847</td>\n      <td>0.446555</td>\n      <td>-0.307883</td>\n      <td>-0.809489</td>\n    </tr>\n  </tbody>\n</table>\n<p>5 rows × 29 columns</p>\n</div>"
     },
     "execution_count": 14,
     "metadata": {},
     "output_type": "execute_result"
    }
   ],
   "source": [
    "regress_data = data[['who','T','move','P','holiday','temperature', 'percipit', 'density', 'landusemix', 'openratio_wide', 'road_density', 'intersections', 'center', 'work_dist', 'subway', 'bus', 'age', 'gender', 'walk_dist', 'chain_complexity', 'metro_dist_ratio', 'density_change', 'landusemix_change', 'openratio_wide_change', 'road_density_change', 'intersections_change', 'center_change', 'subway_change', 'bus_change']]\n",
    "\n",
    "# 标准化\n",
    "features_list = ['walk_dist', 'density', 'landusemix', 'openratio_wide', 'road_density', 'intersections', 'center', 'subway', 'bus', 'work_dist', 'density_change', 'landusemix_change', 'openratio_wide_change', 'road_density_change', 'intersections_change', 'center_change', 'subway_change', 'bus_change', 'temperature', 'percipit']\n",
    "scaler = StandardScaler()\n",
    "std_regress_data = regress_data[features_list]\n",
    "std_regress_data = scaler.fit_transform(std_regress_data)\n",
    "# 更新regress data\n",
    "regress_data[features_list] = std_regress_data\n",
    "regress_data.head()"
   ],
   "metadata": {
    "collapsed": false,
    "ExecuteTime": {
     "end_time": "2024-04-17T08:50:32.894617300Z",
     "start_time": "2024-04-17T08:50:19.365895300Z"
    }
   }
  },
  {
   "cell_type": "code",
   "execution_count": 18,
   "outputs": [
    {
     "name": "stdout",
     "output_type": "stream",
     "text": [
      "                Mixed Linear Model Regression Results\n",
      "======================================================================\n",
      "Model:                MixedLM    Dependent Variable:    walk_dist     \n",
      "No. Observations:     7780960    Method:                REML          \n",
      "No. Groups:           21289      Scale:                 0.9396        \n",
      "Min. group size:      365        Log-Likelihood:        -10831961.1945\n",
      "Max. group size:      605        Converged:             Yes           \n",
      "Mean group size:      365.5                                           \n",
      "----------------------------------------------------------------------\n",
      "                           Coef.  Std.Err.    z    P>|z| [0.025 0.975]\n",
      "----------------------------------------------------------------------\n",
      "Intercept                  -0.114    0.007 -16.894 0.000 -0.127 -0.101\n",
      "T                           0.000    0.000  29.823 0.000  0.000  0.000\n",
      "move                        0.022    0.004   5.275 0.000  0.014  0.031\n",
      "P                          -0.001    0.000 -14.729 0.000 -0.001 -0.000\n",
      "holiday                    -0.017    0.001 -22.251 0.000 -0.018 -0.015\n",
      "temperature                -0.019    0.001 -32.494 0.000 -0.020 -0.017\n",
      "percipit                   -0.006    0.000 -16.549 0.000 -0.007 -0.005\n",
      "density                    -0.006    0.002  -3.091 0.002 -0.009 -0.002\n",
      "landusemix                  0.006    0.002   3.194 0.001  0.002  0.010\n",
      "openratio_wide              0.002    0.002   0.850 0.395 -0.002  0.006\n",
      "road_density                0.011    0.002   5.584 0.000  0.007  0.014\n",
      "center                     -0.012    0.002  -6.604 0.000 -0.015 -0.008\n",
      "subway                     -0.002    0.002  -1.312 0.190 -0.006  0.001\n",
      "bus                        -0.002    0.002  -0.899 0.369 -0.006  0.002\n",
      "age                         0.032    0.003  12.557 0.000  0.027  0.037\n",
      "gender                     -0.033    0.004  -9.114 0.000 -0.040 -0.026\n",
      "work_dist                  -0.024    0.000 -54.139 0.000 -0.025 -0.023\n",
      "move:density_change         0.001    0.001   0.658 0.511 -0.002  0.003\n",
      "move:landusemix_change      0.002    0.001   1.694 0.090 -0.000  0.004\n",
      "move:openratio_wide_change  0.004    0.001   2.978 0.003  0.001  0.006\n",
      "move:road_density_change    0.007    0.001   5.903 0.000  0.005  0.009\n",
      "move:center_change         -0.012    0.001 -10.837 0.000 -0.014 -0.010\n",
      "move:subway_change         -0.002    0.001  -1.701 0.089 -0.004  0.000\n",
      "move:bus_change             0.001    0.001   0.646 0.518 -0.002  0.003\n",
      "move:age                   -0.003    0.002  -1.577 0.115 -0.006  0.001\n",
      "move:gender                -0.019    0.002  -8.469 0.000 -0.024 -0.015\n",
      "P:density_change           -0.000    0.000  -3.037 0.002 -0.000 -0.000\n",
      "P:landusemix_change        -0.000    0.000  -1.154 0.249 -0.000  0.000\n",
      "P:openratio_wide_change    -0.000    0.000  -0.981 0.327 -0.000  0.000\n",
      "P:road_density_change       0.000    0.000   5.541 0.000  0.000  0.000\n",
      "P:center_change             0.000    0.000   3.723 0.000  0.000  0.000\n",
      "P:subway_change            -0.000    0.000  -1.135 0.256 -0.000  0.000\n",
      "P:bus_change                0.000    0.000   2.000 0.045  0.000  0.000\n",
      "P:age                       0.000    0.000   6.101 0.000  0.000  0.000\n",
      "P:gender                   -0.000    0.000  -4.700 0.000 -0.000 -0.000\n",
      "Group Var                   0.058    0.001                            \n",
      "======================================================================\n"
     ]
    }
   ],
   "source": [
    "formulas = 'walk_dist ~ T + move + P + holiday + temperature + percipit + density + landusemix + openratio_wide + road_density + center + subway + bus + age + gender + work_dist + move:density_change + move:landusemix_change + move:openratio_wide_change + move:road_density_change + move:center_change + move:subway_change + move:bus_change + move:age + move:gender + P:density_change + P:landusemix_change + P:openratio_wide_change + P:road_density_change + P:center_change + P:subway_change + P:bus_change + P:age + P:gender'\n",
    "model = smf.mixedlm(formulas, regress_data, groups=regress_data['who'])\n",
    "model = model.fit()\n",
    "print(model.summary())"
   ],
   "metadata": {
    "collapsed": false,
    "ExecuteTime": {
     "end_time": "2024-04-12T06:37:55.837770500Z",
     "start_time": "2024-04-12T06:33:31.014573Z"
    }
   }
  },
  {
   "cell_type": "markdown",
   "source": [
    "# 敏感性分析"
   ],
   "metadata": {
    "collapsed": false
   }
  },
  {
   "cell_type": "markdown",
   "source": [
    "## 删除搬家前后两周数据"
   ],
   "metadata": {
    "collapsed": false
   }
  },
  {
   "cell_type": "code",
   "execution_count": 16,
   "outputs": [
    {
     "data": {
      "text/plain": "    who  T  move  P  move_time  holiday  temperature  percipit    density  \\\n0  6717  1     0  0        151        1         11.3       0.0  11.414675   \n1  6717  2     0  0        151        0         12.4       0.1  11.414675   \n2  6717  3     0  0        151        0         13.2       0.0  11.414675   \n3  6717  4     0  0        151        0         17.2       0.1  11.414675   \n4  6717  5     0  0        151        1         18.6       0.0  11.414675   \n\n   landusemix  ...  chain_complexity  metro_dist_ratio  density_change  \\\n0    0.038839  ...               2.0               0.0        -8.91934   \n1    0.038839  ...               4.0               0.0        -8.91934   \n2    0.038839  ...               6.0               0.0        -8.91934   \n3    0.038839  ...               2.0               0.0        -8.91934   \n4    0.038839  ...               2.0               0.0        -8.91934   \n\n   landusemix_change  openratio_wide_change  road_density_change  \\\n0          -0.114394               0.129132             0.625422   \n1          -0.114394               0.129132             0.625422   \n2          -0.114394               0.129132             0.625422   \n3          -0.114394               0.129132             0.625422   \n4          -0.114394               0.129132             0.625422   \n\n   intersections_change  center_change  subway_change  bus_change  \n0            -24.939683       2.283825      -0.355556   -4.673016  \n1            -24.939683       2.283825      -0.355556   -4.673016  \n2            -24.939683       2.283825      -0.355556   -4.673016  \n3            -24.939683       2.283825      -0.355556   -4.673016  \n4            -24.939683       2.283825      -0.355556   -4.673016  \n\n[5 rows x 30 columns]",
      "text/html": "<div>\n<style scoped>\n    .dataframe tbody tr th:only-of-type {\n        vertical-align: middle;\n    }\n\n    .dataframe tbody tr th {\n        vertical-align: top;\n    }\n\n    .dataframe thead th {\n        text-align: right;\n    }\n</style>\n<table border=\"1\" class=\"dataframe\">\n  <thead>\n    <tr style=\"text-align: right;\">\n      <th></th>\n      <th>who</th>\n      <th>T</th>\n      <th>move</th>\n      <th>P</th>\n      <th>move_time</th>\n      <th>holiday</th>\n      <th>temperature</th>\n      <th>percipit</th>\n      <th>density</th>\n      <th>landusemix</th>\n      <th>...</th>\n      <th>chain_complexity</th>\n      <th>metro_dist_ratio</th>\n      <th>density_change</th>\n      <th>landusemix_change</th>\n      <th>openratio_wide_change</th>\n      <th>road_density_change</th>\n      <th>intersections_change</th>\n      <th>center_change</th>\n      <th>subway_change</th>\n      <th>bus_change</th>\n    </tr>\n  </thead>\n  <tbody>\n    <tr>\n      <th>0</th>\n      <td>6717</td>\n      <td>1</td>\n      <td>0</td>\n      <td>0</td>\n      <td>151</td>\n      <td>1</td>\n      <td>11.3</td>\n      <td>0.0</td>\n      <td>11.414675</td>\n      <td>0.038839</td>\n      <td>...</td>\n      <td>2.0</td>\n      <td>0.0</td>\n      <td>-8.91934</td>\n      <td>-0.114394</td>\n      <td>0.129132</td>\n      <td>0.625422</td>\n      <td>-24.939683</td>\n      <td>2.283825</td>\n      <td>-0.355556</td>\n      <td>-4.673016</td>\n    </tr>\n    <tr>\n      <th>1</th>\n      <td>6717</td>\n      <td>2</td>\n      <td>0</td>\n      <td>0</td>\n      <td>151</td>\n      <td>0</td>\n      <td>12.4</td>\n      <td>0.1</td>\n      <td>11.414675</td>\n      <td>0.038839</td>\n      <td>...</td>\n      <td>4.0</td>\n      <td>0.0</td>\n      <td>-8.91934</td>\n      <td>-0.114394</td>\n      <td>0.129132</td>\n      <td>0.625422</td>\n      <td>-24.939683</td>\n      <td>2.283825</td>\n      <td>-0.355556</td>\n      <td>-4.673016</td>\n    </tr>\n    <tr>\n      <th>2</th>\n      <td>6717</td>\n      <td>3</td>\n      <td>0</td>\n      <td>0</td>\n      <td>151</td>\n      <td>0</td>\n      <td>13.2</td>\n      <td>0.0</td>\n      <td>11.414675</td>\n      <td>0.038839</td>\n      <td>...</td>\n      <td>6.0</td>\n      <td>0.0</td>\n      <td>-8.91934</td>\n      <td>-0.114394</td>\n      <td>0.129132</td>\n      <td>0.625422</td>\n      <td>-24.939683</td>\n      <td>2.283825</td>\n      <td>-0.355556</td>\n      <td>-4.673016</td>\n    </tr>\n    <tr>\n      <th>3</th>\n      <td>6717</td>\n      <td>4</td>\n      <td>0</td>\n      <td>0</td>\n      <td>151</td>\n      <td>0</td>\n      <td>17.2</td>\n      <td>0.1</td>\n      <td>11.414675</td>\n      <td>0.038839</td>\n      <td>...</td>\n      <td>2.0</td>\n      <td>0.0</td>\n      <td>-8.91934</td>\n      <td>-0.114394</td>\n      <td>0.129132</td>\n      <td>0.625422</td>\n      <td>-24.939683</td>\n      <td>2.283825</td>\n      <td>-0.355556</td>\n      <td>-4.673016</td>\n    </tr>\n    <tr>\n      <th>4</th>\n      <td>6717</td>\n      <td>5</td>\n      <td>0</td>\n      <td>0</td>\n      <td>151</td>\n      <td>1</td>\n      <td>18.6</td>\n      <td>0.0</td>\n      <td>11.414675</td>\n      <td>0.038839</td>\n      <td>...</td>\n      <td>2.0</td>\n      <td>0.0</td>\n      <td>-8.91934</td>\n      <td>-0.114394</td>\n      <td>0.129132</td>\n      <td>0.625422</td>\n      <td>-24.939683</td>\n      <td>2.283825</td>\n      <td>-0.355556</td>\n      <td>-4.673016</td>\n    </tr>\n  </tbody>\n</table>\n<p>5 rows × 30 columns</p>\n</div>"
     },
     "execution_count": 16,
     "metadata": {},
     "output_type": "execute_result"
    }
   ],
   "source": [
    "regress_data = data[['who','T','move','P','move_time','holiday','temperature', 'percipit', 'density', 'landusemix', 'openratio_wide', 'road_density', 'intersections', 'center', 'work_dist', 'subway', 'bus', 'age', 'gender', 'walk_dist', 'chain_complexity', 'metro_dist_ratio', 'density_change', 'landusemix_change', 'openratio_wide_change', 'road_density_change', 'intersections_change', 'center_change', 'subway_change', 'bus_change']]\n",
    "\n",
    "# 删除搬家前后两周数据\n",
    "regress_data = regress_data[(regress_data['T']>regress_data['move_time']+14) | (regress_data['T']<=regress_data['move_time']-14)]\n",
    "regress_data.reset_index(drop=True, inplace=True)\n",
    "\n",
    "# 重构T\n",
    "n_days = 365 - 28\n",
    "sample = len(regress_data['who'].unique())\n",
    "T = np.tile(np.arange(1,n_days+1),sample)\n",
    "regress_data['T'] = T\n",
    "\n",
    "# 重构P\n",
    "regress_data['P'] = regress_data['P'] - 14\n",
    "regress_data['P'] = regress_data['P'].apply(lambda x: np.clip(x, 0, None))\n",
    "\n",
    "# 中心化\n",
    "features_list = ['walk_dist', 'density', 'landusemix', 'openratio_wide', 'road_density', 'intersections', 'center', 'subway', 'bus', 'work_dist']\n",
    "for col in features_list:\n",
    "    regress_data[col] = regress_data[col] - regress_data[col].mean()\n",
    "regress_data.head()"
   ],
   "metadata": {
    "collapsed": false,
    "ExecuteTime": {
     "end_time": "2024-04-17T09:08:43.133386300Z",
     "start_time": "2024-04-17T09:06:03.557933100Z"
    }
   }
  },
  {
   "cell_type": "code",
   "execution_count": 17,
   "outputs": [
    {
     "name": "stdout",
     "output_type": "stream",
     "text": [
      "                   Mixed Linear Model Regression Results\n",
      "===========================================================================\n",
      "Model:                 MixedLM      Dependent Variable:      walk_dist     \n",
      "No. Observations:      7174393      Method:                  REML          \n",
      "No. Groups:            21289        Scale:                   313774.4002   \n",
      "Min. group size:       337          Log-Likelihood:          -55614304.7427\n",
      "Max. group size:       337          Converged:               Yes           \n",
      "Mean group size:       337.0                                               \n",
      "---------------------------------------------------------------------------\n",
      "                             Coef.   Std.Err.    z    P>|z|  [0.025  0.975]\n",
      "---------------------------------------------------------------------------\n",
      "Intercept                     -8.798    4.153  -2.118 0.034 -16.938  -0.658\n",
      "T                              0.197    0.008  26.165 0.000   0.182   0.211\n",
      "move                          14.949    2.566   5.825 0.000   9.919  19.979\n",
      "P                             -0.304    0.025 -12.358 0.000  -0.352  -0.256\n",
      "holiday                      -10.729    0.451 -23.803 0.000 -11.612  -9.845\n",
      "temperature                   -2.198    0.075 -29.198 0.000  -2.346  -2.051\n",
      "percipit                      -0.263    0.017 -15.339 0.000  -0.297  -0.229\n",
      "density                       -0.136    0.045  -3.005 0.003  -0.225  -0.047\n",
      "landusemix                    41.158   14.977   2.748 0.006  11.803  70.512\n",
      "openratio_wide                17.432   11.136   1.565 0.118  -4.394  39.257\n",
      "road_density                   0.356    0.137   2.601 0.009   0.088   0.623\n",
      "intersections                  0.250    0.063   4.003 0.000   0.128   0.373\n",
      "center                        -1.777    0.278  -6.404 0.000  -2.321  -1.233\n",
      "subway                        -3.538    1.571  -2.253 0.024  -6.617  -0.460\n",
      "bus                           -0.485    0.295  -1.647 0.100  -1.063   0.092\n",
      "age                           18.325    1.518  12.072 0.000  15.350  21.300\n",
      "gender                       -18.252    2.139  -8.534 0.000 -22.443 -14.060\n",
      "work_dist                     -0.287    0.204  -1.406 0.160  -0.686   0.113\n",
      "move:density_change            0.037    0.022   1.650 0.099  -0.007   0.080\n",
      "move:landusemix_change        -0.782    6.819  -0.115 0.909 -14.147  12.582\n",
      "move:openratio_wide_change    15.808    5.097   3.101 0.002   5.817  25.798\n",
      "move:road_density_change       0.107    0.062   1.726 0.084  -0.014   0.228\n",
      "move:intersections_change      0.243    0.029   8.248 0.000   0.185   0.300\n",
      "move:center_change            -1.377    0.128 -10.768 0.000  -1.628  -1.127\n",
      "move:subway_change            -2.693    0.745  -3.616 0.000  -4.152  -1.233\n",
      "move:bus_change               -0.156    0.136  -1.144 0.252  -0.423   0.111\n",
      "move:age                      -2.693    0.973  -2.768 0.006  -4.600  -0.786\n",
      "move:gender                  -14.049    1.367 -10.275 0.000 -16.728 -11.369\n",
      "P:density_change              -0.001    0.000  -4.145 0.000  -0.001  -0.000\n",
      "P:landusemix_change           -0.016    0.060  -0.269 0.788  -0.134   0.102\n",
      "P:openratio_wide_change       -0.003    0.045  -0.076 0.939  -0.091   0.085\n",
      "P:road_density_change          0.003    0.001   4.656 0.000   0.001   0.004\n",
      "P:intersections_change        -0.000    0.000  -0.813 0.416  -0.001   0.000\n",
      "P:center_change                0.004    0.001   3.888 0.000   0.002   0.007\n",
      "P:subway_change               -0.002    0.007  -0.365 0.715  -0.015   0.010\n",
      "P:bus_change                   0.003    0.001   2.446 0.014   0.001   0.005\n",
      "P:age                          0.061    0.009   7.059 0.000   0.044   0.078\n",
      "P:gender                      -0.036    0.012  -3.005 0.003  -0.060  -0.013\n",
      "Group Var                  20010.112    0.363                              \n",
      "===========================================================================\n"
     ]
    }
   ],
   "source": [
    "formulas = 'walk_dist ~ T + move + P + holiday + temperature + percipit + density + landusemix + openratio_wide + road_density + intersections + center + subway + bus + age + gender + work_dist + move:density_change + move:landusemix_change + move:openratio_wide_change + move:road_density_change + move:intersections_change + move:center_change + move:subway_change + move:bus_change + move:age + move:gender + P:density_change + P:landusemix_change + P:openratio_wide_change + P:road_density_change + P:intersections_change + P:center_change + P:subway_change + P:bus_change + P:age + P:gender'\n",
    "model = smf.mixedlm(formulas, regress_data, groups=regress_data['who'])\n",
    "model = model.fit()\n",
    "print(model.summary())"
   ],
   "metadata": {
    "collapsed": false,
    "ExecuteTime": {
     "end_time": "2024-04-17T09:15:02.668484300Z",
     "start_time": "2024-04-17T09:08:43.132386Z"
    }
   }
  },
  {
   "cell_type": "code",
   "execution_count": 24,
   "outputs": [
    {
     "data": {
      "text/plain": "       holiday  temperature   percipit    density  landusemix  openratio_wide  \\\nmean  0.315068    24.031507   5.164110  37.780748    0.667136        0.086082   \nstd   0.464543     4.514133  13.397093  24.235699    0.078354        0.105413   \n\n      road_density  intersections    center  work_dist  ...    gender  \\\nmean     29.394870      33.196460  6.455956   4.952836  ...  0.344591   \nstd       9.917015      24.140888  3.849886   4.891947  ...  0.475235   \n\n       walk_dist  density_change  landusemix_change  openratio_wide_change  \\\nmean  119.771315       -2.529932           0.002334               0.003842   \nstd   578.473591       31.574220           0.108096               0.146056   \n\n      road_density_change  intersections_change  center_change  subway_change  \\\nmean            -0.736464             -2.485687      -0.084263      -0.059720   \nstd             13.384988             30.473071       5.303011       0.960867   \n\n      bus_change  \nmean   -0.275860  \nstd     5.432014  \n\n[2 rows x 23 columns]",
      "text/html": "<div>\n<style scoped>\n    .dataframe tbody tr th:only-of-type {\n        vertical-align: middle;\n    }\n\n    .dataframe tbody tr th {\n        vertical-align: top;\n    }\n\n    .dataframe thead th {\n        text-align: right;\n    }\n</style>\n<table border=\"1\" class=\"dataframe\">\n  <thead>\n    <tr style=\"text-align: right;\">\n      <th></th>\n      <th>holiday</th>\n      <th>temperature</th>\n      <th>percipit</th>\n      <th>density</th>\n      <th>landusemix</th>\n      <th>openratio_wide</th>\n      <th>road_density</th>\n      <th>intersections</th>\n      <th>center</th>\n      <th>work_dist</th>\n      <th>...</th>\n      <th>gender</th>\n      <th>walk_dist</th>\n      <th>density_change</th>\n      <th>landusemix_change</th>\n      <th>openratio_wide_change</th>\n      <th>road_density_change</th>\n      <th>intersections_change</th>\n      <th>center_change</th>\n      <th>subway_change</th>\n      <th>bus_change</th>\n    </tr>\n  </thead>\n  <tbody>\n    <tr>\n      <th>mean</th>\n      <td>0.315068</td>\n      <td>24.031507</td>\n      <td>5.164110</td>\n      <td>37.780748</td>\n      <td>0.667136</td>\n      <td>0.086082</td>\n      <td>29.394870</td>\n      <td>33.196460</td>\n      <td>6.455956</td>\n      <td>4.952836</td>\n      <td>...</td>\n      <td>0.344591</td>\n      <td>119.771315</td>\n      <td>-2.529932</td>\n      <td>0.002334</td>\n      <td>0.003842</td>\n      <td>-0.736464</td>\n      <td>-2.485687</td>\n      <td>-0.084263</td>\n      <td>-0.059720</td>\n      <td>-0.275860</td>\n    </tr>\n    <tr>\n      <th>std</th>\n      <td>0.464543</td>\n      <td>4.514133</td>\n      <td>13.397093</td>\n      <td>24.235699</td>\n      <td>0.078354</td>\n      <td>0.105413</td>\n      <td>9.917015</td>\n      <td>24.140888</td>\n      <td>3.849886</td>\n      <td>4.891947</td>\n      <td>...</td>\n      <td>0.475235</td>\n      <td>578.473591</td>\n      <td>31.574220</td>\n      <td>0.108096</td>\n      <td>0.146056</td>\n      <td>13.384988</td>\n      <td>30.473071</td>\n      <td>5.303011</td>\n      <td>0.960867</td>\n      <td>5.432014</td>\n    </tr>\n  </tbody>\n</table>\n<p>2 rows × 23 columns</p>\n</div>"
     },
     "execution_count": 24,
     "metadata": {},
     "output_type": "execute_result"
    }
   ],
   "source": [
    "data_describe = data[['holiday','temperature', 'percipit', 'density', 'landusemix', 'openratio_wide', 'road_density', 'intersections', 'center', 'work_dist', 'subway', 'bus', 'age', 'gender', 'walk_dist', 'density_change', 'landusemix_change', 'openratio_wide_change', 'road_density_change', 'intersections_change', 'center_change', 'subway_change', 'bus_change']]\n",
    "data_describe.describe().loc[['mean','std']]"
   ],
   "metadata": {
    "collapsed": false,
    "ExecuteTime": {
     "end_time": "2024-04-16T05:10:47.040691700Z",
     "start_time": "2024-04-16T05:10:42.824798100Z"
    }
   }
  },
  {
   "cell_type": "code",
   "execution_count": 39,
   "outputs": [],
   "source": [
    "# 随机选取5%的who\n",
    "who_list = regress_data['who'].unique().tolist()\n",
    "who_list = np.random.choice(who_list, int(len(who_list)*0.45), replace=False)\n",
    "\n",
    "# 选取这些who的数据，建模\n",
    "regress_data_45 = regress_data[regress_data['who'].isin(who_list)]"
   ],
   "metadata": {
    "collapsed": false,
    "ExecuteTime": {
     "end_time": "2023-09-14T03:57:06.863978100Z",
     "start_time": "2023-09-14T03:57:05.296742700Z"
    }
   }
  },
  {
   "cell_type": "markdown",
   "source": [
    "## 二次方时间趋势"
   ],
   "metadata": {
    "collapsed": false
   }
  },
  {
   "cell_type": "code",
   "execution_count": 23,
   "outputs": [
    {
     "name": "stderr",
     "output_type": "stream",
     "text": [
      "C:\\Users\\317gy\\AppData\\Local\\Temp\\ipykernel_48636\\448320405.py:3: SettingWithCopyWarning: \n",
      "A value is trying to be set on a copy of a slice from a DataFrame.\n",
      "Try using .loc[row_indexer,col_indexer] = value instead\n",
      "\n",
      "See the caveats in the documentation: https://pandas.pydata.org/pandas-docs/stable/user_guide/indexing.html#returning-a-view-versus-a-copy\n",
      "  regress_data['P2'] = regress_data['P']**2\n"
     ]
    }
   ],
   "source": [
    "regress_data = data[['who','T','move','P','move_time','holiday','temperature', 'percipit', 'density', 'landusemix', 'openratio_wide', 'road_density', 'intersections', 'center', 'work_dist', 'subway', 'bus', 'age', 'gender', 'walk_dist', 'chain_complexity', 'metro_dist_ratio', 'density_change', 'landusemix_change', 'openratio_wide_change', 'road_density_change', 'intersections_change', 'center_change', 'subway_change', 'bus_change']]\n",
    "# 增加时间趋势的二次方项\n",
    "regress_data['P2'] = regress_data['P']**2\n",
    "# 中心化\n",
    "# features_list = ['walk_dist', 'density', 'landusemix', 'openratio_wide', 'road_density', 'intersections', 'center', 'subway', 'bus', 'work_dist']\n",
    "# for col in features_list:\n",
    "#     regress_data[col] = regress_data[col] - regress_data[col].mean()\n",
    "# regress_data.head()"
   ],
   "metadata": {
    "collapsed": false,
    "ExecuteTime": {
     "end_time": "2024-04-17T11:44:25.443262500Z",
     "start_time": "2024-04-17T11:44:22.383416800Z"
    }
   }
  },
  {
   "cell_type": "code",
   "execution_count": 24,
   "outputs": [
    {
     "name": "stdout",
     "output_type": "stream",
     "text": [
      "           Mixed Linear Model Regression Results\n",
      "============================================================\n",
      "Model:            MixedLM Dependent Variable: walk_dist     \n",
      "No. Observations: 7770485 Method:             REML          \n",
      "No. Groups:       21289   Scale:              314553.3331   \n",
      "Min. group size:  365     Log-Likelihood:     -60242674.8186\n",
      "Max. group size:  365     Converged:          Yes           \n",
      "Mean group size:  365.0                                     \n",
      "------------------------------------------------------------\n",
      "              Coef.   Std.Err.    z    P>|z|  [0.025  0.975]\n",
      "------------------------------------------------------------\n",
      "Intercept     151.411    1.696  89.256 0.000 148.086 154.735\n",
      "T               0.204    0.007  28.995 0.000   0.190   0.218\n",
      "move            8.693    0.985   8.821 0.000   6.761  10.624\n",
      "P              -0.334    0.020 -16.533 0.000  -0.374  -0.295\n",
      "P2              0.001    0.000   6.628 0.000   0.000   0.001\n",
      "holiday        -9.624    0.435 -22.142 0.000 -10.476  -8.772\n",
      "temperature    -2.356    0.074 -31.773 0.000  -2.501  -2.210\n",
      "percipit       -0.264    0.016 -16.732 0.000  -0.294  -0.233\n",
      "Group Var   19933.116    0.360                              \n",
      "============================================================\n"
     ]
    }
   ],
   "source": [
    "# formulas = 'walk_dist ~ T + move + P + P2 + holiday + temperature + percipit + density + landusemix + openratio_wide + road_density + intersections + center + subway + bus + age + gender + work_dist + move:density_change + move:landusemix_change + move:openratio_wide_change + move:road_density_change + move:intersections_change + move:center_change + move:subway_change + move:bus_change + move:age + move:gender + P:density_change + P:landusemix_change + P:openratio_wide_change + P:road_density_change + P:intersections_change + P:center_change + P:subway_change + P:bus_change + P:age + P:gender + + P2:density_change + P2:landusemix_change + P2:openratio_wide_change + P2:road_density_change + P2:intersections_change + P2:center_change + P2:subway_change + P2:bus_change + P2:age + P2:gender'\n",
    "formulas = 'walk_dist ~ T + move + P + P2 + holiday + temperature + percipit'\n",
    "model = smf.mixedlm(formulas, regress_data, groups=regress_data['who'])\n",
    "model = model.fit()\n",
    "print(model.summary())"
   ],
   "metadata": {
    "collapsed": false,
    "ExecuteTime": {
     "end_time": "2024-04-17T11:47:36.490675400Z",
     "start_time": "2024-04-17T11:44:28.302095800Z"
    }
   }
  },
  {
   "cell_type": "code",
   "execution_count": 21,
   "outputs": [
    {
     "data": {
      "text/plain": "Intercept                     -6.726702\nT                              0.200997\nmove                           9.822285\nP                             -0.212354\nP2                            -0.000484\nholiday                       -9.625851\ntemperature                   -2.317678\npercipit                      -0.261177\ndensity                       -0.134069\nlandusemix                    39.175952\nopenratio_wide                14.715655\nroad_density                   0.334113\nintersections                  0.245626\ncenter                        -1.793707\nsubway                        -3.650308\nbus                           -0.460967\nage                           18.204177\ngender                       -18.829092\nwork_dist                     -0.305627\nmove:density_change           -0.051554\nmove:landusemix_change        18.567447\nmove:openratio_wide_change    22.466548\nmove:road_density_change       0.203789\nmove:intersections_change      0.146141\nmove:center_change            -1.012903\nmove:subway_change            -1.940410\nmove:bus_change                0.290278\nmove:age                       0.448777\nmove:gender                   -5.827020\nP:density_change               0.001573\nP:landusemix_change           -0.492659\nP:openratio_wide_change       -0.123044\nP:road_density_change         -0.000723\nP:intersections_change         0.001935\nP:center_change               -0.004177\nP:subway_change               -0.012900\nP:bus_change                  -0.008107\nP:age                         -0.016478\nP:gender                      -0.217971\nP2:density_change             -0.000011\nP2:landusemix_change           0.002176\nP2:openratio_wide_change       0.000411\nP2:road_density_change         0.000015\nP2:intersections_change       -0.000010\nP2:center_change               0.000036\nP2:subway_change               0.000036\nP2:bus_change                  0.000050\nP2:age                         0.000324\nP2:gender                      0.000860\nGroup Var                      0.061974\ndtype: float64"
     },
     "execution_count": 21,
     "metadata": {},
     "output_type": "execute_result"
    }
   ],
   "source": [
    "model.params"
   ],
   "metadata": {
    "collapsed": false,
    "ExecuteTime": {
     "end_time": "2024-04-17T11:23:55.021487100Z",
     "start_time": "2024-04-17T11:23:54.956404300Z"
    }
   }
  },
  {
   "cell_type": "markdown",
   "source": [
    "## 5%验证"
   ],
   "metadata": {
    "collapsed": false
   }
  },
  {
   "cell_type": "code",
   "execution_count": 27,
   "outputs": [
    {
     "name": "stdout",
     "output_type": "stream",
     "text": [
      "               Mixed Linear Model Regression Results\n",
      "===================================================================\n",
      "Model:                MixedLM   Dependent Variable:   walk_dist    \n",
      "No. Observations:     389026    Method:               REML         \n",
      "No. Groups:           1064      Scale:                315971.4147  \n",
      "Min. group size:      365       Log-Likelihood:       -3016816.4384\n",
      "Max. group size:      545       Converged:            Yes          \n",
      "Mean group size:      365.6                                        \n",
      "-------------------------------------------------------------------\n",
      "                    Coef.   Std.Err.   z    P>|z|  [0.025   0.975] \n",
      "-------------------------------------------------------------------\n",
      "Intercept            79.654   24.070  3.309 0.001   32.477  126.830\n",
      "T                     0.026    0.024  1.085 0.278   -0.021    0.073\n",
      "move                -20.889   30.879 -0.676 0.499  -81.412   39.633\n",
      "P                    -0.341    0.213 -1.600 0.110   -0.758    0.077\n",
      "holiday             -11.323    1.943 -5.828 0.000  -15.131   -7.516\n",
      "storm                 0.954    2.748  0.347 0.729   -4.432    6.340\n",
      "density             -35.914   11.700 -3.070 0.002  -58.845  -12.982\n",
      "landusemix           -0.833   20.662 -0.040 0.968  -41.329   39.663\n",
      "road_density         80.124   17.735  4.518 0.000   45.363  114.885\n",
      "center              -49.317   17.942 -2.749 0.006  -84.483  -14.151\n",
      "subway                3.601   13.952  0.258 0.796  -23.745   30.946\n",
      "bus                  -3.345   19.105 -0.175 0.861  -40.790   34.101\n",
      "age                   6.783    2.625  2.584 0.010    1.638   11.928\n",
      "gender              -20.698    9.451 -2.190 0.029  -39.221   -2.174\n",
      "work_dist           -85.277   14.237 -5.990 0.000 -113.181  -57.373\n",
      "move:density         65.599   21.621  3.034 0.002   23.222  107.977\n",
      "move:landusemix     104.098   38.564  2.699 0.007   28.515  179.681\n",
      "move:road_density   -75.212   30.934 -2.431 0.015 -135.843  -14.582\n",
      "move:center          18.488   31.608  0.585 0.559  -43.462   80.439\n",
      "move:work_dist       24.464   26.153  0.935 0.350  -26.795   75.723\n",
      "move:subway        -157.985   25.993 -6.078 0.000 -208.931 -107.040\n",
      "move:bus             -6.892   35.627 -0.193 0.847  -76.719   62.935\n",
      "move:age             -5.246    1.651 -3.178 0.001   -8.481   -2.010\n",
      "move:gender         -16.045    5.934 -2.704 0.007  -27.676   -4.415\n",
      "P:density            -0.374    0.151 -2.478 0.013   -0.671   -0.078\n",
      "P:landusemix         -0.100    0.262 -0.383 0.702   -0.613    0.413\n",
      "P:road_density        0.408    0.214  1.911 0.056   -0.010    0.827\n",
      "P:center              0.324    0.216  1.501 0.133   -0.099    0.746\n",
      "P:work_dist          -0.809    0.204 -3.967 0.000   -1.209   -0.409\n",
      "P:subway              0.767    0.188  4.082 0.000    0.399    1.135\n",
      "P:bus                 0.156    0.245  0.638 0.524   -0.324    0.636\n",
      "P:age                 0.060    0.014  4.386 0.000    0.033    0.087\n",
      "P:gender              0.021    0.048  0.433 0.665   -0.074    0.116\n",
      "Group Var         19570.241    1.581                               \n",
      "===================================================================\n"
     ]
    }
   ],
   "source": [
    "model_dist2_5 = smf.mixedlm(formulas_dist2, regress_data_5, groups=regress_data_5['who'])\n",
    "model_dist2_5 = model_dist2_5.fit()\n",
    "print(model_dist2_5.summary())"
   ],
   "metadata": {
    "collapsed": false,
    "ExecuteTime": {
     "end_time": "2023-09-14T03:26:07.813244800Z",
     "start_time": "2023-09-14T03:25:21.017489500Z"
    }
   }
  },
  {
   "cell_type": "code",
   "execution_count": 28,
   "outputs": [
    {
     "name": "stdout",
     "output_type": "stream",
     "text": [
      "            Mixed Linear Model Regression Results\n",
      "==============================================================\n",
      "Model:            MixedLM Dependent Variable: chain_complexity\n",
      "No. Observations: 389026  Method:             REML            \n",
      "No. Groups:       1064    Scale:              1.8467          \n",
      "Min. group size:  365     Log-Likelihood:     -674059.9094    \n",
      "Max. group size:  545     Converged:          Yes             \n",
      "Mean group size:  365.6                                       \n",
      "--------------------------------------------------------------\n",
      "                   Coef.  Std.Err.    z    P>|z| [0.025 0.975]\n",
      "--------------------------------------------------------------\n",
      "Intercept           1.456    0.110  13.227 0.000  1.241  1.672\n",
      "T                   0.002    0.000  37.065 0.000  0.002  0.002\n",
      "move                0.052    0.075   0.694 0.488 -0.095  0.200\n",
      "P                  -0.002    0.001  -3.863 0.000 -0.003 -0.001\n",
      "holiday            -0.355    0.005 -75.654 0.000 -0.365 -0.346\n",
      "storm               0.001    0.007   0.082 0.935 -0.012  0.014\n",
      "density             0.273    0.029   9.467 0.000  0.216  0.329\n",
      "landusemix         -0.287    0.051  -5.657 0.000 -0.387 -0.188\n",
      "road_density       -0.209    0.044  -4.778 0.000 -0.294 -0.123\n",
      "center             -0.186    0.044  -4.214 0.000 -0.273 -0.099\n",
      "subway             -0.015    0.034  -0.438 0.661 -0.082  0.052\n",
      "bus                -0.177    0.047  -3.755 0.000 -0.269 -0.084\n",
      "age                 0.025    0.015   1.649 0.099 -0.005  0.054\n",
      "gender             -0.008    0.054  -0.150 0.881 -0.113  0.097\n",
      "work_dist           0.258    0.035   7.439 0.000  0.190  0.326\n",
      "move:density       -0.014    0.053  -0.256 0.798 -0.117  0.090\n",
      "move:landusemix     0.163    0.094   1.731 0.083 -0.022  0.348\n",
      "move:road_density  -0.310    0.075  -4.102 0.000 -0.457 -0.162\n",
      "move:center         0.001    0.077   0.018 0.986 -0.150  0.153\n",
      "move:work_dist     -0.131    0.063  -2.062 0.039 -0.255 -0.006\n",
      "move:subway         0.017    0.063   0.270 0.787 -0.107  0.141\n",
      "move:bus            0.329    0.087   3.783 0.000  0.159  0.500\n",
      "move:age           -0.017    0.004  -4.204 0.000 -0.025 -0.009\n",
      "move:gender         0.029    0.014   2.002 0.045  0.001  0.057\n",
      "P:density          -0.000    0.000  -0.125 0.901 -0.001  0.001\n",
      "P:landusemix        0.000    0.001   0.605 0.545 -0.001  0.002\n",
      "P:road_density     -0.001    0.001  -2.182 0.029 -0.002 -0.000\n",
      "P:center            0.000    0.001   0.760 0.447 -0.001  0.001\n",
      "P:work_dist        -0.001    0.000  -1.630 0.103 -0.002  0.000\n",
      "P:subway            0.001    0.000   1.448 0.148 -0.000  0.002\n",
      "P:bus              -0.002    0.001  -2.646 0.008 -0.003 -0.000\n",
      "P:age              -0.000    0.000  -1.473 0.141 -0.000  0.000\n",
      "P:gender           -0.000    0.000  -3.113 0.002 -0.001 -0.000\n",
      "Group Var           0.677    0.022                            \n",
      "==============================================================\n"
     ]
    }
   ],
   "source": [
    "model_chain2_5 = smf.mixedlm(formulas_chain2, regress_data_5, groups=regress_data_5['who'])\n",
    "model_chain2_5 = model_chain2_5.fit()\n",
    "print(model_chain2_5.summary())"
   ],
   "metadata": {
    "collapsed": false,
    "ExecuteTime": {
     "end_time": "2023-09-14T03:27:58.147993900Z",
     "start_time": "2023-09-14T03:27:18.412010600Z"
    }
   }
  },
  {
   "cell_type": "code",
   "execution_count": 19,
   "outputs": [
    {
     "name": "stdout",
     "output_type": "stream",
     "text": [
      "             Mixed Linear Model Regression Results\n",
      "===============================================================\n",
      "Model:              MixedLM  Dependent Variable:  subway100    \n",
      "No. Observations:   389026   Method:              REML         \n",
      "No. Groups:         1064     Scale:               670.4121     \n",
      "Min. group size:    365      Log-Likelihood:      -1820395.5717\n",
      "Max. group size:    489      Converged:           Yes          \n",
      "Mean group size:    365.6                                      \n",
      "---------------------------------------------------------------\n",
      "                   Coef.  Std.Err.    z    P>|z|  [0.025 0.975]\n",
      "---------------------------------------------------------------\n",
      "Intercept          14.824    1.923   7.709 0.000  11.055 18.593\n",
      "T                   0.012    0.001  10.880 0.000   0.010  0.014\n",
      "move               -2.344    1.379  -1.700 0.089  -5.046  0.359\n",
      "P                   0.041    0.010   4.238 0.000   0.022  0.060\n",
      "holiday            -5.607    0.089 -62.652 0.000  -5.782 -5.431\n",
      "storm              -0.055    0.127  -0.432 0.665  -0.303  0.193\n",
      "density             5.772    0.541  10.662 0.000   4.711  6.833\n",
      "landusemix          2.396    0.975   2.458 0.014   0.486  4.306\n",
      "road_density       -6.765    0.810  -8.348 0.000  -8.353 -5.177\n",
      "center             -1.179    0.829  -1.422 0.155  -2.805  0.446\n",
      "subway             -0.022    0.679  -0.033 0.974  -1.354  1.309\n",
      "bus                -1.836    0.938  -1.958 0.050  -3.675  0.002\n",
      "age                -1.059    0.255  -4.160 0.000  -1.559 -0.560\n",
      "gender              2.090    0.908   2.303 0.021   0.311  3.869\n",
      "work_dist          17.374    0.636  27.315 0.000  16.127 18.621\n",
      "move:density        8.296    0.958   8.662 0.000   6.419 10.173\n",
      "move:landusemix    -2.100    1.696  -1.238 0.216  -5.425  1.225\n",
      "move:road_density  12.326    1.389   8.876 0.000   9.604 15.048\n",
      "move:center        -0.051    1.470  -0.035 0.972  -2.932  2.830\n",
      "move:work_dist     -8.505    1.118  -7.609 0.000 -10.695 -6.314\n",
      "move:subway        16.043    1.260  12.728 0.000  13.573 18.513\n",
      "move:bus            2.969    1.711   1.735 0.083  -0.385  6.323\n",
      "move:age           -0.140    0.077  -1.834 0.067  -0.291  0.010\n",
      "move:gender        -0.699    0.270  -2.585 0.010  -1.229 -0.169\n",
      "P:density           0.061    0.007   8.923 0.000   0.047  0.074\n",
      "P:landusemix       -0.078    0.011  -6.993 0.000  -0.100 -0.056\n",
      "P:road_density      0.005    0.009   0.581 0.561  -0.013  0.024\n",
      "P:center            0.051    0.010   4.962 0.000   0.031  0.071\n",
      "P:work_dist         0.106    0.009  12.030 0.000   0.089  0.123\n",
      "P:subway            0.023    0.009   2.617 0.009   0.006  0.041\n",
      "P:bus               0.015    0.011   1.331 0.183  -0.007  0.037\n",
      "P:age              -0.003    0.001  -4.583 0.000  -0.004 -0.002\n",
      "P:gender           -0.000    0.002  -0.127 0.899  -0.005  0.004\n",
      "Group Var         195.934    0.333                             \n",
      "===============================================================\n"
     ]
    }
   ],
   "source": [
    "model_ratio3_5 = smf.mixedlm(formulas_ratio3, regress_data_5, groups=regress_data_5['who'])\n",
    "model_ratio3_5 = model_ratio3_5.fit()\n",
    "print(model_ratio3_5.summary())"
   ],
   "metadata": {
    "collapsed": false,
    "ExecuteTime": {
     "end_time": "2023-09-14T03:00:00.015820700Z",
     "start_time": "2023-09-14T02:59:18.166512900Z"
    }
   }
  },
  {
   "cell_type": "markdown",
   "source": [
    "## 15%验证"
   ],
   "metadata": {
    "collapsed": false
   }
  },
  {
   "cell_type": "code",
   "execution_count": 31,
   "outputs": [
    {
     "name": "stdout",
     "output_type": "stream",
     "text": [
      "               Mixed Linear Model Regression Results\n",
      "===================================================================\n",
      "Model:                MixedLM   Dependent Variable:   walk_dist    \n",
      "No. Observations:     1167046   Method:               REML         \n",
      "No. Groups:           3193      Scale:                300942.2705  \n",
      "Min. group size:      365       Log-Likelihood:       -9021804.8124\n",
      "Max. group size:      455       Converged:            Yes          \n",
      "Mean group size:      365.5                                        \n",
      "-------------------------------------------------------------------\n",
      "                    Coef.   Std.Err.    z    P>|z|  [0.025   0.975]\n",
      "-------------------------------------------------------------------\n",
      "Intercept            50.256   13.084   3.841 0.000   24.611  75.901\n",
      "T                     0.043    0.014   3.206 0.001    0.017   0.070\n",
      "move                  0.341   16.544   0.021 0.984  -32.084  32.766\n",
      "P                     0.036    0.119   0.303 0.762   -0.197   0.270\n",
      "holiday              -9.486    1.095  -8.665 0.000  -11.631  -7.340\n",
      "storm                -2.750    1.548  -1.776 0.076   -5.784   0.284\n",
      "density               8.327    6.433   1.295 0.195   -4.280  20.935\n",
      "landusemix            7.359   11.446   0.643 0.520  -15.075  29.794\n",
      "road_density         75.061    9.941   7.550 0.000   55.577  94.546\n",
      "center              -43.715   10.179  -4.294 0.000  -63.666 -23.764\n",
      "subway              -24.334    7.907  -3.078 0.002  -39.831  -8.837\n",
      "bus                  14.789   10.790   1.371 0.170   -6.359  35.937\n",
      "age                   6.937    1.399   4.959 0.000    4.195   9.679\n",
      "gender               -9.974    4.991  -1.998 0.046  -19.755  -0.192\n",
      "work_dist           -86.120    7.739 -11.128 0.000 -101.288 -70.952\n",
      "move:density          4.282   11.842   0.362 0.718  -18.928  27.492\n",
      "move:landusemix      71.455   20.814   3.433 0.001   30.660 112.249\n",
      "move:road_density   -65.590   17.162  -3.822 0.000  -99.227 -31.953\n",
      "move:center          24.736   17.926   1.380 0.168  -10.398  59.870\n",
      "move:work_dist       -8.460   14.110  -0.600 0.549  -36.116  19.195\n",
      "move:subway         -29.820   14.929  -1.998 0.046  -59.080  -0.560\n",
      "move:bus            -55.916   20.346  -2.748 0.006  -95.794 -16.038\n",
      "move:age             -2.980    0.919  -3.244 0.001   -4.781  -1.180\n",
      "move:gender         -13.106    3.223  -4.066 0.000  -19.423  -6.789\n",
      "P:density            -0.067    0.085  -0.788 0.430   -0.233   0.100\n",
      "P:landusemix          0.044    0.145   0.301 0.764   -0.241   0.329\n",
      "P:road_density        0.001    0.120   0.011 0.991   -0.233   0.236\n",
      "P:center              0.087    0.125   0.695 0.487   -0.158   0.331\n",
      "P:work_dist          -0.526    0.114  -4.618 0.000   -0.750  -0.303\n",
      "P:subway              0.128    0.106   1.208 0.227   -0.080   0.337\n",
      "P:bus                -0.019    0.140  -0.133 0.894   -0.293   0.256\n",
      "P:age                 0.016    0.008   2.091 0.037    0.001   0.031\n",
      "P:gender             -0.024    0.026  -0.931 0.352   -0.076   0.027\n",
      "Group Var         17285.515    0.827                               \n",
      "===================================================================\n"
     ]
    }
   ],
   "source": [
    "model_dist2_15 = smf.mixedlm(formulas_dist2, regress_data_15, groups=regress_data_15['who'])\n",
    "model_dist2_15 = model_dist2_15.fit()\n",
    "print(model_dist2_15.summary())"
   ],
   "metadata": {
    "collapsed": false,
    "ExecuteTime": {
     "end_time": "2023-09-14T03:33:28.236807Z",
     "start_time": "2023-09-14T03:31:07.773802100Z"
    }
   }
  },
  {
   "cell_type": "code",
   "execution_count": 32,
   "outputs": [
    {
     "name": "stdout",
     "output_type": "stream",
     "text": [
      "            Mixed Linear Model Regression Results\n",
      "==============================================================\n",
      "Model:            MixedLM Dependent Variable: chain_complexity\n",
      "No. Observations: 1167046 Method:             REML            \n",
      "No. Groups:       3193    Scale:              1.8706          \n",
      "Min. group size:  365     Log-Likelihood:     -2029250.0816   \n",
      "Max. group size:  455     Converged:          Yes             \n",
      "Mean group size:  365.5                                       \n",
      "--------------------------------------------------------------\n",
      "                  Coef.  Std.Err.    z     P>|z| [0.025 0.975]\n",
      "--------------------------------------------------------------\n",
      "Intercept          1.180    0.061   19.455 0.000  1.061  1.298\n",
      "T                  0.002    0.000   63.984 0.000  0.002  0.002\n",
      "move               0.272    0.042    6.542 0.000  0.191  0.353\n",
      "P                 -0.003    0.000  -11.137 0.000 -0.004 -0.003\n",
      "holiday           -0.345    0.003 -126.519 0.000 -0.351 -0.340\n",
      "storm             -0.005    0.004   -1.365 0.172 -0.013  0.002\n",
      "density            0.217    0.016   13.275 0.000  0.185  0.249\n",
      "landusemix         0.194    0.029    6.661 0.000  0.137  0.251\n",
      "road_density      -0.428    0.025  -16.951 0.000 -0.478 -0.379\n",
      "center             0.030    0.026    1.158 0.247 -0.021  0.081\n",
      "subway            -0.273    0.020  -13.586 0.000 -0.312 -0.234\n",
      "bus                0.059    0.027    2.161 0.031  0.006  0.113\n",
      "age                0.018    0.008    2.186 0.029  0.002  0.034\n",
      "gender            -0.060    0.029   -2.055 0.040 -0.117 -0.003\n",
      "work_dist          0.307    0.019   15.756 0.000  0.269  0.345\n",
      "move:density      -0.057    0.030   -1.916 0.055 -0.115  0.001\n",
      "move:landusemix   -0.289    0.052   -5.517 0.000 -0.392 -0.186\n",
      "move:road_density  0.131    0.043    3.036 0.002  0.046  0.216\n",
      "move:center        0.085    0.045    1.889 0.059 -0.003  0.174\n",
      "move:work_dist    -0.113    0.035   -3.208 0.001 -0.182 -0.044\n",
      "move:subway        0.205    0.038    5.459 0.000  0.131  0.279\n",
      "move:bus          -0.058    0.051   -1.131 0.258 -0.159  0.043\n",
      "move:age          -0.013    0.002   -5.456 0.000 -0.017 -0.008\n",
      "move:gender       -0.040    0.008   -4.981 0.000 -0.056 -0.024\n",
      "P:density         -0.000    0.000   -1.028 0.304 -0.001  0.000\n",
      "P:landusemix       0.001    0.000    2.298 0.022  0.000  0.002\n",
      "P:road_density     0.001    0.000    3.573 0.000  0.000  0.002\n",
      "P:center           0.001    0.000    3.045 0.002  0.000  0.002\n",
      "P:work_dist       -0.001    0.000   -3.270 0.001 -0.001 -0.000\n",
      "P:subway          -0.001    0.000   -3.663 0.000 -0.001 -0.000\n",
      "P:bus             -0.001    0.000   -2.085 0.037 -0.001 -0.000\n",
      "P:age             -0.000    0.000   -1.940 0.052 -0.000  0.000\n",
      "P:gender           0.000    0.000    2.139 0.032  0.000  0.000\n",
      "Group Var          0.633    0.012                             \n",
      "==============================================================\n"
     ]
    }
   ],
   "source": [
    "model_chain2_15 = smf.mixedlm(formulas_chain2, regress_data_15, groups=regress_data_15['who'])\n",
    "model_chain2_15 = model_chain2_15.fit()\n",
    "print(model_chain2_15.summary())"
   ],
   "metadata": {
    "collapsed": false,
    "ExecuteTime": {
     "end_time": "2023-09-14T03:35:30.010361700Z",
     "start_time": "2023-09-14T03:33:28.236807Z"
    }
   }
  },
  {
   "cell_type": "code",
   "execution_count": 21,
   "outputs": [
    {
     "name": "stdout",
     "output_type": "stream",
     "text": [
      "             Mixed Linear Model Regression Results\n",
      "===============================================================\n",
      "Model:              MixedLM  Dependent Variable:  subway100    \n",
      "No. Observations:   1167082  Method:              REML         \n",
      "No. Groups:         3193     Scale:               671.6854     \n",
      "Min. group size:    365      Log-Likelihood:      -5462290.7687\n",
      "Max. group size:    605      Converged:           Yes          \n",
      "Mean group size:    365.5                                      \n",
      "---------------------------------------------------------------\n",
      "                   Coef.  Std.Err.    z     P>|z| [0.025 0.975]\n",
      "---------------------------------------------------------------\n",
      "Intercept          15.549    1.075   14.465 0.000 13.442 17.655\n",
      "T                   0.013    0.001   20.183 0.000  0.012  0.014\n",
      "move                0.009    0.786    0.011 0.991 -1.532  1.550\n",
      "P                   0.003    0.005    0.500 0.617 -0.008  0.013\n",
      "holiday            -5.437    0.052 -105.130 0.000 -5.538 -5.335\n",
      "storm               0.062    0.073    0.848 0.397 -0.081  0.206\n",
      "density             3.889    0.306   12.708 0.000  3.289  4.489\n",
      "landusemix          1.314    0.546    2.408 0.016  0.245  2.384\n",
      "road_density       -3.889    0.484   -8.032 0.000 -4.838 -2.940\n",
      "center             -0.412    0.490   -0.842 0.400 -1.372  0.548\n",
      "subway             -2.471    0.376   -6.574 0.000 -3.208 -1.735\n",
      "bus                -0.483    0.521   -0.928 0.353 -1.504  0.537\n",
      "age                -1.122    0.142   -7.882 0.000 -1.402 -0.843\n",
      "gender              1.833    0.513    3.575 0.000  0.828  2.837\n",
      "work_dist          16.319    0.373   43.723 0.000 15.587 17.050\n",
      "move:density        7.513    0.556   13.505 0.000  6.423  8.603\n",
      "move:landusemix    -0.990    0.998   -0.992 0.321 -2.947  0.967\n",
      "move:road_density   2.809    0.831    3.380 0.001  1.180  4.437\n",
      "move:center        -0.839    0.855   -0.981 0.327 -2.515  0.838\n",
      "move:work_dist     -6.038    0.680   -8.880 0.000 -7.370 -4.705\n",
      "move:subway        14.384    0.690   20.851 0.000 13.032 15.737\n",
      "move:bus            2.795    0.978    2.857 0.004  0.878  4.712\n",
      "move:age           -0.226    0.042   -5.342 0.000 -0.309 -0.143\n",
      "move:gender         0.701    0.151    4.639 0.000  0.405  0.998\n",
      "P:density           0.048    0.004   11.881 0.000  0.040  0.055\n",
      "P:landusemix       -0.044    0.007   -6.447 0.000 -0.057 -0.030\n",
      "P:road_density      0.047    0.006    8.080 0.000  0.036  0.058\n",
      "P:center            0.016    0.006    2.657 0.008  0.004  0.027\n",
      "P:work_dist         0.086    0.005   15.790 0.000  0.075  0.097\n",
      "P:subway            0.007    0.005    1.351 0.177 -0.003  0.016\n",
      "P:bus               0.019    0.007    2.769 0.006  0.005  0.032\n",
      "P:age              -0.001    0.000   -3.247 0.001 -0.002 -0.000\n",
      "P:gender           -0.002    0.001   -1.800 0.072 -0.005  0.000\n",
      "Group Var         199.006    0.195                             \n",
      "===============================================================\n"
     ]
    }
   ],
   "source": [
    "model_ratio3_15 = smf.mixedlm(formulas_ratio3, regress_data_15, groups=regress_data_15['who'])\n",
    "model_ratio3_15 = model_ratio3_15.fit()\n",
    "print(model_ratio3_15.summary())"
   ],
   "metadata": {
    "collapsed": false,
    "ExecuteTime": {
     "end_time": "2023-09-14T03:06:25.586884500Z",
     "start_time": "2023-09-14T03:04:33.968181200Z"
    }
   }
  },
  {
   "cell_type": "markdown",
   "source": [
    "## 25%验证"
   ],
   "metadata": {
    "collapsed": false
   }
  },
  {
   "cell_type": "code",
   "execution_count": 34,
   "outputs": [
    {
     "name": "stdout",
     "output_type": "stream",
     "text": [
      "               Mixed Linear Model Regression Results\n",
      "===================================================================\n",
      "Model:               MixedLM   Dependent Variable:   walk_dist     \n",
      "No. Observations:    1945446   Method:               REML          \n",
      "No. Groups:          5322      Scale:                316844.6908   \n",
      "Min. group size:     365       Log-Likelihood:       -15089295.1081\n",
      "Max. group size:     489       Converged:            Yes           \n",
      "Mean group size:     365.5                                         \n",
      "-------------------------------------------------------------------\n",
      "                    Coef.   Std.Err.    z    P>|z|  [0.025   0.975]\n",
      "-------------------------------------------------------------------\n",
      "Intercept            66.541   10.376   6.413 0.000   46.205  86.877\n",
      "T                     0.076    0.011   7.087 0.000    0.055   0.097\n",
      "move                 49.979   13.178   3.793 0.000   24.151  75.808\n",
      "P                    -0.160    0.094  -1.710 0.087   -0.344   0.023\n",
      "holiday             -10.329    0.870 -11.873 0.000  -12.034  -8.624\n",
      "storm                -3.537    1.230  -2.875 0.004   -5.948  -1.126\n",
      "density              -0.624    5.094  -0.123 0.902  -10.608   9.359\n",
      "landusemix            9.763    8.924   1.094 0.274   -7.727  27.253\n",
      "road_density         42.163    7.986   5.280 0.000   26.511  57.815\n",
      "center              -81.376    8.021 -10.146 0.000  -97.096 -65.656\n",
      "subway               -2.081    6.441  -0.323 0.747  -14.705  10.543\n",
      "bus                  25.730    8.640   2.978 0.003    8.796  42.664\n",
      "age                   7.650    1.128   6.781 0.000    5.439   9.860\n",
      "gender              -19.294    3.964  -4.867 0.000  -27.064 -11.524\n",
      "work_dist          -109.687    6.313 -17.374 0.000 -122.061 -97.313\n",
      "move:density        -30.098    9.329  -3.226 0.001  -48.382 -11.815\n",
      "move:landusemix      -9.475   16.471  -0.575 0.565  -41.757  22.807\n",
      "move:road_density   -36.042   13.897  -2.593 0.010  -63.281  -8.804\n",
      "move:center           0.970   13.925   0.070 0.944  -26.323  28.263\n",
      "move:work_dist        5.372   11.556   0.465 0.642  -17.277  28.022\n",
      "move:subway         -33.846   11.784  -2.872 0.004  -56.942 -10.750\n",
      "move:bus             21.063   16.196   1.301 0.193  -10.680  52.807\n",
      "move:age             -3.533    0.741  -4.769 0.000   -4.985  -2.081\n",
      "move:gender         -10.333    2.570  -4.020 0.000  -15.370  -5.295\n",
      "P:density             0.092    0.067   1.372 0.170   -0.039   0.222\n",
      "P:landusemix         -0.116    0.114  -1.016 0.310   -0.340   0.108\n",
      "P:road_density        0.289    0.097   2.980 0.003    0.099   0.479\n",
      "P:center              0.311    0.097   3.214 0.001    0.121   0.501\n",
      "P:work_dist          -0.406    0.091  -4.470 0.000   -0.585  -0.228\n",
      "P:subway             -0.024    0.084  -0.287 0.774   -0.188   0.140\n",
      "P:bus                -0.218    0.113  -1.925 0.054   -0.440   0.004\n",
      "P:age                 0.037    0.006   6.064 0.000    0.025   0.048\n",
      "P:gender             -0.057    0.021  -2.755 0.006   -0.098  -0.017\n",
      "Group Var         17992.242    0.650                               \n",
      "===================================================================\n"
     ]
    }
   ],
   "source": [
    "model_dist2_25 = smf.mixedlm(formulas_dist2, regress_data_25, groups=regress_data_25['who'])\n",
    "model_dist2_25 = model_dist2_25.fit()\n",
    "print(model_dist2_25.summary())"
   ],
   "metadata": {
    "collapsed": false,
    "ExecuteTime": {
     "end_time": "2023-09-14T03:42:15.181450900Z",
     "start_time": "2023-09-14T03:38:35.178832Z"
    }
   }
  },
  {
   "cell_type": "code",
   "execution_count": 35,
   "outputs": [
    {
     "name": "stdout",
     "output_type": "stream",
     "text": [
      "            Mixed Linear Model Regression Results\n",
      "==============================================================\n",
      "Model:            MixedLM Dependent Variable: chain_complexity\n",
      "No. Observations: 1945446 Method:             REML            \n",
      "No. Groups:       5322    Scale:              1.8709          \n",
      "Min. group size:  365     Log-Likelihood:     -3382639.5152   \n",
      "Max. group size:  489     Converged:          Yes             \n",
      "Mean group size:  365.5                                       \n",
      "--------------------------------------------------------------\n",
      "                  Coef.  Std.Err.    z     P>|z| [0.025 0.975]\n",
      "--------------------------------------------------------------\n",
      "Intercept          1.228    0.047   26.353 0.000  1.136  1.319\n",
      "T                  0.002    0.000   86.689 0.000  0.002  0.002\n",
      "move               0.124    0.032    3.848 0.000  0.061  0.188\n",
      "P                 -0.002    0.000  -10.423 0.000 -0.003 -0.002\n",
      "holiday           -0.337    0.002 -159.618 0.000 -0.342 -0.333\n",
      "storm             -0.010    0.003   -3.420 0.001 -0.016 -0.004\n",
      "density            0.127    0.013   10.021 0.000  0.102  0.151\n",
      "landusemix        -0.075    0.022   -3.399 0.001 -0.118 -0.032\n",
      "road_density      -0.226    0.020  -11.425 0.000 -0.265 -0.187\n",
      "center            -0.064    0.020   -3.230 0.001 -0.103 -0.025\n",
      "subway            -0.132    0.016   -8.295 0.000 -0.164 -0.101\n",
      "bus                0.017    0.021    0.815 0.415 -0.024  0.059\n",
      "age                0.032    0.006    5.036 0.000  0.019  0.044\n",
      "gender            -0.052    0.022   -2.352 0.019 -0.095 -0.009\n",
      "work_dist          0.371    0.015   23.952 0.000  0.340  0.401\n",
      "move:density      -0.047    0.023   -2.070 0.038 -0.092 -0.003\n",
      "move:landusemix    0.017    0.040    0.431 0.667 -0.062  0.097\n",
      "move:road_density  0.096    0.034    2.827 0.005  0.030  0.163\n",
      "move:center       -0.327    0.034   -9.576 0.000 -0.394 -0.260\n",
      "move:work_dist    -0.300    0.028  -10.669 0.000 -0.356 -0.245\n",
      "move:subway       -0.035    0.029   -1.221 0.222 -0.092  0.021\n",
      "move:bus           0.037    0.040    0.924 0.355 -0.041  0.115\n",
      "move:age          -0.008    0.002   -4.706 0.000 -0.012 -0.005\n",
      "move:gender       -0.022    0.006   -3.570 0.000 -0.035 -0.010\n",
      "P:density          0.000    0.000    1.510 0.131 -0.000  0.001\n",
      "P:landusemix      -0.001    0.000   -5.320 0.000 -0.002 -0.001\n",
      "P:road_density     0.001    0.000    2.532 0.011  0.000  0.001\n",
      "P:center           0.002    0.000   10.554 0.000  0.002  0.003\n",
      "P:work_dist       -0.001    0.000   -6.631 0.000 -0.002 -0.001\n",
      "P:subway           0.000    0.000    0.762 0.446 -0.000  0.001\n",
      "P:bus             -0.001    0.000   -2.631 0.009 -0.001 -0.000\n",
      "P:age              0.000    0.000    1.039 0.299 -0.000  0.000\n",
      "P:gender          -0.000    0.000   -0.210 0.834 -0.000  0.000\n",
      "Group Var          0.601    0.009                             \n",
      "==============================================================\n"
     ]
    }
   ],
   "source": [
    "model_chain2_25 = smf.mixedlm(formulas_chain2, regress_data_25, groups=regress_data_25['who'])\n",
    "model_chain2_25 = model_chain2_25.fit()\n",
    "print(model_chain2_25.summary())"
   ],
   "metadata": {
    "collapsed": false,
    "ExecuteTime": {
     "end_time": "2023-09-14T03:45:24.569765200Z",
     "start_time": "2023-09-14T03:42:15.181450900Z"
    }
   }
  },
  {
   "cell_type": "code",
   "execution_count": 23,
   "outputs": [
    {
     "name": "stdout",
     "output_type": "stream",
     "text": [
      "             Mixed Linear Model Regression Results\n",
      "===============================================================\n",
      "Model:              MixedLM  Dependent Variable:  subway100    \n",
      "No. Observations:   1944670  Method:              REML         \n",
      "No. Groups:         5322     Scale:               654.4207     \n",
      "Min. group size:    365      Log-Likelihood:      -9076306.6810\n",
      "Max. group size:    515      Converged:           Yes          \n",
      "Mean group size:    365.4                                      \n",
      "---------------------------------------------------------------\n",
      "                   Coef.  Std.Err.    z     P>|z| [0.025 0.975]\n",
      "---------------------------------------------------------------\n",
      "Intercept          15.043    0.845   17.803 0.000 13.387 16.699\n",
      "T                   0.017    0.000   33.876 0.000  0.016  0.018\n",
      "move                2.593    0.617    4.201 0.000  1.384  3.803\n",
      "P                  -0.023    0.004   -5.332 0.000 -0.032 -0.015\n",
      "holiday            -5.282    0.040 -133.560 0.000 -5.359 -5.204\n",
      "storm              -0.149    0.056   -2.665 0.008 -0.259 -0.039\n",
      "density             2.019    0.241    8.375 0.000  1.546  2.491\n",
      "landusemix          2.641    0.422    6.255 0.000  1.814  3.469\n",
      "road_density       -5.713    0.366  -15.614 0.000 -6.430 -4.996\n",
      "center             -0.128    0.373   -0.343 0.732 -0.858  0.603\n",
      "subway             -2.433    0.294   -8.271 0.000 -3.010 -1.857\n",
      "bus                 0.366    0.405    0.904 0.366 -0.428  1.160\n",
      "age                -1.197    0.113  -10.609 0.000 -1.418 -0.976\n",
      "gender              1.956    0.400    4.897 0.000  1.173  2.739\n",
      "work_dist          15.008    0.284   52.822 0.000 14.451 15.565\n",
      "move:density        9.025    0.433   20.828 0.000  8.176  9.874\n",
      "move:landusemix    -6.340    0.773   -8.197 0.000 -7.856 -4.824\n",
      "move:road_density   5.997    0.631    9.501 0.000  4.760  7.234\n",
      "move:center         4.979    0.644    7.730 0.000  3.716  6.241\n",
      "move:work_dist     -2.346    0.522   -4.498 0.000 -3.369 -1.324\n",
      "move:subway        18.748    0.549   34.151 0.000 17.672 19.824\n",
      "move:bus            2.549    0.756    3.370 0.001  1.066  4.031\n",
      "move:age           -0.423    0.034  -12.570 0.000 -0.488 -0.357\n",
      "move:gender         0.193    0.118    1.639 0.101 -0.038  0.425\n",
      "P:density           0.037    0.003   12.009 0.000  0.031  0.043\n",
      "P:landusemix       -0.005    0.005   -0.949 0.343 -0.015  0.005\n",
      "P:road_density      0.016    0.004    3.741 0.000  0.008  0.025\n",
      "P:center           -0.007    0.004   -1.551 0.121 -0.016  0.002\n",
      "P:work_dist         0.061    0.004   14.828 0.000  0.053  0.070\n",
      "P:subway            0.022    0.004    5.780 0.000  0.015  0.030\n",
      "P:bus               0.006    0.005    1.184 0.236 -0.004  0.016\n",
      "P:age               0.001    0.000    2.117 0.034  0.000  0.001\n",
      "P:gender            0.002    0.001    2.569 0.010  0.001  0.004\n",
      "Group Var         194.905    0.150                             \n",
      "===============================================================\n"
     ]
    }
   ],
   "source": [
    "model_ratio3_25 = smf.mixedlm(formulas_ratio3, regress_data_25, groups=regress_data_25['who'])\n",
    "model_ratio3_25 = model_ratio3_25.fit()\n",
    "print(model_ratio3_25.summary())"
   ],
   "metadata": {
    "collapsed": false,
    "ExecuteTime": {
     "end_time": "2023-09-14T03:16:09.963592600Z",
     "start_time": "2023-09-14T03:13:06.423990Z"
    }
   }
  },
  {
   "cell_type": "markdown",
   "source": [
    "## 35%验证"
   ],
   "metadata": {
    "collapsed": false
   }
  },
  {
   "cell_type": "code",
   "execution_count": 37,
   "outputs": [
    {
     "name": "stdout",
     "output_type": "stream",
     "text": [
      "               Mixed Linear Model Regression Results\n",
      "====================================================================\n",
      "Model:                MixedLM   Dependent Variable:   walk_dist     \n",
      "No. Observations:     2723597   Method:               REML          \n",
      "No. Groups:           7451      Scale:                313879.5991   \n",
      "Min. group size:      365       Log-Likelihood:       -21112085.8178\n",
      "Max. group size:      545       Converged:            Yes           \n",
      "Mean group size:      365.5                                         \n",
      "--------------------------------------------------------------------\n",
      "                    Coef.   Std.Err.    z    P>|z|  [0.025   0.975] \n",
      "--------------------------------------------------------------------\n",
      "Intercept            78.112    8.904   8.773 0.000   60.661   95.563\n",
      "T                     0.053    0.009   5.829 0.000    0.035    0.070\n",
      "move                  5.555   11.137   0.499 0.618  -16.273   27.383\n",
      "P                     0.110    0.079   1.391 0.164   -0.045    0.264\n",
      "holiday             -10.553    0.732 -14.420 0.000  -11.987   -9.118\n",
      "storm                -1.886    1.035  -1.822 0.068   -3.915    0.142\n",
      "density              -3.738    4.297  -0.870 0.384  -12.160    4.684\n",
      "landusemix            0.422    7.724   0.055 0.956  -14.717   15.561\n",
      "road_density         76.439    6.639  11.513 0.000   63.426   89.451\n",
      "center              -67.270    6.769  -9.938 0.000  -80.537  -54.003\n",
      "subway              -14.709    5.406  -2.721 0.007  -25.305   -4.113\n",
      "bus                   0.516    7.293   0.071 0.944  -13.778   14.810\n",
      "age                   6.323    0.963   6.568 0.000    4.436    8.210\n",
      "gender              -21.030    3.399  -6.187 0.000  -27.692  -14.369\n",
      "work_dist          -112.413    5.163 -21.774 0.000 -122.532 -102.295\n",
      "move:density         -9.339    7.920  -1.179 0.238  -24.862    6.184\n",
      "move:landusemix      23.100   13.928   1.659 0.097   -4.199   50.399\n",
      "move:road_density   -97.686   11.789  -8.286 0.000 -120.793  -74.580\n",
      "move:center          39.279   11.869   3.309 0.001   16.016   62.541\n",
      "move:work_dist       15.292    9.328   1.639 0.101   -2.991   33.576\n",
      "move:subway         -26.981   10.046  -2.686 0.007  -46.670   -7.292\n",
      "move:bus             17.875   13.551   1.319 0.187   -8.685   44.435\n",
      "move:age              0.484    0.628   0.771 0.441   -0.746    1.715\n",
      "move:gender          -5.180    2.191  -2.364 0.018   -9.474   -0.886\n",
      "P:density            -0.057    0.057  -0.999 0.318   -0.169    0.055\n",
      "P:landusemix         -0.171    0.095  -1.803 0.071   -0.357    0.015\n",
      "P:road_density        0.274    0.083   3.307 0.001    0.112    0.437\n",
      "P:center             -0.105    0.082  -1.286 0.198   -0.265    0.055\n",
      "P:work_dist          -0.433    0.074  -5.839 0.000   -0.579   -0.288\n",
      "P:subway              0.089    0.072   1.242 0.214   -0.051    0.229\n",
      "P:bus                 0.042    0.094   0.440 0.660   -0.144    0.227\n",
      "P:age                 0.011    0.005   2.093 0.036    0.001    0.021\n",
      "P:gender             -0.038    0.018  -2.114 0.034   -0.073   -0.003\n",
      "Group Var         18162.705    0.557                                \n",
      "====================================================================\n"
     ]
    }
   ],
   "source": [
    "model_dist2_35 = smf.mixedlm(formulas_dist2, regress_data_35, groups=regress_data_35['who'])\n",
    "model_dist2_35 = model_dist2_35.fit()\n",
    "print(model_dist2_35.summary())"
   ],
   "metadata": {
    "collapsed": false,
    "ExecuteTime": {
     "end_time": "2023-09-14T03:50:59.374487800Z",
     "start_time": "2023-09-14T03:45:43.809479400Z"
    }
   }
  },
  {
   "cell_type": "code",
   "execution_count": 38,
   "outputs": [
    {
     "name": "stdout",
     "output_type": "stream",
     "text": [
      "            Mixed Linear Model Regression Results\n",
      "==============================================================\n",
      "Model:            MixedLM Dependent Variable: chain_complexity\n",
      "No. Observations: 2723597 Method:             REML            \n",
      "No. Groups:       7451    Scale:              1.8835          \n",
      "Min. group size:  365     Log-Likelihood:     -4744963.3731   \n",
      "Max. group size:  545     Converged:          Yes             \n",
      "Mean group size:  365.5                                       \n",
      "--------------------------------------------------------------\n",
      "                  Coef.  Std.Err.    z     P>|z| [0.025 0.975]\n",
      "--------------------------------------------------------------\n",
      "Intercept          1.255    0.041   30.665 0.000  1.175  1.335\n",
      "T                  0.002    0.000   97.825 0.000  0.002  0.002\n",
      "move               0.107    0.028    3.886 0.000  0.053  0.161\n",
      "P                 -0.003    0.000  -13.884 0.000 -0.003 -0.002\n",
      "holiday           -0.331    0.002 -184.460 0.000 -0.334 -0.327\n",
      "storm             -0.007    0.003   -2.638 0.008 -0.012 -0.002\n",
      "density            0.170    0.011   15.861 0.000  0.149  0.191\n",
      "landusemix        -0.000    0.019   -0.024 0.981 -0.038  0.037\n",
      "road_density      -0.278    0.017  -16.796 0.000 -0.311 -0.246\n",
      "center            -0.045    0.017   -2.683 0.007 -0.078 -0.012\n",
      "subway            -0.287    0.013  -21.238 0.000 -0.313 -0.260\n",
      "bus               -0.098    0.018   -5.405 0.000 -0.134 -0.063\n",
      "age                0.025    0.006    4.502 0.000  0.014  0.036\n",
      "gender            -0.038    0.019   -1.961 0.050 -0.076 -0.000\n",
      "work_dist          0.361    0.013   28.273 0.000  0.336  0.386\n",
      "move:density      -0.102    0.020   -5.216 0.000 -0.140 -0.064\n",
      "move:landusemix   -0.213    0.035   -6.160 0.000 -0.280 -0.145\n",
      "move:road_density  0.136    0.029    4.657 0.000  0.079  0.193\n",
      "move:center        0.109    0.029    3.711 0.000  0.051  0.166\n",
      "move:work_dist    -0.182    0.023   -7.941 0.000 -0.227 -0.137\n",
      "move:subway        0.246    0.025    9.917 0.000  0.198  0.295\n",
      "move:bus           0.088    0.034    2.635 0.008  0.023  0.154\n",
      "move:age           0.004    0.002    2.727 0.006  0.001  0.007\n",
      "move:gender       -0.041    0.005   -7.703 0.000 -0.052 -0.031\n",
      "P:density          0.000    0.000    2.337 0.019  0.000  0.001\n",
      "P:landusemix       0.000    0.000    0.178 0.859 -0.000  0.000\n",
      "P:road_density     0.001    0.000    3.647 0.000  0.000  0.001\n",
      "P:center           0.000    0.000    2.367 0.018  0.000  0.001\n",
      "P:work_dist       -0.002    0.000   -9.808 0.000 -0.002 -0.001\n",
      "P:subway          -0.000    0.000   -0.501 0.617 -0.000  0.000\n",
      "P:bus             -0.001    0.000   -4.223 0.000 -0.001 -0.001\n",
      "P:age             -0.000    0.000   -2.960 0.003 -0.000 -0.000\n",
      "P:gender          -0.000    0.000   -1.701 0.089 -0.000  0.000\n",
      "Group Var          0.641    0.008                             \n",
      "==============================================================\n"
     ]
    }
   ],
   "source": [
    "model_chain2_35 = smf.mixedlm(formulas_chain2, regress_data_35, groups=regress_data_35['who'])\n",
    "model_chain2_35 = model_chain2_35.fit()\n",
    "print(model_chain2_35.summary())"
   ],
   "metadata": {
    "collapsed": false,
    "ExecuteTime": {
     "end_time": "2023-09-14T03:55:34.820575800Z",
     "start_time": "2023-09-14T03:50:59.374487800Z"
    }
   }
  },
  {
   "cell_type": "code",
   "execution_count": 25,
   "outputs": [
    {
     "name": "stdout",
     "output_type": "stream",
     "text": [
      "             Mixed Linear Model Regression Results\n",
      "===============================================================\n",
      "Model:             MixedLM  Dependent Variable:  subway100     \n",
      "No. Observations:  2722842  Method:              REML          \n",
      "No. Groups:        7451     Scale:               662.3170      \n",
      "Min. group size:   365      Log-Likelihood:      -12724570.3655\n",
      "Max. group size:   520      Converged:           Yes           \n",
      "Mean group size:   365.4                                       \n",
      "---------------------------------------------------------------\n",
      "                   Coef.  Std.Err.    z     P>|z| [0.025 0.975]\n",
      "---------------------------------------------------------------\n",
      "Intercept          14.310    0.708   20.223 0.000 12.923 15.697\n",
      "T                   0.015    0.000   36.328 0.000  0.014  0.016\n",
      "move                1.237    0.515    2.404 0.016  0.228  2.246\n",
      "P                  -0.013    0.004   -3.714 0.000 -0.021 -0.006\n",
      "holiday            -5.702    0.034 -169.613 0.000 -5.768 -5.637\n",
      "storm              -0.242    0.048   -5.086 0.000 -0.335 -0.149\n",
      "density             3.350    0.199   16.795 0.000  2.959  3.741\n",
      "landusemix          2.446    0.351    6.963 0.000  1.758  3.135\n",
      "road_density       -6.534    0.314  -20.793 0.000 -7.150 -5.918\n",
      "center              0.755    0.318    2.378 0.017  0.133  1.378\n",
      "subway             -3.818    0.251  -15.190 0.000 -4.310 -3.325\n",
      "bus                 2.224    0.345    6.452 0.000  1.549  2.900\n",
      "age                -1.073    0.094  -11.372 0.000 -1.258 -0.888\n",
      "gender              2.086    0.339    6.159 0.000  1.422  2.749\n",
      "work_dist          15.461    0.238   64.849 0.000 14.994 15.928\n",
      "move:density        9.176    0.364   25.213 0.000  8.463  9.889\n",
      "move:landusemix    -4.628    0.652   -7.101 0.000 -5.905 -3.350\n",
      "move:road_density   8.397    0.548   15.314 0.000  7.322  9.472\n",
      "move:center         2.799    0.551    5.081 0.000  1.719  3.878\n",
      "move:work_dist     -3.174    0.439   -7.234 0.000 -4.034 -2.314\n",
      "move:subway        18.957    0.465   40.751 0.000 18.046 19.869\n",
      "move:bus            1.946    0.643    3.026 0.002  0.686  3.207\n",
      "move:age           -0.396    0.028  -14.156 0.000 -0.451 -0.341\n",
      "move:gender        -0.365    0.100   -3.658 0.000 -0.561 -0.169\n",
      "P:density           0.042    0.003   16.101 0.000  0.037  0.047\n",
      "P:landusemix       -0.016    0.004   -3.666 0.000 -0.025 -0.008\n",
      "P:road_density      0.010    0.004    2.735 0.006  0.003  0.018\n",
      "P:center            0.017    0.004    4.604 0.000  0.010  0.025\n",
      "P:work_dist         0.062    0.004   17.661 0.000  0.055  0.069\n",
      "P:subway            0.041    0.003   12.629 0.000  0.035  0.048\n",
      "P:bus              -0.001    0.004   -0.239 0.811 -0.010  0.008\n",
      "P:age              -0.000    0.000   -1.174 0.240 -0.001  0.000\n",
      "P:gender            0.006    0.001    7.996 0.000  0.005  0.008\n",
      "Group Var         197.929    0.128                             \n",
      "===============================================================\n"
     ]
    }
   ],
   "source": [
    "model_ratio3_35 = smf.mixedlm(formulas_ratio3, regress_data_35, groups=regress_data_35['who'])\n",
    "model_ratio3_35 = model_ratio3_35.fit()\n",
    "print(model_ratio3_35.summary())"
   ],
   "metadata": {
    "collapsed": false,
    "ExecuteTime": {
     "end_time": "2023-09-14T03:21:51.276194600Z",
     "start_time": "2023-09-14T03:17:31.295923400Z"
    }
   }
  },
  {
   "cell_type": "markdown",
   "source": [
    "## 45%验证"
   ],
   "metadata": {
    "collapsed": false
   }
  },
  {
   "cell_type": "code",
   "execution_count": 40,
   "outputs": [
    {
     "name": "stdout",
     "output_type": "stream",
     "text": [
      "               Mixed Linear Model Regression Results\n",
      "====================================================================\n",
      "Model:                MixedLM   Dependent Variable:   walk_dist     \n",
      "No. Observations:     3501187   Method:               REML          \n",
      "No. Groups:           9580      Scale:                315304.1491   \n",
      "Min. group size:      365       Log-Likelihood:       -27147836.7485\n",
      "Max. group size:      605       Converged:            Yes           \n",
      "Mean group size:      365.5                                         \n",
      "--------------------------------------------------------------------\n",
      "                    Coef.   Std.Err.    z    P>|z|  [0.025   0.975] \n",
      "--------------------------------------------------------------------\n",
      "Intercept            90.227    7.981  11.305 0.000   74.584  105.870\n",
      "T                     0.037    0.008   4.661 0.000    0.022    0.053\n",
      "move                -20.456    9.996  -2.046 0.041  -40.048   -0.864\n",
      "P                    -0.017    0.071  -0.245 0.807   -0.156    0.121\n",
      "holiday              -9.566    0.647 -14.788 0.000  -10.834   -8.298\n",
      "storm                -2.947    0.915  -3.221 0.001   -4.740   -1.154\n",
      "density               5.146    3.784   1.360 0.174   -2.271   12.563\n",
      "landusemix          -22.492    6.824  -3.296 0.001  -35.867   -9.116\n",
      "road_density         71.380    5.860  12.181 0.000   59.894   82.865\n",
      "center              -49.419    6.037  -8.186 0.000  -61.252  -37.586\n",
      "subway               -4.642    4.741  -0.979 0.328  -13.934    4.650\n",
      "bus                  25.307    6.497   3.895 0.000   12.572   38.041\n",
      "age                   5.680    0.872   6.510 0.000    3.970    7.390\n",
      "gender              -19.520    3.058  -6.384 0.000  -25.512  -13.527\n",
      "work_dist          -109.439    4.622 -23.678 0.000 -118.498 -100.380\n",
      "move:density        -22.472    6.903  -3.255 0.001  -36.002   -8.942\n",
      "move:landusemix      85.333   12.610   6.767 0.000   60.619  110.048\n",
      "move:road_density   -88.502   10.323  -8.573 0.000 -108.734  -68.270\n",
      "move:center          34.857   10.567   3.299 0.001   14.146   55.567\n",
      "move:work_dist       11.091    8.449   1.313 0.189   -5.470   27.651\n",
      "move:subway         -19.305    8.897  -2.170 0.030  -36.742   -1.868\n",
      "move:bus            -38.687   12.191  -3.173 0.002  -62.582  -14.793\n",
      "move:age             -0.183    0.551  -0.332 0.740   -1.263    0.897\n",
      "move:gender          -9.985    1.914  -5.218 0.000  -13.736   -6.235\n",
      "P:density            -0.129    0.049  -2.611 0.009   -0.226   -0.032\n",
      "P:landusemix         -0.124    0.086  -1.437 0.151   -0.294    0.045\n",
      "P:road_density        0.501    0.072   6.974 0.000    0.360    0.642\n",
      "P:center              0.152    0.073   2.082 0.037    0.009    0.295\n",
      "P:work_dist          -0.416    0.068  -6.155 0.000   -0.549   -0.284\n",
      "P:subway              0.055    0.064   0.859 0.390   -0.070    0.180\n",
      "P:bus                 0.053    0.085   0.623 0.533   -0.113    0.219\n",
      "P:age                 0.013    0.005   2.871 0.004    0.004    0.022\n",
      "P:gender             -0.039    0.016  -2.522 0.012   -0.070   -0.009\n",
      "Group Var         19411.305    0.523                                \n",
      "====================================================================\n"
     ]
    }
   ],
   "source": [
    "model_dist2_45 = smf.mixedlm(formulas_dist2, regress_data_45, groups=regress_data_45['who'])\n",
    "model_dist2_45 = model_dist2_45.fit()\n",
    "print(model_dist2_45.summary())"
   ],
   "metadata": {
    "collapsed": false,
    "ExecuteTime": {
     "end_time": "2023-09-14T04:04:31.648357800Z",
     "start_time": "2023-09-14T03:57:09.621439600Z"
    }
   }
  },
  {
   "cell_type": "code",
   "execution_count": 41,
   "outputs": [
    {
     "name": "stdout",
     "output_type": "stream",
     "text": [
      "            Mixed Linear Model Regression Results\n",
      "==============================================================\n",
      "Model:            MixedLM Dependent Variable: chain_complexity\n",
      "No. Observations: 3501187 Method:             REML            \n",
      "No. Groups:       9580    Scale:              1.8734          \n",
      "Min. group size:  365     Log-Likelihood:     -6090144.3707   \n",
      "Max. group size:  605     Converged:          Yes             \n",
      "Mean group size:  365.5                                       \n",
      "--------------------------------------------------------------\n",
      "                  Coef.  Std.Err.    z     P>|z| [0.025 0.975]\n",
      "--------------------------------------------------------------\n",
      "Intercept          1.352    0.035   38.108 0.000  1.283  1.422\n",
      "T                  0.002    0.000  111.038 0.000  0.002  0.002\n",
      "move              -0.066    0.025   -2.680 0.007 -0.114 -0.018\n",
      "P                 -0.002    0.000   -9.679 0.000 -0.002 -0.001\n",
      "holiday           -0.331    0.002 -210.156 0.000 -0.334 -0.328\n",
      "storm             -0.009    0.002   -4.219 0.000 -0.014 -0.005\n",
      "density            0.175    0.009   18.617 0.000  0.156  0.193\n",
      "landusemix        -0.164    0.017   -9.709 0.000 -0.197 -0.131\n",
      "road_density      -0.165    0.015  -11.318 0.000 -0.193 -0.136\n",
      "center             0.045    0.015    3.032 0.002  0.016  0.075\n",
      "subway            -0.184    0.012  -15.649 0.000 -0.207 -0.161\n",
      "bus               -0.040    0.016   -2.476 0.013 -0.071 -0.008\n",
      "age                0.018    0.005    3.825 0.000  0.009  0.028\n",
      "gender            -0.058    0.017   -3.462 0.001 -0.091 -0.025\n",
      "work_dist          0.403    0.011   35.525 0.000  0.381  0.426\n",
      "move:density      -0.084    0.017   -4.959 0.000 -0.117 -0.051\n",
      "move:landusemix    0.106    0.031    3.402 0.001  0.045  0.167\n",
      "move:road_density -0.004    0.025   -0.169 0.866 -0.054  0.045\n",
      "move:center        0.063    0.026    2.442 0.015  0.013  0.114\n",
      "move:work_dist    -0.187    0.021   -9.034 0.000 -0.227 -0.146\n",
      "move:subway        0.173    0.022    7.902 0.000  0.130  0.216\n",
      "move:bus           0.091    0.030    3.026 0.002  0.032  0.150\n",
      "move:age          -0.001    0.001   -0.655 0.513 -0.004  0.002\n",
      "move:gender       -0.010    0.005   -2.054 0.040 -0.019 -0.000\n",
      "P:density          0.000    0.000    0.355 0.722 -0.000  0.000\n",
      "P:landusemix      -0.001    0.000   -5.543 0.000 -0.002 -0.001\n",
      "P:road_density     0.000    0.000    2.638 0.008  0.000  0.001\n",
      "P:center          -0.000    0.000   -1.307 0.191 -0.001  0.000\n",
      "P:work_dist       -0.001    0.000   -8.792 0.000 -0.002 -0.001\n",
      "P:subway          -0.000    0.000   -2.819 0.005 -0.001 -0.000\n",
      "P:bus             -0.001    0.000   -3.514 0.000 -0.001 -0.000\n",
      "P:age             -0.000    0.000   -2.672 0.008 -0.000 -0.000\n",
      "P:gender           0.000    0.000    4.430 0.000  0.000  0.000\n",
      "Group Var          0.623    0.007                             \n",
      "==============================================================\n"
     ]
    }
   ],
   "source": [
    "model_chain2_45 = smf.mixedlm(formulas_chain2, regress_data_45, groups=regress_data_45['who'])\n",
    "model_chain2_45 = model_chain2_45.fit()\n",
    "print(model_chain2_45.summary())"
   ],
   "metadata": {
    "collapsed": false,
    "ExecuteTime": {
     "end_time": "2023-09-14T04:10:38.048160Z",
     "start_time": "2023-09-14T04:04:31.648357800Z"
    }
   }
  },
  {
   "cell_type": "code",
   "execution_count": 44,
   "outputs": [
    {
     "name": "stdout",
     "output_type": "stream",
     "text": [
      "             Mixed Linear Model Regression Results\n",
      "===============================================================\n",
      "Model:             MixedLM  Dependent Variable:  subway100     \n",
      "No. Observations:  3501187  Method:              REML          \n",
      "No. Groups:        9580     Scale:               663.0866      \n",
      "Min. group size:   365      Log-Likelihood:      -16364023.2479\n",
      "Max. group size:   605      Converged:           Yes           \n",
      "Mean group size:   365.5                                       \n",
      "---------------------------------------------------------------\n",
      "                   Coef.  Std.Err.    z     P>|z| [0.025 0.975]\n",
      "---------------------------------------------------------------\n",
      "Intercept          14.358    0.639   22.461 0.000 13.105 15.611\n",
      "T                   0.013    0.000   35.569 0.000  0.012  0.014\n",
      "move                1.072    0.462    2.319 0.020  0.166  1.978\n",
      "P                  -0.004    0.003   -1.346 0.178 -0.011  0.002\n",
      "holiday            -5.523    0.030 -186.169 0.000 -5.581 -5.465\n",
      "storm              -0.142    0.042   -3.376 0.001 -0.224 -0.059\n",
      "density             1.827    0.177   10.342 0.000  1.481  2.174\n",
      "landusemix          4.903    0.318   15.405 0.000  4.279  5.527\n",
      "road_density       -7.366    0.273  -26.940 0.000 -7.902 -6.830\n",
      "center             -0.218    0.282   -0.773 0.439 -0.770  0.334\n",
      "subway             -3.109    0.221  -14.055 0.000 -3.542 -2.675\n",
      "bus                 0.028    0.303    0.092 0.926 -0.566  0.622\n",
      "age                -1.103    0.085  -12.918 0.000 -1.270 -0.935\n",
      "gender              2.009    0.299    6.715 0.000  1.422  2.595\n",
      "work_dist          13.758    0.214   64.396 0.000 13.339 14.177\n",
      "move:density       10.389    0.319   32.566 0.000  9.763 11.014\n",
      "move:landusemix    -5.836    0.584   -9.990 0.000 -6.981 -4.691\n",
      "move:road_density   7.751    0.477   16.234 0.000  6.815  8.686\n",
      "move:center         4.196    0.489    8.584 0.000  3.238  5.155\n",
      "move:work_dist     -0.422    0.388   -1.086 0.277 -1.183  0.339\n",
      "move:subway        19.180    0.411   46.636 0.000 18.374 19.986\n",
      "move:bus            1.162    0.565    2.059 0.040  0.056  2.269\n",
      "move:age           -0.372    0.025  -14.708 0.000 -0.421 -0.322\n",
      "move:gender         0.769    0.088    8.757 0.000  0.597  0.941\n",
      "P:density           0.046    0.002   20.302 0.000  0.042  0.050\n",
      "P:landusemix       -0.024    0.004   -6.135 0.000 -0.032 -0.017\n",
      "P:road_density      0.004    0.003    1.178 0.239 -0.003  0.010\n",
      "P:center            0.017    0.003    5.089 0.000  0.010  0.024\n",
      "P:work_dist         0.069    0.003   22.148 0.000  0.063  0.075\n",
      "P:subway            0.041    0.003   14.052 0.000  0.035  0.047\n",
      "P:bus               0.012    0.004    3.152 0.002  0.005  0.020\n",
      "P:age              -0.001    0.000   -2.606 0.009 -0.001 -0.000\n",
      "P:gender            0.003    0.001    4.244 0.000  0.002  0.004\n",
      "Group Var         199.045    0.113                             \n",
      "===============================================================\n"
     ]
    }
   ],
   "source": [
    "model_ratio3_45 = smf.mixedlm(formulas_ratio3, regress_data_45, groups=regress_data_45['who'])\n",
    "model_ratio3_45 = model_ratio3_45.fit()\n",
    "print(model_ratio3_45.summary())"
   ],
   "metadata": {
    "collapsed": false,
    "ExecuteTime": {
     "end_time": "2023-09-14T04:29:54.765095500Z",
     "start_time": "2023-09-14T04:23:12.842478900Z"
    }
   }
  },
  {
   "cell_type": "code",
   "execution_count": 43,
   "outputs": [
    {
     "data": {
      "text/plain": "11696"
     },
     "execution_count": 43,
     "metadata": {},
     "output_type": "execute_result"
    }
   ],
   "source": [
    "del model_chain2_45, model_dist2_45\n",
    "gc.collect()"
   ],
   "metadata": {
    "collapsed": false,
    "ExecuteTime": {
     "end_time": "2023-09-14T04:23:12.842478900Z",
     "start_time": "2023-09-14T04:22:50.980322400Z"
    }
   }
  },
  {
   "cell_type": "code",
   "execution_count": null,
   "outputs": [],
   "source": [],
   "metadata": {
    "collapsed": false
   }
  }
 ],
 "metadata": {
  "kernelspec": {
   "display_name": "Python 3",
   "language": "python",
   "name": "python3"
  },
  "language_info": {
   "codemirror_mode": {
    "name": "ipython",
    "version": 2
   },
   "file_extension": ".py",
   "mimetype": "text/x-python",
   "name": "python",
   "nbconvert_exporter": "python",
   "pygments_lexer": "ipython2",
   "version": "2.7.6"
  }
 },
 "nbformat": 4,
 "nbformat_minor": 0
}
