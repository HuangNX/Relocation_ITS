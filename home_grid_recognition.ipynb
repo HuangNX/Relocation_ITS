{
 "cells": [
  {
   "cell_type": "code",
   "execution_count": 1,
   "metadata": {
    "collapsed": true,
    "ExecuteTime": {
     "end_time": "2023-07-23T14:57:18.861303500Z",
     "start_time": "2023-07-23T14:57:14.420170400Z"
    }
   },
   "outputs": [],
   "source": [
    "import numpy as np\n",
    "import pandas as pd\n",
    "import matplotlib.pyplot as plt\n",
    "import  seaborn as sns\n",
    "\n",
    "from scipy.stats import entropy\n",
    "from sklearn.preprocessing import  MinMaxScaler\n"
   ]
  },
  {
   "cell_type": "code",
   "execution_count": 2,
   "outputs": [
    {
     "data": {
      "text/plain": "   who      date   fnid  chess_x  chess_y  home_fre  home_time  od_num\n0   62  20190701  51457       49      144         6     359057      31\n1   62  20190701  55027       49      154         1       7472       1\n2   62  20190801  51490       82      144         0      15467       2\n3   62  20190801  52514       35      147         0      13913       2\n4   62  20190801  52179       57      146         9     585078      50",
      "text/html": "<div>\n<style scoped>\n    .dataframe tbody tr th:only-of-type {\n        vertical-align: middle;\n    }\n\n    .dataframe tbody tr th {\n        vertical-align: top;\n    }\n\n    .dataframe thead th {\n        text-align: right;\n    }\n</style>\n<table border=\"1\" class=\"dataframe\">\n  <thead>\n    <tr style=\"text-align: right;\">\n      <th></th>\n      <th>who</th>\n      <th>date</th>\n      <th>fnid</th>\n      <th>chess_x</th>\n      <th>chess_y</th>\n      <th>home_fre</th>\n      <th>home_time</th>\n      <th>od_num</th>\n    </tr>\n  </thead>\n  <tbody>\n    <tr>\n      <th>0</th>\n      <td>62</td>\n      <td>20190701</td>\n      <td>51457</td>\n      <td>49</td>\n      <td>144</td>\n      <td>6</td>\n      <td>359057</td>\n      <td>31</td>\n    </tr>\n    <tr>\n      <th>1</th>\n      <td>62</td>\n      <td>20190701</td>\n      <td>55027</td>\n      <td>49</td>\n      <td>154</td>\n      <td>1</td>\n      <td>7472</td>\n      <td>1</td>\n    </tr>\n    <tr>\n      <th>2</th>\n      <td>62</td>\n      <td>20190801</td>\n      <td>51490</td>\n      <td>82</td>\n      <td>144</td>\n      <td>0</td>\n      <td>15467</td>\n      <td>2</td>\n    </tr>\n    <tr>\n      <th>3</th>\n      <td>62</td>\n      <td>20190801</td>\n      <td>52514</td>\n      <td>35</td>\n      <td>147</td>\n      <td>0</td>\n      <td>13913</td>\n      <td>2</td>\n    </tr>\n    <tr>\n      <th>4</th>\n      <td>62</td>\n      <td>20190801</td>\n      <td>52179</td>\n      <td>57</td>\n      <td>146</td>\n      <td>9</td>\n      <td>585078</td>\n      <td>50</td>\n    </tr>\n  </tbody>\n</table>\n</div>"
     },
     "execution_count": 2,
     "metadata": {},
     "output_type": "execute_result"
    }
   ],
   "source": [
    "# 导入用户所有的网格信息\n",
    "path = 'D:/317研究组/4 居住自选择/data/sample1000_all_grid.csv'\n",
    "all_grid = pd.read_csv(path)\n",
    "all_grid.head()"
   ],
   "metadata": {
    "collapsed": false,
    "ExecuteTime": {
     "end_time": "2023-07-23T14:57:19.708316800Z",
     "start_time": "2023-07-23T14:57:19.631176500Z"
    }
   }
  },
  {
   "cell_type": "code",
   "execution_count": 3,
   "outputs": [
    {
     "name": "stdout",
     "output_type": "stream",
     "text": [
      "128118\n",
      "34412\n",
      "0\n"
     ]
    }
   ],
   "source": [
    "# 数据量\n",
    "print(all_grid.shape[0])\n",
    "# 计算homegrid中home_fre=0的数据量\n",
    "print(all_grid[all_grid['home_fre']==0].shape[0])\n",
    "# 删除home_fre=0的数据\n",
    "all_grid = all_grid[all_grid['home_fre']!=0]\n",
    "print(all_grid[all_grid['home_fre']==0].shape[0])"
   ],
   "metadata": {
    "collapsed": false,
    "ExecuteTime": {
     "start_time": "2023-05-12T09:23:21.849981Z",
     "end_time": "2023-05-12T09:23:21.935957Z"
    }
   }
  },
  {
   "cell_type": "markdown",
   "source": [
    "## 识别每个月的家"
   ],
   "metadata": {
    "collapsed": false
   }
  },
  {
   "cell_type": "code",
   "execution_count": 4,
   "outputs": [],
   "source": [
    "## 首先识别每个月内最大驻留频次的网格\n",
    "homegrid = all_grid.copy()\n",
    "homegrid['max_fre'] = homegrid.groupby(['who','date'])['home_fre'].transform('max')\n",
    "homegrid['max_time'] = homegrid.groupby(['who','date'])['home_time'].transform('max')\n",
    "homegrid_dominant = homegrid[homegrid['home_fre']==homegrid['max_fre']]\n",
    "#homegrid_dominant.groupby(['who','date'])['fnid'].count()\n",
    "#homegrid_dominant = homegrid_dominant[homegrid_dominant['home_time']==homegrid_dominant['max_time']].reset_index(drop=True)"
   ],
   "metadata": {
    "collapsed": false,
    "ExecuteTime": {
     "end_time": "2023-07-23T14:57:53.139963700Z",
     "start_time": "2023-07-23T14:57:53.088404900Z"
    }
   }
  },
  {
   "cell_type": "code",
   "execution_count": 18,
   "outputs": [
    {
     "data": {
      "text/plain": "16555"
     },
     "execution_count": 18,
     "metadata": {},
     "output_type": "execute_result"
    }
   ],
   "source": [
    "len(homegrid_dominant)"
   ],
   "metadata": {
    "collapsed": false,
    "ExecuteTime": {
     "start_time": "2023-05-09T09:36:42.018498Z",
     "end_time": "2023-05-09T09:36:42.056534Z"
    }
   }
  },
  {
   "cell_type": "code",
   "execution_count": 5,
   "outputs": [],
   "source": [
    "# 如果一个用户在一个月内存在多个最大驻留频次的网格，则选择驻留时间更长的\n",
    "grid_month_count = homegrid_dominant.groupby(['who','date']).agg(fnid_count=('fnid','count')).reset_index()\n",
    "# 选出fnid_count>1的who, date\n",
    "grid_month_count = grid_month_count[grid_month_count['fnid_count']>1]\n",
    "# 选出homegrid_dominant中fnid_count>1的数据，并仅保留home_time=max_time的数据\n",
    "homegrid_dominant_replace = pd.merge(homegrid_dominant, grid_month_count,how='inner',on=['who','date'])\n",
    "homegrid_dominant_replace = homegrid_dominant_replace.drop(columns='fnid_count')\n",
    "# 删除homegrid_dominant中homegrid_dominant_replace的数据\n",
    "homegrid_dominant = pd.concat([homegrid_dominant,homegrid_dominant_replace])\n",
    "homegrid_dominant.drop_duplicates(subset=['who','date','fnid'],keep=False,inplace=True)\n",
    "\n",
    "# 选出对应最大时长的数据\n",
    "homegrid_dominant_replace = homegrid_dominant_replace[homegrid_dominant_replace['home_time'] == homegrid_dominant_replace['max_time']]\n",
    "# 合并到homegrid_dominant中\n",
    "homegrid_dominant = pd.concat([homegrid_dominant,homegrid_dominant_replace])"
   ],
   "metadata": {
    "collapsed": false,
    "ExecuteTime": {
     "end_time": "2023-07-23T14:57:55.338472900Z",
     "start_time": "2023-07-23T14:57:55.310970600Z"
    }
   }
  },
  {
   "cell_type": "code",
   "execution_count": 350,
   "outputs": [
    {
     "data": {
      "text/plain": "258"
     },
     "execution_count": 350,
     "metadata": {},
     "output_type": "execute_result"
    }
   ],
   "source": [
    "len(homegrid_dominant_replace)"
   ],
   "metadata": {
    "collapsed": false,
    "ExecuteTime": {
     "start_time": "2023-04-27T16:36:58.053205Z",
     "end_time": "2023-04-27T16:36:58.077774Z"
    }
   }
  },
  {
   "cell_type": "code",
   "execution_count": 351,
   "outputs": [
    {
     "data": {
      "text/plain": "16131"
     },
     "execution_count": 351,
     "metadata": {},
     "output_type": "execute_result"
    }
   ],
   "source": [
    "len(homegrid_dominant)"
   ],
   "metadata": {
    "collapsed": false,
    "ExecuteTime": {
     "start_time": "2023-04-27T16:36:58.668000Z",
     "end_time": "2023-04-27T16:36:58.714362Z"
    }
   }
  },
  {
   "cell_type": "code",
   "execution_count": 20,
   "outputs": [
    {
     "name": "stdout",
     "output_type": "stream",
     "text": [
      "1\n",
      "1\n"
     ]
    }
   ],
   "source": [
    "# 验证一下是否每个人每个月都仅有一个dominant grid\n",
    "print(max(homegrid_dominant.groupby(['who','date'])['fnid'].count()))\n",
    "print(min(homegrid_dominant.groupby(['who','date'])['fnid'].count()))"
   ],
   "metadata": {
    "collapsed": false,
    "ExecuteTime": {
     "start_time": "2023-05-09T09:36:47.731276Z",
     "end_time": "2023-05-09T09:36:47.744858Z"
    }
   }
  },
  {
   "cell_type": "markdown",
   "source": [
    "## 识别家网格的组团"
   ],
   "metadata": {
    "collapsed": false
   }
  },
  {
   "cell_type": "code",
   "execution_count": 6,
   "outputs": [],
   "source": [
    "# 定义一个函数，用于识别每个月的家网格的组团\n",
    "# 输入：每个用户的家网格数据\n",
    "# 如果每个月的网格在同一个十六宫格内（即chess_x的差值和chess_y的差值都小于等于3），则认为是同一个组团\n",
    "# 输出：每个月的家网格组团\n",
    "def find_group(df):\n",
    "    #print(df)\n",
    "    # index重置\n",
    "    df = df.sort_values(by=['date','fnid']).reset_index(drop=True)\n",
    "    # 得到总网格数\n",
    "    n_grids = len(df)\n",
    "    # 初始化组团标签\n",
    "    labs = [\"UNCLASSIFIED\"] * n_grids\n",
    "    # 初始化组团id\n",
    "    group_id = 0\n",
    "\n",
    "    # 遍历每个网格\n",
    "    for i in range(n_grids):\n",
    "        # 如果当前网格已经被分类，则跳过\n",
    "        if labs[i] != \"UNCLASSIFIED\":\n",
    "            continue\n",
    "        # 得到与当前网格在同一个十六宫格内的网格\n",
    "        chess_x = df.iloc[i]['chess_x']\n",
    "        chess_y = df.iloc[i]['chess_y']\n",
    "        df_neighbor = df[(abs(df['chess_x']-chess_x) <= 3) & (abs(df['chess_y']-chess_y) <= 3)]\n",
    "        # 获得index list\n",
    "        index_list = df_neighbor.index.tolist()\n",
    "        # 如果当前网格是孤立的，则将其标记为noise\n",
    "        if len(df_neighbor) == 1:\n",
    "            labs[i] = \"NOISE\"\n",
    "            continue\n",
    "        #遍历组团内的其他网格\n",
    "        for index,grid in df_neighbor.iterrows():\n",
    "            #计算该点的邻近点，创建一个新的df_neighbor，新的df_neighbor的index不在index_list中\n",
    "            new_df_neighbor = df[(abs(df['chess_x']-grid['chess_x']) <= 3) & (abs(df['chess_y']-grid['chess_y']) <= 3) & (~df.index.isin(index_list))]\n",
    "            if len(new_df_neighbor) != 0:\n",
    "                df_neighbor = pd.concat([df_neighbor,new_df_neighbor],axis=0)\n",
    "\n",
    "        # 为所有df_neighbor中的网格标记组团id\n",
    "        for index, grid in df_neighbor.iterrows():\n",
    "            labs[index] = group_id\n",
    "        group_id += 1\n",
    "    return labs"
   ],
   "metadata": {
    "collapsed": false,
    "ExecuteTime": {
     "end_time": "2023-07-23T14:57:59.141296300Z",
     "start_time": "2023-07-23T14:57:59.137286800Z"
    }
   }
  },
  {
   "cell_type": "code",
   "execution_count": 7,
   "outputs": [],
   "source": [
    "# 对每个用户的家网格进行组团，返回的组团标签作为新的一列\n",
    "who_home = homegrid_dominant.groupby('who', group_keys=False)\n",
    "cluster = who_home.apply(lambda  x: find_group(x)).reset_index()\n",
    "cluster = cluster.rename(columns={0:'group_id'})"
   ],
   "metadata": {
    "collapsed": false,
    "ExecuteTime": {
     "end_time": "2023-07-23T14:58:12.306630500Z",
     "start_time": "2023-07-23T14:58:00.073828900Z"
    }
   }
  },
  {
   "cell_type": "code",
   "execution_count": 8,
   "outputs": [],
   "source": [
    "# 排序以匹配列\n",
    "homegrid_dominant = homegrid_dominant.sort_values(by=['who','date']).reset_index(drop=True)\n",
    "cluster = cluster.sort_values(by=['who']).reset_index(drop=True)\n",
    "\n",
    "# 遍历cluster中的每一行，将group_id整合为一个list\n",
    "GROUP_ID = []\n",
    "for _,data in cluster.iterrows():\n",
    "    GROUP_ID.extend(data['group_id'])\n",
    "# 使用GROUP_ID新建homegrid_dominant中的group_id列\n",
    "homegrid_dominant['group_id'] = GROUP_ID"
   ],
   "metadata": {
    "collapsed": false,
    "ExecuteTime": {
     "end_time": "2023-07-23T14:58:12.367460800Z",
     "start_time": "2023-07-23T14:58:12.307631100Z"
    }
   }
  },
  {
   "cell_type": "code",
   "execution_count": 11,
   "outputs": [
    {
     "data": {
      "text/plain": "16131"
     },
     "execution_count": 11,
     "metadata": {},
     "output_type": "execute_result"
    }
   ],
   "source": [
    "len(GROUP_ID)"
   ],
   "metadata": {
    "collapsed": false,
    "ExecuteTime": {
     "start_time": "2023-05-08T11:03:37.476033Z",
     "end_time": "2023-05-08T11:03:37.506041Z"
    }
   }
  },
  {
   "cell_type": "code",
   "execution_count": 12,
   "outputs": [
    {
     "data": {
      "text/plain": "16131"
     },
     "execution_count": 12,
     "metadata": {},
     "output_type": "execute_result"
    }
   ],
   "source": [
    "len(homegrid_dominant)"
   ],
   "metadata": {
    "collapsed": false,
    "ExecuteTime": {
     "start_time": "2023-05-08T11:03:38.242187Z",
     "end_time": "2023-05-08T11:03:38.247188Z"
    }
   }
  },
  {
   "cell_type": "code",
   "execution_count": 109,
   "outputs": [
    {
     "data": {
      "text/plain": "         who      date  fnid  chess_x  chess_y  \\\n16131  39042  20190201  5772       60       16   \n16132  39042  20190301  5772       60       16   \n16133  39042  20190401  5772       60       16   \n16134  39042  20190501  5772       60       16   \n16135  39042  20190601  5415       60       15   \n16136  39042  20190701  6492       66       18   \n16137  39042  20190801  6492       66       18   \n16138  39042  20190901  6492       66       18   \n16139  39042  20191001  6492       66       18   \n16140  39042  20191101  6492       66       18   \n16141  39042  20191201  6492       66       18   \n16142  39042  20200101  6493       67       18   \n16143  39042  20200201  6493       67       18   \n16144  39042  20200301  6493       67       18   \n16145  39042  20200401  6493       67       18   \n16146  39042  20200501  6493       67       18   \n16147  39042  20201101  6493       67       18   \n16148  39042  20210501  6493       67       18   \n16149  39042  20211101  8979       54       25   \n16150  39042  20220501  8979       54       25   \n\n                                                     wkt  start_std  \\\n16131  MULTIPOLYGON (((113.89557983 22.48285532, 113....   7.246588   \n16132  MULTIPOLYGON (((113.89557983 22.48285532, 113....   6.334353   \n16133  MULTIPOLYGON (((113.89557983 22.48285532, 113....   4.357951   \n16134  MULTIPOLYGON (((113.89557983 22.48285532, 113....   7.510754   \n16135  MULTIPOLYGON (((113.89557983 22.48063936, 113....   7.392440   \n16136  MULTIPOLYGON (((113.91022185 22.48728723, 113....   6.303941   \n16137  MULTIPOLYGON (((113.91022185 22.48728723, 113....   5.142896   \n16138  MULTIPOLYGON (((113.91022185 22.48728723, 113....   5.297711   \n16139  MULTIPOLYGON (((113.91022185 22.48728723, 113....   8.812468   \n16140  MULTIPOLYGON (((113.91022185 22.48728723, 113....   6.574285   \n16141  MULTIPOLYGON (((113.91022185 22.48728723, 113....   6.884286   \n16142  MULTIPOLYGON (((113.91266219 22.48728723, 113....   6.849088   \n16143  MULTIPOLYGON (((113.91266219 22.48728723, 113....   3.582534   \n16144  MULTIPOLYGON (((113.91266219 22.48728723, 113....   1.739926   \n16145  MULTIPOLYGON (((113.91266219 22.48728723, 113....   0.000000   \n16146  MULTIPOLYGON (((113.91266219 22.48728723, 113....   4.825950   \n16147  MULTIPOLYGON (((113.91266219 22.48728723, 113....   0.000000   \n16148  MULTIPOLYGON (((113.91266219 22.48728723, 113....   5.626423   \n16149  MULTIPOLYGON (((113.88093782 22.50279894, 113....   9.125270   \n16150  MULTIPOLYGON (((113.88093782 22.50279894, 113....   6.817109   \n\n       home_time  home_fre  timeline  max_fre  max_time group_id  \n16131     501357        16       4.0       16    501357        0  \n16132     346058        10       5.0       10    346058        0  \n16133     252313        16       6.0       16    252313        0  \n16134     708795        22       7.0       22    708795        0  \n16135     685699        27       8.0       27    685699        0  \n16136     891865        18       9.0       18    891865        1  \n16137     685114        15      10.0       15    685114        1  \n16138     924464        14      11.0       14    924464        1  \n16139    1114743        30      12.0       30   1114743        1  \n16140     546730        13      13.0       13    546730        1  \n16141     883314        23      14.0       23    883314        1  \n16142    1216260        25      15.0       25   1216260        1  \n16143     829231        11      16.0       11    829231        1  \n16144     872267        10      17.0       10    872267        1  \n16145     788297         8      18.0        8    788297        1  \n16146    1051533        15      19.0       15   1051533        1  \n16147     844601         9      20.0        9    844601        1  \n16148    1057815        18      21.0       18   1057815        1  \n16149    1337770        55      22.0       55   1337770        2  \n16150    1591477       192      24.0      192   1591477        2  ",
      "text/html": "<div>\n<style scoped>\n    .dataframe tbody tr th:only-of-type {\n        vertical-align: middle;\n    }\n\n    .dataframe tbody tr th {\n        vertical-align: top;\n    }\n\n    .dataframe thead th {\n        text-align: right;\n    }\n</style>\n<table border=\"1\" class=\"dataframe\">\n  <thead>\n    <tr style=\"text-align: right;\">\n      <th></th>\n      <th>who</th>\n      <th>date</th>\n      <th>fnid</th>\n      <th>chess_x</th>\n      <th>chess_y</th>\n      <th>wkt</th>\n      <th>start_std</th>\n      <th>home_time</th>\n      <th>home_fre</th>\n      <th>timeline</th>\n      <th>max_fre</th>\n      <th>max_time</th>\n      <th>group_id</th>\n    </tr>\n  </thead>\n  <tbody>\n    <tr>\n      <th>16131</th>\n      <td>39042</td>\n      <td>20190201</td>\n      <td>5772</td>\n      <td>60</td>\n      <td>16</td>\n      <td>MULTIPOLYGON (((113.89557983 22.48285532, 113....</td>\n      <td>7.246588</td>\n      <td>501357</td>\n      <td>16</td>\n      <td>4.0</td>\n      <td>16</td>\n      <td>501357</td>\n      <td>0</td>\n    </tr>\n    <tr>\n      <th>16132</th>\n      <td>39042</td>\n      <td>20190301</td>\n      <td>5772</td>\n      <td>60</td>\n      <td>16</td>\n      <td>MULTIPOLYGON (((113.89557983 22.48285532, 113....</td>\n      <td>6.334353</td>\n      <td>346058</td>\n      <td>10</td>\n      <td>5.0</td>\n      <td>10</td>\n      <td>346058</td>\n      <td>0</td>\n    </tr>\n    <tr>\n      <th>16133</th>\n      <td>39042</td>\n      <td>20190401</td>\n      <td>5772</td>\n      <td>60</td>\n      <td>16</td>\n      <td>MULTIPOLYGON (((113.89557983 22.48285532, 113....</td>\n      <td>4.357951</td>\n      <td>252313</td>\n      <td>16</td>\n      <td>6.0</td>\n      <td>16</td>\n      <td>252313</td>\n      <td>0</td>\n    </tr>\n    <tr>\n      <th>16134</th>\n      <td>39042</td>\n      <td>20190501</td>\n      <td>5772</td>\n      <td>60</td>\n      <td>16</td>\n      <td>MULTIPOLYGON (((113.89557983 22.48285532, 113....</td>\n      <td>7.510754</td>\n      <td>708795</td>\n      <td>22</td>\n      <td>7.0</td>\n      <td>22</td>\n      <td>708795</td>\n      <td>0</td>\n    </tr>\n    <tr>\n      <th>16135</th>\n      <td>39042</td>\n      <td>20190601</td>\n      <td>5415</td>\n      <td>60</td>\n      <td>15</td>\n      <td>MULTIPOLYGON (((113.89557983 22.48063936, 113....</td>\n      <td>7.392440</td>\n      <td>685699</td>\n      <td>27</td>\n      <td>8.0</td>\n      <td>27</td>\n      <td>685699</td>\n      <td>0</td>\n    </tr>\n    <tr>\n      <th>16136</th>\n      <td>39042</td>\n      <td>20190701</td>\n      <td>6492</td>\n      <td>66</td>\n      <td>18</td>\n      <td>MULTIPOLYGON (((113.91022185 22.48728723, 113....</td>\n      <td>6.303941</td>\n      <td>891865</td>\n      <td>18</td>\n      <td>9.0</td>\n      <td>18</td>\n      <td>891865</td>\n      <td>1</td>\n    </tr>\n    <tr>\n      <th>16137</th>\n      <td>39042</td>\n      <td>20190801</td>\n      <td>6492</td>\n      <td>66</td>\n      <td>18</td>\n      <td>MULTIPOLYGON (((113.91022185 22.48728723, 113....</td>\n      <td>5.142896</td>\n      <td>685114</td>\n      <td>15</td>\n      <td>10.0</td>\n      <td>15</td>\n      <td>685114</td>\n      <td>1</td>\n    </tr>\n    <tr>\n      <th>16138</th>\n      <td>39042</td>\n      <td>20190901</td>\n      <td>6492</td>\n      <td>66</td>\n      <td>18</td>\n      <td>MULTIPOLYGON (((113.91022185 22.48728723, 113....</td>\n      <td>5.297711</td>\n      <td>924464</td>\n      <td>14</td>\n      <td>11.0</td>\n      <td>14</td>\n      <td>924464</td>\n      <td>1</td>\n    </tr>\n    <tr>\n      <th>16139</th>\n      <td>39042</td>\n      <td>20191001</td>\n      <td>6492</td>\n      <td>66</td>\n      <td>18</td>\n      <td>MULTIPOLYGON (((113.91022185 22.48728723, 113....</td>\n      <td>8.812468</td>\n      <td>1114743</td>\n      <td>30</td>\n      <td>12.0</td>\n      <td>30</td>\n      <td>1114743</td>\n      <td>1</td>\n    </tr>\n    <tr>\n      <th>16140</th>\n      <td>39042</td>\n      <td>20191101</td>\n      <td>6492</td>\n      <td>66</td>\n      <td>18</td>\n      <td>MULTIPOLYGON (((113.91022185 22.48728723, 113....</td>\n      <td>6.574285</td>\n      <td>546730</td>\n      <td>13</td>\n      <td>13.0</td>\n      <td>13</td>\n      <td>546730</td>\n      <td>1</td>\n    </tr>\n    <tr>\n      <th>16141</th>\n      <td>39042</td>\n      <td>20191201</td>\n      <td>6492</td>\n      <td>66</td>\n      <td>18</td>\n      <td>MULTIPOLYGON (((113.91022185 22.48728723, 113....</td>\n      <td>6.884286</td>\n      <td>883314</td>\n      <td>23</td>\n      <td>14.0</td>\n      <td>23</td>\n      <td>883314</td>\n      <td>1</td>\n    </tr>\n    <tr>\n      <th>16142</th>\n      <td>39042</td>\n      <td>20200101</td>\n      <td>6493</td>\n      <td>67</td>\n      <td>18</td>\n      <td>MULTIPOLYGON (((113.91266219 22.48728723, 113....</td>\n      <td>6.849088</td>\n      <td>1216260</td>\n      <td>25</td>\n      <td>15.0</td>\n      <td>25</td>\n      <td>1216260</td>\n      <td>1</td>\n    </tr>\n    <tr>\n      <th>16143</th>\n      <td>39042</td>\n      <td>20200201</td>\n      <td>6493</td>\n      <td>67</td>\n      <td>18</td>\n      <td>MULTIPOLYGON (((113.91266219 22.48728723, 113....</td>\n      <td>3.582534</td>\n      <td>829231</td>\n      <td>11</td>\n      <td>16.0</td>\n      <td>11</td>\n      <td>829231</td>\n      <td>1</td>\n    </tr>\n    <tr>\n      <th>16144</th>\n      <td>39042</td>\n      <td>20200301</td>\n      <td>6493</td>\n      <td>67</td>\n      <td>18</td>\n      <td>MULTIPOLYGON (((113.91266219 22.48728723, 113....</td>\n      <td>1.739926</td>\n      <td>872267</td>\n      <td>10</td>\n      <td>17.0</td>\n      <td>10</td>\n      <td>872267</td>\n      <td>1</td>\n    </tr>\n    <tr>\n      <th>16145</th>\n      <td>39042</td>\n      <td>20200401</td>\n      <td>6493</td>\n      <td>67</td>\n      <td>18</td>\n      <td>MULTIPOLYGON (((113.91266219 22.48728723, 113....</td>\n      <td>0.000000</td>\n      <td>788297</td>\n      <td>8</td>\n      <td>18.0</td>\n      <td>8</td>\n      <td>788297</td>\n      <td>1</td>\n    </tr>\n    <tr>\n      <th>16146</th>\n      <td>39042</td>\n      <td>20200501</td>\n      <td>6493</td>\n      <td>67</td>\n      <td>18</td>\n      <td>MULTIPOLYGON (((113.91266219 22.48728723, 113....</td>\n      <td>4.825950</td>\n      <td>1051533</td>\n      <td>15</td>\n      <td>19.0</td>\n      <td>15</td>\n      <td>1051533</td>\n      <td>1</td>\n    </tr>\n    <tr>\n      <th>16147</th>\n      <td>39042</td>\n      <td>20201101</td>\n      <td>6493</td>\n      <td>67</td>\n      <td>18</td>\n      <td>MULTIPOLYGON (((113.91266219 22.48728723, 113....</td>\n      <td>0.000000</td>\n      <td>844601</td>\n      <td>9</td>\n      <td>20.0</td>\n      <td>9</td>\n      <td>844601</td>\n      <td>1</td>\n    </tr>\n    <tr>\n      <th>16148</th>\n      <td>39042</td>\n      <td>20210501</td>\n      <td>6493</td>\n      <td>67</td>\n      <td>18</td>\n      <td>MULTIPOLYGON (((113.91266219 22.48728723, 113....</td>\n      <td>5.626423</td>\n      <td>1057815</td>\n      <td>18</td>\n      <td>21.0</td>\n      <td>18</td>\n      <td>1057815</td>\n      <td>1</td>\n    </tr>\n    <tr>\n      <th>16149</th>\n      <td>39042</td>\n      <td>20211101</td>\n      <td>8979</td>\n      <td>54</td>\n      <td>25</td>\n      <td>MULTIPOLYGON (((113.88093782 22.50279894, 113....</td>\n      <td>9.125270</td>\n      <td>1337770</td>\n      <td>55</td>\n      <td>22.0</td>\n      <td>55</td>\n      <td>1337770</td>\n      <td>2</td>\n    </tr>\n    <tr>\n      <th>16150</th>\n      <td>39042</td>\n      <td>20220501</td>\n      <td>8979</td>\n      <td>54</td>\n      <td>25</td>\n      <td>MULTIPOLYGON (((113.88093782 22.50279894, 113....</td>\n      <td>6.817109</td>\n      <td>1591477</td>\n      <td>192</td>\n      <td>24.0</td>\n      <td>192</td>\n      <td>1591477</td>\n      <td>2</td>\n    </tr>\n  </tbody>\n</table>\n</div>"
     },
     "execution_count": 109,
     "metadata": {},
     "output_type": "execute_result"
    }
   ],
   "source": [
    "homegrid_dominant.tail(20)"
   ],
   "metadata": {
    "collapsed": false,
    "ExecuteTime": {
     "start_time": "2023-04-20T14:26:46.895907Z",
     "end_time": "2023-04-20T14:26:46.927487Z"
    }
   }
  },
  {
   "cell_type": "code",
   "execution_count": 66,
   "outputs": [
    {
     "data": {
      "text/plain": "629"
     },
     "execution_count": 66,
     "metadata": {},
     "output_type": "execute_result"
    }
   ],
   "source": [
    "# 计算group_id没有NOISE的用户\n",
    "homegrid_dominant[homegrid_dominant['group_id']=='NOISE']['who'].nunique()"
   ],
   "metadata": {
    "collapsed": false,
    "ExecuteTime": {
     "start_time": "2023-05-12T15:44:37.112076Z",
     "end_time": "2023-05-12T15:44:37.137082Z"
    }
   }
  },
  {
   "cell_type": "code",
   "execution_count": 57,
   "outputs": [
    {
     "data": {
      "text/plain": "      who      date  chess_x  chess_y  home_fre group_id\n0   20504  20190101       24      123         7        0\n1   20504  20190201       21      122        21        0\n2   20504  20190301       17      122        14    NOISE\n3   20504  20190401       14      117        12    NOISE\n4   20504  20190501       28       95        12        1\n5   20504  20190601       28       97        13        1\n6   20504  20190701       52      146        24    NOISE\n7   20504  20190801       67      151        27    NOISE\n8   20504  20190901       86      118        34    NOISE\n9   20504  20191001       65       63        22    NOISE\n10  20504  20191101      180       82        19        2\n11  20504  20191201      181       82        33        2\n12  20504  20200101      112       39        11        3\n13  20504  20200201      112       39         5        3\n14  20504  20200301      199      105        16    NOISE\n15  20504  20200401      121       98        17    NOISE\n16  20504  20200501       63       15        27    NOISE",
      "text/html": "<div>\n<style scoped>\n    .dataframe tbody tr th:only-of-type {\n        vertical-align: middle;\n    }\n\n    .dataframe tbody tr th {\n        vertical-align: top;\n    }\n\n    .dataframe thead th {\n        text-align: right;\n    }\n</style>\n<table border=\"1\" class=\"dataframe\">\n  <thead>\n    <tr style=\"text-align: right;\">\n      <th></th>\n      <th>who</th>\n      <th>date</th>\n      <th>chess_x</th>\n      <th>chess_y</th>\n      <th>home_fre</th>\n      <th>group_id</th>\n    </tr>\n  </thead>\n  <tbody>\n    <tr>\n      <th>0</th>\n      <td>20504</td>\n      <td>20190101</td>\n      <td>24</td>\n      <td>123</td>\n      <td>7</td>\n      <td>0</td>\n    </tr>\n    <tr>\n      <th>1</th>\n      <td>20504</td>\n      <td>20190201</td>\n      <td>21</td>\n      <td>122</td>\n      <td>21</td>\n      <td>0</td>\n    </tr>\n    <tr>\n      <th>2</th>\n      <td>20504</td>\n      <td>20190301</td>\n      <td>17</td>\n      <td>122</td>\n      <td>14</td>\n      <td>NOISE</td>\n    </tr>\n    <tr>\n      <th>3</th>\n      <td>20504</td>\n      <td>20190401</td>\n      <td>14</td>\n      <td>117</td>\n      <td>12</td>\n      <td>NOISE</td>\n    </tr>\n    <tr>\n      <th>4</th>\n      <td>20504</td>\n      <td>20190501</td>\n      <td>28</td>\n      <td>95</td>\n      <td>12</td>\n      <td>1</td>\n    </tr>\n    <tr>\n      <th>5</th>\n      <td>20504</td>\n      <td>20190601</td>\n      <td>28</td>\n      <td>97</td>\n      <td>13</td>\n      <td>1</td>\n    </tr>\n    <tr>\n      <th>6</th>\n      <td>20504</td>\n      <td>20190701</td>\n      <td>52</td>\n      <td>146</td>\n      <td>24</td>\n      <td>NOISE</td>\n    </tr>\n    <tr>\n      <th>7</th>\n      <td>20504</td>\n      <td>20190801</td>\n      <td>67</td>\n      <td>151</td>\n      <td>27</td>\n      <td>NOISE</td>\n    </tr>\n    <tr>\n      <th>8</th>\n      <td>20504</td>\n      <td>20190901</td>\n      <td>86</td>\n      <td>118</td>\n      <td>34</td>\n      <td>NOISE</td>\n    </tr>\n    <tr>\n      <th>9</th>\n      <td>20504</td>\n      <td>20191001</td>\n      <td>65</td>\n      <td>63</td>\n      <td>22</td>\n      <td>NOISE</td>\n    </tr>\n    <tr>\n      <th>10</th>\n      <td>20504</td>\n      <td>20191101</td>\n      <td>180</td>\n      <td>82</td>\n      <td>19</td>\n      <td>2</td>\n    </tr>\n    <tr>\n      <th>11</th>\n      <td>20504</td>\n      <td>20191201</td>\n      <td>181</td>\n      <td>82</td>\n      <td>33</td>\n      <td>2</td>\n    </tr>\n    <tr>\n      <th>12</th>\n      <td>20504</td>\n      <td>20200101</td>\n      <td>112</td>\n      <td>39</td>\n      <td>11</td>\n      <td>3</td>\n    </tr>\n    <tr>\n      <th>13</th>\n      <td>20504</td>\n      <td>20200201</td>\n      <td>112</td>\n      <td>39</td>\n      <td>5</td>\n      <td>3</td>\n    </tr>\n    <tr>\n      <th>14</th>\n      <td>20504</td>\n      <td>20200301</td>\n      <td>199</td>\n      <td>105</td>\n      <td>16</td>\n      <td>NOISE</td>\n    </tr>\n    <tr>\n      <th>15</th>\n      <td>20504</td>\n      <td>20200401</td>\n      <td>121</td>\n      <td>98</td>\n      <td>17</td>\n      <td>NOISE</td>\n    </tr>\n    <tr>\n      <th>16</th>\n      <td>20504</td>\n      <td>20200501</td>\n      <td>63</td>\n      <td>15</td>\n      <td>27</td>\n      <td>NOISE</td>\n    </tr>\n  </tbody>\n</table>\n</div>"
     },
     "execution_count": 57,
     "metadata": {},
     "output_type": "execute_result"
    }
   ],
   "source": [
    "test = homegrid_dominant[homegrid_dominant['who']==20504][['who','date','chess_x','chess_y','home_fre','group_id']].reset_index(drop=True)\n",
    "test"
   ],
   "metadata": {
    "collapsed": false,
    "ExecuteTime": {
     "start_time": "2023-05-12T15:27:33.334880Z",
     "end_time": "2023-05-12T15:27:33.372889Z"
    }
   }
  },
  {
   "cell_type": "markdown",
   "source": [
    "## 对NOISE进一步判断（TOPSIS综合评价）\n",
    "<font size=6>在上一步中被定义为NOISE的月份不一定真的是NOISE，而是由于home_fre最大的条件过于苛刻，因此对于NOISE的月份，结合驻留频次、驻留时长、出入度进行综合评价</font>\n",
    "<font size=6>核心思想是解决一个问题：判断NOISE是真的NOISE还是连续迁居</font>"
   ],
   "metadata": {
    "collapsed": false
   }
  },
  {
   "cell_type": "code",
   "execution_count": 9,
   "outputs": [
    {
     "ename": "OptionError",
     "evalue": "\"No such keys(s): 'mode.use_inf_as_null'\"",
     "output_type": "error",
     "traceback": [
      "\u001B[1;31m---------------------------------------------------------------------------\u001B[0m",
      "\u001B[1;31mOptionError\u001B[0m                               Traceback (most recent call last)",
      "Input \u001B[1;32mIn [9]\u001B[0m, in \u001B[0;36m<cell line: 3>\u001B[1;34m()\u001B[0m\n\u001B[0;32m      1\u001B[0m \u001B[38;5;66;03m# 看看每个用户的组团数量的分布情况\u001B[39;00m\n\u001B[0;32m      2\u001B[0m group_distri \u001B[38;5;241m=\u001B[39m homegrid_dominant[homegrid_dominant[\u001B[38;5;124m'\u001B[39m\u001B[38;5;124mgroup_id\u001B[39m\u001B[38;5;124m'\u001B[39m]\u001B[38;5;241m!=\u001B[39m\u001B[38;5;124m'\u001B[39m\u001B[38;5;124mNOISE\u001B[39m\u001B[38;5;124m'\u001B[39m]\u001B[38;5;241m.\u001B[39mgroupby(\u001B[38;5;124m'\u001B[39m\u001B[38;5;124mwho\u001B[39m\u001B[38;5;124m'\u001B[39m)[\u001B[38;5;124m'\u001B[39m\u001B[38;5;124mgroup_id\u001B[39m\u001B[38;5;124m'\u001B[39m]\u001B[38;5;241m.\u001B[39mnunique()\u001B[38;5;241m.\u001B[39msort_values(ascending\u001B[38;5;241m=\u001B[39m\u001B[38;5;28;01mFalse\u001B[39;00m)\n\u001B[1;32m----> 3\u001B[0m \u001B[43msns\u001B[49m\u001B[38;5;241;43m.\u001B[39;49m\u001B[43mdisplot\u001B[49m\u001B[43m(\u001B[49m\u001B[43mgroup_distri\u001B[49m\u001B[43m)\u001B[49m\n",
      "File \u001B[1;32mC:\\ProgramData\\Anaconda3\\lib\\site-packages\\seaborn\\distributions.py:2274\u001B[0m, in \u001B[0;36mdisplot\u001B[1;34m(data, x, y, hue, row, col, weights, kind, rug, rug_kws, log_scale, legend, palette, hue_order, hue_norm, color, col_wrap, row_order, col_order, height, aspect, facet_kws, **kwargs)\u001B[0m\n\u001B[0;32m   2271\u001B[0m \u001B[38;5;28;01mif\u001B[39;00m p\u001B[38;5;241m.\u001B[39munivariate:\n\u001B[0;32m   2273\u001B[0m     _assign_default_kwargs(hist_kws, p\u001B[38;5;241m.\u001B[39mplot_univariate_histogram, histplot)\n\u001B[1;32m-> 2274\u001B[0m     p\u001B[38;5;241m.\u001B[39mplot_univariate_histogram(\u001B[38;5;241m*\u001B[39m\u001B[38;5;241m*\u001B[39mhist_kws)\n\u001B[0;32m   2276\u001B[0m \u001B[38;5;28;01melse\u001B[39;00m:\n\u001B[0;32m   2278\u001B[0m     _assign_default_kwargs(hist_kws, p\u001B[38;5;241m.\u001B[39mplot_bivariate_histogram, histplot)\n",
      "File \u001B[1;32mC:\\ProgramData\\Anaconda3\\lib\\site-packages\\seaborn\\distributions.py:428\u001B[0m, in \u001B[0;36m_DistributionPlotter.plot_univariate_histogram\u001B[1;34m(self, multiple, element, fill, common_norm, common_bins, shrink, kde, kde_kws, color, legend, line_kws, estimate_kws, **plot_kws)\u001B[0m\n\u001B[0;32m    418\u001B[0m     densities \u001B[38;5;241m=\u001B[39m \u001B[38;5;28mself\u001B[39m\u001B[38;5;241m.\u001B[39m_compute_univariate_density(\n\u001B[0;32m    419\u001B[0m         \u001B[38;5;28mself\u001B[39m\u001B[38;5;241m.\u001B[39mdata_variable,\n\u001B[0;32m    420\u001B[0m         common_norm,\n\u001B[1;32m   (...)\u001B[0m\n\u001B[0;32m    424\u001B[0m         warn_singular\u001B[38;5;241m=\u001B[39m\u001B[38;5;28;01mFalse\u001B[39;00m,\n\u001B[0;32m    425\u001B[0m     )\n\u001B[0;32m    427\u001B[0m \u001B[38;5;66;03m# First pass through the data to compute the histograms\u001B[39;00m\n\u001B[1;32m--> 428\u001B[0m \u001B[38;5;28;01mfor\u001B[39;00m sub_vars, sub_data \u001B[38;5;129;01min\u001B[39;00m \u001B[38;5;28mself\u001B[39m\u001B[38;5;241m.\u001B[39miter_data(\u001B[38;5;124m\"\u001B[39m\u001B[38;5;124mhue\u001B[39m\u001B[38;5;124m\"\u001B[39m, from_comp_data\u001B[38;5;241m=\u001B[39m\u001B[38;5;28;01mTrue\u001B[39;00m):\n\u001B[0;32m    429\u001B[0m \n\u001B[0;32m    430\u001B[0m     \u001B[38;5;66;03m# Prepare the relevant data\u001B[39;00m\n\u001B[0;32m    431\u001B[0m     key \u001B[38;5;241m=\u001B[39m \u001B[38;5;28mtuple\u001B[39m(sub_vars\u001B[38;5;241m.\u001B[39mitems())\n\u001B[0;32m    432\u001B[0m     sub_data \u001B[38;5;241m=\u001B[39m sub_data\u001B[38;5;241m.\u001B[39mdropna()\n",
      "File \u001B[1;32mC:\\ProgramData\\Anaconda3\\lib\\site-packages\\seaborn\\_core.py:983\u001B[0m, in \u001B[0;36mVectorPlotter.iter_data\u001B[1;34m(self, grouping_vars, reverse, from_comp_data)\u001B[0m\n\u001B[0;32m    978\u001B[0m grouping_vars \u001B[38;5;241m=\u001B[39m [\n\u001B[0;32m    979\u001B[0m     var \u001B[38;5;28;01mfor\u001B[39;00m var \u001B[38;5;129;01min\u001B[39;00m grouping_vars \u001B[38;5;28;01mif\u001B[39;00m var \u001B[38;5;129;01min\u001B[39;00m \u001B[38;5;28mself\u001B[39m\u001B[38;5;241m.\u001B[39mvariables\n\u001B[0;32m    980\u001B[0m ]\n\u001B[0;32m    982\u001B[0m \u001B[38;5;28;01mif\u001B[39;00m from_comp_data:\n\u001B[1;32m--> 983\u001B[0m     data \u001B[38;5;241m=\u001B[39m \u001B[38;5;28;43mself\u001B[39;49m\u001B[38;5;241;43m.\u001B[39;49m\u001B[43mcomp_data\u001B[49m\n\u001B[0;32m    984\u001B[0m \u001B[38;5;28;01melse\u001B[39;00m:\n\u001B[0;32m    985\u001B[0m     data \u001B[38;5;241m=\u001B[39m \u001B[38;5;28mself\u001B[39m\u001B[38;5;241m.\u001B[39mplot_data\n",
      "File \u001B[1;32mC:\\ProgramData\\Anaconda3\\lib\\site-packages\\seaborn\\_core.py:1054\u001B[0m, in \u001B[0;36mVectorPlotter.comp_data\u001B[1;34m(self)\u001B[0m\n\u001B[0;32m   1050\u001B[0m axis \u001B[38;5;241m=\u001B[39m \u001B[38;5;28mgetattr\u001B[39m(ax, \u001B[38;5;124mf\u001B[39m\u001B[38;5;124m\"\u001B[39m\u001B[38;5;132;01m{\u001B[39;00mvar\u001B[38;5;132;01m}\u001B[39;00m\u001B[38;5;124maxis\u001B[39m\u001B[38;5;124m\"\u001B[39m)\n\u001B[0;32m   1052\u001B[0m \u001B[38;5;66;03m# Use the converter assigned to the axis to get a float representation\u001B[39;00m\n\u001B[0;32m   1053\u001B[0m \u001B[38;5;66;03m# of the data, passing np.nan or pd.NA through (pd.NA becomes np.nan)\u001B[39;00m\n\u001B[1;32m-> 1054\u001B[0m \u001B[38;5;28;01mwith\u001B[39;00m pd\u001B[38;5;241m.\u001B[39moption_context(\u001B[38;5;124m'\u001B[39m\u001B[38;5;124mmode.use_inf_as_null\u001B[39m\u001B[38;5;124m'\u001B[39m, \u001B[38;5;28;01mTrue\u001B[39;00m):\n\u001B[0;32m   1055\u001B[0m     orig \u001B[38;5;241m=\u001B[39m \u001B[38;5;28mself\u001B[39m\u001B[38;5;241m.\u001B[39mplot_data[var]\u001B[38;5;241m.\u001B[39mdropna()\n\u001B[0;32m   1056\u001B[0m comp_col \u001B[38;5;241m=\u001B[39m pd\u001B[38;5;241m.\u001B[39mSeries(index\u001B[38;5;241m=\u001B[39morig\u001B[38;5;241m.\u001B[39mindex, dtype\u001B[38;5;241m=\u001B[39m\u001B[38;5;28mfloat\u001B[39m, name\u001B[38;5;241m=\u001B[39mvar)\n",
      "File \u001B[1;32m~\\AppData\\Roaming\\Python\\Python39\\site-packages\\pandas\\_config\\config.py:441\u001B[0m, in \u001B[0;36moption_context.__enter__\u001B[1;34m(self)\u001B[0m\n\u001B[0;32m    440\u001B[0m \u001B[38;5;28;01mdef\u001B[39;00m \u001B[38;5;21m__enter__\u001B[39m(\u001B[38;5;28mself\u001B[39m) \u001B[38;5;241m-\u001B[39m\u001B[38;5;241m>\u001B[39m \u001B[38;5;28;01mNone\u001B[39;00m:\n\u001B[1;32m--> 441\u001B[0m     \u001B[38;5;28mself\u001B[39m\u001B[38;5;241m.\u001B[39mundo \u001B[38;5;241m=\u001B[39m [(pat, _get_option(pat, silent\u001B[38;5;241m=\u001B[39m\u001B[38;5;28;01mTrue\u001B[39;00m)) \u001B[38;5;28;01mfor\u001B[39;00m pat, val \u001B[38;5;129;01min\u001B[39;00m \u001B[38;5;28mself\u001B[39m\u001B[38;5;241m.\u001B[39mops]\n\u001B[0;32m    443\u001B[0m     \u001B[38;5;28;01mfor\u001B[39;00m pat, val \u001B[38;5;129;01min\u001B[39;00m \u001B[38;5;28mself\u001B[39m\u001B[38;5;241m.\u001B[39mops:\n\u001B[0;32m    444\u001B[0m         _set_option(pat, val, silent\u001B[38;5;241m=\u001B[39m\u001B[38;5;28;01mTrue\u001B[39;00m)\n",
      "File \u001B[1;32m~\\AppData\\Roaming\\Python\\Python39\\site-packages\\pandas\\_config\\config.py:441\u001B[0m, in \u001B[0;36m<listcomp>\u001B[1;34m(.0)\u001B[0m\n\u001B[0;32m    440\u001B[0m \u001B[38;5;28;01mdef\u001B[39;00m \u001B[38;5;21m__enter__\u001B[39m(\u001B[38;5;28mself\u001B[39m) \u001B[38;5;241m-\u001B[39m\u001B[38;5;241m>\u001B[39m \u001B[38;5;28;01mNone\u001B[39;00m:\n\u001B[1;32m--> 441\u001B[0m     \u001B[38;5;28mself\u001B[39m\u001B[38;5;241m.\u001B[39mundo \u001B[38;5;241m=\u001B[39m [(pat, \u001B[43m_get_option\u001B[49m\u001B[43m(\u001B[49m\u001B[43mpat\u001B[49m\u001B[43m,\u001B[49m\u001B[43m \u001B[49m\u001B[43msilent\u001B[49m\u001B[38;5;241;43m=\u001B[39;49m\u001B[38;5;28;43;01mTrue\u001B[39;49;00m\u001B[43m)\u001B[49m) \u001B[38;5;28;01mfor\u001B[39;00m pat, val \u001B[38;5;129;01min\u001B[39;00m \u001B[38;5;28mself\u001B[39m\u001B[38;5;241m.\u001B[39mops]\n\u001B[0;32m    443\u001B[0m     \u001B[38;5;28;01mfor\u001B[39;00m pat, val \u001B[38;5;129;01min\u001B[39;00m \u001B[38;5;28mself\u001B[39m\u001B[38;5;241m.\u001B[39mops:\n\u001B[0;32m    444\u001B[0m         _set_option(pat, val, silent\u001B[38;5;241m=\u001B[39m\u001B[38;5;28;01mTrue\u001B[39;00m)\n",
      "File \u001B[1;32m~\\AppData\\Roaming\\Python\\Python39\\site-packages\\pandas\\_config\\config.py:135\u001B[0m, in \u001B[0;36m_get_option\u001B[1;34m(pat, silent)\u001B[0m\n\u001B[0;32m    134\u001B[0m \u001B[38;5;28;01mdef\u001B[39;00m \u001B[38;5;21m_get_option\u001B[39m(pat: \u001B[38;5;28mstr\u001B[39m, silent: \u001B[38;5;28mbool\u001B[39m \u001B[38;5;241m=\u001B[39m \u001B[38;5;28;01mFalse\u001B[39;00m) \u001B[38;5;241m-\u001B[39m\u001B[38;5;241m>\u001B[39m Any:\n\u001B[1;32m--> 135\u001B[0m     key \u001B[38;5;241m=\u001B[39m \u001B[43m_get_single_key\u001B[49m\u001B[43m(\u001B[49m\u001B[43mpat\u001B[49m\u001B[43m,\u001B[49m\u001B[43m \u001B[49m\u001B[43msilent\u001B[49m\u001B[43m)\u001B[49m\n\u001B[0;32m    137\u001B[0m     \u001B[38;5;66;03m# walk the nested dict\u001B[39;00m\n\u001B[0;32m    138\u001B[0m     root, k \u001B[38;5;241m=\u001B[39m _get_root(key)\n",
      "File \u001B[1;32m~\\AppData\\Roaming\\Python\\Python39\\site-packages\\pandas\\_config\\config.py:121\u001B[0m, in \u001B[0;36m_get_single_key\u001B[1;34m(pat, silent)\u001B[0m\n\u001B[0;32m    119\u001B[0m     \u001B[38;5;28;01mif\u001B[39;00m \u001B[38;5;129;01mnot\u001B[39;00m silent:\n\u001B[0;32m    120\u001B[0m         _warn_if_deprecated(pat)\n\u001B[1;32m--> 121\u001B[0m     \u001B[38;5;28;01mraise\u001B[39;00m OptionError(\u001B[38;5;124mf\u001B[39m\u001B[38;5;124m\"\u001B[39m\u001B[38;5;124mNo such keys(s): \u001B[39m\u001B[38;5;132;01m{\u001B[39;00m\u001B[38;5;28mrepr\u001B[39m(pat)\u001B[38;5;132;01m}\u001B[39;00m\u001B[38;5;124m\"\u001B[39m)\n\u001B[0;32m    122\u001B[0m \u001B[38;5;28;01mif\u001B[39;00m \u001B[38;5;28mlen\u001B[39m(keys) \u001B[38;5;241m>\u001B[39m \u001B[38;5;241m1\u001B[39m:\n\u001B[0;32m    123\u001B[0m     \u001B[38;5;28;01mraise\u001B[39;00m OptionError(\u001B[38;5;124m\"\u001B[39m\u001B[38;5;124mPattern matched multiple keys\u001B[39m\u001B[38;5;124m\"\u001B[39m)\n",
      "\u001B[1;31mOptionError\u001B[0m: \"No such keys(s): 'mode.use_inf_as_null'\""
     ]
    },
    {
     "data": {
      "text/plain": "<Figure size 360x360 with 1 Axes>",
      "image/png": "[encoded data removed]"
     },
     "metadata": {
      "needs_background": "light"
     },
     "output_type": "display_data"
    }
   ],
   "source": [
    "# 看看每个用户的组团数量的分布情况\n",
    "group_distri = homegrid_dominant[homegrid_dominant['group_id']!='NOISE'].groupby('who')['group_id'].nunique().sort_values(ascending=False)\n",
    "sns.displot(group_distri)"
   ],
   "metadata": {
    "collapsed": false,
    "ExecuteTime": {
     "end_time": "2023-07-23T14:58:17.696483800Z",
     "start_time": "2023-07-23T14:58:12.368461300Z"
    }
   }
  },
  {
   "cell_type": "code",
   "execution_count": null,
   "outputs": [],
   "source": [
    "# 定义熵权法评价函数\n",
    "# input : data-NOISE对应月份的所有网格数据\n",
    "def entropy_weight_evaluation(data):\n",
    "    # 将data中待评价的三个指标home_fre, home_time, od_num转化为array\n",
    "    factor_array = np.array(data[['home_fre', 'od_num']])\n",
    "    # 使用MinMaxScaler函数对factor_array的每列数据规范化\n",
    "    factor_array = MinMaxScaler().fit_transform(factor_array)\n",
    "\n",
    "    n, m = factor_array.shape # 对象个数和特征个数\n",
    "    # 计算每个指标的信息熵\n",
    "    entropy_list = []\n",
    "    for i in range(m):\n",
    "        entropy_list.append(1/np.log(n)*entropy(factor_array[:,i]))\n",
    "\n",
    "    # 计算每个指标的信息熵权重\n",
    "    weight_list = []\n",
    "    for entropy_i in entropy_list:\n",
    "        weight_list.append(1- entropy_i)\n",
    "    weight_list = weight_list/sum(weight_list)\n",
    "\n",
    "    # 计算每个网格的综合得分\n",
    "    scores = []\n",
    "    for i in range(n):\n",
    "        score_i = 0\n",
    "        for j in range(m):\n",
    "            score_i += weight_list[j] * factor_array[i,j]\n",
    "        scores.append(score_i)\n",
    "\n",
    "    return scores"
   ],
   "metadata": {
    "collapsed": false
   }
  },
  {
   "cell_type": "code",
   "execution_count": 13,
   "outputs": [],
   "source": [
    "# 定义TOPSIS评价函数\n",
    "# input : data-NOISE对应月份的所有网格数据\n",
    "def topsis_evaluation(data):\n",
    "    SCORES = []\n",
    "    #应该对每个月的情况进行评价\n",
    "    for date in data['date'].unique():\n",
    "        evaluate_data = data[data['date']==date]\n",
    "        # 如果evaluate_data中只有一条数据，那么直接赋一个score=1\n",
    "        if len(evaluate_data) == 1:\n",
    "            SCORES.append(1)\n",
    "            continue\n",
    "        # 将evaluate_data中待评价的三个指标home_fre, home_time, od_num转化为array\n",
    "        factor_array = np.array(evaluate_data[['home_fre', 'home_time', 'od_num','is_group']])\n",
    "        # 使用MinMaxScaler函数对factor_array的每列数据规范化\n",
    "        factor_array = MinMaxScaler().fit_transform(factor_array)\n",
    "\n",
    "        n, m = factor_array.shape # 对象个数和特征个数\n",
    "        # 获得每个指标的正负理想解\n",
    "        ideal_best = []; ideal_worst = []\n",
    "        for i in range(m):\n",
    "            ideal_best.append(max(factor_array[:,i]))\n",
    "            ideal_worst.append(min(factor_array[:,i]))\n",
    "\n",
    "        # 计算每个样本到正负理想解的距离\n",
    "        scores = []\n",
    "        for i in range(n):\n",
    "            distance_best = np.sqrt(sum((factor_array[i,:]-ideal_best)**2))\n",
    "            distance_worst = np.sqrt(sum((factor_array[i,:]-ideal_worst)**2))\n",
    "            score_i = distance_worst / (distance_best + distance_worst)\n",
    "            scores.append(score_i)\n",
    "\n",
    "        SCORES.extend(scores)\n",
    "\n",
    "    return SCORES"
   ],
   "metadata": {
    "collapsed": false,
    "ExecuteTime": {
     "end_time": "2023-07-23T14:58:32.830175100Z",
     "start_time": "2023-07-23T14:58:32.816649100Z"
    }
   }
  },
  {
   "cell_type": "code",
   "execution_count": 10,
   "outputs": [],
   "source": [
    "#找出仍是NOISE的月份的all_grid数据\n",
    "noise_data = homegrid_dominant[homegrid_dominant['group_id'] == 'NOISE'][['who', 'date']].drop_duplicates()\n",
    "noise_all_grid = pd.merge(all_grid, noise_data, on=['who', 'date'], how='inner')"
   ],
   "metadata": {
    "collapsed": false,
    "ExecuteTime": {
     "end_time": "2023-07-23T14:58:17.943635200Z",
     "start_time": "2023-07-23T14:58:17.911120600Z"
    }
   }
  },
  {
   "cell_type": "code",
   "execution_count": 11,
   "outputs": [],
   "source": [
    "# 对每个用户的noise网格用同样的方法进行组团，返回的组团标签作为新的一列\n",
    "noise_all_grid = noise_all_grid.sort_values(by=['who','date','fnid']).reset_index(drop=True)\n",
    "who_noise = noise_all_grid['who'].unique()\n",
    "for who in who_noise:\n",
    "        data = noise_all_grid[noise_all_grid['who'] == who]\n",
    "        group_id = find_group(data)\n",
    "        noise_all_grid.loc[noise_all_grid['who'] == who, 'group_id'] = group_id\n",
    "\n",
    "# 对noise_all_grid新增一例，如果group_id=NOISE则等于0，否则等于1\n",
    "noise_all_grid['is_group'] = noise_all_grid['group_id'].apply(lambda x: 0 if x == 'NOISE' else 1)"
   ],
   "metadata": {
    "collapsed": false,
    "ExecuteTime": {
     "end_time": "2023-07-23T14:58:26.454210700Z",
     "start_time": "2023-07-23T14:58:19.373551800Z"
    }
   }
  },
  {
   "cell_type": "code",
   "execution_count": 59,
   "outputs": [
    {
     "data": {
      "text/plain": "        who      date   fnid  chess_x  chess_y  home_fre  od_num  is_group\n3345  20504  20190301  18003      153       50         1       2         1\n3346  20504  20190301  21859       82       61         1       1         1\n3347  20504  20190301  24720       87       69         1       1         0\n3348  20504  20190301  43564       10      122         1       3         1\n3349  20504  20190301  43571       17      122        14      54         1\n...     ...       ...    ...      ...      ...       ...     ...       ...\n3430  20504  20200501  33030      186       92         6       0         1\n3431  20504  20200501  35461      118       99         6       5         1\n3432  20504  20200501  37685      200      105        13      14         1\n3433  20504  20200501  45719       23      128         1       0         1\n3434  20504  20200501  45722       26      128         2       0         1\n\n[90 rows x 8 columns]",
      "text/html": "<div>\n<style scoped>\n    .dataframe tbody tr th:only-of-type {\n        vertical-align: middle;\n    }\n\n    .dataframe tbody tr th {\n        vertical-align: top;\n    }\n\n    .dataframe thead th {\n        text-align: right;\n    }\n</style>\n<table border=\"1\" class=\"dataframe\">\n  <thead>\n    <tr style=\"text-align: right;\">\n      <th></th>\n      <th>who</th>\n      <th>date</th>\n      <th>fnid</th>\n      <th>chess_x</th>\n      <th>chess_y</th>\n      <th>home_fre</th>\n      <th>od_num</th>\n      <th>is_group</th>\n    </tr>\n  </thead>\n  <tbody>\n    <tr>\n      <th>3345</th>\n      <td>20504</td>\n      <td>20190301</td>\n      <td>18003</td>\n      <td>153</td>\n      <td>50</td>\n      <td>1</td>\n      <td>2</td>\n      <td>1</td>\n    </tr>\n    <tr>\n      <th>3346</th>\n      <td>20504</td>\n      <td>20190301</td>\n      <td>21859</td>\n      <td>82</td>\n      <td>61</td>\n      <td>1</td>\n      <td>1</td>\n      <td>1</td>\n    </tr>\n    <tr>\n      <th>3347</th>\n      <td>20504</td>\n      <td>20190301</td>\n      <td>24720</td>\n      <td>87</td>\n      <td>69</td>\n      <td>1</td>\n      <td>1</td>\n      <td>0</td>\n    </tr>\n    <tr>\n      <th>3348</th>\n      <td>20504</td>\n      <td>20190301</td>\n      <td>43564</td>\n      <td>10</td>\n      <td>122</td>\n      <td>1</td>\n      <td>3</td>\n      <td>1</td>\n    </tr>\n    <tr>\n      <th>3349</th>\n      <td>20504</td>\n      <td>20190301</td>\n      <td>43571</td>\n      <td>17</td>\n      <td>122</td>\n      <td>14</td>\n      <td>54</td>\n      <td>1</td>\n    </tr>\n    <tr>\n      <th>...</th>\n      <td>...</td>\n      <td>...</td>\n      <td>...</td>\n      <td>...</td>\n      <td>...</td>\n      <td>...</td>\n      <td>...</td>\n      <td>...</td>\n    </tr>\n    <tr>\n      <th>3430</th>\n      <td>20504</td>\n      <td>20200501</td>\n      <td>33030</td>\n      <td>186</td>\n      <td>92</td>\n      <td>6</td>\n      <td>0</td>\n      <td>1</td>\n    </tr>\n    <tr>\n      <th>3431</th>\n      <td>20504</td>\n      <td>20200501</td>\n      <td>35461</td>\n      <td>118</td>\n      <td>99</td>\n      <td>6</td>\n      <td>5</td>\n      <td>1</td>\n    </tr>\n    <tr>\n      <th>3432</th>\n      <td>20504</td>\n      <td>20200501</td>\n      <td>37685</td>\n      <td>200</td>\n      <td>105</td>\n      <td>13</td>\n      <td>14</td>\n      <td>1</td>\n    </tr>\n    <tr>\n      <th>3433</th>\n      <td>20504</td>\n      <td>20200501</td>\n      <td>45719</td>\n      <td>23</td>\n      <td>128</td>\n      <td>1</td>\n      <td>0</td>\n      <td>1</td>\n    </tr>\n    <tr>\n      <th>3434</th>\n      <td>20504</td>\n      <td>20200501</td>\n      <td>45722</td>\n      <td>26</td>\n      <td>128</td>\n      <td>2</td>\n      <td>0</td>\n      <td>1</td>\n    </tr>\n  </tbody>\n</table>\n<p>90 rows × 8 columns</p>\n</div>"
     },
     "execution_count": 59,
     "metadata": {},
     "output_type": "execute_result"
    }
   ],
   "source": [
    "noise_all_grid[noise_all_grid['who']==20504][['who','date','fnid','chess_x','chess_y','home_fre','od_num','is_group']]"
   ],
   "metadata": {
    "collapsed": false,
    "ExecuteTime": {
     "start_time": "2023-05-12T15:30:31.570373Z",
     "end_time": "2023-05-12T15:30:31.601380Z"
    }
   }
  },
  {
   "cell_type": "code",
   "execution_count": 14,
   "outputs": [
    {
     "name": "stderr",
     "output_type": "stream",
     "text": [
      "C:\\Users\\huangnx\\AppData\\Local\\Temp\\ipykernel_30904\\3572032651.py:29: RuntimeWarning: invalid value encountered in double_scalars\n",
      "  score_i = distance_worst / (distance_best + distance_worst)\n",
      "C:\\Users\\huangnx\\AppData\\Local\\Temp\\ipykernel_30904\\3572032651.py:29: RuntimeWarning: invalid value encountered in double_scalars\n",
      "  score_i = distance_worst / (distance_best + distance_worst)\n"
     ]
    }
   ],
   "source": [
    "# 对每个用户的noise_all_grid进行topsis综合评价，获得每个grid的综合得分\n",
    "for who in who_noise:\n",
    "        data = noise_all_grid[noise_all_grid['who'] == who]\n",
    "        scores = topsis_evaluation(data)\n",
    "        noise_all_grid.loc[noise_all_grid['who'] == who, 'score'] = scores"
   ],
   "metadata": {
    "collapsed": false,
    "ExecuteTime": {
     "end_time": "2023-07-23T14:58:38.538919900Z",
     "start_time": "2023-07-23T14:58:37.109826900Z"
    }
   }
  },
  {
   "cell_type": "code",
   "execution_count": 15,
   "outputs": [],
   "source": [
    "# 找出每月最大的综合得分\n",
    "noise_all_grid['max_score'] = noise_all_grid.groupby(['who','date'])['score'].transform('max')\n",
    "noise_dominant = noise_all_grid[noise_all_grid['score']==noise_all_grid['max_score']]\n",
    "\n",
    "# 删除noise_dominant中的group_id=NOISE的行\n",
    "noise_dominant = noise_dominant[noise_dominant['group_id'] != 'NOISE']"
   ],
   "metadata": {
    "collapsed": false,
    "ExecuteTime": {
     "end_time": "2023-07-23T14:58:44.986076Z",
     "start_time": "2023-07-23T14:58:44.949558100Z"
    }
   }
  },
  {
   "cell_type": "code",
   "execution_count": 55,
   "outputs": [
    {
     "data": {
      "text/plain": "    who      date   fnid  home_fre  od_num  is_group\n51  446  20190801  31178         6       8         1\n55  446  20190901  31179         8      36         1\n60  446  20191001  32961         8      19         1\n65  446  20191101  32961         9      39         1\n69  446  20200301  15501         1       2         1\n70  446  20200401  42525         9      54         1\n73  446  20200501  42525         6       8         1",
      "text/html": "<div>\n<style scoped>\n    .dataframe tbody tr th:only-of-type {\n        vertical-align: middle;\n    }\n\n    .dataframe tbody tr th {\n        vertical-align: top;\n    }\n\n    .dataframe thead th {\n        text-align: right;\n    }\n</style>\n<table border=\"1\" class=\"dataframe\">\n  <thead>\n    <tr style=\"text-align: right;\">\n      <th></th>\n      <th>who</th>\n      <th>date</th>\n      <th>fnid</th>\n      <th>home_fre</th>\n      <th>od_num</th>\n      <th>is_group</th>\n    </tr>\n  </thead>\n  <tbody>\n    <tr>\n      <th>51</th>\n      <td>446</td>\n      <td>20190801</td>\n      <td>31178</td>\n      <td>6</td>\n      <td>8</td>\n      <td>1</td>\n    </tr>\n    <tr>\n      <th>55</th>\n      <td>446</td>\n      <td>20190901</td>\n      <td>31179</td>\n      <td>8</td>\n      <td>36</td>\n      <td>1</td>\n    </tr>\n    <tr>\n      <th>60</th>\n      <td>446</td>\n      <td>20191001</td>\n      <td>32961</td>\n      <td>8</td>\n      <td>19</td>\n      <td>1</td>\n    </tr>\n    <tr>\n      <th>65</th>\n      <td>446</td>\n      <td>20191101</td>\n      <td>32961</td>\n      <td>9</td>\n      <td>39</td>\n      <td>1</td>\n    </tr>\n    <tr>\n      <th>69</th>\n      <td>446</td>\n      <td>20200301</td>\n      <td>15501</td>\n      <td>1</td>\n      <td>2</td>\n      <td>1</td>\n    </tr>\n    <tr>\n      <th>70</th>\n      <td>446</td>\n      <td>20200401</td>\n      <td>42525</td>\n      <td>9</td>\n      <td>54</td>\n      <td>1</td>\n    </tr>\n    <tr>\n      <th>73</th>\n      <td>446</td>\n      <td>20200501</td>\n      <td>42525</td>\n      <td>6</td>\n      <td>8</td>\n      <td>1</td>\n    </tr>\n  </tbody>\n</table>\n</div>"
     },
     "execution_count": 55,
     "metadata": {},
     "output_type": "execute_result"
    }
   ],
   "source": [
    "noise_dominant[noise_dominant['who']==446][['who','date','fnid','home_fre','od_num','is_group']]"
   ],
   "metadata": {
    "collapsed": false,
    "ExecuteTime": {
     "start_time": "2023-05-12T10:13:28.842701Z",
     "end_time": "2023-05-12T10:13:28.885740Z"
    }
   }
  },
  {
   "cell_type": "code",
   "execution_count": 16,
   "outputs": [
    {
     "ename": "ValueError",
     "evalue": "cannot handle a non-unique multi-index!",
     "output_type": "error",
     "traceback": [
      "\u001B[1;31m---------------------------------------------------------------------------\u001B[0m",
      "\u001B[1;31mValueError\u001B[0m                                Traceback (most recent call last)",
      "Input \u001B[1;32mIn [16]\u001B[0m, in \u001B[0;36m<cell line: 10>\u001B[1;34m()\u001B[0m\n\u001B[0;32m      8\u001B[0m new_homegrid_dominant \u001B[38;5;241m=\u001B[39m homegrid_dominant\u001B[38;5;241m.\u001B[39mset_index([\u001B[38;5;124m'\u001B[39m\u001B[38;5;124mwho\u001B[39m\u001B[38;5;124m'\u001B[39m, \u001B[38;5;124m'\u001B[39m\u001B[38;5;124mdate\u001B[39m\u001B[38;5;124m'\u001B[39m])\n\u001B[0;32m      9\u001B[0m new_noise_dominant  \u001B[38;5;241m=\u001B[39m noise_dominant\u001B[38;5;241m.\u001B[39mset_index([\u001B[38;5;124m'\u001B[39m\u001B[38;5;124mwho\u001B[39m\u001B[38;5;124m'\u001B[39m, \u001B[38;5;124m'\u001B[39m\u001B[38;5;124mdate\u001B[39m\u001B[38;5;124m'\u001B[39m])\n\u001B[1;32m---> 10\u001B[0m \u001B[43mnew_homegrid_dominant\u001B[49m\u001B[38;5;241;43m.\u001B[39;49m\u001B[43mupdate\u001B[49m\u001B[43m(\u001B[49m\u001B[43mnew_noise_dominant\u001B[49m\u001B[43m)\u001B[49m\n\u001B[0;32m     12\u001B[0m \u001B[38;5;66;03m# 更新homegrid_dominant\u001B[39;00m\n\u001B[0;32m     13\u001B[0m homegrid_dominant \u001B[38;5;241m=\u001B[39m new_homegrid_dominant\u001B[38;5;241m.\u001B[39msort_values(by\u001B[38;5;241m=\u001B[39m[\u001B[38;5;124m'\u001B[39m\u001B[38;5;124mwho\u001B[39m\u001B[38;5;124m'\u001B[39m, \u001B[38;5;124m'\u001B[39m\u001B[38;5;124mdate\u001B[39m\u001B[38;5;124m'\u001B[39m])\u001B[38;5;241m.\u001B[39mreset_index()\n",
      "File \u001B[1;32m~\\AppData\\Roaming\\Python\\Python39\\site-packages\\pandas\\core\\frame.py:8101\u001B[0m, in \u001B[0;36mDataFrame.update\u001B[1;34m(self, other, join, overwrite, filter_func, errors)\u001B[0m\n\u001B[0;32m   8098\u001B[0m \u001B[38;5;28;01mif\u001B[39;00m \u001B[38;5;129;01mnot\u001B[39;00m \u001B[38;5;28misinstance\u001B[39m(other, DataFrame):\n\u001B[0;32m   8099\u001B[0m     other \u001B[38;5;241m=\u001B[39m DataFrame(other)\n\u001B[1;32m-> 8101\u001B[0m other \u001B[38;5;241m=\u001B[39m \u001B[43mother\u001B[49m\u001B[38;5;241;43m.\u001B[39;49m\u001B[43mreindex\u001B[49m\u001B[43m(\u001B[49m\u001B[38;5;28;43mself\u001B[39;49m\u001B[38;5;241;43m.\u001B[39;49m\u001B[43mindex\u001B[49m\u001B[43m)\u001B[49m\n\u001B[0;32m   8103\u001B[0m \u001B[38;5;28;01mfor\u001B[39;00m col \u001B[38;5;129;01min\u001B[39;00m \u001B[38;5;28mself\u001B[39m\u001B[38;5;241m.\u001B[39mcolumns\u001B[38;5;241m.\u001B[39mintersection(other\u001B[38;5;241m.\u001B[39mcolumns):\n\u001B[0;32m   8104\u001B[0m     this \u001B[38;5;241m=\u001B[39m \u001B[38;5;28mself\u001B[39m[col]\u001B[38;5;241m.\u001B[39m_values\n",
      "File \u001B[1;32m~\\AppData\\Roaming\\Python\\Python39\\site-packages\\pandas\\core\\frame.py:5055\u001B[0m, in \u001B[0;36mDataFrame.reindex\u001B[1;34m(self, labels, index, columns, axis, method, copy, level, fill_value, limit, tolerance)\u001B[0m\n\u001B[0;32m   5036\u001B[0m \u001B[38;5;129m@doc\u001B[39m(\n\u001B[0;32m   5037\u001B[0m     NDFrame\u001B[38;5;241m.\u001B[39mreindex,\n\u001B[0;32m   5038\u001B[0m     klass\u001B[38;5;241m=\u001B[39m_shared_doc_kwargs[\u001B[38;5;124m\"\u001B[39m\u001B[38;5;124mklass\u001B[39m\u001B[38;5;124m\"\u001B[39m],\n\u001B[1;32m   (...)\u001B[0m\n\u001B[0;32m   5053\u001B[0m     tolerance\u001B[38;5;241m=\u001B[39m\u001B[38;5;28;01mNone\u001B[39;00m,\n\u001B[0;32m   5054\u001B[0m ) \u001B[38;5;241m-\u001B[39m\u001B[38;5;241m>\u001B[39m DataFrame:\n\u001B[1;32m-> 5055\u001B[0m     \u001B[38;5;28;01mreturn\u001B[39;00m \u001B[38;5;28;43msuper\u001B[39;49m\u001B[43m(\u001B[49m\u001B[43m)\u001B[49m\u001B[38;5;241;43m.\u001B[39;49m\u001B[43mreindex\u001B[49m\u001B[43m(\u001B[49m\n\u001B[0;32m   5056\u001B[0m \u001B[43m        \u001B[49m\u001B[43mlabels\u001B[49m\u001B[38;5;241;43m=\u001B[39;49m\u001B[43mlabels\u001B[49m\u001B[43m,\u001B[49m\n\u001B[0;32m   5057\u001B[0m \u001B[43m        \u001B[49m\u001B[43mindex\u001B[49m\u001B[38;5;241;43m=\u001B[39;49m\u001B[43mindex\u001B[49m\u001B[43m,\u001B[49m\n\u001B[0;32m   5058\u001B[0m \u001B[43m        \u001B[49m\u001B[43mcolumns\u001B[49m\u001B[38;5;241;43m=\u001B[39;49m\u001B[43mcolumns\u001B[49m\u001B[43m,\u001B[49m\n\u001B[0;32m   5059\u001B[0m \u001B[43m        \u001B[49m\u001B[43maxis\u001B[49m\u001B[38;5;241;43m=\u001B[39;49m\u001B[43maxis\u001B[49m\u001B[43m,\u001B[49m\n\u001B[0;32m   5060\u001B[0m \u001B[43m        \u001B[49m\u001B[43mmethod\u001B[49m\u001B[38;5;241;43m=\u001B[39;49m\u001B[43mmethod\u001B[49m\u001B[43m,\u001B[49m\n\u001B[0;32m   5061\u001B[0m \u001B[43m        \u001B[49m\u001B[43mcopy\u001B[49m\u001B[38;5;241;43m=\u001B[39;49m\u001B[43mcopy\u001B[49m\u001B[43m,\u001B[49m\n\u001B[0;32m   5062\u001B[0m \u001B[43m        \u001B[49m\u001B[43mlevel\u001B[49m\u001B[38;5;241;43m=\u001B[39;49m\u001B[43mlevel\u001B[49m\u001B[43m,\u001B[49m\n\u001B[0;32m   5063\u001B[0m \u001B[43m        \u001B[49m\u001B[43mfill_value\u001B[49m\u001B[38;5;241;43m=\u001B[39;49m\u001B[43mfill_value\u001B[49m\u001B[43m,\u001B[49m\n\u001B[0;32m   5064\u001B[0m \u001B[43m        \u001B[49m\u001B[43mlimit\u001B[49m\u001B[38;5;241;43m=\u001B[39;49m\u001B[43mlimit\u001B[49m\u001B[43m,\u001B[49m\n\u001B[0;32m   5065\u001B[0m \u001B[43m        \u001B[49m\u001B[43mtolerance\u001B[49m\u001B[38;5;241;43m=\u001B[39;49m\u001B[43mtolerance\u001B[49m\u001B[43m,\u001B[49m\n\u001B[0;32m   5066\u001B[0m \u001B[43m    \u001B[49m\u001B[43m)\u001B[49m\n",
      "File \u001B[1;32m~\\AppData\\Roaming\\Python\\Python39\\site-packages\\pandas\\core\\generic.py:5360\u001B[0m, in \u001B[0;36mNDFrame.reindex\u001B[1;34m(self, labels, index, columns, axis, method, copy, level, fill_value, limit, tolerance)\u001B[0m\n\u001B[0;32m   5357\u001B[0m     \u001B[38;5;28;01mreturn\u001B[39;00m \u001B[38;5;28mself\u001B[39m\u001B[38;5;241m.\u001B[39m_reindex_multi(axes, copy, fill_value)\n\u001B[0;32m   5359\u001B[0m \u001B[38;5;66;03m# perform the reindex on the axes\u001B[39;00m\n\u001B[1;32m-> 5360\u001B[0m \u001B[38;5;28;01mreturn\u001B[39;00m \u001B[38;5;28;43mself\u001B[39;49m\u001B[38;5;241;43m.\u001B[39;49m\u001B[43m_reindex_axes\u001B[49m\u001B[43m(\u001B[49m\n\u001B[0;32m   5361\u001B[0m \u001B[43m    \u001B[49m\u001B[43maxes\u001B[49m\u001B[43m,\u001B[49m\u001B[43m \u001B[49m\u001B[43mlevel\u001B[49m\u001B[43m,\u001B[49m\u001B[43m \u001B[49m\u001B[43mlimit\u001B[49m\u001B[43m,\u001B[49m\u001B[43m \u001B[49m\u001B[43mtolerance\u001B[49m\u001B[43m,\u001B[49m\u001B[43m \u001B[49m\u001B[43mmethod\u001B[49m\u001B[43m,\u001B[49m\u001B[43m \u001B[49m\u001B[43mfill_value\u001B[49m\u001B[43m,\u001B[49m\u001B[43m \u001B[49m\u001B[43mcopy\u001B[49m\n\u001B[0;32m   5362\u001B[0m \u001B[43m\u001B[49m\u001B[43m)\u001B[49m\u001B[38;5;241m.\u001B[39m__finalize__(\u001B[38;5;28mself\u001B[39m, method\u001B[38;5;241m=\u001B[39m\u001B[38;5;124m\"\u001B[39m\u001B[38;5;124mreindex\u001B[39m\u001B[38;5;124m\"\u001B[39m)\n",
      "File \u001B[1;32m~\\AppData\\Roaming\\Python\\Python39\\site-packages\\pandas\\core\\frame.py:4896\u001B[0m, in \u001B[0;36mDataFrame._reindex_axes\u001B[1;34m(self, axes, level, limit, tolerance, method, fill_value, copy)\u001B[0m\n\u001B[0;32m   4894\u001B[0m index \u001B[38;5;241m=\u001B[39m axes[\u001B[38;5;124m\"\u001B[39m\u001B[38;5;124mindex\u001B[39m\u001B[38;5;124m\"\u001B[39m]\n\u001B[0;32m   4895\u001B[0m \u001B[38;5;28;01mif\u001B[39;00m index \u001B[38;5;129;01mis\u001B[39;00m \u001B[38;5;129;01mnot\u001B[39;00m \u001B[38;5;28;01mNone\u001B[39;00m:\n\u001B[1;32m-> 4896\u001B[0m     frame \u001B[38;5;241m=\u001B[39m \u001B[43mframe\u001B[49m\u001B[38;5;241;43m.\u001B[39;49m\u001B[43m_reindex_index\u001B[49m\u001B[43m(\u001B[49m\n\u001B[0;32m   4897\u001B[0m \u001B[43m        \u001B[49m\u001B[43mindex\u001B[49m\u001B[43m,\u001B[49m\u001B[43m \u001B[49m\u001B[43mmethod\u001B[49m\u001B[43m,\u001B[49m\u001B[43m \u001B[49m\u001B[43mcopy\u001B[49m\u001B[43m,\u001B[49m\u001B[43m \u001B[49m\u001B[43mlevel\u001B[49m\u001B[43m,\u001B[49m\u001B[43m \u001B[49m\u001B[43mfill_value\u001B[49m\u001B[43m,\u001B[49m\u001B[43m \u001B[49m\u001B[43mlimit\u001B[49m\u001B[43m,\u001B[49m\u001B[43m \u001B[49m\u001B[43mtolerance\u001B[49m\n\u001B[0;32m   4898\u001B[0m \u001B[43m    \u001B[49m\u001B[43m)\u001B[49m\n\u001B[0;32m   4900\u001B[0m \u001B[38;5;28;01mreturn\u001B[39;00m frame\n",
      "File \u001B[1;32m~\\AppData\\Roaming\\Python\\Python39\\site-packages\\pandas\\core\\frame.py:4912\u001B[0m, in \u001B[0;36mDataFrame._reindex_index\u001B[1;34m(self, new_index, method, copy, level, fill_value, limit, tolerance)\u001B[0m\n\u001B[0;32m   4902\u001B[0m \u001B[38;5;28;01mdef\u001B[39;00m \u001B[38;5;21m_reindex_index\u001B[39m(\n\u001B[0;32m   4903\u001B[0m     \u001B[38;5;28mself\u001B[39m,\n\u001B[0;32m   4904\u001B[0m     new_index,\n\u001B[1;32m   (...)\u001B[0m\n\u001B[0;32m   4910\u001B[0m     tolerance\u001B[38;5;241m=\u001B[39m\u001B[38;5;28;01mNone\u001B[39;00m,\n\u001B[0;32m   4911\u001B[0m ):\n\u001B[1;32m-> 4912\u001B[0m     new_index, indexer \u001B[38;5;241m=\u001B[39m \u001B[38;5;28;43mself\u001B[39;49m\u001B[38;5;241;43m.\u001B[39;49m\u001B[43mindex\u001B[49m\u001B[38;5;241;43m.\u001B[39;49m\u001B[43mreindex\u001B[49m\u001B[43m(\u001B[49m\n\u001B[0;32m   4913\u001B[0m \u001B[43m        \u001B[49m\u001B[43mnew_index\u001B[49m\u001B[43m,\u001B[49m\u001B[43m \u001B[49m\u001B[43mmethod\u001B[49m\u001B[38;5;241;43m=\u001B[39;49m\u001B[43mmethod\u001B[49m\u001B[43m,\u001B[49m\u001B[43m \u001B[49m\u001B[43mlevel\u001B[49m\u001B[38;5;241;43m=\u001B[39;49m\u001B[43mlevel\u001B[49m\u001B[43m,\u001B[49m\u001B[43m \u001B[49m\u001B[43mlimit\u001B[49m\u001B[38;5;241;43m=\u001B[39;49m\u001B[43mlimit\u001B[49m\u001B[43m,\u001B[49m\u001B[43m \u001B[49m\u001B[43mtolerance\u001B[49m\u001B[38;5;241;43m=\u001B[39;49m\u001B[43mtolerance\u001B[49m\n\u001B[0;32m   4914\u001B[0m \u001B[43m    \u001B[49m\u001B[43m)\u001B[49m\n\u001B[0;32m   4915\u001B[0m     \u001B[38;5;28;01mreturn\u001B[39;00m \u001B[38;5;28mself\u001B[39m\u001B[38;5;241m.\u001B[39m_reindex_with_indexers(\n\u001B[0;32m   4916\u001B[0m         {\u001B[38;5;241m0\u001B[39m: [new_index, indexer]},\n\u001B[0;32m   4917\u001B[0m         copy\u001B[38;5;241m=\u001B[39mcopy,\n\u001B[0;32m   4918\u001B[0m         fill_value\u001B[38;5;241m=\u001B[39mfill_value,\n\u001B[0;32m   4919\u001B[0m         allow_dups\u001B[38;5;241m=\u001B[39m\u001B[38;5;28;01mFalse\u001B[39;00m,\n\u001B[0;32m   4920\u001B[0m     )\n",
      "File \u001B[1;32m~\\AppData\\Roaming\\Python\\Python39\\site-packages\\pandas\\core\\indexes\\base.py:4271\u001B[0m, in \u001B[0;36mIndex.reindex\u001B[1;34m(self, target, method, level, limit, tolerance)\u001B[0m\n\u001B[0;32m   4267\u001B[0m     indexer \u001B[38;5;241m=\u001B[39m \u001B[38;5;28mself\u001B[39m\u001B[38;5;241m.\u001B[39mget_indexer(\n\u001B[0;32m   4268\u001B[0m         target, method\u001B[38;5;241m=\u001B[39mmethod, limit\u001B[38;5;241m=\u001B[39mlimit, tolerance\u001B[38;5;241m=\u001B[39mtolerance\n\u001B[0;32m   4269\u001B[0m     )\n\u001B[0;32m   4270\u001B[0m \u001B[38;5;28;01melif\u001B[39;00m \u001B[38;5;28mself\u001B[39m\u001B[38;5;241m.\u001B[39m_is_multi:\n\u001B[1;32m-> 4271\u001B[0m     \u001B[38;5;28;01mraise\u001B[39;00m \u001B[38;5;167;01mValueError\u001B[39;00m(\u001B[38;5;124m\"\u001B[39m\u001B[38;5;124mcannot handle a non-unique multi-index!\u001B[39m\u001B[38;5;124m\"\u001B[39m)\n\u001B[0;32m   4272\u001B[0m \u001B[38;5;28;01melif\u001B[39;00m \u001B[38;5;129;01mnot\u001B[39;00m \u001B[38;5;28mself\u001B[39m\u001B[38;5;241m.\u001B[39mis_unique:\n\u001B[0;32m   4273\u001B[0m     \u001B[38;5;66;03m# GH#42568\u001B[39;00m\n\u001B[0;32m   4274\u001B[0m     \u001B[38;5;28;01mraise\u001B[39;00m \u001B[38;5;167;01mValueError\u001B[39;00m(\u001B[38;5;124m\"\u001B[39m\u001B[38;5;124mcannot reindex on an axis with duplicate labels\u001B[39m\u001B[38;5;124m\"\u001B[39m)\n",
      "\u001B[1;31mValueError\u001B[0m: cannot handle a non-unique multi-index!"
     ]
    }
   ],
   "source": [
    "# 要将原来homegrid_dominant中的NOISE替换为新的group_id，不是把group_id直接替换这么简单，因为新的group_id会和原来的group_id冲突\n",
    "for who in noise_dominant['who'].unique():\n",
    "    max_group_id = homegrid_dominant[(homegrid_dominant['who'] == who) & (homegrid_dominant['group_id']!='NOISE')]['group_id'].max()\n",
    "    noise_dominant.loc[noise_dominant['who'] == who, 'group_id'] = noise_dominant.loc[noise_dominant[\n",
    "                                                                                          'who'] == who, 'group_id'] + max_group_id + 1\n",
    "\n",
    "# 替换\n",
    "new_homegrid_dominant = homegrid_dominant.set_index(['who', 'date'])\n",
    "new_noise_dominant  = noise_dominant.set_index(['who', 'date'])\n",
    "new_homegrid_dominant.update(new_noise_dominant)\n",
    "\n",
    "# 更新homegrid_dominant\n",
    "homegrid_dominant = new_homegrid_dominant.sort_values(by=['who', 'date']).reset_index()"
   ],
   "metadata": {
    "collapsed": false,
    "ExecuteTime": {
     "end_time": "2023-07-23T14:58:52.993054400Z",
     "start_time": "2023-07-23T14:58:49.609659100Z"
    }
   }
  },
  {
   "cell_type": "code",
   "execution_count": 41,
   "outputs": [
    {
     "data": {
      "text/plain": "         who      date   fnid  chess_x  chess_y  home_fre  home_time  od_num\n69045  20504  20190101  43939       28      123         3     171583      11\n69046  20504  20190101  43935       24      123         7     428580      37\n69048  20504  20190101  40371       30      113         1       4311       0\n69049  20504  20190201  40371       30      113         1       5520       0\n69050  20504  20190201  46432       22      130         1       6148       0\n...      ...       ...    ...      ...      ...       ...        ...     ...\n69267  20504  20200501  35461      118       99         6     115015       5\n69268  20504  20200501  19342       64       54         1      30836       0\n69269  20504  20200501  45722       26      128         2      25696       0\n69270  20504  20200501  33030      186       92         6      47822       0\n69271  20504  20200501   2200       58        6         9     319934       9\n\n[156 rows x 8 columns]",
      "text/html": "<div>\n<style scoped>\n    .dataframe tbody tr th:only-of-type {\n        vertical-align: middle;\n    }\n\n    .dataframe tbody tr th {\n        vertical-align: top;\n    }\n\n    .dataframe thead th {\n        text-align: right;\n    }\n</style>\n<table border=\"1\" class=\"dataframe\">\n  <thead>\n    <tr style=\"text-align: right;\">\n      <th></th>\n      <th>who</th>\n      <th>date</th>\n      <th>fnid</th>\n      <th>chess_x</th>\n      <th>chess_y</th>\n      <th>home_fre</th>\n      <th>home_time</th>\n      <th>od_num</th>\n    </tr>\n  </thead>\n  <tbody>\n    <tr>\n      <th>69045</th>\n      <td>20504</td>\n      <td>20190101</td>\n      <td>43939</td>\n      <td>28</td>\n      <td>123</td>\n      <td>3</td>\n      <td>171583</td>\n      <td>11</td>\n    </tr>\n    <tr>\n      <th>69046</th>\n      <td>20504</td>\n      <td>20190101</td>\n      <td>43935</td>\n      <td>24</td>\n      <td>123</td>\n      <td>7</td>\n      <td>428580</td>\n      <td>37</td>\n    </tr>\n    <tr>\n      <th>69048</th>\n      <td>20504</td>\n      <td>20190101</td>\n      <td>40371</td>\n      <td>30</td>\n      <td>113</td>\n      <td>1</td>\n      <td>4311</td>\n      <td>0</td>\n    </tr>\n    <tr>\n      <th>69049</th>\n      <td>20504</td>\n      <td>20190201</td>\n      <td>40371</td>\n      <td>30</td>\n      <td>113</td>\n      <td>1</td>\n      <td>5520</td>\n      <td>0</td>\n    </tr>\n    <tr>\n      <th>69050</th>\n      <td>20504</td>\n      <td>20190201</td>\n      <td>46432</td>\n      <td>22</td>\n      <td>130</td>\n      <td>1</td>\n      <td>6148</td>\n      <td>0</td>\n    </tr>\n    <tr>\n      <th>...</th>\n      <td>...</td>\n      <td>...</td>\n      <td>...</td>\n      <td>...</td>\n      <td>...</td>\n      <td>...</td>\n      <td>...</td>\n      <td>...</td>\n    </tr>\n    <tr>\n      <th>69267</th>\n      <td>20504</td>\n      <td>20200501</td>\n      <td>35461</td>\n      <td>118</td>\n      <td>99</td>\n      <td>6</td>\n      <td>115015</td>\n      <td>5</td>\n    </tr>\n    <tr>\n      <th>69268</th>\n      <td>20504</td>\n      <td>20200501</td>\n      <td>19342</td>\n      <td>64</td>\n      <td>54</td>\n      <td>1</td>\n      <td>30836</td>\n      <td>0</td>\n    </tr>\n    <tr>\n      <th>69269</th>\n      <td>20504</td>\n      <td>20200501</td>\n      <td>45722</td>\n      <td>26</td>\n      <td>128</td>\n      <td>2</td>\n      <td>25696</td>\n      <td>0</td>\n    </tr>\n    <tr>\n      <th>69270</th>\n      <td>20504</td>\n      <td>20200501</td>\n      <td>33030</td>\n      <td>186</td>\n      <td>92</td>\n      <td>6</td>\n      <td>47822</td>\n      <td>0</td>\n    </tr>\n    <tr>\n      <th>69271</th>\n      <td>20504</td>\n      <td>20200501</td>\n      <td>2200</td>\n      <td>58</td>\n      <td>6</td>\n      <td>9</td>\n      <td>319934</td>\n      <td>9</td>\n    </tr>\n  </tbody>\n</table>\n<p>156 rows × 8 columns</p>\n</div>"
     },
     "execution_count": 41,
     "metadata": {},
     "output_type": "execute_result"
    }
   ],
   "source": [
    "all_grid[all_grid['who']==20504]"
   ],
   "metadata": {
    "collapsed": false,
    "ExecuteTime": {
     "start_time": "2023-05-12T10:04:12.901819Z",
     "end_time": "2023-05-12T10:04:12.925233Z"
    }
   }
  },
  {
   "cell_type": "code",
   "execution_count": 40,
   "outputs": [
    {
     "data": {
      "text/plain": "        who      date     fnid group_id\n8602  20504  20190101  43935.0        0\n8603  20504  20190201  43575.0        0\n8604  20504  20190301  43571.0        7\n8605  20504  20190401  41783.0        9\n8606  20504  20190501  33943.0        1\n8607  20504  20190601  34657.0        1\n8608  20504  20190701  52174.0       10\n8609  20504  20190801  53974.0    NOISE\n8610  20504  20190901  42212.0       13\n8611  20504  20191001  22556.0       14\n8612  20504  20191101  29454.0        2\n8613  20504  20191201  29455.0        2\n8614  20504  20200101  14035.0        3\n8615  20504  20200201  14035.0        3\n8616  20504  20200301  37684.0       18\n8617  20504  20200401  35107.0       23\n8618  20504  20200501   5418.0    NOISE",
      "text/html": "<div>\n<style scoped>\n    .dataframe tbody tr th:only-of-type {\n        vertical-align: middle;\n    }\n\n    .dataframe tbody tr th {\n        vertical-align: top;\n    }\n\n    .dataframe thead th {\n        text-align: right;\n    }\n</style>\n<table border=\"1\" class=\"dataframe\">\n  <thead>\n    <tr style=\"text-align: right;\">\n      <th></th>\n      <th>who</th>\n      <th>date</th>\n      <th>fnid</th>\n      <th>group_id</th>\n    </tr>\n  </thead>\n  <tbody>\n    <tr>\n      <th>8602</th>\n      <td>20504</td>\n      <td>20190101</td>\n      <td>43935.0</td>\n      <td>0</td>\n    </tr>\n    <tr>\n      <th>8603</th>\n      <td>20504</td>\n      <td>20190201</td>\n      <td>43575.0</td>\n      <td>0</td>\n    </tr>\n    <tr>\n      <th>8604</th>\n      <td>20504</td>\n      <td>20190301</td>\n      <td>43571.0</td>\n      <td>7</td>\n    </tr>\n    <tr>\n      <th>8605</th>\n      <td>20504</td>\n      <td>20190401</td>\n      <td>41783.0</td>\n      <td>9</td>\n    </tr>\n    <tr>\n      <th>8606</th>\n      <td>20504</td>\n      <td>20190501</td>\n      <td>33943.0</td>\n      <td>1</td>\n    </tr>\n    <tr>\n      <th>8607</th>\n      <td>20504</td>\n      <td>20190601</td>\n      <td>34657.0</td>\n      <td>1</td>\n    </tr>\n    <tr>\n      <th>8608</th>\n      <td>20504</td>\n      <td>20190701</td>\n      <td>52174.0</td>\n      <td>10</td>\n    </tr>\n    <tr>\n      <th>8609</th>\n      <td>20504</td>\n      <td>20190801</td>\n      <td>53974.0</td>\n      <td>NOISE</td>\n    </tr>\n    <tr>\n      <th>8610</th>\n      <td>20504</td>\n      <td>20190901</td>\n      <td>42212.0</td>\n      <td>13</td>\n    </tr>\n    <tr>\n      <th>8611</th>\n      <td>20504</td>\n      <td>20191001</td>\n      <td>22556.0</td>\n      <td>14</td>\n    </tr>\n    <tr>\n      <th>8612</th>\n      <td>20504</td>\n      <td>20191101</td>\n      <td>29454.0</td>\n      <td>2</td>\n    </tr>\n    <tr>\n      <th>8613</th>\n      <td>20504</td>\n      <td>20191201</td>\n      <td>29455.0</td>\n      <td>2</td>\n    </tr>\n    <tr>\n      <th>8614</th>\n      <td>20504</td>\n      <td>20200101</td>\n      <td>14035.0</td>\n      <td>3</td>\n    </tr>\n    <tr>\n      <th>8615</th>\n      <td>20504</td>\n      <td>20200201</td>\n      <td>14035.0</td>\n      <td>3</td>\n    </tr>\n    <tr>\n      <th>8616</th>\n      <td>20504</td>\n      <td>20200301</td>\n      <td>37684.0</td>\n      <td>18</td>\n    </tr>\n    <tr>\n      <th>8617</th>\n      <td>20504</td>\n      <td>20200401</td>\n      <td>35107.0</td>\n      <td>23</td>\n    </tr>\n    <tr>\n      <th>8618</th>\n      <td>20504</td>\n      <td>20200501</td>\n      <td>5418.0</td>\n      <td>NOISE</td>\n    </tr>\n  </tbody>\n</table>\n</div>"
     },
     "execution_count": 40,
     "metadata": {},
     "output_type": "execute_result"
    }
   ],
   "source": [
    "homegrid_dominant[homegrid_dominant['who']==20504][['who','date','fnid','group_id']]"
   ],
   "metadata": {
    "collapsed": false,
    "ExecuteTime": {
     "start_time": "2023-05-12T09:44:26.126259Z",
     "end_time": "2023-05-12T09:44:26.149347Z"
    }
   }
  },
  {
   "cell_type": "code",
   "execution_count": 73,
   "outputs": [
    {
     "data": {
      "text/plain": "518"
     },
     "execution_count": 73,
     "metadata": {},
     "output_type": "execute_result"
    }
   ],
   "source": [
    "# 计算group_id没有NOISE的用户\n",
    "homegrid_dominant[homegrid_dominant['group_id']=='NOISE']['who'].nunique()"
   ],
   "metadata": {
    "collapsed": false,
    "ExecuteTime": {
     "start_time": "2023-05-12T15:46:34.391258Z",
     "end_time": "2023-05-12T15:46:34.440269Z"
    }
   }
  },
  {
   "cell_type": "markdown",
   "source": [
    "## 解决家网格的月度差异\n",
    "<font size=6 >case 1：如果用户的家网格的变化是有序的，如{0,0,0,1,1,1,2,2,2}，那么我们认为该用户的居住网格是不需要调整的（即便有NOISE），这是一种显著的迁居行为 </font>\n",
    "<font size=6 >case 2：如果用户的家网格是混乱的，如{0,1,0,0,1,1,0,0}，那么会有两种原因导致这种情况：（1）用户可能有多个家，即0和1组团都是他的家 → 可以看看这两个组团是否会同在一个月中出现 ；（2）存在组团是干扰项 - 这种情况出现在：这个月的记录较少，因此虽然这个网格在该月驻留频次最多的，但是绝对数量上并不多（比如只有一两次）→ 要确立一个判断标准</font>"
   ],
   "metadata": {
    "collapsed": false
   }
  },
  {
   "cell_type": "markdown",
   "source": [
    "### step 1：删除平均月驻留频次小于4的group_id"
   ],
   "metadata": {
    "collapsed": false
   }
  },
  {
   "cell_type": "markdown",
   "source": [
    "<font size=6>在排序无序的居住地网格中，有的组团实际上是由于这个月数据量太少导致的，实际上并不是真正的家，如下图</font>\n",
    "![1](img/unsorted_situation.png)\n",
    "<font size=6>【1】首先定义多少的频次算少（一周一次，即组团的月均活动频次为4），对平均频次小于标准的组团认为是一个次锚点，把group_id改成\"NOISE\"（该操作针对所有用户，不仅是排序混乱的用户）</font>\n",
    "<font size=6>【2】对频次满足标准的，可以认为有两（多）个家</font>"
   ],
   "metadata": {
    "collapsed": false
   }
  },
  {
   "cell_type": "code",
   "execution_count": 17,
   "outputs": [],
   "source": [
    "# 筛选出homegrid_dominant中月均驻留频次小于4的组团\n",
    "# 根据who和group_id分组，计算每个组团的平均驻留频次\n",
    "homegrid_dominant['avg_fre'] = homegrid_dominant.groupby(['who','group_id'])['home_fre'].transform('mean')\n",
    "# 将homegrid_unsorted中avg_fre列<4的数据的group_id替换为'NOISE'\n",
    "homegrid_dominant.loc[homegrid_dominant['avg_fre']<4,'group_id'] = 'NOISE'"
   ],
   "metadata": {
    "collapsed": false,
    "ExecuteTime": {
     "end_time": "2023-07-23T14:58:58.246867Z",
     "start_time": "2023-07-23T14:58:58.230371200Z"
    }
   }
  },
  {
   "cell_type": "code",
   "execution_count": 18,
   "outputs": [],
   "source": [
    "def reorder_list(lst):\n",
    "  # 创建一个空的字典，用来存储每个类别对应的新数字\n",
    "  category_dict = {}\n",
    "  # 初始化一个变量，用来表示当前的新数字\n",
    "  current_num = 0\n",
    "  # 创建一个空的list，用来存储重新排序后的结果\n",
    "  result = []\n",
    "  # 遍历原始的list，对每个数字进行替换，并添加到结果list中\n",
    "  for num in lst:\n",
    "    # 如果数字在字典中已经存在，那么就用字典中对应的新数字来替换\n",
    "    if num in category_dict:\n",
    "      result.append(category_dict[num])\n",
    "    # 否则，就用当前的新数字来替换，并把它添加到字典中\n",
    "    else:\n",
    "      result.append(current_num)\n",
    "      category_dict[num] = current_num\n",
    "      # 把当前的新数字加一，继续循环\n",
    "      current_num += 1\n",
    "  # 返回结果list\n",
    "  return result"
   ],
   "metadata": {
    "collapsed": false,
    "ExecuteTime": {
     "end_time": "2023-07-23T14:59:01.073099300Z",
     "start_time": "2023-07-23T14:59:01.039494100Z"
    }
   }
  },
  {
   "cell_type": "code",
   "execution_count": 19,
   "outputs": [],
   "source": [
    "# group_id重置\n",
    "for who in homegrid_dominant['who'].unique():\n",
    "    group_id = homegrid_dominant[(homegrid_dominant['who'] == who) & (homegrid_dominant['group_id']!='NOISE')]['group_id']\n",
    "    group_id = reorder_list(group_id)\n",
    "    homegrid_dominant.loc[(homegrid_dominant['who'] == who)&(homegrid_dominant['group_id']!='NOISE'),'group_id'] = group_id"
   ],
   "metadata": {
    "collapsed": false,
    "ExecuteTime": {
     "end_time": "2023-07-23T14:59:04.701938500Z",
     "start_time": "2023-07-23T14:59:02.056282300Z"
    }
   }
  },
  {
   "cell_type": "code",
   "execution_count": 20,
   "outputs": [],
   "source": [
    "# 定义一个判断数组状态的函数\n",
    "# 使用迭代的方法\n",
    "def listSortedOrNot (group_list):\n",
    "  n = len(group_list)\n",
    "  if n <= 1:\n",
    "    return True\n",
    "  for i in range (1,n):\n",
    "    if group_list [i - 1] > group_list [i]:\n",
    "      return False\n",
    "  return True"
   ],
   "metadata": {
    "collapsed": false,
    "ExecuteTime": {
     "end_time": "2023-07-23T14:59:04.716350400Z",
     "start_time": "2023-07-23T14:59:04.703335300Z"
    }
   }
  },
  {
   "cell_type": "code",
   "execution_count": 21,
   "outputs": [],
   "source": [
    " # 找出需要进一步分析居住网格情况的用户，也就是网格组团的变化是混乱的用户\n",
    "# 先剔除NOISE的部分（不纳入分析）\n",
    "homegrid_without_noise = homegrid_dominant[homegrid_dominant['group_id']!='NOISE']\n",
    "who_home2 = homegrid_without_noise.groupby('who', group_keys=False)\n",
    "grid_sorted = who_home2.apply(lambda  x: listSortedOrNot(x['group_id'].tolist())).reset_index()\n",
    "grid_sorted = grid_sorted.rename(columns={0:'is_sorted'})\n",
    "\n",
    "# 利用grid_sorted区分用户\n",
    "homegrid_sorted = homegrid_dominant[homegrid_dominant['who'].isin(grid_sorted[grid_sorted['is_sorted']==True]['who'].unique())]\n",
    "homegrid_unsorted = homegrid_dominant[homegrid_dominant['who'].isin(grid_sorted[grid_sorted['is_sorted']==False]['who'].unique())]"
   ],
   "metadata": {
    "collapsed": false,
    "ExecuteTime": {
     "end_time": "2023-07-23T14:59:05.882164800Z",
     "start_time": "2023-07-23T14:59:05.831641Z"
    }
   }
  },
  {
   "cell_type": "code",
   "execution_count": 442,
   "outputs": [
    {
     "data": {
      "text/plain": "70"
     },
     "execution_count": 442,
     "metadata": {},
     "output_type": "execute_result"
    }
   ],
   "source": [
    "# 有多少个who的group_id被替换为\"SECONDARY\"\n",
    "homegrid_unsorted[homegrid_unsorted['group_id']==-1]['who'].unique().shape[0]"
   ],
   "metadata": {
    "collapsed": false,
    "ExecuteTime": {
     "start_time": "2023-04-28T00:00:20.330678Z",
     "end_time": "2023-04-28T00:00:20.359438Z"
    }
   }
  },
  {
   "cell_type": "code",
   "execution_count": 22,
   "outputs": [],
   "source": [
    "# 用homegrid_unsorted更新homegrid_dominant\n",
    "replace_scondary = homegrid_unsorted[homegrid_unsorted['group_id']==-1].set_index(['who','date'])\n",
    "new_homegrid_dominant = homegrid_dominant.set_index(['who','date'])\n",
    "new_homegrid_dominant.update(replace_scondary)\n",
    "\n",
    "## 更新homegrid_dominant\n",
    "homegrid_dominant = new_homegrid_dominant.reset_index()"
   ],
   "metadata": {
    "collapsed": false,
    "ExecuteTime": {
     "end_time": "2023-07-23T14:59:08.779176100Z",
     "start_time": "2023-07-23T14:59:08.734395Z"
    }
   }
  },
  {
   "cell_type": "markdown",
   "source": [
    "###  处理noise值\n",
    "<font size=6>1. 如果NOISE上下的网格一致（且不为NOISE），则将NOISE改写为其临近的label</font>\n",
    "<font size=6>2. 如果NOISE上下的网格不一致（且存在其一不为NOISE），判断NOISE中有没有在其十六宫格的网格，有的话则将NOISE改写为其临近的label</font>"
   ],
   "metadata": {
    "collapsed": false
   }
  },
  {
   "cell_type": "code",
   "execution_count": 23,
   "outputs": [],
   "source": [
    "#查找candidate_grid中的网格有没有与data中该对应组团一致的网格\n",
    "def search_in_candidate_grid(data, candidate_grid, group):\n",
    "    chessx_max = data[data['group_id']==group]['chess_x'].max()\n",
    "    chessx_min = data[data['group_id']==group]['chess_x'].min()\n",
    "    chessy_max = data[data['group_id']==group]['chess_y'].max()\n",
    "    chessy_min = data[data['group_id']==group]['chess_y'].min()\n",
    "    for _,grid in candidate_grid.iterrows():\n",
    "        if (grid['chess_x']<= chessx_max+3) and (grid['chess_x'] >= chessx_min-3) and (grid['chess_y']<= chessy_max+3) and (grid['chess_y'] >= chessy_min-3):\n",
    "            return  grid, group\n",
    "    return -1, -1"
   ],
   "metadata": {
    "collapsed": false,
    "ExecuteTime": {
     "end_time": "2023-07-23T14:59:11.546064400Z",
     "start_time": "2023-07-23T14:59:11.540062200Z"
    }
   }
  },
  {
   "cell_type": "code",
   "execution_count": 24,
   "outputs": [],
   "source": [
    "def noise_solve(home_grid, all_grid):\n",
    "    replace_grid = pd.DataFrame(columns=home_grid.columns)\n",
    "    # index重置\n",
    "    home_grid = home_grid.sort_values(by='date').reset_index(drop=True)\n",
    "    all_grid = all_grid.sort_values(by='date').reset_index(drop=True)\n",
    "    # 获取group_id='NOISE'的数据的index\n",
    "    noise_index = home_grid[home_grid['group_id']=='NOISE'].index.tolist()\n",
    "    # 遍历noise_index\n",
    "    for i in noise_index:\n",
    "        # 获取这个who这个月的所有网格作为candidate_grid\n",
    "        candidate_grid = all_grid[all_grid['date']==home_grid.loc[i,'date']].reset_index(drop=True)\n",
    "        # 如果index是第一个或者最后一个，则将above和below赋同样的值\n",
    "        if i == 0:\n",
    "            group_above = home_grid.loc[i+1,'group_id']; group_below = home_grid.loc[i+1,'group_id']\n",
    "        elif i == len(home_grid)-1:\n",
    "            group_above = home_grid.loc[i-1,'group_id']; group_below = home_grid.loc[i-1,'group_id']\n",
    "        else:\n",
    "            # 找到NOISE上下的网格\n",
    "            group_above = home_grid.loc[i-1,'group_id']; group_below = home_grid.loc[i+1,'group_id']\n",
    "\n",
    "        # 开始判断和更新\n",
    "        # step1：如果NOISE上下月份网格一致，并且不等于‘NOISE’，则将NOISE改写为其临近的group_id（必修改）\n",
    "        if (group_above == group_below) and (group_above != 'NOISE'):\n",
    "            # 将NOISE替换为其临近的group_id\n",
    "            home_grid.loc[i,'group_id'] = group_above\n",
    "            #同时替换网格的其他信息\n",
    "            #先赋个初值，如果以下条件找不到，就用初值\n",
    "            home_grid.loc[i,['fnid','chess_x','chess_y','home_fre','home_time','od_num']] = [None, None, None, None, None, None]\n",
    "            #查找candidate_grid中的网格有没有与data中该对应组团一致的网格\n",
    "            grid, group= search_in_candidate_grid(home_grid, candidate_grid, group_above)\n",
    "            # group=-1证明没有找到，使用初值\n",
    "            if group != -1:\n",
    "                home_grid.loc[i,['fnid','chess_x','chess_y','home_fre','home_time','od_num']] = grid[['fnid','chess_x','chess_y','home_fre','home_time','od_num']]\n",
    "            # 将data添加到replace_grid中\n",
    "            replace_grid = pd.concat([replace_grid, home_grid.loc[i:i]], axis=0)\n",
    "        # step2：NOISE上下月份网格不一致，但是存在不是NOISE的情况（不一定修改）\n",
    "        elif (group_above != group_below) and (group_above != 'NOISE' or group_below != 'NOISE'):\n",
    "            # 分别查找candidate_grid中的网格\n",
    "            group1= -1; group2 = -1\n",
    "            if group_above != 'NOISE':\n",
    "                grid1, group1 = search_in_candidate_grid(home_grid, candidate_grid, group_above)\n",
    "            if group_below != 'NOISE':\n",
    "                grid2, group2 = search_in_candidate_grid(home_grid, candidate_grid, group_below)\n",
    "            # 如果grid1和grid2都不为None，则将NOISE替换为grid1和grid2中home_fre较大的那个，否则将NOISE替换为grid1或者grid2\n",
    "            if group1 != -1 and group2 != -1:\n",
    "                grid = grid1 if grid1['home_fre'] > grid2['home_fre'] else grid2\n",
    "                group = group1 if grid1['home_fre'] > grid2['home_fre'] else group2\n",
    "                home_grid.loc[i,'group_id'] = group\n",
    "                home_grid.loc[i,['fnid','chess_x','chess_y','home_fre','home_time','od_num']] = grid[['fnid','chess_x','chess_y','home_fre','home_time','od_num']]\n",
    "                replace_grid = pd.concat([replace_grid, home_grid.loc[i:i]], axis=0)\n",
    "            elif group1 != -1 or group2 != -1:\n",
    "                grid = grid1 if group1 != -1 else grid2\n",
    "                group = group1 if group1 != -1 else group2\n",
    "                home_grid.loc[i,'group_id'] = group\n",
    "                home_grid.loc[i,['fnid','chess_x','chess_y','home_fre','home_time','od_num']] = grid[['fnid','chess_x','chess_y','home_fre','home_time','od_num']]\n",
    "                replace_grid = pd.concat([replace_grid, home_grid.loc[i:i]], axis=0)\n",
    "\n",
    "    return  replace_grid"
   ],
   "metadata": {
    "collapsed": false,
    "ExecuteTime": {
     "end_time": "2023-07-23T14:59:12.487415800Z",
     "start_time": "2023-07-23T14:59:12.453119200Z"
    }
   }
  },
  {
   "cell_type": "code",
   "execution_count": 25,
   "outputs": [
    {
     "ename": "KeyError",
     "evalue": "1",
     "output_type": "error",
     "traceback": [
      "\u001B[1;31m---------------------------------------------------------------------------\u001B[0m",
      "\u001B[1;31mValueError\u001B[0m                                Traceback (most recent call last)",
      "File \u001B[1;32m~\\AppData\\Roaming\\Python\\Python39\\site-packages\\pandas\\core\\indexes\\range.py:345\u001B[0m, in \u001B[0;36mRangeIndex.get_loc\u001B[1;34m(self, key)\u001B[0m\n\u001B[0;32m    344\u001B[0m \u001B[38;5;28;01mtry\u001B[39;00m:\n\u001B[1;32m--> 345\u001B[0m     \u001B[38;5;28;01mreturn\u001B[39;00m \u001B[38;5;28;43mself\u001B[39;49m\u001B[38;5;241;43m.\u001B[39;49m\u001B[43m_range\u001B[49m\u001B[38;5;241;43m.\u001B[39;49m\u001B[43mindex\u001B[49m\u001B[43m(\u001B[49m\u001B[43mnew_key\u001B[49m\u001B[43m)\u001B[49m\n\u001B[0;32m    346\u001B[0m \u001B[38;5;28;01mexcept\u001B[39;00m \u001B[38;5;167;01mValueError\u001B[39;00m \u001B[38;5;28;01mas\u001B[39;00m err:\n",
      "\u001B[1;31mValueError\u001B[0m: 1 is not in range",
      "\nThe above exception was the direct cause of the following exception:\n",
      "\u001B[1;31mKeyError\u001B[0m                                  Traceback (most recent call last)",
      "Input \u001B[1;32mIn [25]\u001B[0m, in \u001B[0;36m<cell line: 8>\u001B[1;34m()\u001B[0m\n\u001B[0;32m      9\u001B[0m who_home \u001B[38;5;241m=\u001B[39m homegrid_dominant[homegrid_dominant[\u001B[38;5;124m'\u001B[39m\u001B[38;5;124mwho\u001B[39m\u001B[38;5;124m'\u001B[39m]\u001B[38;5;241m==\u001B[39mwho]\u001B[38;5;241m.\u001B[39mreset_index(drop\u001B[38;5;241m=\u001B[39m\u001B[38;5;28;01mTrue\u001B[39;00m)\n\u001B[0;32m     10\u001B[0m who_data \u001B[38;5;241m=\u001B[39m all_grid[all_grid[\u001B[38;5;124m'\u001B[39m\u001B[38;5;124mwho\u001B[39m\u001B[38;5;124m'\u001B[39m]\u001B[38;5;241m==\u001B[39mwho]\u001B[38;5;241m.\u001B[39mreset_index(drop\u001B[38;5;241m=\u001B[39m\u001B[38;5;28;01mTrue\u001B[39;00m)\n\u001B[1;32m---> 11\u001B[0m replace \u001B[38;5;241m=\u001B[39m \u001B[43mnoise_solve\u001B[49m\u001B[43m(\u001B[49m\u001B[43mwho_home\u001B[49m\u001B[43m,\u001B[49m\u001B[43m \u001B[49m\u001B[43mwho_data\u001B[49m\u001B[43m)\u001B[49m\n\u001B[0;32m     12\u001B[0m \u001B[38;5;66;03m# 如果replace不为空，则将replace添加到replace_grid中\u001B[39;00m\n\u001B[0;32m     13\u001B[0m \u001B[38;5;28;01mif\u001B[39;00m \u001B[38;5;28mlen\u001B[39m(replace) \u001B[38;5;241m!=\u001B[39m \u001B[38;5;241m0\u001B[39m:\n",
      "Input \u001B[1;32mIn [24]\u001B[0m, in \u001B[0;36mnoise_solve\u001B[1;34m(home_grid, all_grid)\u001B[0m\n\u001B[0;32m     12\u001B[0m \u001B[38;5;66;03m# 如果index是第一个或者最后一个，则将above和below赋同样的值\u001B[39;00m\n\u001B[0;32m     13\u001B[0m \u001B[38;5;28;01mif\u001B[39;00m i \u001B[38;5;241m==\u001B[39m \u001B[38;5;241m0\u001B[39m:\n\u001B[1;32m---> 14\u001B[0m     group_above \u001B[38;5;241m=\u001B[39m \u001B[43mhome_grid\u001B[49m\u001B[38;5;241;43m.\u001B[39;49m\u001B[43mloc\u001B[49m\u001B[43m[\u001B[49m\u001B[43mi\u001B[49m\u001B[38;5;241;43m+\u001B[39;49m\u001B[38;5;241;43m1\u001B[39;49m\u001B[43m,\u001B[49m\u001B[38;5;124;43m'\u001B[39;49m\u001B[38;5;124;43mgroup_id\u001B[39;49m\u001B[38;5;124;43m'\u001B[39;49m\u001B[43m]\u001B[49m; group_below \u001B[38;5;241m=\u001B[39m home_grid\u001B[38;5;241m.\u001B[39mloc[i\u001B[38;5;241m+\u001B[39m\u001B[38;5;241m1\u001B[39m,\u001B[38;5;124m'\u001B[39m\u001B[38;5;124mgroup_id\u001B[39m\u001B[38;5;124m'\u001B[39m]\n\u001B[0;32m     15\u001B[0m \u001B[38;5;28;01melif\u001B[39;00m i \u001B[38;5;241m==\u001B[39m \u001B[38;5;28mlen\u001B[39m(home_grid)\u001B[38;5;241m-\u001B[39m\u001B[38;5;241m1\u001B[39m:\n\u001B[0;32m     16\u001B[0m     group_above \u001B[38;5;241m=\u001B[39m home_grid\u001B[38;5;241m.\u001B[39mloc[i\u001B[38;5;241m-\u001B[39m\u001B[38;5;241m1\u001B[39m,\u001B[38;5;124m'\u001B[39m\u001B[38;5;124mgroup_id\u001B[39m\u001B[38;5;124m'\u001B[39m]; group_below \u001B[38;5;241m=\u001B[39m home_grid\u001B[38;5;241m.\u001B[39mloc[i\u001B[38;5;241m-\u001B[39m\u001B[38;5;241m1\u001B[39m,\u001B[38;5;124m'\u001B[39m\u001B[38;5;124mgroup_id\u001B[39m\u001B[38;5;124m'\u001B[39m]\n",
      "File \u001B[1;32m~\\AppData\\Roaming\\Python\\Python39\\site-packages\\pandas\\core\\indexing.py:1096\u001B[0m, in \u001B[0;36m_LocationIndexer.__getitem__\u001B[1;34m(self, key)\u001B[0m\n\u001B[0;32m   1094\u001B[0m     key \u001B[38;5;241m=\u001B[39m \u001B[38;5;28mtuple\u001B[39m(com\u001B[38;5;241m.\u001B[39mapply_if_callable(x, \u001B[38;5;28mself\u001B[39m\u001B[38;5;241m.\u001B[39mobj) \u001B[38;5;28;01mfor\u001B[39;00m x \u001B[38;5;129;01min\u001B[39;00m key)\n\u001B[0;32m   1095\u001B[0m     \u001B[38;5;28;01mif\u001B[39;00m \u001B[38;5;28mself\u001B[39m\u001B[38;5;241m.\u001B[39m_is_scalar_access(key):\n\u001B[1;32m-> 1096\u001B[0m         \u001B[38;5;28;01mreturn\u001B[39;00m \u001B[38;5;28;43mself\u001B[39;49m\u001B[38;5;241;43m.\u001B[39;49m\u001B[43mobj\u001B[49m\u001B[38;5;241;43m.\u001B[39;49m\u001B[43m_get_value\u001B[49m\u001B[43m(\u001B[49m\u001B[38;5;241;43m*\u001B[39;49m\u001B[43mkey\u001B[49m\u001B[43m,\u001B[49m\u001B[43m \u001B[49m\u001B[43mtakeable\u001B[49m\u001B[38;5;241;43m=\u001B[39;49m\u001B[38;5;28;43mself\u001B[39;49m\u001B[38;5;241;43m.\u001B[39;49m\u001B[43m_takeable\u001B[49m\u001B[43m)\u001B[49m\n\u001B[0;32m   1097\u001B[0m     \u001B[38;5;28;01mreturn\u001B[39;00m \u001B[38;5;28mself\u001B[39m\u001B[38;5;241m.\u001B[39m_getitem_tuple(key)\n\u001B[0;32m   1098\u001B[0m \u001B[38;5;28;01melse\u001B[39;00m:\n\u001B[0;32m   1099\u001B[0m     \u001B[38;5;66;03m# we by definition only have the 0th axis\u001B[39;00m\n",
      "File \u001B[1;32m~\\AppData\\Roaming\\Python\\Python39\\site-packages\\pandas\\core\\frame.py:3877\u001B[0m, in \u001B[0;36mDataFrame._get_value\u001B[1;34m(self, index, col, takeable)\u001B[0m\n\u001B[0;32m   3871\u001B[0m engine \u001B[38;5;241m=\u001B[39m \u001B[38;5;28mself\u001B[39m\u001B[38;5;241m.\u001B[39mindex\u001B[38;5;241m.\u001B[39m_engine\n\u001B[0;32m   3873\u001B[0m \u001B[38;5;28;01mif\u001B[39;00m \u001B[38;5;129;01mnot\u001B[39;00m \u001B[38;5;28misinstance\u001B[39m(\u001B[38;5;28mself\u001B[39m\u001B[38;5;241m.\u001B[39mindex, MultiIndex):\n\u001B[0;32m   3874\u001B[0m     \u001B[38;5;66;03m# CategoricalIndex: Trying to use the engine fastpath may give incorrect\u001B[39;00m\n\u001B[0;32m   3875\u001B[0m     \u001B[38;5;66;03m#  results if our categories are integers that dont match our codes\u001B[39;00m\n\u001B[0;32m   3876\u001B[0m     \u001B[38;5;66;03m# IntervalIndex: IntervalTree has no get_loc\u001B[39;00m\n\u001B[1;32m-> 3877\u001B[0m     row \u001B[38;5;241m=\u001B[39m \u001B[38;5;28;43mself\u001B[39;49m\u001B[38;5;241;43m.\u001B[39;49m\u001B[43mindex\u001B[49m\u001B[38;5;241;43m.\u001B[39;49m\u001B[43mget_loc\u001B[49m\u001B[43m(\u001B[49m\u001B[43mindex\u001B[49m\u001B[43m)\u001B[49m\n\u001B[0;32m   3878\u001B[0m     \u001B[38;5;28;01mreturn\u001B[39;00m series\u001B[38;5;241m.\u001B[39m_values[row]\n\u001B[0;32m   3880\u001B[0m \u001B[38;5;66;03m# For MultiIndex going through engine effectively restricts us to\u001B[39;00m\n\u001B[0;32m   3881\u001B[0m \u001B[38;5;66;03m#  same-length tuples; see test_get_set_value_no_partial_indexing\u001B[39;00m\n",
      "File \u001B[1;32m~\\AppData\\Roaming\\Python\\Python39\\site-packages\\pandas\\core\\indexes\\range.py:347\u001B[0m, in \u001B[0;36mRangeIndex.get_loc\u001B[1;34m(self, key)\u001B[0m\n\u001B[0;32m    345\u001B[0m         \u001B[38;5;28;01mreturn\u001B[39;00m \u001B[38;5;28mself\u001B[39m\u001B[38;5;241m.\u001B[39m_range\u001B[38;5;241m.\u001B[39mindex(new_key)\n\u001B[0;32m    346\u001B[0m     \u001B[38;5;28;01mexcept\u001B[39;00m \u001B[38;5;167;01mValueError\u001B[39;00m \u001B[38;5;28;01mas\u001B[39;00m err:\n\u001B[1;32m--> 347\u001B[0m         \u001B[38;5;28;01mraise\u001B[39;00m \u001B[38;5;167;01mKeyError\u001B[39;00m(key) \u001B[38;5;28;01mfrom\u001B[39;00m \u001B[38;5;21;01merr\u001B[39;00m\n\u001B[0;32m    348\u001B[0m \u001B[38;5;28;01mif\u001B[39;00m \u001B[38;5;28misinstance\u001B[39m(key, Hashable):\n\u001B[0;32m    349\u001B[0m     \u001B[38;5;28;01mraise\u001B[39;00m \u001B[38;5;167;01mKeyError\u001B[39;00m(key)\n",
      "\u001B[1;31mKeyError\u001B[0m: 1"
     ]
    }
   ],
   "source": [
    "#（1）如果NOISE上下的网格一致，则将NOISE改写为其临近的label\n",
    "#（2）如果NOISE上下的网格不一致（且存在其一不为NOISE），判断NOISE中有没有在其十六宫格的网格，有的话则将NOISE改写为其临近的labe\n",
    "# 找到homegrid_dominant中的group_id为NOISE的数据的who\n",
    "who_noise = homegrid_dominant[homegrid_dominant['group_id']==\"NOISE\"]['who'].unique()\n",
    "replace_grid = pd.DataFrame(columns=homegrid_dominant.columns)\n",
    "\n",
    "# 循环判断每个who中的情况\n",
    "for who in who_noise:\n",
    "    who_home = homegrid_dominant[homegrid_dominant['who']==who].reset_index(drop=True)\n",
    "    who_data = all_grid[all_grid['who']==who].reset_index(drop=True)\n",
    "    replace = noise_solve(who_home, who_data)\n",
    "    # 如果replace不为空，则将replace添加到replace_grid中\n",
    "    if len(replace) != 0:\n",
    "        replace_grid = pd.concat([replace_grid, replace], axis=0)"
   ],
   "metadata": {
    "collapsed": false,
    "ExecuteTime": {
     "end_time": "2023-07-23T14:59:20.128896900Z",
     "start_time": "2023-07-23T14:59:14.503325600Z"
    }
   }
  },
  {
   "cell_type": "code",
   "execution_count": 307,
   "outputs": [
    {
     "data": {
      "text/plain": "   who      date     fnid  home_fre  home_time  chess_x  chess_y  max_fre  \\\n0   62  20190701  51457.0       6.0   359057.0     49.0    144.0      6.0   \n1   62  20190801  52179.0       9.0   585078.0     57.0    146.0      9.0   \n2   62  20190901  52178.0      10.0   679021.0     56.0    146.0     10.0   \n3   62  20191001  52871.0      20.0   562133.0     35.0    148.0     20.0   \n4   62  20191101  52871.0      16.0   842812.0     35.0    148.0     16.0   \n\n   max_time group_id  \n0  359057.0    NOISE  \n1  585078.0        0  \n2  679021.0        0  \n3  747358.0        1  \n4  842812.0        1  ",
      "text/html": "<div>\n<style scoped>\n    .dataframe tbody tr th:only-of-type {\n        vertical-align: middle;\n    }\n\n    .dataframe tbody tr th {\n        vertical-align: top;\n    }\n\n    .dataframe thead th {\n        text-align: right;\n    }\n</style>\n<table border=\"1\" class=\"dataframe\">\n  <thead>\n    <tr style=\"text-align: right;\">\n      <th></th>\n      <th>who</th>\n      <th>date</th>\n      <th>fnid</th>\n      <th>home_fre</th>\n      <th>home_time</th>\n      <th>chess_x</th>\n      <th>chess_y</th>\n      <th>max_fre</th>\n      <th>max_time</th>\n      <th>group_id</th>\n    </tr>\n  </thead>\n  <tbody>\n    <tr>\n      <th>0</th>\n      <td>62</td>\n      <td>20190701</td>\n      <td>51457.0</td>\n      <td>6.0</td>\n      <td>359057.0</td>\n      <td>49.0</td>\n      <td>144.0</td>\n      <td>6.0</td>\n      <td>359057.0</td>\n      <td>NOISE</td>\n    </tr>\n    <tr>\n      <th>1</th>\n      <td>62</td>\n      <td>20190801</td>\n      <td>52179.0</td>\n      <td>9.0</td>\n      <td>585078.0</td>\n      <td>57.0</td>\n      <td>146.0</td>\n      <td>9.0</td>\n      <td>585078.0</td>\n      <td>0</td>\n    </tr>\n    <tr>\n      <th>2</th>\n      <td>62</td>\n      <td>20190901</td>\n      <td>52178.0</td>\n      <td>10.0</td>\n      <td>679021.0</td>\n      <td>56.0</td>\n      <td>146.0</td>\n      <td>10.0</td>\n      <td>679021.0</td>\n      <td>0</td>\n    </tr>\n    <tr>\n      <th>3</th>\n      <td>62</td>\n      <td>20191001</td>\n      <td>52871.0</td>\n      <td>20.0</td>\n      <td>562133.0</td>\n      <td>35.0</td>\n      <td>148.0</td>\n      <td>20.0</td>\n      <td>747358.0</td>\n      <td>1</td>\n    </tr>\n    <tr>\n      <th>4</th>\n      <td>62</td>\n      <td>20191101</td>\n      <td>52871.0</td>\n      <td>16.0</td>\n      <td>842812.0</td>\n      <td>35.0</td>\n      <td>148.0</td>\n      <td>16.0</td>\n      <td>842812.0</td>\n      <td>1</td>\n    </tr>\n  </tbody>\n</table>\n</div>"
     },
     "execution_count": 307,
     "metadata": {},
     "output_type": "execute_result"
    }
   ],
   "source": [
    "homegrid_dominant.head()"
   ],
   "metadata": {
    "collapsed": false,
    "ExecuteTime": {
     "start_time": "2023-04-27T12:15:19.234721Z",
     "end_time": "2023-04-27T12:15:19.277502Z"
    }
   }
  },
  {
   "cell_type": "code",
   "execution_count": null,
   "outputs": [],
   "source": [
    "# 用replace_grid更新homegrid_dominant\n",
    "new_homegrid_dominant = homegrid_dominant.set_index(['who','date'])\n",
    "replace_grid.set_index(['who','date'],inplace=True)\n",
    "new_homegrid_dominant.update(replace_grid)\n",
    "print('替换前NOISE的个数为', len(homegrid_dominant[homegrid_dominant['group_id']=='NOISE']))\n",
    "print('替换后NOISE的个数为', len(new_homegrid_dominant[new_homegrid_dominant['group_id']=='NOISE']))\n",
    "\n",
    "# 更新homegrid_dominant\n",
    "homegrid_dominant = new_homegrid_dominant.sort_values(by=['who','date']).reset_index()"
   ],
   "metadata": {
    "collapsed": false
   }
  },
  {
   "cell_type": "code",
   "execution_count": 79,
   "outputs": [
    {
     "data": {
      "text/plain": "114"
     },
     "execution_count": 79,
     "metadata": {},
     "output_type": "execute_result"
    }
   ],
   "source": [
    "# 计算group_id没有NOISE的用户\n",
    "homegrid_dominant[homegrid_dominant['group_id']=='NOISE']['who'].nunique()"
   ],
   "metadata": {
    "collapsed": false,
    "ExecuteTime": {
     "start_time": "2023-05-12T15:47:56.201021Z",
     "end_time": "2023-05-12T15:47:56.224709Z"
    }
   }
  },
  {
   "cell_type": "code",
   "execution_count": 26,
   "outputs": [
    {
     "ename": "OptionError",
     "evalue": "\"No such keys(s): 'mode.use_inf_as_null'\"",
     "output_type": "error",
     "traceback": [
      "\u001B[1;31m---------------------------------------------------------------------------\u001B[0m",
      "\u001B[1;31mOptionError\u001B[0m                               Traceback (most recent call last)",
      "Input \u001B[1;32mIn [26]\u001B[0m, in \u001B[0;36m<cell line: 3>\u001B[1;34m()\u001B[0m\n\u001B[0;32m      1\u001B[0m \u001B[38;5;66;03m# 看看处理后每个用户的组团数量的分布情况\u001B[39;00m\n\u001B[0;32m      2\u001B[0m group_distri \u001B[38;5;241m=\u001B[39m homegrid_dominant[homegrid_dominant[\u001B[38;5;124m'\u001B[39m\u001B[38;5;124mgroup_id\u001B[39m\u001B[38;5;124m'\u001B[39m]\u001B[38;5;241m!=\u001B[39m\u001B[38;5;124m'\u001B[39m\u001B[38;5;124mNOISE\u001B[39m\u001B[38;5;124m'\u001B[39m]\u001B[38;5;241m.\u001B[39mgroupby(\u001B[38;5;124m'\u001B[39m\u001B[38;5;124mwho\u001B[39m\u001B[38;5;124m'\u001B[39m)[\u001B[38;5;124m'\u001B[39m\u001B[38;5;124mgroup_id\u001B[39m\u001B[38;5;124m'\u001B[39m]\u001B[38;5;241m.\u001B[39mnunique()\u001B[38;5;241m.\u001B[39msort_values(ascending\u001B[38;5;241m=\u001B[39m\u001B[38;5;28;01mFalse\u001B[39;00m)\n\u001B[1;32m----> 3\u001B[0m \u001B[43msns\u001B[49m\u001B[38;5;241;43m.\u001B[39;49m\u001B[43mdisplot\u001B[49m\u001B[43m(\u001B[49m\u001B[43mgroup_distri\u001B[49m\u001B[43m)\u001B[49m\n",
      "File \u001B[1;32mC:\\ProgramData\\Anaconda3\\lib\\site-packages\\seaborn\\distributions.py:2274\u001B[0m, in \u001B[0;36mdisplot\u001B[1;34m(data, x, y, hue, row, col, weights, kind, rug, rug_kws, log_scale, legend, palette, hue_order, hue_norm, color, col_wrap, row_order, col_order, height, aspect, facet_kws, **kwargs)\u001B[0m\n\u001B[0;32m   2271\u001B[0m \u001B[38;5;28;01mif\u001B[39;00m p\u001B[38;5;241m.\u001B[39munivariate:\n\u001B[0;32m   2273\u001B[0m     _assign_default_kwargs(hist_kws, p\u001B[38;5;241m.\u001B[39mplot_univariate_histogram, histplot)\n\u001B[1;32m-> 2274\u001B[0m     p\u001B[38;5;241m.\u001B[39mplot_univariate_histogram(\u001B[38;5;241m*\u001B[39m\u001B[38;5;241m*\u001B[39mhist_kws)\n\u001B[0;32m   2276\u001B[0m \u001B[38;5;28;01melse\u001B[39;00m:\n\u001B[0;32m   2278\u001B[0m     _assign_default_kwargs(hist_kws, p\u001B[38;5;241m.\u001B[39mplot_bivariate_histogram, histplot)\n",
      "File \u001B[1;32mC:\\ProgramData\\Anaconda3\\lib\\site-packages\\seaborn\\distributions.py:428\u001B[0m, in \u001B[0;36m_DistributionPlotter.plot_univariate_histogram\u001B[1;34m(self, multiple, element, fill, common_norm, common_bins, shrink, kde, kde_kws, color, legend, line_kws, estimate_kws, **plot_kws)\u001B[0m\n\u001B[0;32m    418\u001B[0m     densities \u001B[38;5;241m=\u001B[39m \u001B[38;5;28mself\u001B[39m\u001B[38;5;241m.\u001B[39m_compute_univariate_density(\n\u001B[0;32m    419\u001B[0m         \u001B[38;5;28mself\u001B[39m\u001B[38;5;241m.\u001B[39mdata_variable,\n\u001B[0;32m    420\u001B[0m         common_norm,\n\u001B[1;32m   (...)\u001B[0m\n\u001B[0;32m    424\u001B[0m         warn_singular\u001B[38;5;241m=\u001B[39m\u001B[38;5;28;01mFalse\u001B[39;00m,\n\u001B[0;32m    425\u001B[0m     )\n\u001B[0;32m    427\u001B[0m \u001B[38;5;66;03m# First pass through the data to compute the histograms\u001B[39;00m\n\u001B[1;32m--> 428\u001B[0m \u001B[38;5;28;01mfor\u001B[39;00m sub_vars, sub_data \u001B[38;5;129;01min\u001B[39;00m \u001B[38;5;28mself\u001B[39m\u001B[38;5;241m.\u001B[39miter_data(\u001B[38;5;124m\"\u001B[39m\u001B[38;5;124mhue\u001B[39m\u001B[38;5;124m\"\u001B[39m, from_comp_data\u001B[38;5;241m=\u001B[39m\u001B[38;5;28;01mTrue\u001B[39;00m):\n\u001B[0;32m    429\u001B[0m \n\u001B[0;32m    430\u001B[0m     \u001B[38;5;66;03m# Prepare the relevant data\u001B[39;00m\n\u001B[0;32m    431\u001B[0m     key \u001B[38;5;241m=\u001B[39m \u001B[38;5;28mtuple\u001B[39m(sub_vars\u001B[38;5;241m.\u001B[39mitems())\n\u001B[0;32m    432\u001B[0m     sub_data \u001B[38;5;241m=\u001B[39m sub_data\u001B[38;5;241m.\u001B[39mdropna()\n",
      "File \u001B[1;32mC:\\ProgramData\\Anaconda3\\lib\\site-packages\\seaborn\\_core.py:983\u001B[0m, in \u001B[0;36mVectorPlotter.iter_data\u001B[1;34m(self, grouping_vars, reverse, from_comp_data)\u001B[0m\n\u001B[0;32m    978\u001B[0m grouping_vars \u001B[38;5;241m=\u001B[39m [\n\u001B[0;32m    979\u001B[0m     var \u001B[38;5;28;01mfor\u001B[39;00m var \u001B[38;5;129;01min\u001B[39;00m grouping_vars \u001B[38;5;28;01mif\u001B[39;00m var \u001B[38;5;129;01min\u001B[39;00m \u001B[38;5;28mself\u001B[39m\u001B[38;5;241m.\u001B[39mvariables\n\u001B[0;32m    980\u001B[0m ]\n\u001B[0;32m    982\u001B[0m \u001B[38;5;28;01mif\u001B[39;00m from_comp_data:\n\u001B[1;32m--> 983\u001B[0m     data \u001B[38;5;241m=\u001B[39m \u001B[38;5;28;43mself\u001B[39;49m\u001B[38;5;241;43m.\u001B[39;49m\u001B[43mcomp_data\u001B[49m\n\u001B[0;32m    984\u001B[0m \u001B[38;5;28;01melse\u001B[39;00m:\n\u001B[0;32m    985\u001B[0m     data \u001B[38;5;241m=\u001B[39m \u001B[38;5;28mself\u001B[39m\u001B[38;5;241m.\u001B[39mplot_data\n",
      "File \u001B[1;32mC:\\ProgramData\\Anaconda3\\lib\\site-packages\\seaborn\\_core.py:1054\u001B[0m, in \u001B[0;36mVectorPlotter.comp_data\u001B[1;34m(self)\u001B[0m\n\u001B[0;32m   1050\u001B[0m axis \u001B[38;5;241m=\u001B[39m \u001B[38;5;28mgetattr\u001B[39m(ax, \u001B[38;5;124mf\u001B[39m\u001B[38;5;124m\"\u001B[39m\u001B[38;5;132;01m{\u001B[39;00mvar\u001B[38;5;132;01m}\u001B[39;00m\u001B[38;5;124maxis\u001B[39m\u001B[38;5;124m\"\u001B[39m)\n\u001B[0;32m   1052\u001B[0m \u001B[38;5;66;03m# Use the converter assigned to the axis to get a float representation\u001B[39;00m\n\u001B[0;32m   1053\u001B[0m \u001B[38;5;66;03m# of the data, passing np.nan or pd.NA through (pd.NA becomes np.nan)\u001B[39;00m\n\u001B[1;32m-> 1054\u001B[0m \u001B[38;5;28;01mwith\u001B[39;00m pd\u001B[38;5;241m.\u001B[39moption_context(\u001B[38;5;124m'\u001B[39m\u001B[38;5;124mmode.use_inf_as_null\u001B[39m\u001B[38;5;124m'\u001B[39m, \u001B[38;5;28;01mTrue\u001B[39;00m):\n\u001B[0;32m   1055\u001B[0m     orig \u001B[38;5;241m=\u001B[39m \u001B[38;5;28mself\u001B[39m\u001B[38;5;241m.\u001B[39mplot_data[var]\u001B[38;5;241m.\u001B[39mdropna()\n\u001B[0;32m   1056\u001B[0m comp_col \u001B[38;5;241m=\u001B[39m pd\u001B[38;5;241m.\u001B[39mSeries(index\u001B[38;5;241m=\u001B[39morig\u001B[38;5;241m.\u001B[39mindex, dtype\u001B[38;5;241m=\u001B[39m\u001B[38;5;28mfloat\u001B[39m, name\u001B[38;5;241m=\u001B[39mvar)\n",
      "File \u001B[1;32m~\\AppData\\Roaming\\Python\\Python39\\site-packages\\pandas\\_config\\config.py:441\u001B[0m, in \u001B[0;36moption_context.__enter__\u001B[1;34m(self)\u001B[0m\n\u001B[0;32m    440\u001B[0m \u001B[38;5;28;01mdef\u001B[39;00m \u001B[38;5;21m__enter__\u001B[39m(\u001B[38;5;28mself\u001B[39m) \u001B[38;5;241m-\u001B[39m\u001B[38;5;241m>\u001B[39m \u001B[38;5;28;01mNone\u001B[39;00m:\n\u001B[1;32m--> 441\u001B[0m     \u001B[38;5;28mself\u001B[39m\u001B[38;5;241m.\u001B[39mundo \u001B[38;5;241m=\u001B[39m [(pat, _get_option(pat, silent\u001B[38;5;241m=\u001B[39m\u001B[38;5;28;01mTrue\u001B[39;00m)) \u001B[38;5;28;01mfor\u001B[39;00m pat, val \u001B[38;5;129;01min\u001B[39;00m \u001B[38;5;28mself\u001B[39m\u001B[38;5;241m.\u001B[39mops]\n\u001B[0;32m    443\u001B[0m     \u001B[38;5;28;01mfor\u001B[39;00m pat, val \u001B[38;5;129;01min\u001B[39;00m \u001B[38;5;28mself\u001B[39m\u001B[38;5;241m.\u001B[39mops:\n\u001B[0;32m    444\u001B[0m         _set_option(pat, val, silent\u001B[38;5;241m=\u001B[39m\u001B[38;5;28;01mTrue\u001B[39;00m)\n",
      "File \u001B[1;32m~\\AppData\\Roaming\\Python\\Python39\\site-packages\\pandas\\_config\\config.py:441\u001B[0m, in \u001B[0;36m<listcomp>\u001B[1;34m(.0)\u001B[0m\n\u001B[0;32m    440\u001B[0m \u001B[38;5;28;01mdef\u001B[39;00m \u001B[38;5;21m__enter__\u001B[39m(\u001B[38;5;28mself\u001B[39m) \u001B[38;5;241m-\u001B[39m\u001B[38;5;241m>\u001B[39m \u001B[38;5;28;01mNone\u001B[39;00m:\n\u001B[1;32m--> 441\u001B[0m     \u001B[38;5;28mself\u001B[39m\u001B[38;5;241m.\u001B[39mundo \u001B[38;5;241m=\u001B[39m [(pat, \u001B[43m_get_option\u001B[49m\u001B[43m(\u001B[49m\u001B[43mpat\u001B[49m\u001B[43m,\u001B[49m\u001B[43m \u001B[49m\u001B[43msilent\u001B[49m\u001B[38;5;241;43m=\u001B[39;49m\u001B[38;5;28;43;01mTrue\u001B[39;49;00m\u001B[43m)\u001B[49m) \u001B[38;5;28;01mfor\u001B[39;00m pat, val \u001B[38;5;129;01min\u001B[39;00m \u001B[38;5;28mself\u001B[39m\u001B[38;5;241m.\u001B[39mops]\n\u001B[0;32m    443\u001B[0m     \u001B[38;5;28;01mfor\u001B[39;00m pat, val \u001B[38;5;129;01min\u001B[39;00m \u001B[38;5;28mself\u001B[39m\u001B[38;5;241m.\u001B[39mops:\n\u001B[0;32m    444\u001B[0m         _set_option(pat, val, silent\u001B[38;5;241m=\u001B[39m\u001B[38;5;28;01mTrue\u001B[39;00m)\n",
      "File \u001B[1;32m~\\AppData\\Roaming\\Python\\Python39\\site-packages\\pandas\\_config\\config.py:135\u001B[0m, in \u001B[0;36m_get_option\u001B[1;34m(pat, silent)\u001B[0m\n\u001B[0;32m    134\u001B[0m \u001B[38;5;28;01mdef\u001B[39;00m \u001B[38;5;21m_get_option\u001B[39m(pat: \u001B[38;5;28mstr\u001B[39m, silent: \u001B[38;5;28mbool\u001B[39m \u001B[38;5;241m=\u001B[39m \u001B[38;5;28;01mFalse\u001B[39;00m) \u001B[38;5;241m-\u001B[39m\u001B[38;5;241m>\u001B[39m Any:\n\u001B[1;32m--> 135\u001B[0m     key \u001B[38;5;241m=\u001B[39m \u001B[43m_get_single_key\u001B[49m\u001B[43m(\u001B[49m\u001B[43mpat\u001B[49m\u001B[43m,\u001B[49m\u001B[43m \u001B[49m\u001B[43msilent\u001B[49m\u001B[43m)\u001B[49m\n\u001B[0;32m    137\u001B[0m     \u001B[38;5;66;03m# walk the nested dict\u001B[39;00m\n\u001B[0;32m    138\u001B[0m     root, k \u001B[38;5;241m=\u001B[39m _get_root(key)\n",
      "File \u001B[1;32m~\\AppData\\Roaming\\Python\\Python39\\site-packages\\pandas\\_config\\config.py:121\u001B[0m, in \u001B[0;36m_get_single_key\u001B[1;34m(pat, silent)\u001B[0m\n\u001B[0;32m    119\u001B[0m     \u001B[38;5;28;01mif\u001B[39;00m \u001B[38;5;129;01mnot\u001B[39;00m silent:\n\u001B[0;32m    120\u001B[0m         _warn_if_deprecated(pat)\n\u001B[1;32m--> 121\u001B[0m     \u001B[38;5;28;01mraise\u001B[39;00m OptionError(\u001B[38;5;124mf\u001B[39m\u001B[38;5;124m\"\u001B[39m\u001B[38;5;124mNo such keys(s): \u001B[39m\u001B[38;5;132;01m{\u001B[39;00m\u001B[38;5;28mrepr\u001B[39m(pat)\u001B[38;5;132;01m}\u001B[39;00m\u001B[38;5;124m\"\u001B[39m)\n\u001B[0;32m    122\u001B[0m \u001B[38;5;28;01mif\u001B[39;00m \u001B[38;5;28mlen\u001B[39m(keys) \u001B[38;5;241m>\u001B[39m \u001B[38;5;241m1\u001B[39m:\n\u001B[0;32m    123\u001B[0m     \u001B[38;5;28;01mraise\u001B[39;00m OptionError(\u001B[38;5;124m\"\u001B[39m\u001B[38;5;124mPattern matched multiple keys\u001B[39m\u001B[38;5;124m\"\u001B[39m)\n",
      "\u001B[1;31mOptionError\u001B[0m: \"No such keys(s): 'mode.use_inf_as_null'\""
     ]
    },
    {
     "data": {
      "text/plain": "<Figure size 500x500 with 1 Axes>",
      "image/png": "[encoded data removed]"
     },
     "metadata": {},
     "output_type": "display_data"
    }
   ],
   "source": [
    "# 看看处理后每个用户的组团数量的分布情况\n",
    "group_distri = homegrid_dominant[homegrid_dominant['group_id']!='NOISE'].groupby('who')['group_id'].nunique().sort_values(ascending=False)\n",
    "sns.displot(group_distri)"
   ],
   "metadata": {
    "collapsed": false,
    "ExecuteTime": {
     "end_time": "2023-07-23T14:59:22.754040100Z",
     "start_time": "2023-07-23T14:59:22.461258600Z"
    }
   }
  },
  {
   "cell_type": "code",
   "execution_count": 27,
   "outputs": [
    {
     "data": {
      "text/plain": "        who      date     fnid chess_x chess_y home_fre home_time od_num  \\\n8602  20504  20190101  43935.0    24.0   123.0      7.0  428580.0   37.0   \n8603  20504  20190201  43575.0    21.0   122.0     21.0  980512.0   48.0   \n8604  20504  20190301  43571.0    17.0   122.0     14.0  838290.0   54.0   \n8605  20504  20190401  41783.0    14.0   117.0     12.0  570828.0   36.0   \n8606  20504  20190501  33943.0    28.0    95.0     12.0  635494.0   43.0   \n8607  20504  20190601  34657.0    28.0    97.0     13.0  482541.0   22.0   \n8608  20504  20190701  52174.0    52.0   146.0     24.0  540857.0   25.0   \n8609  20504  20190801  42569.0    86.0   119.0      3.0   90535.0    8.0   \n8610  20504  20190901  42212.0    86.0   118.0     34.0  919691.0   45.0   \n8611  20504  20191001  22556.0    65.0    63.0     22.0  442855.0   20.0   \n8612  20504  20191101  29454.0   180.0    82.0     19.0  320348.0   19.0   \n8613  20504  20191201  29455.0   181.0    82.0     33.0  579512.0   29.0   \n8614  20504  20200101  14035.0   112.0    39.0     11.0  227469.0   25.0   \n8615  20504  20200201  14035.0   112.0    39.0      5.0   95390.0   13.0   \n8616  20504  20200301  37684.0   199.0   105.0     16.0  320842.0   17.0   \n8617  20504  20200401  35107.0   121.0    98.0     17.0  521986.0   35.0   \n8618  20504  20200501  35461.0   118.0    99.0      6.0  115015.0    5.0   \n\n     max_fre max_time group_id avg_fre  \n8602       7   428580        0    14.0  \n8603      21   980512        0    14.0  \n8604      14   838290        7    14.0  \n8605      12   570828        9    12.0  \n8606      12   635494        1    12.5  \n8607      13   482541        1    12.5  \n8608      24   540857       10    24.0  \n8609      27   646339       13    27.0  \n8610      34   919691       13    34.0  \n8611      22   442855       14    22.0  \n8612      19   320348        2    26.0  \n8613      33   579512        2    26.0  \n8614      11   227469        3     8.0  \n8615       5    95390        3     8.0  \n8616      16   320842       18    16.0  \n8617      17   521986       23    17.0  \n8618      27   684010       23    27.0  ",
      "text/html": "<div>\n<style scoped>\n    .dataframe tbody tr th:only-of-type {\n        vertical-align: middle;\n    }\n\n    .dataframe tbody tr th {\n        vertical-align: top;\n    }\n\n    .dataframe thead th {\n        text-align: right;\n    }\n</style>\n<table border=\"1\" class=\"dataframe\">\n  <thead>\n    <tr style=\"text-align: right;\">\n      <th></th>\n      <th>who</th>\n      <th>date</th>\n      <th>fnid</th>\n      <th>chess_x</th>\n      <th>chess_y</th>\n      <th>home_fre</th>\n      <th>home_time</th>\n      <th>od_num</th>\n      <th>max_fre</th>\n      <th>max_time</th>\n      <th>group_id</th>\n      <th>avg_fre</th>\n    </tr>\n  </thead>\n  <tbody>\n    <tr>\n      <th>8602</th>\n      <td>20504</td>\n      <td>20190101</td>\n      <td>43935.0</td>\n      <td>24.0</td>\n      <td>123.0</td>\n      <td>7.0</td>\n      <td>428580.0</td>\n      <td>37.0</td>\n      <td>7</td>\n      <td>428580</td>\n      <td>0</td>\n      <td>14.0</td>\n    </tr>\n    <tr>\n      <th>8603</th>\n      <td>20504</td>\n      <td>20190201</td>\n      <td>43575.0</td>\n      <td>21.0</td>\n      <td>122.0</td>\n      <td>21.0</td>\n      <td>980512.0</td>\n      <td>48.0</td>\n      <td>21</td>\n      <td>980512</td>\n      <td>0</td>\n      <td>14.0</td>\n    </tr>\n    <tr>\n      <th>8604</th>\n      <td>20504</td>\n      <td>20190301</td>\n      <td>43571.0</td>\n      <td>17.0</td>\n      <td>122.0</td>\n      <td>14.0</td>\n      <td>838290.0</td>\n      <td>54.0</td>\n      <td>14</td>\n      <td>838290</td>\n      <td>7</td>\n      <td>14.0</td>\n    </tr>\n    <tr>\n      <th>8605</th>\n      <td>20504</td>\n      <td>20190401</td>\n      <td>41783.0</td>\n      <td>14.0</td>\n      <td>117.0</td>\n      <td>12.0</td>\n      <td>570828.0</td>\n      <td>36.0</td>\n      <td>12</td>\n      <td>570828</td>\n      <td>9</td>\n      <td>12.0</td>\n    </tr>\n    <tr>\n      <th>8606</th>\n      <td>20504</td>\n      <td>20190501</td>\n      <td>33943.0</td>\n      <td>28.0</td>\n      <td>95.0</td>\n      <td>12.0</td>\n      <td>635494.0</td>\n      <td>43.0</td>\n      <td>12</td>\n      <td>635494</td>\n      <td>1</td>\n      <td>12.5</td>\n    </tr>\n    <tr>\n      <th>8607</th>\n      <td>20504</td>\n      <td>20190601</td>\n      <td>34657.0</td>\n      <td>28.0</td>\n      <td>97.0</td>\n      <td>13.0</td>\n      <td>482541.0</td>\n      <td>22.0</td>\n      <td>13</td>\n      <td>482541</td>\n      <td>1</td>\n      <td>12.5</td>\n    </tr>\n    <tr>\n      <th>8608</th>\n      <td>20504</td>\n      <td>20190701</td>\n      <td>52174.0</td>\n      <td>52.0</td>\n      <td>146.0</td>\n      <td>24.0</td>\n      <td>540857.0</td>\n      <td>25.0</td>\n      <td>24</td>\n      <td>540857</td>\n      <td>10</td>\n      <td>24.0</td>\n    </tr>\n    <tr>\n      <th>8609</th>\n      <td>20504</td>\n      <td>20190801</td>\n      <td>42569.0</td>\n      <td>86.0</td>\n      <td>119.0</td>\n      <td>3.0</td>\n      <td>90535.0</td>\n      <td>8.0</td>\n      <td>27</td>\n      <td>646339</td>\n      <td>13</td>\n      <td>27.0</td>\n    </tr>\n    <tr>\n      <th>8610</th>\n      <td>20504</td>\n      <td>20190901</td>\n      <td>42212.0</td>\n      <td>86.0</td>\n      <td>118.0</td>\n      <td>34.0</td>\n      <td>919691.0</td>\n      <td>45.0</td>\n      <td>34</td>\n      <td>919691</td>\n      <td>13</td>\n      <td>34.0</td>\n    </tr>\n    <tr>\n      <th>8611</th>\n      <td>20504</td>\n      <td>20191001</td>\n      <td>22556.0</td>\n      <td>65.0</td>\n      <td>63.0</td>\n      <td>22.0</td>\n      <td>442855.0</td>\n      <td>20.0</td>\n      <td>22</td>\n      <td>442855</td>\n      <td>14</td>\n      <td>22.0</td>\n    </tr>\n    <tr>\n      <th>8612</th>\n      <td>20504</td>\n      <td>20191101</td>\n      <td>29454.0</td>\n      <td>180.0</td>\n      <td>82.0</td>\n      <td>19.0</td>\n      <td>320348.0</td>\n      <td>19.0</td>\n      <td>19</td>\n      <td>320348</td>\n      <td>2</td>\n      <td>26.0</td>\n    </tr>\n    <tr>\n      <th>8613</th>\n      <td>20504</td>\n      <td>20191201</td>\n      <td>29455.0</td>\n      <td>181.0</td>\n      <td>82.0</td>\n      <td>33.0</td>\n      <td>579512.0</td>\n      <td>29.0</td>\n      <td>33</td>\n      <td>579512</td>\n      <td>2</td>\n      <td>26.0</td>\n    </tr>\n    <tr>\n      <th>8614</th>\n      <td>20504</td>\n      <td>20200101</td>\n      <td>14035.0</td>\n      <td>112.0</td>\n      <td>39.0</td>\n      <td>11.0</td>\n      <td>227469.0</td>\n      <td>25.0</td>\n      <td>11</td>\n      <td>227469</td>\n      <td>3</td>\n      <td>8.0</td>\n    </tr>\n    <tr>\n      <th>8615</th>\n      <td>20504</td>\n      <td>20200201</td>\n      <td>14035.0</td>\n      <td>112.0</td>\n      <td>39.0</td>\n      <td>5.0</td>\n      <td>95390.0</td>\n      <td>13.0</td>\n      <td>5</td>\n      <td>95390</td>\n      <td>3</td>\n      <td>8.0</td>\n    </tr>\n    <tr>\n      <th>8616</th>\n      <td>20504</td>\n      <td>20200301</td>\n      <td>37684.0</td>\n      <td>199.0</td>\n      <td>105.0</td>\n      <td>16.0</td>\n      <td>320842.0</td>\n      <td>17.0</td>\n      <td>16</td>\n      <td>320842</td>\n      <td>18</td>\n      <td>16.0</td>\n    </tr>\n    <tr>\n      <th>8617</th>\n      <td>20504</td>\n      <td>20200401</td>\n      <td>35107.0</td>\n      <td>121.0</td>\n      <td>98.0</td>\n      <td>17.0</td>\n      <td>521986.0</td>\n      <td>35.0</td>\n      <td>17</td>\n      <td>521986</td>\n      <td>23</td>\n      <td>17.0</td>\n    </tr>\n    <tr>\n      <th>8618</th>\n      <td>20504</td>\n      <td>20200501</td>\n      <td>35461.0</td>\n      <td>118.0</td>\n      <td>99.0</td>\n      <td>6.0</td>\n      <td>115015.0</td>\n      <td>5.0</td>\n      <td>27</td>\n      <td>684010</td>\n      <td>23</td>\n      <td>27.0</td>\n    </tr>\n  </tbody>\n</table>\n</div>"
     },
     "execution_count": 27,
     "metadata": {},
     "output_type": "execute_result"
    }
   ],
   "source": [
    "homegrid_dominant[homegrid_dominant['who']==20504]"
   ],
   "metadata": {
    "collapsed": false,
    "ExecuteTime": {
     "start_time": "2023-05-12T09:41:24.819101Z",
     "end_time": "2023-05-12T09:41:24.851110Z"
    }
   }
  },
  {
   "cell_type": "code",
   "execution_count": 27,
   "outputs": [
    {
     "data": {
      "text/plain": "         who      date  chess_x  chess_y  home_fre group_id\n0         62  20190701       49      144         6    NOISE\n1         62  20190801       57      146         9        0\n2         62  20190901       56      146        10        0\n3         62  20191001       35      148        20        1\n4         62  20191101       35      148        16        1\n...      ...       ...      ...      ...       ...      ...\n16136  39027  20200501       69       89        15        2\n16137  39027  20201101       68       89        10        2\n16138  39027  20210501       68       88        13        2\n16139  39027  20211101       70       89         1        2\n16140  39027  20220501       68       89        33        2\n\n[9919 rows x 6 columns]",
      "text/html": "<div>\n<style scoped>\n    .dataframe tbody tr th:only-of-type {\n        vertical-align: middle;\n    }\n\n    .dataframe tbody tr th {\n        vertical-align: top;\n    }\n\n    .dataframe thead th {\n        text-align: right;\n    }\n</style>\n<table border=\"1\" class=\"dataframe\">\n  <thead>\n    <tr style=\"text-align: right;\">\n      <th></th>\n      <th>who</th>\n      <th>date</th>\n      <th>chess_x</th>\n      <th>chess_y</th>\n      <th>home_fre</th>\n      <th>group_id</th>\n    </tr>\n  </thead>\n  <tbody>\n    <tr>\n      <th>0</th>\n      <td>62</td>\n      <td>20190701</td>\n      <td>49</td>\n      <td>144</td>\n      <td>6</td>\n      <td>NOISE</td>\n    </tr>\n    <tr>\n      <th>1</th>\n      <td>62</td>\n      <td>20190801</td>\n      <td>57</td>\n      <td>146</td>\n      <td>9</td>\n      <td>0</td>\n    </tr>\n    <tr>\n      <th>2</th>\n      <td>62</td>\n      <td>20190901</td>\n      <td>56</td>\n      <td>146</td>\n      <td>10</td>\n      <td>0</td>\n    </tr>\n    <tr>\n      <th>3</th>\n      <td>62</td>\n      <td>20191001</td>\n      <td>35</td>\n      <td>148</td>\n      <td>20</td>\n      <td>1</td>\n    </tr>\n    <tr>\n      <th>4</th>\n      <td>62</td>\n      <td>20191101</td>\n      <td>35</td>\n      <td>148</td>\n      <td>16</td>\n      <td>1</td>\n    </tr>\n    <tr>\n      <th>...</th>\n      <td>...</td>\n      <td>...</td>\n      <td>...</td>\n      <td>...</td>\n      <td>...</td>\n      <td>...</td>\n    </tr>\n    <tr>\n      <th>16136</th>\n      <td>39027</td>\n      <td>20200501</td>\n      <td>69</td>\n      <td>89</td>\n      <td>15</td>\n      <td>2</td>\n    </tr>\n    <tr>\n      <th>16137</th>\n      <td>39027</td>\n      <td>20201101</td>\n      <td>68</td>\n      <td>89</td>\n      <td>10</td>\n      <td>2</td>\n    </tr>\n    <tr>\n      <th>16138</th>\n      <td>39027</td>\n      <td>20210501</td>\n      <td>68</td>\n      <td>88</td>\n      <td>13</td>\n      <td>2</td>\n    </tr>\n    <tr>\n      <th>16139</th>\n      <td>39027</td>\n      <td>20211101</td>\n      <td>70</td>\n      <td>89</td>\n      <td>1</td>\n      <td>2</td>\n    </tr>\n    <tr>\n      <th>16140</th>\n      <td>39027</td>\n      <td>20220501</td>\n      <td>68</td>\n      <td>89</td>\n      <td>33</td>\n      <td>2</td>\n    </tr>\n  </tbody>\n</table>\n<p>9919 rows × 6 columns</p>\n</div>"
     },
     "execution_count": 27,
     "metadata": {},
     "output_type": "execute_result"
    }
   ],
   "source": [
    "# 看看有groupid='NOISE'的who的所有数据\n",
    "new_homegrid_dominant = homegrid_dominant.copy()\n",
    "new_who_noise = new_homegrid_dominant[new_homegrid_dominant['group_id']=='NOISE']['who'].unique()\n",
    "new_homegrid_dominant[new_homegrid_dominant['who'].isin(new_who_noise)][['who','date','chess_x','chess_y','home_fre','group_id']]"
   ],
   "metadata": {
    "collapsed": false,
    "ExecuteTime": {
     "end_time": "2023-07-23T14:59:36.066040700Z",
     "start_time": "2023-07-23T14:59:36.034095900Z"
    }
   }
  },
  {
   "cell_type": "code",
   "execution_count": 63,
   "outputs": [
    {
     "data": {
      "text/plain": "114"
     },
     "execution_count": 63,
     "metadata": {},
     "output_type": "execute_result"
    }
   ],
   "source": [
    "len(new_who_noise)"
   ],
   "metadata": {
    "collapsed": false,
    "ExecuteTime": {
     "start_time": "2023-05-08T12:00:28.249184Z",
     "end_time": "2023-05-08T12:00:28.267189Z"
    }
   }
  },
  {
   "cell_type": "code",
   "execution_count": 38,
   "outputs": [
    {
     "data": {
      "text/plain": "         who      date chess_x chess_y home_fre group_id\n0         62  20190701    49.0   144.0      6.0        0\n1         62  20190801    57.0   146.0      9.0        0\n2         62  20190901    56.0   146.0     10.0        0\n3         62  20191001    35.0   148.0     20.0        1\n4         62  20191101    35.0   148.0     16.0        1\n...      ...       ...     ...     ...      ...      ...\n16126  39042  20200501    67.0    18.0     15.0        1\n16127  39042  20201101    67.0    18.0      9.0        1\n16128  39042  20210501    67.0    18.0     18.0        1\n16129  39042  20211101    54.0    25.0     55.0        2\n16130  39042  20220501    54.0    25.0    192.0        2\n\n[14820 rows x 6 columns]",
      "text/html": "<div>\n<style scoped>\n    .dataframe tbody tr th:only-of-type {\n        vertical-align: middle;\n    }\n\n    .dataframe tbody tr th {\n        vertical-align: top;\n    }\n\n    .dataframe thead th {\n        text-align: right;\n    }\n</style>\n<table border=\"1\" class=\"dataframe\">\n  <thead>\n    <tr style=\"text-align: right;\">\n      <th></th>\n      <th>who</th>\n      <th>date</th>\n      <th>chess_x</th>\n      <th>chess_y</th>\n      <th>home_fre</th>\n      <th>group_id</th>\n    </tr>\n  </thead>\n  <tbody>\n    <tr>\n      <th>0</th>\n      <td>62</td>\n      <td>20190701</td>\n      <td>49.0</td>\n      <td>144.0</td>\n      <td>6.0</td>\n      <td>0</td>\n    </tr>\n    <tr>\n      <th>1</th>\n      <td>62</td>\n      <td>20190801</td>\n      <td>57.0</td>\n      <td>146.0</td>\n      <td>9.0</td>\n      <td>0</td>\n    </tr>\n    <tr>\n      <th>2</th>\n      <td>62</td>\n      <td>20190901</td>\n      <td>56.0</td>\n      <td>146.0</td>\n      <td>10.0</td>\n      <td>0</td>\n    </tr>\n    <tr>\n      <th>3</th>\n      <td>62</td>\n      <td>20191001</td>\n      <td>35.0</td>\n      <td>148.0</td>\n      <td>20.0</td>\n      <td>1</td>\n    </tr>\n    <tr>\n      <th>4</th>\n      <td>62</td>\n      <td>20191101</td>\n      <td>35.0</td>\n      <td>148.0</td>\n      <td>16.0</td>\n      <td>1</td>\n    </tr>\n    <tr>\n      <th>...</th>\n      <td>...</td>\n      <td>...</td>\n      <td>...</td>\n      <td>...</td>\n      <td>...</td>\n      <td>...</td>\n    </tr>\n    <tr>\n      <th>16126</th>\n      <td>39042</td>\n      <td>20200501</td>\n      <td>67.0</td>\n      <td>18.0</td>\n      <td>15.0</td>\n      <td>1</td>\n    </tr>\n    <tr>\n      <th>16127</th>\n      <td>39042</td>\n      <td>20201101</td>\n      <td>67.0</td>\n      <td>18.0</td>\n      <td>9.0</td>\n      <td>1</td>\n    </tr>\n    <tr>\n      <th>16128</th>\n      <td>39042</td>\n      <td>20210501</td>\n      <td>67.0</td>\n      <td>18.0</td>\n      <td>18.0</td>\n      <td>1</td>\n    </tr>\n    <tr>\n      <th>16129</th>\n      <td>39042</td>\n      <td>20211101</td>\n      <td>54.0</td>\n      <td>25.0</td>\n      <td>55.0</td>\n      <td>2</td>\n    </tr>\n    <tr>\n      <th>16130</th>\n      <td>39042</td>\n      <td>20220501</td>\n      <td>54.0</td>\n      <td>25.0</td>\n      <td>192.0</td>\n      <td>2</td>\n    </tr>\n  </tbody>\n</table>\n<p>14820 rows × 6 columns</p>\n</div>"
     },
     "execution_count": 38,
     "metadata": {},
     "output_type": "execute_result"
    }
   ],
   "source": [
    "new_homegrid_dominant[~(new_homegrid_dominant['who'].isin(new_who_noise))][['who','date','chess_x','chess_y','home_fre','group_id']]"
   ],
   "metadata": {
    "collapsed": false,
    "ExecuteTime": {
     "start_time": "2023-05-09T09:38:45.894346Z",
     "end_time": "2023-05-09T09:38:45.925942Z"
    }
   }
  },
  {
   "cell_type": "markdown",
   "source": [
    "=================================================================================================================================================================================="
   ],
   "metadata": {
    "collapsed": false
   }
  },
  {
   "cell_type": "code",
   "execution_count": 65,
   "outputs": [],
   "source": [
    "who2078_home = new_homegrid_dominant[new_homegrid_dominant['who']==3743]\n",
    "who2078_home.to_csv('who3743_home.csv',index=False)"
   ],
   "metadata": {
    "collapsed": false,
    "ExecuteTime": {
     "end_time": "2023-07-29T02:01:26.511645600Z",
     "start_time": "2023-07-29T02:01:26.494631200Z"
    }
   }
  },
  {
   "cell_type": "code",
   "execution_count": 66,
   "outputs": [
    {
     "data": {
      "text/plain": "       who      date   fnid  chess_x  chess_y  home_fre  home_time  od_num  \\\n1466  3743  20191001  25047       57       70        20     502109      25   \n1467  3743  20191101  25044       54       70        22     396417      22   \n1468  3743  20191201  25402       55       71        12     270594      15   \n1469  3743  20200101  23969       50       67         8     539611      36   \n1470  3743  20200201  23969       50       67        15     904537      57   \n1471  3743  20200301  23969       50       67        11     854552      62   \n1472  3743  20200401  23969       50       67        14     874288      60   \n1473  3743  20200501  23969       50       67        12     926748      62   \n\n      max_fre  max_time group_id  avg_fre  \n1466       20    706755        0     18.0  \n1467       22    747666        0     18.0  \n1468       12    723044        0     18.0  \n1469        8    539611        1     12.0  \n1470       15    904537        1     12.0  \n1471       11    854552        1     12.0  \n1472       14    874288        1     12.0  \n1473       12    926748        1     12.0  ",
      "text/html": "<div>\n<style scoped>\n    .dataframe tbody tr th:only-of-type {\n        vertical-align: middle;\n    }\n\n    .dataframe tbody tr th {\n        vertical-align: top;\n    }\n\n    .dataframe thead th {\n        text-align: right;\n    }\n</style>\n<table border=\"1\" class=\"dataframe\">\n  <thead>\n    <tr style=\"text-align: right;\">\n      <th></th>\n      <th>who</th>\n      <th>date</th>\n      <th>fnid</th>\n      <th>chess_x</th>\n      <th>chess_y</th>\n      <th>home_fre</th>\n      <th>home_time</th>\n      <th>od_num</th>\n      <th>max_fre</th>\n      <th>max_time</th>\n      <th>group_id</th>\n      <th>avg_fre</th>\n    </tr>\n  </thead>\n  <tbody>\n    <tr>\n      <th>1466</th>\n      <td>3743</td>\n      <td>20191001</td>\n      <td>25047</td>\n      <td>57</td>\n      <td>70</td>\n      <td>20</td>\n      <td>502109</td>\n      <td>25</td>\n      <td>20</td>\n      <td>706755</td>\n      <td>0</td>\n      <td>18.0</td>\n    </tr>\n    <tr>\n      <th>1467</th>\n      <td>3743</td>\n      <td>20191101</td>\n      <td>25044</td>\n      <td>54</td>\n      <td>70</td>\n      <td>22</td>\n      <td>396417</td>\n      <td>22</td>\n      <td>22</td>\n      <td>747666</td>\n      <td>0</td>\n      <td>18.0</td>\n    </tr>\n    <tr>\n      <th>1468</th>\n      <td>3743</td>\n      <td>20191201</td>\n      <td>25402</td>\n      <td>55</td>\n      <td>71</td>\n      <td>12</td>\n      <td>270594</td>\n      <td>15</td>\n      <td>12</td>\n      <td>723044</td>\n      <td>0</td>\n      <td>18.0</td>\n    </tr>\n    <tr>\n      <th>1469</th>\n      <td>3743</td>\n      <td>20200101</td>\n      <td>23969</td>\n      <td>50</td>\n      <td>67</td>\n      <td>8</td>\n      <td>539611</td>\n      <td>36</td>\n      <td>8</td>\n      <td>539611</td>\n      <td>1</td>\n      <td>12.0</td>\n    </tr>\n    <tr>\n      <th>1470</th>\n      <td>3743</td>\n      <td>20200201</td>\n      <td>23969</td>\n      <td>50</td>\n      <td>67</td>\n      <td>15</td>\n      <td>904537</td>\n      <td>57</td>\n      <td>15</td>\n      <td>904537</td>\n      <td>1</td>\n      <td>12.0</td>\n    </tr>\n    <tr>\n      <th>1471</th>\n      <td>3743</td>\n      <td>20200301</td>\n      <td>23969</td>\n      <td>50</td>\n      <td>67</td>\n      <td>11</td>\n      <td>854552</td>\n      <td>62</td>\n      <td>11</td>\n      <td>854552</td>\n      <td>1</td>\n      <td>12.0</td>\n    </tr>\n    <tr>\n      <th>1472</th>\n      <td>3743</td>\n      <td>20200401</td>\n      <td>23969</td>\n      <td>50</td>\n      <td>67</td>\n      <td>14</td>\n      <td>874288</td>\n      <td>60</td>\n      <td>14</td>\n      <td>874288</td>\n      <td>1</td>\n      <td>12.0</td>\n    </tr>\n    <tr>\n      <th>1473</th>\n      <td>3743</td>\n      <td>20200501</td>\n      <td>23969</td>\n      <td>50</td>\n      <td>67</td>\n      <td>12</td>\n      <td>926748</td>\n      <td>62</td>\n      <td>12</td>\n      <td>926748</td>\n      <td>1</td>\n      <td>12.0</td>\n    </tr>\n  </tbody>\n</table>\n</div>"
     },
     "execution_count": 66,
     "metadata": {},
     "output_type": "execute_result"
    }
   ],
   "source": [
    "who2078_home"
   ],
   "metadata": {
    "collapsed": false,
    "ExecuteTime": {
     "end_time": "2023-07-29T02:01:27.024020700Z",
     "start_time": "2023-07-29T02:01:26.993023100Z"
    }
   }
  },
  {
   "cell_type": "code",
   "execution_count": null,
   "outputs": [],
   "source": [],
   "metadata": {
    "collapsed": false
   }
  }
 ],
 "metadata": {
  "kernelspec": {
   "display_name": "Python 3",
   "language": "python",
   "name": "python3"
  },
  "language_info": {
   "codemirror_mode": {
    "name": "ipython",
    "version": 2
   },
   "file_extension": ".py",
   "mimetype": "text/x-python",
   "name": "python",
   "nbconvert_exporter": "python",
   "pygments_lexer": "ipython2",
   "version": "2.7.6"
  }
 },
 "nbformat": 4,
 "nbformat_minor": 0
}
